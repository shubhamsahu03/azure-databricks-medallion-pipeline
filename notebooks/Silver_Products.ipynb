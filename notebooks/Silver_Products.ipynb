{
 "cells": [
  {
   "cell_type": "code",
   "execution_count": 0,
   "metadata": {
    "application/vnd.databricks.v1+cell": {
     "cellMetadata": {
      "byteLimit": 2048000,
      "rowLimit": 10000
     },
     "inputWidgets": {},
     "nuid": "af10c41b-eba0-4daf-9d01-e2e25ef3ced6",
     "showTitle": false,
     "tableResultSettingsMap": {},
     "title": ""
    }
   },
   "outputs": [],
   "source": [
    "from pyspark.sql.functions import *\n",
    "from pyspark.sql.types import *"
   ]
  },
  {
   "cell_type": "markdown",
   "metadata": {
    "application/vnd.databricks.v1+cell": {
     "cellMetadata": {},
     "inputWidgets": {},
     "nuid": "f6bdf507-d2fc-4676-8769-66a7bc3c514d",
     "showTitle": false,
     "tableResultSettingsMap": {},
     "title": ""
    }
   },
   "source": [
    "##Data Reading"
   ]
  },
  {
   "cell_type": "code",
   "execution_count": 0,
   "metadata": {
    "application/vnd.databricks.v1+cell": {
     "cellMetadata": {
      "byteLimit": 2048000,
      "rowLimit": 10000
     },
     "inputWidgets": {},
     "nuid": "8ab7ee2e-406e-42f9-a938-c94f0d2765a6",
     "showTitle": false,
     "tableResultSettingsMap": {},
     "title": ""
    }
   },
   "outputs": [
    {
     "output_type": "display_data",
     "data": {
      "text/html": [
       "<style scoped>\n",
       "  .table-result-container {\n",
       "    max-height: 300px;\n",
       "    overflow: auto;\n",
       "  }\n",
       "  table, th, td {\n",
       "    border: 1px solid black;\n",
       "    border-collapse: collapse;\n",
       "  }\n",
       "  th, td {\n",
       "    padding: 5px;\n",
       "  }\n",
       "  th {\n",
       "    text-align: left;\n",
       "  }\n",
       "</style><div class='table-result-container'><table class='table-result'><thead style='background-color: white'><tr><th>product_id</th><th>product_name</th><th>category</th><th>brand</th><th>price</th></tr></thead><tbody><tr><td>P0001</td><td>Clearly Its</td><td>Beauty</td><td>Nike</td><td>1868.54</td></tr><tr><td>P0002</td><td>Production Clear</td><td>Beauty</td><td>Apple</td><td>587.13</td></tr><tr><td>P0003</td><td>Culture Coach</td><td>Home</td><td>Revlon</td><td>1599.24</td></tr><tr><td>P0004</td><td>Movement Part</td><td>Sports</td><td>LG</td><td>651.71</td></tr><tr><td>P0005</td><td>Fact Name</td><td>Clothing</td><td>Samsung</td><td>1861.78</td></tr><tr><td>P0006</td><td>Usually Stop</td><td>Toys</td><td>Adidas</td><td>936.36</td></tr><tr><td>P0007</td><td>Reveal Current</td><td>Sports</td><td>Adidas</td><td>1954.02</td></tr><tr><td>P0008</td><td>Force Language</td><td>Beauty</td><td>Puma</td><td>1251.26</td></tr><tr><td>P0009</td><td>Stage Leg</td><td>Clothing</td><td>Samsung</td><td>1247.15</td></tr><tr><td>P0010</td><td>Leader Then</td><td>Sports</td><td>Sony</td><td>975.53</td></tr><tr><td>P0011</td><td>Term Rest</td><td>Electronics</td><td>Adidas</td><td>1475.31</td></tr><tr><td>P0012</td><td>Theory Wrong</td><td>Electronics</td><td>Apple</td><td>624.61</td></tr><tr><td>P0013</td><td>Democrat Book</td><td>Sports</td><td>Puma</td><td>384.99</td></tr><tr><td>P0014</td><td>Follow Brother</td><td>Clothing</td><td>Dell</td><td>32.2</td></tr><tr><td>P0015</td><td>Pattern Story</td><td>Beauty</td><td>LG</td><td>1459.2</td></tr><tr><td>P0016</td><td>Policy Nor</td><td>Clothing</td><td>Samsung</td><td>1594.08</td></tr><tr><td>P0017</td><td>After Project</td><td>Beauty</td><td>Revlon</td><td>1289.06</td></tr><tr><td>P0018</td><td>Technology Chance</td><td>Beauty</td><td>Puma</td><td>1329.53</td></tr><tr><td>P0019</td><td>Oil Station</td><td>Electronics</td><td>Samsung</td><td>230.56</td></tr><tr><td>P0020</td><td>Happen Truth</td><td>Beauty</td><td>Nike</td><td>1603.5</td></tr><tr><td>P0021</td><td>Middle Everyone</td><td>Sports</td><td>Nike</td><td>361.89</td></tr><tr><td>P0022</td><td>Purpose Why</td><td>Beauty</td><td>Puma</td><td>73.82</td></tr><tr><td>P0023</td><td>Decade Message</td><td>Clothing</td><td>Adidas</td><td>1561.78</td></tr><tr><td>P0024</td><td>Really Phone</td><td>Home</td><td>Samsung</td><td>1422.07</td></tr><tr><td>P0025</td><td>Until And</td><td>Beauty</td><td>Nike</td><td>488.67</td></tr><tr><td>P0026</td><td>Huge Find</td><td>Toys</td><td>Puma</td><td>1316.41</td></tr><tr><td>P0027</td><td>Local Open</td><td>Toys</td><td>Adidas</td><td>939.9</td></tr><tr><td>P0028</td><td>Its Both</td><td>Beauty</td><td>Puma</td><td>1682.91</td></tr><tr><td>P0029</td><td>Everything Open</td><td>Clothing</td><td>Nike</td><td>1065.49</td></tr><tr><td>P0030</td><td>Hold Staff</td><td>Toys</td><td>Lenovo</td><td>1162.38</td></tr><tr><td>P0031</td><td>Part Oil</td><td>Clothing</td><td>LG</td><td>774.18</td></tr><tr><td>P0032</td><td>Relationship Live</td><td>Electronics</td><td>Dell</td><td>1445.21</td></tr><tr><td>P0033</td><td>Perform Such</td><td>Clothing</td><td>Lenovo</td><td>61.91</td></tr><tr><td>P0034</td><td>Even Writer</td><td>Toys</td><td>Samsung</td><td>1843.84</td></tr><tr><td>P0035</td><td>Something Increase</td><td>Toys</td><td>Revlon</td><td>579.76</td></tr><tr><td>P0036</td><td>Success Always</td><td>Home</td><td>Dell</td><td>1780.37</td></tr><tr><td>P0037</td><td>Personal Over</td><td>Sports</td><td>Puma</td><td>105.28</td></tr><tr><td>P0038</td><td>Edge Keep</td><td>Toys</td><td>Revlon</td><td>1156.99</td></tr><tr><td>P0039</td><td>Before Do</td><td>Toys</td><td>Revlon</td><td>1279.12</td></tr><tr><td>P0040</td><td>Answer Require</td><td>Toys</td><td>Dell</td><td>1822.39</td></tr><tr><td>P0041</td><td>Conference Article</td><td>Sports</td><td>Dell</td><td>459.55</td></tr><tr><td>P0042</td><td>Heavy Writer</td><td>Beauty</td><td>Adidas</td><td>1215.78</td></tr><tr><td>P0043</td><td>Radio Thousand</td><td>Electronics</td><td>Revlon</td><td>914.61</td></tr><tr><td>P0044</td><td>Such Beautiful</td><td>Electronics</td><td>Dell</td><td>580.32</td></tr><tr><td>P0045</td><td>Certainly Sign</td><td>Sports</td><td>Sony</td><td>622.31</td></tr><tr><td>P0046</td><td>Exist Age</td><td>Beauty</td><td>Samsung</td><td>918.54</td></tr><tr><td>P0047</td><td>Ever Could</td><td>Sports</td><td>Revlon</td><td>257.51</td></tr><tr><td>P0048</td><td>Share Quality</td><td>Electronics</td><td>Revlon</td><td>652.68</td></tr><tr><td>P0049</td><td>True Her</td><td>Clothing</td><td>Lenovo</td><td>819.77</td></tr><tr><td>P0050</td><td>North Big</td><td>Electronics</td><td>Samsung</td><td>1947.16</td></tr><tr><td>P0051</td><td>Form Social</td><td>Electronics</td><td>Apple</td><td>1294.33</td></tr><tr><td>P0052</td><td>Total Tax</td><td>Toys</td><td>Lenovo</td><td>1190.28</td></tr><tr><td>P0053</td><td>News Look</td><td>Electronics</td><td>Samsung</td><td>896.22</td></tr><tr><td>P0054</td><td>Local Decide</td><td>Electronics</td><td>Adidas</td><td>1346.26</td></tr><tr><td>P0055</td><td>Seat Finish</td><td>Electronics</td><td>Sony</td><td>925.39</td></tr><tr><td>P0056</td><td>Weight Ground</td><td>Home</td><td>Nike</td><td>805.91</td></tr><tr><td>P0057</td><td>Everything Song</td><td>Clothing</td><td>Samsung</td><td>1000.36</td></tr><tr><td>P0058</td><td>Involve Present</td><td>Electronics</td><td>LG</td><td>1713.86</td></tr><tr><td>P0059</td><td>Democratic Any</td><td>Sports</td><td>Lenovo</td><td>808.17</td></tr><tr><td>P0060</td><td>Red Some</td><td>Clothing</td><td>Nike</td><td>1230.69</td></tr><tr><td>P0061</td><td>Describe Continue</td><td>Electronics</td><td>Sony</td><td>1610.15</td></tr><tr><td>P0062</td><td>Always Citizen</td><td>Clothing</td><td>Samsung</td><td>912.72</td></tr><tr><td>P0063</td><td>Necessary Bad</td><td>Home</td><td>Nike</td><td>1876.88</td></tr><tr><td>P0064</td><td>Size Although</td><td>Clothing</td><td>LG</td><td>473.8</td></tr><tr><td>P0065</td><td>Democratic As</td><td>Electronics</td><td>Lenovo</td><td>1472.24</td></tr><tr><td>P0066</td><td>I Worker</td><td>Sports</td><td>Sony</td><td>1123.53</td></tr><tr><td>P0067</td><td>Unit Election</td><td>Beauty</td><td>Samsung</td><td>144.72</td></tr><tr><td>P0068</td><td>Response Audience</td><td>Toys</td><td>LG</td><td>1633.64</td></tr><tr><td>P0069</td><td>Weight Design</td><td>Beauty</td><td>Lenovo</td><td>1165.23</td></tr><tr><td>P0070</td><td>Or Against</td><td>Sports</td><td>Lenovo</td><td>1589.36</td></tr><tr><td>P0071</td><td>Once Support</td><td>Toys</td><td>Apple</td><td>1385.04</td></tr><tr><td>P0072</td><td>Station Fund</td><td>Toys</td><td>Revlon</td><td>1198.32</td></tr><tr><td>P0073</td><td>Leave Reveal</td><td>Electronics</td><td>Adidas</td><td>586.19</td></tr><tr><td>P0074</td><td>Pm Near</td><td>Toys</td><td>Lenovo</td><td>426.99</td></tr><tr><td>P0075</td><td>Former Trade</td><td>Beauty</td><td>Samsung</td><td>73.74</td></tr><tr><td>P0076</td><td>Skill Need</td><td>Toys</td><td>Puma</td><td>862.73</td></tr><tr><td>P0077</td><td>Quality Conference</td><td>Clothing</td><td>LG</td><td>333.16</td></tr><tr><td>P0078</td><td>Their Worry</td><td>Electronics</td><td>LG</td><td>903.63</td></tr><tr><td>P0079</td><td>Night Experience</td><td>Beauty</td><td>LG</td><td>780.45</td></tr><tr><td>P0080</td><td>But Decide</td><td>Toys</td><td>Lenovo</td><td>1599.68</td></tr><tr><td>P0081</td><td>Whose Available</td><td>Toys</td><td>Nike</td><td>1697.18</td></tr><tr><td>P0082</td><td>Exist Interest</td><td>Beauty</td><td>Apple</td><td>1932.51</td></tr><tr><td>P0083</td><td>Laugh Speak</td><td>Beauty</td><td>Dell</td><td>1519.05</td></tr><tr><td>P0084</td><td>Little All</td><td>Home</td><td>Samsung</td><td>866.09</td></tr><tr><td>P0085</td><td>Hope Such</td><td>Clothing</td><td>Apple</td><td>1863.08</td></tr><tr><td>P0086</td><td>Save Own</td><td>Toys</td><td>Nike</td><td>915.44</td></tr><tr><td>P0087</td><td>Service Personal</td><td>Home</td><td>Sony</td><td>273.89</td></tr><tr><td>P0088</td><td>At Such</td><td>Home</td><td>Adidas</td><td>1482.19</td></tr><tr><td>P0089</td><td>Second Despite</td><td>Home</td><td>LG</td><td>611.31</td></tr><tr><td>P0090</td><td>Future Improve</td><td>Electronics</td><td>Puma</td><td>129.87</td></tr><tr><td>P0091</td><td>Nation Moment</td><td>Beauty</td><td>Samsung</td><td>1683.02</td></tr><tr><td>P0092</td><td>Stand Fish</td><td>Sports</td><td>Revlon</td><td>1631.21</td></tr><tr><td>P0093</td><td>Us Life</td><td>Clothing</td><td>Puma</td><td>749.33</td></tr><tr><td>P0094</td><td>Real Himself</td><td>Beauty</td><td>LG</td><td>48.71</td></tr><tr><td>P0095</td><td>Fund Tend</td><td>Electronics</td><td>Apple</td><td>1519.1</td></tr><tr><td>P0096</td><td>Public Voice</td><td>Electronics</td><td>Nike</td><td>1078.42</td></tr><tr><td>P0097</td><td>Crime Range</td><td>Clothing</td><td>Apple</td><td>627.41</td></tr><tr><td>P0098</td><td>Item See</td><td>Clothing</td><td>Puma</td><td>551.54</td></tr><tr><td>P0099</td><td>Notice Rather</td><td>Beauty</td><td>Adidas</td><td>1110.7</td></tr><tr><td>P0100</td><td>Oil Into</td><td>Sports</td><td>Dell</td><td>793.81</td></tr><tr><td>P0101</td><td>Sister Tend</td><td>Sports</td><td>Puma</td><td>1106.32</td></tr><tr><td>P0102</td><td>Yourself Team</td><td>Beauty</td><td>LG</td><td>1079.69</td></tr><tr><td>P0103</td><td>Rich Page</td><td>Toys</td><td>Samsung</td><td>486.63</td></tr><tr><td>P0104</td><td>Fact Building</td><td>Clothing</td><td>Dell</td><td>860.64</td></tr><tr><td>P0105</td><td>Color Now</td><td>Clothing</td><td>LG</td><td>1200.37</td></tr><tr><td>P0106</td><td>Research Mother</td><td>Clothing</td><td>Sony</td><td>1100.51</td></tr><tr><td>P0107</td><td>Degree Much</td><td>Toys</td><td>Adidas</td><td>193.45</td></tr><tr><td>P0108</td><td>Southern Hear</td><td>Home</td><td>Puma</td><td>22.3</td></tr><tr><td>P0109</td><td>Seem South</td><td>Electronics</td><td>Lenovo</td><td>1891.2</td></tr><tr><td>P0110</td><td>Before Everybody</td><td>Toys</td><td>Samsung</td><td>776.77</td></tr><tr><td>P0111</td><td>Decade Land</td><td>Electronics</td><td>Adidas</td><td>1138.45</td></tr><tr><td>P0112</td><td>Study Heavy</td><td>Beauty</td><td>Puma</td><td>1579.73</td></tr><tr><td>P0113</td><td>These Skill</td><td>Clothing</td><td>Puma</td><td>810.64</td></tr><tr><td>P0114</td><td>Kid Necessary</td><td>Home</td><td>Nike</td><td>1178.36</td></tr><tr><td>P0115</td><td>Subject Become</td><td>Electronics</td><td>Puma</td><td>1504.01</td></tr><tr><td>P0116</td><td>Very Forget</td><td>Sports</td><td>Sony</td><td>287.59</td></tr><tr><td>P0117</td><td>Before Product</td><td>Beauty</td><td>Puma</td><td>665.49</td></tr><tr><td>P0118</td><td>Start Threat</td><td>Toys</td><td>Lenovo</td><td>1123.64</td></tr><tr><td>P0119</td><td>Carry View</td><td>Home</td><td>Sony</td><td>60.42</td></tr><tr><td>P0120</td><td>Direction Character</td><td>Toys</td><td>Sony</td><td>368.47</td></tr><tr><td>P0121</td><td>Trade Drug</td><td>Sports</td><td>Nike</td><td>1959.23</td></tr><tr><td>P0122</td><td>Tend Continue</td><td>Clothing</td><td>LG</td><td>539.16</td></tr><tr><td>P0123</td><td>Why Decide</td><td>Clothing</td><td>Nike</td><td>503.76</td></tr><tr><td>P0124</td><td>Operation Century</td><td>Clothing</td><td>Puma</td><td>1857.88</td></tr><tr><td>P0125</td><td>Sort Summer</td><td>Home</td><td>Sony</td><td>947.43</td></tr><tr><td>P0126</td><td>Possible Which</td><td>Sports</td><td>Sony</td><td>1431.12</td></tr><tr><td>P0127</td><td>Movement Picture</td><td>Home</td><td>Sony</td><td>1337.38</td></tr><tr><td>P0128</td><td>Board Worker</td><td>Electronics</td><td>Apple</td><td>1935.2</td></tr><tr><td>P0129</td><td>North On</td><td>Toys</td><td>Adidas</td><td>763.99</td></tr><tr><td>P0130</td><td>Behavior Nothing</td><td>Clothing</td><td>Adidas</td><td>1355.15</td></tr><tr><td>P0131</td><td>Too Example</td><td>Clothing</td><td>Revlon</td><td>302.22</td></tr><tr><td>P0132</td><td>Issue Return</td><td>Home</td><td>Samsung</td><td>1194.22</td></tr><tr><td>P0133</td><td>Speak Small</td><td>Electronics</td><td>LG</td><td>215.63</td></tr><tr><td>P0134</td><td>Stand Fire</td><td>Home</td><td>Puma</td><td>1625.17</td></tr><tr><td>P0135</td><td>Maybe Light</td><td>Clothing</td><td>Puma</td><td>669.95</td></tr><tr><td>P0136</td><td>Year True</td><td>Sports</td><td>Samsung</td><td>48.0</td></tr><tr><td>P0137</td><td>Thought Travel</td><td>Clothing</td><td>Lenovo</td><td>1569.19</td></tr><tr><td>P0138</td><td>Already Series</td><td>Clothing</td><td>Samsung</td><td>452.81</td></tr><tr><td>P0139</td><td>Seek President</td><td>Toys</td><td>Revlon</td><td>399.03</td></tr><tr><td>P0140</td><td>Detail Bar</td><td>Clothing</td><td>Adidas</td><td>116.36</td></tr><tr><td>P0141</td><td>Play Show</td><td>Electronics</td><td>Adidas</td><td>1039.71</td></tr><tr><td>P0142</td><td>Trouble Parent</td><td>Clothing</td><td>Adidas</td><td>1081.59</td></tr><tr><td>P0143</td><td>One Like</td><td>Electronics</td><td>Apple</td><td>1549.15</td></tr><tr><td>P0144</td><td>Admit Street</td><td>Beauty</td><td>Apple</td><td>769.93</td></tr><tr><td>P0145</td><td>House Everything</td><td>Toys</td><td>Puma</td><td>453.73</td></tr><tr><td>P0146</td><td>Building Drive</td><td>Electronics</td><td>Sony</td><td>1763.2</td></tr><tr><td>P0147</td><td>Among Success</td><td>Electronics</td><td>Lenovo</td><td>86.53</td></tr><tr><td>P0148</td><td>Politics Friend</td><td>Toys</td><td>Dell</td><td>435.86</td></tr><tr><td>P0149</td><td>Middle Price</td><td>Electronics</td><td>Samsung</td><td>793.61</td></tr><tr><td>P0150</td><td>Nice Clearly</td><td>Electronics</td><td>Samsung</td><td>1207.54</td></tr><tr><td>P0151</td><td>Cup Per</td><td>Toys</td><td>Apple</td><td>38.43</td></tr><tr><td>P0152</td><td>Not Wait</td><td>Home</td><td>LG</td><td>357.33</td></tr><tr><td>P0153</td><td>Brother Four</td><td>Home</td><td>Apple</td><td>809.73</td></tr><tr><td>P0154</td><td>Trip Within</td><td>Beauty</td><td>Samsung</td><td>1089.28</td></tr><tr><td>P0155</td><td>Laugh Score</td><td>Electronics</td><td>Dell</td><td>12.35</td></tr><tr><td>P0156</td><td>Put After</td><td>Home</td><td>Sony</td><td>1746.06</td></tr><tr><td>P0157</td><td>Race Provide</td><td>Home</td><td>Adidas</td><td>825.91</td></tr><tr><td>P0158</td><td>Pm Plant</td><td>Toys</td><td>Adidas</td><td>1286.8</td></tr><tr><td>P0159</td><td>Politics Along</td><td>Home</td><td>Lenovo</td><td>674.29</td></tr><tr><td>P0160</td><td>Parent Into</td><td>Clothing</td><td>Nike</td><td>1542.46</td></tr><tr><td>P0161</td><td>Need Book</td><td>Toys</td><td>LG</td><td>906.6</td></tr><tr><td>P0162</td><td>West This</td><td>Toys</td><td>Adidas</td><td>417.67</td></tr><tr><td>P0163</td><td>Tree Role</td><td>Toys</td><td>Dell</td><td>1307.14</td></tr><tr><td>P0164</td><td>Word Hard</td><td>Electronics</td><td>Lenovo</td><td>535.06</td></tr><tr><td>P0165</td><td>Son Drug</td><td>Toys</td><td>Adidas</td><td>1971.77</td></tr><tr><td>P0166</td><td>Look Field</td><td>Beauty</td><td>Samsung</td><td>62.19</td></tr><tr><td>P0167</td><td>Early Course</td><td>Electronics</td><td>Adidas</td><td>1666.23</td></tr><tr><td>P0168</td><td>Generation Day</td><td>Toys</td><td>Sony</td><td>1006.63</td></tr><tr><td>P0169</td><td>Position Bank</td><td>Beauty</td><td>Sony</td><td>1267.42</td></tr><tr><td>P0170</td><td>Second Start</td><td>Home</td><td>Lenovo</td><td>329.25</td></tr><tr><td>P0171</td><td>Option Necessary</td><td>Clothing</td><td>Lenovo</td><td>1557.09</td></tr><tr><td>P0172</td><td>Commercial Through</td><td>Home</td><td>Sony</td><td>1759.47</td></tr><tr><td>P0173</td><td>Nearly When</td><td>Electronics</td><td>Samsung</td><td>930.78</td></tr><tr><td>P0174</td><td>Weight Tax</td><td>Home</td><td>Lenovo</td><td>81.55</td></tr><tr><td>P0175</td><td>Enjoy Throughout</td><td>Home</td><td>Apple</td><td>364.2</td></tr><tr><td>P0176</td><td>Team Foreign</td><td>Home</td><td>Adidas</td><td>824.82</td></tr><tr><td>P0177</td><td>Article Smile</td><td>Clothing</td><td>Nike</td><td>1241.26</td></tr><tr><td>P0178</td><td>Finally Suddenly</td><td>Toys</td><td>Adidas</td><td>743.65</td></tr><tr><td>P0179</td><td>Base Significant</td><td>Electronics</td><td>Samsung</td><td>1950.04</td></tr><tr><td>P0180</td><td>Form Management</td><td>Electronics</td><td>Sony</td><td>141.37</td></tr><tr><td>P0181</td><td>Of Seek</td><td>Beauty</td><td>LG</td><td>1935.07</td></tr><tr><td>P0182</td><td>Health I</td><td>Beauty</td><td>Apple</td><td>1661.22</td></tr><tr><td>P0183</td><td>Born Focus</td><td>Sports</td><td>Samsung</td><td>762.15</td></tr><tr><td>P0184</td><td>Main Majority</td><td>Sports</td><td>Adidas</td><td>1003.71</td></tr><tr><td>P0185</td><td>Authority Director</td><td>Beauty</td><td>Apple</td><td>1595.17</td></tr><tr><td>P0186</td><td>Tv Size</td><td>Sports</td><td>Revlon</td><td>231.03</td></tr><tr><td>P0187</td><td>Number They</td><td>Electronics</td><td>Nike</td><td>38.88</td></tr><tr><td>P0188</td><td>Able Seat</td><td>Electronics</td><td>Adidas</td><td>1582.57</td></tr><tr><td>P0189</td><td>Commercial Boy</td><td>Home</td><td>Puma</td><td>641.08</td></tr><tr><td>P0190</td><td>Set Whom</td><td>Sports</td><td>Samsung</td><td>686.04</td></tr><tr><td>P0191</td><td>Myself Performance</td><td>Toys</td><td>Revlon</td><td>112.38</td></tr><tr><td>P0192</td><td>Up Management</td><td>Sports</td><td>Apple</td><td>942.81</td></tr><tr><td>P0193</td><td>Early They</td><td>Electronics</td><td>Nike</td><td>1238.31</td></tr><tr><td>P0194</td><td>Charge Through</td><td>Electronics</td><td>Revlon</td><td>1814.74</td></tr><tr><td>P0195</td><td>Leg In</td><td>Toys</td><td>Adidas</td><td>937.18</td></tr><tr><td>P0196</td><td>Study Teach</td><td>Clothing</td><td>Adidas</td><td>1159.15</td></tr><tr><td>P0197</td><td>Old Ball</td><td>Sports</td><td>Revlon</td><td>1564.84</td></tr><tr><td>P0198</td><td>Information Life</td><td>Sports</td><td>Samsung</td><td>628.47</td></tr><tr><td>P0199</td><td>Data Structure</td><td>Clothing</td><td>Sony</td><td>1368.51</td></tr><tr><td>P0200</td><td>Close Knowledge</td><td>Toys</td><td>Apple</td><td>692.12</td></tr><tr><td>P0201</td><td>Professional Test</td><td>Beauty</td><td>Samsung</td><td>1573.37</td></tr><tr><td>P0202</td><td>Analysis The</td><td>Electronics</td><td>Adidas</td><td>1953.99</td></tr><tr><td>P0203</td><td>Difficult Around</td><td>Home</td><td>Samsung</td><td>1016.57</td></tr><tr><td>P0204</td><td>Show Teacher</td><td>Electronics</td><td>Adidas</td><td>1734.6</td></tr><tr><td>P0205</td><td>Attorney I</td><td>Home</td><td>LG</td><td>478.82</td></tr><tr><td>P0206</td><td>Remember Stuff</td><td>Electronics</td><td>Apple</td><td>375.49</td></tr><tr><td>P0207</td><td>Year Much</td><td>Beauty</td><td>Adidas</td><td>230.41</td></tr><tr><td>P0208</td><td>Rather Require</td><td>Toys</td><td>Adidas</td><td>754.39</td></tr><tr><td>P0209</td><td>Catch Local</td><td>Sports</td><td>Revlon</td><td>1070.99</td></tr><tr><td>P0210</td><td>Learn Weight</td><td>Sports</td><td>Apple</td><td>863.71</td></tr><tr><td>P0211</td><td>Check Line</td><td>Beauty</td><td>Nike</td><td>1051.35</td></tr><tr><td>P0212</td><td>Per Leader</td><td>Home</td><td>Adidas</td><td>1766.16</td></tr><tr><td>P0213</td><td>Suggest Chance</td><td>Sports</td><td>Samsung</td><td>1528.21</td></tr><tr><td>P0214</td><td>Site Trip</td><td>Toys</td><td>Revlon</td><td>1725.81</td></tr><tr><td>P0215</td><td>Trouble Treatment</td><td>Beauty</td><td>Adidas</td><td>1678.45</td></tr><tr><td>P0216</td><td>Every Page</td><td>Home</td><td>Adidas</td><td>1526.03</td></tr><tr><td>P0217</td><td>Vote Tree</td><td>Sports</td><td>Puma</td><td>1460.22</td></tr><tr><td>P0218</td><td>Sea Clear</td><td>Beauty</td><td>Nike</td><td>207.67</td></tr><tr><td>P0219</td><td>Per Voice</td><td>Clothing</td><td>Dell</td><td>996.21</td></tr><tr><td>P0220</td><td>Term Fine</td><td>Beauty</td><td>Dell</td><td>1354.7</td></tr><tr><td>P0221</td><td>Player Summer</td><td>Beauty</td><td>Lenovo</td><td>1205.37</td></tr><tr><td>P0222</td><td>Respond Knowledge</td><td>Electronics</td><td>Samsung</td><td>977.33</td></tr><tr><td>P0223</td><td>Believe Activity</td><td>Toys</td><td>Lenovo</td><td>1292.39</td></tr><tr><td>P0224</td><td>Federal Around</td><td>Clothing</td><td>Apple</td><td>1153.17</td></tr><tr><td>P0225</td><td>Discussion Region</td><td>Beauty</td><td>Nike</td><td>551.26</td></tr><tr><td>P0226</td><td>Care North</td><td>Beauty</td><td>Lenovo</td><td>1668.89</td></tr><tr><td>P0227</td><td>Need Method</td><td>Beauty</td><td>Nike</td><td>449.11</td></tr><tr><td>P0228</td><td>Citizen Item</td><td>Sports</td><td>Puma</td><td>317.83</td></tr><tr><td>P0229</td><td>Material If</td><td>Home</td><td>Lenovo</td><td>1399.43</td></tr><tr><td>P0230</td><td>Old Increase</td><td>Beauty</td><td>Samsung</td><td>1163.64</td></tr><tr><td>P0231</td><td>Do Chair</td><td>Home</td><td>Revlon</td><td>781.81</td></tr><tr><td>P0232</td><td>Would Along</td><td>Toys</td><td>Adidas</td><td>896.07</td></tr><tr><td>P0233</td><td>Second Learn</td><td>Toys</td><td>Lenovo</td><td>901.28</td></tr><tr><td>P0234</td><td>Guess At</td><td>Sports</td><td>Sony</td><td>1231.55</td></tr><tr><td>P0235</td><td>Country Knowledge</td><td>Sports</td><td>Adidas</td><td>1297.8</td></tr><tr><td>P0236</td><td>War Involve</td><td>Electronics</td><td>Samsung</td><td>951.74</td></tr><tr><td>P0237</td><td>As Push</td><td>Toys</td><td>Samsung</td><td>164.53</td></tr><tr><td>P0238</td><td>Air Life</td><td>Beauty</td><td>Revlon</td><td>1358.99</td></tr><tr><td>P0239</td><td>Show Finally</td><td>Toys</td><td>Nike</td><td>1612.58</td></tr><tr><td>P0240</td><td>Six Senior</td><td>Clothing</td><td>Samsung</td><td>1648.93</td></tr><tr><td>P0241</td><td>Edge Civil</td><td>Electronics</td><td>Puma</td><td>1531.37</td></tr><tr><td>P0242</td><td>Radio Lot</td><td>Home</td><td>Samsung</td><td>412.59</td></tr><tr><td>P0243</td><td>Recent The</td><td>Beauty</td><td>Lenovo</td><td>1875.22</td></tr><tr><td>P0244</td><td>Run Market</td><td>Beauty</td><td>Revlon</td><td>1843.58</td></tr><tr><td>P0245</td><td>Occur Attention</td><td>Beauty</td><td>LG</td><td>270.43</td></tr><tr><td>P0246</td><td>Great Field</td><td>Electronics</td><td>Adidas</td><td>1449.57</td></tr><tr><td>P0247</td><td>Step Information</td><td>Electronics</td><td>Sony</td><td>825.1</td></tr><tr><td>P0248</td><td>Develop International</td><td>Electronics</td><td>Revlon</td><td>1200.32</td></tr><tr><td>P0249</td><td>There True</td><td>Electronics</td><td>Puma</td><td>1536.54</td></tr><tr><td>P0250</td><td>Half Ten</td><td>Sports</td><td>Samsung</td><td>710.82</td></tr><tr><td>P0251</td><td>Business Own</td><td>Beauty</td><td>Lenovo</td><td>28.65</td></tr><tr><td>P0252</td><td>Late Thus</td><td>Electronics</td><td>Sony</td><td>1957.38</td></tr><tr><td>P0253</td><td>Onto Owner</td><td>Toys</td><td>Lenovo</td><td>226.44</td></tr><tr><td>P0254</td><td>According Because</td><td>Home</td><td>Lenovo</td><td>503.61</td></tr><tr><td>P0255</td><td>Activity Western</td><td>Sports</td><td>Lenovo</td><td>154.4</td></tr><tr><td>P0256</td><td>Note Worker</td><td>Electronics</td><td>Lenovo</td><td>882.48</td></tr><tr><td>P0257</td><td>Executive Art</td><td>Beauty</td><td>Nike</td><td>944.89</td></tr><tr><td>P0258</td><td>Culture Follow</td><td>Home</td><td>Revlon</td><td>1423.91</td></tr><tr><td>P0259</td><td>Against Kind</td><td>Sports</td><td>Puma</td><td>1484.64</td></tr><tr><td>P0260</td><td>About Buy</td><td>Electronics</td><td>Revlon</td><td>1255.56</td></tr><tr><td>P0261</td><td>Capital Well</td><td>Beauty</td><td>Dell</td><td>203.78</td></tr><tr><td>P0262</td><td>Decade Left</td><td>Toys</td><td>Samsung</td><td>885.15</td></tr><tr><td>P0263</td><td>Machine Heart</td><td>Sports</td><td>Nike</td><td>371.19</td></tr><tr><td>P0264</td><td>Thought Heavy</td><td>Beauty</td><td>Apple</td><td>1030.44</td></tr><tr><td>P0265</td><td>Image No</td><td>Toys</td><td>Nike</td><td>1216.14</td></tr><tr><td>P0266</td><td>Specific You</td><td>Electronics</td><td>LG</td><td>324.37</td></tr><tr><td>P0267</td><td>Painting Daughter</td><td>Home</td><td>Adidas</td><td>1772.83</td></tr><tr><td>P0268</td><td>Man Near</td><td>Sports</td><td>Dell</td><td>631.29</td></tr><tr><td>P0269</td><td>Grow Fly</td><td>Sports</td><td>Lenovo</td><td>1192.68</td></tr><tr><td>P0270</td><td>Candidate Question</td><td>Beauty</td><td>Samsung</td><td>611.71</td></tr><tr><td>P0271</td><td>Notice Town</td><td>Sports</td><td>Puma</td><td>1362.74</td></tr><tr><td>P0272</td><td>Defense Either</td><td>Beauty</td><td>Dell</td><td>1472.29</td></tr><tr><td>P0273</td><td>Peace When</td><td>Electronics</td><td>Nike</td><td>146.58</td></tr><tr><td>P0274</td><td>Always Debate</td><td>Clothing</td><td>Samsung</td><td>1128.5</td></tr><tr><td>P0275</td><td>Piece Information</td><td>Toys</td><td>Sony</td><td>1478.58</td></tr><tr><td>P0276</td><td>Team Support</td><td>Toys</td><td>Puma</td><td>1155.12</td></tr><tr><td>P0277</td><td>Field White</td><td>Home</td><td>Dell</td><td>63.16</td></tr><tr><td>P0278</td><td>Similar Can</td><td>Beauty</td><td>Revlon</td><td>414.78</td></tr><tr><td>P0279</td><td>Fast Situation</td><td>Beauty</td><td>Lenovo</td><td>1619.24</td></tr><tr><td>P0280</td><td>Financial Enough</td><td>Clothing</td><td>Puma</td><td>566.91</td></tr><tr><td>P0281</td><td>Hot Customer</td><td>Home</td><td>Puma</td><td>188.55</td></tr><tr><td>P0282</td><td>Matter To</td><td>Electronics</td><td>Samsung</td><td>69.59</td></tr><tr><td>P0283</td><td>Southern Team</td><td>Sports</td><td>Nike</td><td>474.49</td></tr><tr><td>P0284</td><td>Population Account</td><td>Beauty</td><td>Puma</td><td>352.26</td></tr><tr><td>P0285</td><td>Cultural Beat</td><td>Clothing</td><td>Revlon</td><td>1123.4</td></tr><tr><td>P0286</td><td>Blood Chair</td><td>Beauty</td><td>Adidas</td><td>1164.64</td></tr><tr><td>P0287</td><td>Evening Natural</td><td>Electronics</td><td>Puma</td><td>1084.4</td></tr><tr><td>P0288</td><td>Source Hour</td><td>Toys</td><td>Lenovo</td><td>1486.02</td></tr><tr><td>P0289</td><td>Finish Everything</td><td>Sports</td><td>Puma</td><td>1780.19</td></tr><tr><td>P0290</td><td>Room Public</td><td>Beauty</td><td>LG</td><td>919.28</td></tr><tr><td>P0291</td><td>Able Media</td><td>Electronics</td><td>LG</td><td>890.9</td></tr><tr><td>P0292</td><td>Very Event</td><td>Toys</td><td>Sony</td><td>1339.35</td></tr><tr><td>P0293</td><td>Degree Agency</td><td>Electronics</td><td>LG</td><td>107.68</td></tr><tr><td>P0294</td><td>Dark Former</td><td>Sports</td><td>Lenovo</td><td>1054.65</td></tr><tr><td>P0295</td><td>Participant Kitchen</td><td>Electronics</td><td>Puma</td><td>1938.35</td></tr><tr><td>P0296</td><td>Garden Reach</td><td>Sports</td><td>Nike</td><td>1738.65</td></tr><tr><td>P0297</td><td>Turn Degree</td><td>Sports</td><td>Nike</td><td>859.64</td></tr><tr><td>P0298</td><td>Talk Offer</td><td>Clothing</td><td>Revlon</td><td>1571.12</td></tr><tr><td>P0299</td><td>Look Mention</td><td>Home</td><td>Apple</td><td>1170.51</td></tr><tr><td>P0300</td><td>Amount Politics</td><td>Electronics</td><td>Sony</td><td>1741.53</td></tr><tr><td>P0301</td><td>Side Note</td><td>Clothing</td><td>Adidas</td><td>1005.47</td></tr><tr><td>P0302</td><td>Three Seven</td><td>Electronics</td><td>Nike</td><td>1017.38</td></tr><tr><td>P0303</td><td>Child Help</td><td>Clothing</td><td>LG</td><td>1052.48</td></tr><tr><td>P0304</td><td>Our Arrive</td><td>Beauty</td><td>Adidas</td><td>1039.68</td></tr><tr><td>P0305</td><td>Score Choice</td><td>Electronics</td><td>Puma</td><td>1089.74</td></tr><tr><td>P0306</td><td>Six Speak</td><td>Toys</td><td>Samsung</td><td>140.5</td></tr><tr><td>P0307</td><td>Culture Specific</td><td>Beauty</td><td>Lenovo</td><td>1923.44</td></tr><tr><td>P0308</td><td>And Agent</td><td>Sports</td><td>Nike</td><td>187.35</td></tr><tr><td>P0309</td><td>Nor Prepare</td><td>Toys</td><td>Apple</td><td>445.2</td></tr><tr><td>P0310</td><td>Ok Leave</td><td>Home</td><td>Samsung</td><td>704.08</td></tr><tr><td>P0311</td><td>Blue Live</td><td>Toys</td><td>Revlon</td><td>454.3</td></tr><tr><td>P0312</td><td>Big Similar</td><td>Beauty</td><td>Puma</td><td>1500.97</td></tr><tr><td>P0313</td><td>Try You</td><td>Sports</td><td>Samsung</td><td>985.34</td></tr><tr><td>P0314</td><td>Protect Hope</td><td>Sports</td><td>Nike</td><td>599.47</td></tr><tr><td>P0315</td><td>Work Party</td><td>Clothing</td><td>Dell</td><td>1703.11</td></tr><tr><td>P0316</td><td>Sell State</td><td>Clothing</td><td>Puma</td><td>605.68</td></tr><tr><td>P0317</td><td>Trade Region</td><td>Home</td><td>Dell</td><td>1174.72</td></tr><tr><td>P0318</td><td>History Create</td><td>Toys</td><td>Samsung</td><td>824.7</td></tr><tr><td>P0319</td><td>Trouble Street</td><td>Home</td><td>Nike</td><td>1494.78</td></tr><tr><td>P0320</td><td>Whole Road</td><td>Toys</td><td>Adidas</td><td>491.43</td></tr><tr><td>P0321</td><td>They As</td><td>Toys</td><td>Lenovo</td><td>1631.26</td></tr><tr><td>P0322</td><td>Part Traditional</td><td>Beauty</td><td>Dell</td><td>1731.88</td></tr><tr><td>P0323</td><td>Professor What</td><td>Beauty</td><td>Lenovo</td><td>1248.81</td></tr><tr><td>P0324</td><td>Light Idea</td><td>Toys</td><td>Nike</td><td>1819.96</td></tr><tr><td>P0325</td><td>Right Program</td><td>Beauty</td><td>Lenovo</td><td>1361.28</td></tr><tr><td>P0326</td><td>Safe Loss</td><td>Clothing</td><td>Nike</td><td>1688.79</td></tr><tr><td>P0327</td><td>Garden Shake</td><td>Electronics</td><td>Sony</td><td>943.0</td></tr><tr><td>P0328</td><td>Space Person</td><td>Clothing</td><td>Lenovo</td><td>1928.38</td></tr><tr><td>P0329</td><td>Range However</td><td>Toys</td><td>Nike</td><td>1295.37</td></tr><tr><td>P0330</td><td>Main Student</td><td>Sports</td><td>LG</td><td>1241.75</td></tr><tr><td>P0331</td><td>Let Positive</td><td>Sports</td><td>LG</td><td>1528.85</td></tr><tr><td>P0332</td><td>Thus Make</td><td>Toys</td><td>Lenovo</td><td>1369.33</td></tr><tr><td>P0333</td><td>History Easy</td><td>Beauty</td><td>Sony</td><td>1892.24</td></tr><tr><td>P0334</td><td>Customer Loss</td><td>Beauty</td><td>Lenovo</td><td>1560.27</td></tr><tr><td>P0335</td><td>Type Area</td><td>Sports</td><td>Samsung</td><td>1352.39</td></tr><tr><td>P0336</td><td>Shake Current</td><td>Electronics</td><td>Dell</td><td>222.93</td></tr><tr><td>P0337</td><td>Very Include</td><td>Toys</td><td>Samsung</td><td>1968.32</td></tr><tr><td>P0338</td><td>Service Military</td><td>Home</td><td>LG</td><td>1844.1</td></tr><tr><td>P0339</td><td>Rule Site</td><td>Sports</td><td>LG</td><td>1321.67</td></tr><tr><td>P0340</td><td>Though Pretty</td><td>Electronics</td><td>Adidas</td><td>1635.48</td></tr><tr><td>P0341</td><td>Me Small</td><td>Home</td><td>Lenovo</td><td>1333.84</td></tr><tr><td>P0342</td><td>Trouble Over</td><td>Beauty</td><td>Nike</td><td>125.97</td></tr><tr><td>P0343</td><td>Yeah Former</td><td>Toys</td><td>Sony</td><td>539.06</td></tr><tr><td>P0344</td><td>House Enter</td><td>Beauty</td><td>Nike</td><td>1118.86</td></tr><tr><td>P0345</td><td>Federal Sport</td><td>Sports</td><td>Apple</td><td>1366.77</td></tr><tr><td>P0346</td><td>International Yes</td><td>Home</td><td>Dell</td><td>84.09</td></tr><tr><td>P0347</td><td>Painting Kid</td><td>Beauty</td><td>Sony</td><td>452.69</td></tr><tr><td>P0348</td><td>Late Smile</td><td>Home</td><td>LG</td><td>958.75</td></tr><tr><td>P0349</td><td>Less Can</td><td>Beauty</td><td>LG</td><td>1059.73</td></tr><tr><td>P0350</td><td>Garden Blue</td><td>Sports</td><td>Dell</td><td>758.98</td></tr><tr><td>P0351</td><td>Debate Whether</td><td>Beauty</td><td>Samsung</td><td>390.64</td></tr><tr><td>P0352</td><td>About Room</td><td>Home</td><td>Sony</td><td>1226.91</td></tr><tr><td>P0353</td><td>Local Big</td><td>Electronics</td><td>Adidas</td><td>1464.67</td></tr><tr><td>P0354</td><td>Stop As</td><td>Electronics</td><td>Samsung</td><td>289.67</td></tr><tr><td>P0355</td><td>Itself Explain</td><td>Toys</td><td>Apple</td><td>1804.42</td></tr><tr><td>P0356</td><td>Method Authority</td><td>Electronics</td><td>Samsung</td><td>97.91</td></tr><tr><td>P0357</td><td>The Seek</td><td>Clothing</td><td>Adidas</td><td>1705.13</td></tr><tr><td>P0358</td><td>Quickly Republican</td><td>Sports</td><td>Samsung</td><td>1175.18</td></tr><tr><td>P0359</td><td>Feel Describe</td><td>Home</td><td>Lenovo</td><td>660.84</td></tr><tr><td>P0360</td><td>Reveal Organization</td><td>Clothing</td><td>Lenovo</td><td>175.53</td></tr><tr><td>P0361</td><td>Energy Lay</td><td>Beauty</td><td>LG</td><td>1572.29</td></tr><tr><td>P0362</td><td>Reality Network</td><td>Toys</td><td>Revlon</td><td>1555.65</td></tr><tr><td>P0363</td><td>Score Read</td><td>Home</td><td>Nike</td><td>758.11</td></tr><tr><td>P0364</td><td>What Describe</td><td>Sports</td><td>Dell</td><td>930.34</td></tr><tr><td>P0365</td><td>Available Rich</td><td>Clothing</td><td>Revlon</td><td>1542.85</td></tr><tr><td>P0366</td><td>Seek Position</td><td>Toys</td><td>Apple</td><td>1008.85</td></tr><tr><td>P0367</td><td>Human See</td><td>Clothing</td><td>Nike</td><td>776.79</td></tr><tr><td>P0368</td><td>National Various</td><td>Beauty</td><td>Dell</td><td>138.37</td></tr><tr><td>P0369</td><td>Spend Account</td><td>Sports</td><td>Apple</td><td>1954.77</td></tr><tr><td>P0370</td><td>Artist Protect</td><td>Sports</td><td>Lenovo</td><td>1000.0</td></tr><tr><td>P0371</td><td>Possible So</td><td>Electronics</td><td>Dell</td><td>1479.94</td></tr><tr><td>P0372</td><td>Level Rock</td><td>Electronics</td><td>Dell</td><td>1242.11</td></tr><tr><td>P0373</td><td>Wrong Building</td><td>Beauty</td><td>Puma</td><td>1858.79</td></tr><tr><td>P0374</td><td>Whom Century</td><td>Beauty</td><td>LG</td><td>1676.32</td></tr><tr><td>P0375</td><td>Local Evening</td><td>Electronics</td><td>Sony</td><td>412.3</td></tr><tr><td>P0376</td><td>Piece Raise</td><td>Beauty</td><td>Adidas</td><td>1860.84</td></tr><tr><td>P0377</td><td>Think None</td><td>Sports</td><td>Dell</td><td>1298.87</td></tr><tr><td>P0378</td><td>Economy Court</td><td>Electronics</td><td>Dell</td><td>1677.01</td></tr><tr><td>P0379</td><td>Ball Base</td><td>Clothing</td><td>Sony</td><td>1028.64</td></tr><tr><td>P0380</td><td>Blue Finally</td><td>Sports</td><td>Dell</td><td>1721.21</td></tr><tr><td>P0381</td><td>Tend Inside</td><td>Clothing</td><td>Adidas</td><td>1203.96</td></tr><tr><td>P0382</td><td>Five Force</td><td>Home</td><td>Apple</td><td>713.46</td></tr><tr><td>P0383</td><td>Popular Herself</td><td>Beauty</td><td>Revlon</td><td>180.91</td></tr><tr><td>P0384</td><td>Issue Doctor</td><td>Toys</td><td>Puma</td><td>86.38</td></tr><tr><td>P0385</td><td>Old Hand</td><td>Beauty</td><td>Revlon</td><td>1924.73</td></tr><tr><td>P0386</td><td>Style Again</td><td>Sports</td><td>Revlon</td><td>1294.16</td></tr><tr><td>P0387</td><td>Affect Continue</td><td>Clothing</td><td>Dell</td><td>1648.43</td></tr><tr><td>P0388</td><td>Professional Physical</td><td>Clothing</td><td>Puma</td><td>922.07</td></tr><tr><td>P0389</td><td>Necessary Upon</td><td>Beauty</td><td>Sony</td><td>458.59</td></tr><tr><td>P0390</td><td>Leader Security</td><td>Toys</td><td>Lenovo</td><td>867.57</td></tr><tr><td>P0391</td><td>Serious Information</td><td>Beauty</td><td>Sony</td><td>1392.3</td></tr><tr><td>P0392</td><td>Customer Or</td><td>Sports</td><td>Apple</td><td>892.97</td></tr><tr><td>P0393</td><td>Goal Ground</td><td>Clothing</td><td>Sony</td><td>1619.98</td></tr><tr><td>P0394</td><td>Beautiful Small</td><td>Beauty</td><td>Samsung</td><td>926.57</td></tr><tr><td>P0395</td><td>Song Approach</td><td>Clothing</td><td>Samsung</td><td>1758.5</td></tr><tr><td>P0396</td><td>Pattern Age</td><td>Electronics</td><td>Lenovo</td><td>1566.87</td></tr><tr><td>P0397</td><td>Civil Action</td><td>Sports</td><td>Apple</td><td>1877.24</td></tr><tr><td>P0398</td><td>Floor Daughter</td><td>Electronics</td><td>Apple</td><td>1825.42</td></tr><tr><td>P0399</td><td>Parent Reflect</td><td>Toys</td><td>Nike</td><td>1135.56</td></tr><tr><td>P0400</td><td>Any Buy</td><td>Clothing</td><td>Sony</td><td>835.22</td></tr><tr><td>P0401</td><td>Design Machine</td><td>Toys</td><td>Dell</td><td>392.57</td></tr><tr><td>P0402</td><td>Area Your</td><td>Beauty</td><td>Lenovo</td><td>47.46</td></tr><tr><td>P0403</td><td>Artist Anyone</td><td>Home</td><td>Lenovo</td><td>1744.03</td></tr><tr><td>P0404</td><td>Card Government</td><td>Electronics</td><td>LG</td><td>967.18</td></tr><tr><td>P0405</td><td>Population Hold</td><td>Electronics</td><td>Dell</td><td>1225.32</td></tr><tr><td>P0406</td><td>Indicate Produce</td><td>Beauty</td><td>Adidas</td><td>584.74</td></tr><tr><td>P0407</td><td>Carry Laugh</td><td>Home</td><td>LG</td><td>584.71</td></tr><tr><td>P0408</td><td>Finish Sister</td><td>Sports</td><td>Apple</td><td>1167.48</td></tr><tr><td>P0409</td><td>Happen Old</td><td>Sports</td><td>LG</td><td>890.11</td></tr><tr><td>P0410</td><td>Particular Cause</td><td>Toys</td><td>Adidas</td><td>373.46</td></tr><tr><td>P0411</td><td>Attack Cell</td><td>Electronics</td><td>Puma</td><td>873.95</td></tr><tr><td>P0412</td><td>Significant Ability</td><td>Electronics</td><td>Dell</td><td>129.25</td></tr><tr><td>P0413</td><td>Stand Enough</td><td>Clothing</td><td>Lenovo</td><td>342.07</td></tr><tr><td>P0414</td><td>Pressure Role</td><td>Beauty</td><td>LG</td><td>1456.9</td></tr><tr><td>P0415</td><td>Great Wish</td><td>Beauty</td><td>Samsung</td><td>1821.91</td></tr><tr><td>P0416</td><td>Brother Would</td><td>Toys</td><td>Nike</td><td>427.5</td></tr><tr><td>P0417</td><td>Sing Head</td><td>Beauty</td><td>Revlon</td><td>111.34</td></tr><tr><td>P0418</td><td>Other Right</td><td>Home</td><td>Dell</td><td>1844.36</td></tr><tr><td>P0419</td><td>Claim Firm</td><td>Toys</td><td>Adidas</td><td>629.71</td></tr><tr><td>P0420</td><td>Social Cost</td><td>Home</td><td>Adidas</td><td>49.6</td></tr><tr><td>P0421</td><td>Whole Per</td><td>Clothing</td><td>Sony</td><td>1520.45</td></tr><tr><td>P0422</td><td>Society Action</td><td>Electronics</td><td>Revlon</td><td>184.69</td></tr><tr><td>P0423</td><td>Add Eight</td><td>Clothing</td><td>Dell</td><td>990.07</td></tr><tr><td>P0424</td><td>What Best</td><td>Sports</td><td>Apple</td><td>1141.78</td></tr><tr><td>P0425</td><td>Girl Important</td><td>Home</td><td>Adidas</td><td>1822.03</td></tr><tr><td>P0426</td><td>Several Pick</td><td>Electronics</td><td>Puma</td><td>1956.82</td></tr><tr><td>P0427</td><td>Despite Dream</td><td>Sports</td><td>Sony</td><td>1967.84</td></tr><tr><td>P0428</td><td>Why Ten</td><td>Beauty</td><td>Sony</td><td>1582.19</td></tr><tr><td>P0429</td><td>Never Painting</td><td>Electronics</td><td>Apple</td><td>1734.0</td></tr><tr><td>P0430</td><td>Language Style</td><td>Sports</td><td>Adidas</td><td>1386.32</td></tr><tr><td>P0431</td><td>Physical Quite</td><td>Electronics</td><td>Dell</td><td>682.1</td></tr><tr><td>P0432</td><td>Discuss Decide</td><td>Toys</td><td>Revlon</td><td>1287.08</td></tr><tr><td>P0433</td><td>Would Describe</td><td>Electronics</td><td>Apple</td><td>1123.66</td></tr><tr><td>P0434</td><td>Every Line</td><td>Electronics</td><td>Adidas</td><td>1689.45</td></tr><tr><td>P0435</td><td>Debate Center</td><td>Sports</td><td>Nike</td><td>1902.58</td></tr><tr><td>P0436</td><td>Begin Three</td><td>Sports</td><td>Puma</td><td>1781.45</td></tr><tr><td>P0437</td><td>Explain Until</td><td>Clothing</td><td>Sony</td><td>465.4</td></tr><tr><td>P0438</td><td>Mind Add</td><td>Toys</td><td>LG</td><td>1309.15</td></tr><tr><td>P0439</td><td>Very Democratic</td><td>Home</td><td>Apple</td><td>1174.39</td></tr><tr><td>P0440</td><td>Travel Practice</td><td>Electronics</td><td>Dell</td><td>1983.25</td></tr><tr><td>P0441</td><td>Lot Fish</td><td>Toys</td><td>Adidas</td><td>1300.71</td></tr><tr><td>P0442</td><td>Animal Court</td><td>Electronics</td><td>Adidas</td><td>1811.22</td></tr><tr><td>P0443</td><td>Campaign Decision</td><td>Toys</td><td>Dell</td><td>685.07</td></tr><tr><td>P0444</td><td>Change It</td><td>Beauty</td><td>Revlon</td><td>655.62</td></tr><tr><td>P0445</td><td>Mean Hospital</td><td>Electronics</td><td>Apple</td><td>792.65</td></tr><tr><td>P0446</td><td>Blood National</td><td>Sports</td><td>Puma</td><td>1016.83</td></tr><tr><td>P0447</td><td>There Whether</td><td>Toys</td><td>Sony</td><td>915.77</td></tr><tr><td>P0448</td><td>Method Plant</td><td>Electronics</td><td>LG</td><td>1264.88</td></tr><tr><td>P0449</td><td>Property Total</td><td>Electronics</td><td>Samsung</td><td>188.96</td></tr><tr><td>P0450</td><td>Laugh Minute</td><td>Home</td><td>Revlon</td><td>985.83</td></tr><tr><td>P0451</td><td>Card Another</td><td>Sports</td><td>Puma</td><td>1663.54</td></tr><tr><td>P0452</td><td>Other Role</td><td>Electronics</td><td>Dell</td><td>1462.41</td></tr><tr><td>P0453</td><td>Early Authority</td><td>Home</td><td>Sony</td><td>250.33</td></tr><tr><td>P0454</td><td>Window Nature</td><td>Clothing</td><td>Sony</td><td>324.49</td></tr><tr><td>P0455</td><td>Me True</td><td>Beauty</td><td>Puma</td><td>1884.65</td></tr><tr><td>P0456</td><td>Side Knowledge</td><td>Clothing</td><td>Apple</td><td>1904.87</td></tr><tr><td>P0457</td><td>Reach House</td><td>Sports</td><td>Nike</td><td>1731.23</td></tr><tr><td>P0458</td><td>Fight Claim</td><td>Home</td><td>Dell</td><td>629.24</td></tr><tr><td>P0459</td><td>Without Matter</td><td>Toys</td><td>Apple</td><td>1208.62</td></tr><tr><td>P0460</td><td>Recently Heavy</td><td>Electronics</td><td>Revlon</td><td>1327.98</td></tr><tr><td>P0461</td><td>Dream Thought</td><td>Home</td><td>Apple</td><td>1367.65</td></tr><tr><td>P0462</td><td>Modern Yet</td><td>Sports</td><td>Revlon</td><td>1909.36</td></tr><tr><td>P0463</td><td>Movie Cell</td><td>Clothing</td><td>Apple</td><td>293.1</td></tr><tr><td>P0464</td><td>Whatever Audience</td><td>Electronics</td><td>Sony</td><td>638.63</td></tr><tr><td>P0465</td><td>Morning Politics</td><td>Sports</td><td>Lenovo</td><td>151.23</td></tr><tr><td>P0466</td><td>Effort Service</td><td>Beauty</td><td>Lenovo</td><td>1305.34</td></tr><tr><td>P0467</td><td>Approach Only</td><td>Clothing</td><td>Adidas</td><td>15.91</td></tr><tr><td>P0468</td><td>Present Recent</td><td>Toys</td><td>LG</td><td>1530.08</td></tr><tr><td>P0469</td><td>Line Ball</td><td>Clothing</td><td>Dell</td><td>98.6</td></tr><tr><td>P0470</td><td>Probably High</td><td>Home</td><td>Dell</td><td>649.66</td></tr><tr><td>P0471</td><td>Then Exactly</td><td>Beauty</td><td>Sony</td><td>20.68</td></tr><tr><td>P0472</td><td>Even Economic</td><td>Toys</td><td>Apple</td><td>1409.94</td></tr><tr><td>P0473</td><td>Today Over</td><td>Toys</td><td>Adidas</td><td>1878.18</td></tr><tr><td>P0474</td><td>Expert Appear</td><td>Home</td><td>Nike</td><td>1287.26</td></tr><tr><td>P0475</td><td>Government And</td><td>Home</td><td>Samsung</td><td>964.94</td></tr><tr><td>P0476</td><td>Consumer Itself</td><td>Toys</td><td>Lenovo</td><td>259.13</td></tr><tr><td>P0477</td><td>Upon Sometimes</td><td>Electronics</td><td>Apple</td><td>917.67</td></tr><tr><td>P0478</td><td>Quality True</td><td>Sports</td><td>Sony</td><td>630.56</td></tr><tr><td>P0479</td><td>Voice A</td><td>Clothing</td><td>Sony</td><td>567.29</td></tr><tr><td>P0480</td><td>Child Threat</td><td>Beauty</td><td>Adidas</td><td>492.92</td></tr><tr><td>P0481</td><td>Fact Measure</td><td>Beauty</td><td>Nike</td><td>1554.11</td></tr><tr><td>P0482</td><td>Force Family</td><td>Clothing</td><td>Sony</td><td>1675.86</td></tr><tr><td>P0483</td><td>From Night</td><td>Toys</td><td>Nike</td><td>877.18</td></tr><tr><td>P0484</td><td>Deep Thank</td><td>Beauty</td><td>Apple</td><td>1397.57</td></tr><tr><td>P0485</td><td>Rise Exactly</td><td>Home</td><td>Apple</td><td>535.31</td></tr><tr><td>P0486</td><td>Identify Magazine</td><td>Electronics</td><td>Samsung</td><td>315.25</td></tr><tr><td>P0487</td><td>Now Never</td><td>Electronics</td><td>Dell</td><td>1666.94</td></tr><tr><td>P0488</td><td>Experience Idea</td><td>Electronics</td><td>Lenovo</td><td>1316.67</td></tr><tr><td>P0489</td><td>Camera At</td><td>Electronics</td><td>LG</td><td>1923.44</td></tr><tr><td>P0490</td><td>Door Itself</td><td>Home</td><td>Revlon</td><td>1718.72</td></tr><tr><td>P0491</td><td>Floor Sit</td><td>Clothing</td><td>LG</td><td>1602.21</td></tr><tr><td>P0492</td><td>A Forward</td><td>Home</td><td>Nike</td><td>121.07</td></tr><tr><td>P0493</td><td>Pass Go</td><td>Toys</td><td>Samsung</td><td>295.7</td></tr><tr><td>P0494</td><td>Personal Stand</td><td>Toys</td><td>Apple</td><td>1913.83</td></tr><tr><td>P0495</td><td>Sister Question</td><td>Toys</td><td>Sony</td><td>561.99</td></tr><tr><td>P0496</td><td>Beyond Some</td><td>Beauty</td><td>Apple</td><td>137.62</td></tr><tr><td>P0497</td><td>Reflect Chair</td><td>Beauty</td><td>Lenovo</td><td>930.59</td></tr><tr><td>P0498</td><td>Economic Over</td><td>Beauty</td><td>Adidas</td><td>1990.58</td></tr><tr><td>P0499</td><td>Writer Mouth</td><td>Home</td><td>Revlon</td><td>1774.16</td></tr><tr><td>P0500</td><td>Itself Despite</td><td>Electronics</td><td>Puma</td><td>322.4</td></tr></tbody></table></div>"
      ]
     },
     "metadata": {
      "application/vnd.databricks.v1+output": {
       "addedWidgets": {},
       "aggData": [],
       "aggError": "",
       "aggOverflow": false,
       "aggSchema": [],
       "aggSeriesLimitReached": false,
       "aggType": "",
       "arguments": {},
       "columnCustomDisplayInfos": {},
       "data": [
        [
         "P0001",
         "Clearly Its",
         "Beauty",
         "Nike",
         1868.54
        ],
        [
         "P0002",
         "Production Clear",
         "Beauty",
         "Apple",
         587.13
        ],
        [
         "P0003",
         "Culture Coach",
         "Home",
         "Revlon",
         1599.24
        ],
        [
         "P0004",
         "Movement Part",
         "Sports",
         "LG",
         651.71
        ],
        [
         "P0005",
         "Fact Name",
         "Clothing",
         "Samsung",
         1861.78
        ],
        [
         "P0006",
         "Usually Stop",
         "Toys",
         "Adidas",
         936.36
        ],
        [
         "P0007",
         "Reveal Current",
         "Sports",
         "Adidas",
         1954.02
        ],
        [
         "P0008",
         "Force Language",
         "Beauty",
         "Puma",
         1251.26
        ],
        [
         "P0009",
         "Stage Leg",
         "Clothing",
         "Samsung",
         1247.15
        ],
        [
         "P0010",
         "Leader Then",
         "Sports",
         "Sony",
         975.53
        ],
        [
         "P0011",
         "Term Rest",
         "Electronics",
         "Adidas",
         1475.31
        ],
        [
         "P0012",
         "Theory Wrong",
         "Electronics",
         "Apple",
         624.61
        ],
        [
         "P0013",
         "Democrat Book",
         "Sports",
         "Puma",
         384.99
        ],
        [
         "P0014",
         "Follow Brother",
         "Clothing",
         "Dell",
         32.2
        ],
        [
         "P0015",
         "Pattern Story",
         "Beauty",
         "LG",
         1459.2
        ],
        [
         "P0016",
         "Policy Nor",
         "Clothing",
         "Samsung",
         1594.08
        ],
        [
         "P0017",
         "After Project",
         "Beauty",
         "Revlon",
         1289.06
        ],
        [
         "P0018",
         "Technology Chance",
         "Beauty",
         "Puma",
         1329.53
        ],
        [
         "P0019",
         "Oil Station",
         "Electronics",
         "Samsung",
         230.56
        ],
        [
         "P0020",
         "Happen Truth",
         "Beauty",
         "Nike",
         1603.5
        ],
        [
         "P0021",
         "Middle Everyone",
         "Sports",
         "Nike",
         361.89
        ],
        [
         "P0022",
         "Purpose Why",
         "Beauty",
         "Puma",
         73.82
        ],
        [
         "P0023",
         "Decade Message",
         "Clothing",
         "Adidas",
         1561.78
        ],
        [
         "P0024",
         "Really Phone",
         "Home",
         "Samsung",
         1422.07
        ],
        [
         "P0025",
         "Until And",
         "Beauty",
         "Nike",
         488.67
        ],
        [
         "P0026",
         "Huge Find",
         "Toys",
         "Puma",
         1316.41
        ],
        [
         "P0027",
         "Local Open",
         "Toys",
         "Adidas",
         939.9
        ],
        [
         "P0028",
         "Its Both",
         "Beauty",
         "Puma",
         1682.91
        ],
        [
         "P0029",
         "Everything Open",
         "Clothing",
         "Nike",
         1065.49
        ],
        [
         "P0030",
         "Hold Staff",
         "Toys",
         "Lenovo",
         1162.38
        ],
        [
         "P0031",
         "Part Oil",
         "Clothing",
         "LG",
         774.18
        ],
        [
         "P0032",
         "Relationship Live",
         "Electronics",
         "Dell",
         1445.21
        ],
        [
         "P0033",
         "Perform Such",
         "Clothing",
         "Lenovo",
         61.91
        ],
        [
         "P0034",
         "Even Writer",
         "Toys",
         "Samsung",
         1843.84
        ],
        [
         "P0035",
         "Something Increase",
         "Toys",
         "Revlon",
         579.76
        ],
        [
         "P0036",
         "Success Always",
         "Home",
         "Dell",
         1780.37
        ],
        [
         "P0037",
         "Personal Over",
         "Sports",
         "Puma",
         105.28
        ],
        [
         "P0038",
         "Edge Keep",
         "Toys",
         "Revlon",
         1156.99
        ],
        [
         "P0039",
         "Before Do",
         "Toys",
         "Revlon",
         1279.12
        ],
        [
         "P0040",
         "Answer Require",
         "Toys",
         "Dell",
         1822.39
        ],
        [
         "P0041",
         "Conference Article",
         "Sports",
         "Dell",
         459.55
        ],
        [
         "P0042",
         "Heavy Writer",
         "Beauty",
         "Adidas",
         1215.78
        ],
        [
         "P0043",
         "Radio Thousand",
         "Electronics",
         "Revlon",
         914.61
        ],
        [
         "P0044",
         "Such Beautiful",
         "Electronics",
         "Dell",
         580.32
        ],
        [
         "P0045",
         "Certainly Sign",
         "Sports",
         "Sony",
         622.31
        ],
        [
         "P0046",
         "Exist Age",
         "Beauty",
         "Samsung",
         918.54
        ],
        [
         "P0047",
         "Ever Could",
         "Sports",
         "Revlon",
         257.51
        ],
        [
         "P0048",
         "Share Quality",
         "Electronics",
         "Revlon",
         652.68
        ],
        [
         "P0049",
         "True Her",
         "Clothing",
         "Lenovo",
         819.77
        ],
        [
         "P0050",
         "North Big",
         "Electronics",
         "Samsung",
         1947.16
        ],
        [
         "P0051",
         "Form Social",
         "Electronics",
         "Apple",
         1294.33
        ],
        [
         "P0052",
         "Total Tax",
         "Toys",
         "Lenovo",
         1190.28
        ],
        [
         "P0053",
         "News Look",
         "Electronics",
         "Samsung",
         896.22
        ],
        [
         "P0054",
         "Local Decide",
         "Electronics",
         "Adidas",
         1346.26
        ],
        [
         "P0055",
         "Seat Finish",
         "Electronics",
         "Sony",
         925.39
        ],
        [
         "P0056",
         "Weight Ground",
         "Home",
         "Nike",
         805.91
        ],
        [
         "P0057",
         "Everything Song",
         "Clothing",
         "Samsung",
         1000.36
        ],
        [
         "P0058",
         "Involve Present",
         "Electronics",
         "LG",
         1713.86
        ],
        [
         "P0059",
         "Democratic Any",
         "Sports",
         "Lenovo",
         808.17
        ],
        [
         "P0060",
         "Red Some",
         "Clothing",
         "Nike",
         1230.69
        ],
        [
         "P0061",
         "Describe Continue",
         "Electronics",
         "Sony",
         1610.15
        ],
        [
         "P0062",
         "Always Citizen",
         "Clothing",
         "Samsung",
         912.72
        ],
        [
         "P0063",
         "Necessary Bad",
         "Home",
         "Nike",
         1876.88
        ],
        [
         "P0064",
         "Size Although",
         "Clothing",
         "LG",
         473.8
        ],
        [
         "P0065",
         "Democratic As",
         "Electronics",
         "Lenovo",
         1472.24
        ],
        [
         "P0066",
         "I Worker",
         "Sports",
         "Sony",
         1123.53
        ],
        [
         "P0067",
         "Unit Election",
         "Beauty",
         "Samsung",
         144.72
        ],
        [
         "P0068",
         "Response Audience",
         "Toys",
         "LG",
         1633.64
        ],
        [
         "P0069",
         "Weight Design",
         "Beauty",
         "Lenovo",
         1165.23
        ],
        [
         "P0070",
         "Or Against",
         "Sports",
         "Lenovo",
         1589.36
        ],
        [
         "P0071",
         "Once Support",
         "Toys",
         "Apple",
         1385.04
        ],
        [
         "P0072",
         "Station Fund",
         "Toys",
         "Revlon",
         1198.32
        ],
        [
         "P0073",
         "Leave Reveal",
         "Electronics",
         "Adidas",
         586.19
        ],
        [
         "P0074",
         "Pm Near",
         "Toys",
         "Lenovo",
         426.99
        ],
        [
         "P0075",
         "Former Trade",
         "Beauty",
         "Samsung",
         73.74
        ],
        [
         "P0076",
         "Skill Need",
         "Toys",
         "Puma",
         862.73
        ],
        [
         "P0077",
         "Quality Conference",
         "Clothing",
         "LG",
         333.16
        ],
        [
         "P0078",
         "Their Worry",
         "Electronics",
         "LG",
         903.63
        ],
        [
         "P0079",
         "Night Experience",
         "Beauty",
         "LG",
         780.45
        ],
        [
         "P0080",
         "But Decide",
         "Toys",
         "Lenovo",
         1599.68
        ],
        [
         "P0081",
         "Whose Available",
         "Toys",
         "Nike",
         1697.18
        ],
        [
         "P0082",
         "Exist Interest",
         "Beauty",
         "Apple",
         1932.51
        ],
        [
         "P0083",
         "Laugh Speak",
         "Beauty",
         "Dell",
         1519.05
        ],
        [
         "P0084",
         "Little All",
         "Home",
         "Samsung",
         866.09
        ],
        [
         "P0085",
         "Hope Such",
         "Clothing",
         "Apple",
         1863.08
        ],
        [
         "P0086",
         "Save Own",
         "Toys",
         "Nike",
         915.44
        ],
        [
         "P0087",
         "Service Personal",
         "Home",
         "Sony",
         273.89
        ],
        [
         "P0088",
         "At Such",
         "Home",
         "Adidas",
         1482.19
        ],
        [
         "P0089",
         "Second Despite",
         "Home",
         "LG",
         611.31
        ],
        [
         "P0090",
         "Future Improve",
         "Electronics",
         "Puma",
         129.87
        ],
        [
         "P0091",
         "Nation Moment",
         "Beauty",
         "Samsung",
         1683.02
        ],
        [
         "P0092",
         "Stand Fish",
         "Sports",
         "Revlon",
         1631.21
        ],
        [
         "P0093",
         "Us Life",
         "Clothing",
         "Puma",
         749.33
        ],
        [
         "P0094",
         "Real Himself",
         "Beauty",
         "LG",
         48.71
        ],
        [
         "P0095",
         "Fund Tend",
         "Electronics",
         "Apple",
         1519.1
        ],
        [
         "P0096",
         "Public Voice",
         "Electronics",
         "Nike",
         1078.42
        ],
        [
         "P0097",
         "Crime Range",
         "Clothing",
         "Apple",
         627.41
        ],
        [
         "P0098",
         "Item See",
         "Clothing",
         "Puma",
         551.54
        ],
        [
         "P0099",
         "Notice Rather",
         "Beauty",
         "Adidas",
         1110.7
        ],
        [
         "P0100",
         "Oil Into",
         "Sports",
         "Dell",
         793.81
        ],
        [
         "P0101",
         "Sister Tend",
         "Sports",
         "Puma",
         1106.32
        ],
        [
         "P0102",
         "Yourself Team",
         "Beauty",
         "LG",
         1079.69
        ],
        [
         "P0103",
         "Rich Page",
         "Toys",
         "Samsung",
         486.63
        ],
        [
         "P0104",
         "Fact Building",
         "Clothing",
         "Dell",
         860.64
        ],
        [
         "P0105",
         "Color Now",
         "Clothing",
         "LG",
         1200.37
        ],
        [
         "P0106",
         "Research Mother",
         "Clothing",
         "Sony",
         1100.51
        ],
        [
         "P0107",
         "Degree Much",
         "Toys",
         "Adidas",
         193.45
        ],
        [
         "P0108",
         "Southern Hear",
         "Home",
         "Puma",
         22.3
        ],
        [
         "P0109",
         "Seem South",
         "Electronics",
         "Lenovo",
         1891.2
        ],
        [
         "P0110",
         "Before Everybody",
         "Toys",
         "Samsung",
         776.77
        ],
        [
         "P0111",
         "Decade Land",
         "Electronics",
         "Adidas",
         1138.45
        ],
        [
         "P0112",
         "Study Heavy",
         "Beauty",
         "Puma",
         1579.73
        ],
        [
         "P0113",
         "These Skill",
         "Clothing",
         "Puma",
         810.64
        ],
        [
         "P0114",
         "Kid Necessary",
         "Home",
         "Nike",
         1178.36
        ],
        [
         "P0115",
         "Subject Become",
         "Electronics",
         "Puma",
         1504.01
        ],
        [
         "P0116",
         "Very Forget",
         "Sports",
         "Sony",
         287.59
        ],
        [
         "P0117",
         "Before Product",
         "Beauty",
         "Puma",
         665.49
        ],
        [
         "P0118",
         "Start Threat",
         "Toys",
         "Lenovo",
         1123.64
        ],
        [
         "P0119",
         "Carry View",
         "Home",
         "Sony",
         60.42
        ],
        [
         "P0120",
         "Direction Character",
         "Toys",
         "Sony",
         368.47
        ],
        [
         "P0121",
         "Trade Drug",
         "Sports",
         "Nike",
         1959.23
        ],
        [
         "P0122",
         "Tend Continue",
         "Clothing",
         "LG",
         539.16
        ],
        [
         "P0123",
         "Why Decide",
         "Clothing",
         "Nike",
         503.76
        ],
        [
         "P0124",
         "Operation Century",
         "Clothing",
         "Puma",
         1857.88
        ],
        [
         "P0125",
         "Sort Summer",
         "Home",
         "Sony",
         947.43
        ],
        [
         "P0126",
         "Possible Which",
         "Sports",
         "Sony",
         1431.12
        ],
        [
         "P0127",
         "Movement Picture",
         "Home",
         "Sony",
         1337.38
        ],
        [
         "P0128",
         "Board Worker",
         "Electronics",
         "Apple",
         1935.2
        ],
        [
         "P0129",
         "North On",
         "Toys",
         "Adidas",
         763.99
        ],
        [
         "P0130",
         "Behavior Nothing",
         "Clothing",
         "Adidas",
         1355.15
        ],
        [
         "P0131",
         "Too Example",
         "Clothing",
         "Revlon",
         302.22
        ],
        [
         "P0132",
         "Issue Return",
         "Home",
         "Samsung",
         1194.22
        ],
        [
         "P0133",
         "Speak Small",
         "Electronics",
         "LG",
         215.63
        ],
        [
         "P0134",
         "Stand Fire",
         "Home",
         "Puma",
         1625.17
        ],
        [
         "P0135",
         "Maybe Light",
         "Clothing",
         "Puma",
         669.95
        ],
        [
         "P0136",
         "Year True",
         "Sports",
         "Samsung",
         48.0
        ],
        [
         "P0137",
         "Thought Travel",
         "Clothing",
         "Lenovo",
         1569.19
        ],
        [
         "P0138",
         "Already Series",
         "Clothing",
         "Samsung",
         452.81
        ],
        [
         "P0139",
         "Seek President",
         "Toys",
         "Revlon",
         399.03
        ],
        [
         "P0140",
         "Detail Bar",
         "Clothing",
         "Adidas",
         116.36
        ],
        [
         "P0141",
         "Play Show",
         "Electronics",
         "Adidas",
         1039.71
        ],
        [
         "P0142",
         "Trouble Parent",
         "Clothing",
         "Adidas",
         1081.59
        ],
        [
         "P0143",
         "One Like",
         "Electronics",
         "Apple",
         1549.15
        ],
        [
         "P0144",
         "Admit Street",
         "Beauty",
         "Apple",
         769.93
        ],
        [
         "P0145",
         "House Everything",
         "Toys",
         "Puma",
         453.73
        ],
        [
         "P0146",
         "Building Drive",
         "Electronics",
         "Sony",
         1763.2
        ],
        [
         "P0147",
         "Among Success",
         "Electronics",
         "Lenovo",
         86.53
        ],
        [
         "P0148",
         "Politics Friend",
         "Toys",
         "Dell",
         435.86
        ],
        [
         "P0149",
         "Middle Price",
         "Electronics",
         "Samsung",
         793.61
        ],
        [
         "P0150",
         "Nice Clearly",
         "Electronics",
         "Samsung",
         1207.54
        ],
        [
         "P0151",
         "Cup Per",
         "Toys",
         "Apple",
         38.43
        ],
        [
         "P0152",
         "Not Wait",
         "Home",
         "LG",
         357.33
        ],
        [
         "P0153",
         "Brother Four",
         "Home",
         "Apple",
         809.73
        ],
        [
         "P0154",
         "Trip Within",
         "Beauty",
         "Samsung",
         1089.28
        ],
        [
         "P0155",
         "Laugh Score",
         "Electronics",
         "Dell",
         12.35
        ],
        [
         "P0156",
         "Put After",
         "Home",
         "Sony",
         1746.06
        ],
        [
         "P0157",
         "Race Provide",
         "Home",
         "Adidas",
         825.91
        ],
        [
         "P0158",
         "Pm Plant",
         "Toys",
         "Adidas",
         1286.8
        ],
        [
         "P0159",
         "Politics Along",
         "Home",
         "Lenovo",
         674.29
        ],
        [
         "P0160",
         "Parent Into",
         "Clothing",
         "Nike",
         1542.46
        ],
        [
         "P0161",
         "Need Book",
         "Toys",
         "LG",
         906.6
        ],
        [
         "P0162",
         "West This",
         "Toys",
         "Adidas",
         417.67
        ],
        [
         "P0163",
         "Tree Role",
         "Toys",
         "Dell",
         1307.14
        ],
        [
         "P0164",
         "Word Hard",
         "Electronics",
         "Lenovo",
         535.06
        ],
        [
         "P0165",
         "Son Drug",
         "Toys",
         "Adidas",
         1971.77
        ],
        [
         "P0166",
         "Look Field",
         "Beauty",
         "Samsung",
         62.19
        ],
        [
         "P0167",
         "Early Course",
         "Electronics",
         "Adidas",
         1666.23
        ],
        [
         "P0168",
         "Generation Day",
         "Toys",
         "Sony",
         1006.63
        ],
        [
         "P0169",
         "Position Bank",
         "Beauty",
         "Sony",
         1267.42
        ],
        [
         "P0170",
         "Second Start",
         "Home",
         "Lenovo",
         329.25
        ],
        [
         "P0171",
         "Option Necessary",
         "Clothing",
         "Lenovo",
         1557.09
        ],
        [
         "P0172",
         "Commercial Through",
         "Home",
         "Sony",
         1759.47
        ],
        [
         "P0173",
         "Nearly When",
         "Electronics",
         "Samsung",
         930.78
        ],
        [
         "P0174",
         "Weight Tax",
         "Home",
         "Lenovo",
         81.55
        ],
        [
         "P0175",
         "Enjoy Throughout",
         "Home",
         "Apple",
         364.2
        ],
        [
         "P0176",
         "Team Foreign",
         "Home",
         "Adidas",
         824.82
        ],
        [
         "P0177",
         "Article Smile",
         "Clothing",
         "Nike",
         1241.26
        ],
        [
         "P0178",
         "Finally Suddenly",
         "Toys",
         "Adidas",
         743.65
        ],
        [
         "P0179",
         "Base Significant",
         "Electronics",
         "Samsung",
         1950.04
        ],
        [
         "P0180",
         "Form Management",
         "Electronics",
         "Sony",
         141.37
        ],
        [
         "P0181",
         "Of Seek",
         "Beauty",
         "LG",
         1935.07
        ],
        [
         "P0182",
         "Health I",
         "Beauty",
         "Apple",
         1661.22
        ],
        [
         "P0183",
         "Born Focus",
         "Sports",
         "Samsung",
         762.15
        ],
        [
         "P0184",
         "Main Majority",
         "Sports",
         "Adidas",
         1003.71
        ],
        [
         "P0185",
         "Authority Director",
         "Beauty",
         "Apple",
         1595.17
        ],
        [
         "P0186",
         "Tv Size",
         "Sports",
         "Revlon",
         231.03
        ],
        [
         "P0187",
         "Number They",
         "Electronics",
         "Nike",
         38.88
        ],
        [
         "P0188",
         "Able Seat",
         "Electronics",
         "Adidas",
         1582.57
        ],
        [
         "P0189",
         "Commercial Boy",
         "Home",
         "Puma",
         641.08
        ],
        [
         "P0190",
         "Set Whom",
         "Sports",
         "Samsung",
         686.04
        ],
        [
         "P0191",
         "Myself Performance",
         "Toys",
         "Revlon",
         112.38
        ],
        [
         "P0192",
         "Up Management",
         "Sports",
         "Apple",
         942.81
        ],
        [
         "P0193",
         "Early They",
         "Electronics",
         "Nike",
         1238.31
        ],
        [
         "P0194",
         "Charge Through",
         "Electronics",
         "Revlon",
         1814.74
        ],
        [
         "P0195",
         "Leg In",
         "Toys",
         "Adidas",
         937.18
        ],
        [
         "P0196",
         "Study Teach",
         "Clothing",
         "Adidas",
         1159.15
        ],
        [
         "P0197",
         "Old Ball",
         "Sports",
         "Revlon",
         1564.84
        ],
        [
         "P0198",
         "Information Life",
         "Sports",
         "Samsung",
         628.47
        ],
        [
         "P0199",
         "Data Structure",
         "Clothing",
         "Sony",
         1368.51
        ],
        [
         "P0200",
         "Close Knowledge",
         "Toys",
         "Apple",
         692.12
        ],
        [
         "P0201",
         "Professional Test",
         "Beauty",
         "Samsung",
         1573.37
        ],
        [
         "P0202",
         "Analysis The",
         "Electronics",
         "Adidas",
         1953.99
        ],
        [
         "P0203",
         "Difficult Around",
         "Home",
         "Samsung",
         1016.57
        ],
        [
         "P0204",
         "Show Teacher",
         "Electronics",
         "Adidas",
         1734.6
        ],
        [
         "P0205",
         "Attorney I",
         "Home",
         "LG",
         478.82
        ],
        [
         "P0206",
         "Remember Stuff",
         "Electronics",
         "Apple",
         375.49
        ],
        [
         "P0207",
         "Year Much",
         "Beauty",
         "Adidas",
         230.41
        ],
        [
         "P0208",
         "Rather Require",
         "Toys",
         "Adidas",
         754.39
        ],
        [
         "P0209",
         "Catch Local",
         "Sports",
         "Revlon",
         1070.99
        ],
        [
         "P0210",
         "Learn Weight",
         "Sports",
         "Apple",
         863.71
        ],
        [
         "P0211",
         "Check Line",
         "Beauty",
         "Nike",
         1051.35
        ],
        [
         "P0212",
         "Per Leader",
         "Home",
         "Adidas",
         1766.16
        ],
        [
         "P0213",
         "Suggest Chance",
         "Sports",
         "Samsung",
         1528.21
        ],
        [
         "P0214",
         "Site Trip",
         "Toys",
         "Revlon",
         1725.81
        ],
        [
         "P0215",
         "Trouble Treatment",
         "Beauty",
         "Adidas",
         1678.45
        ],
        [
         "P0216",
         "Every Page",
         "Home",
         "Adidas",
         1526.03
        ],
        [
         "P0217",
         "Vote Tree",
         "Sports",
         "Puma",
         1460.22
        ],
        [
         "P0218",
         "Sea Clear",
         "Beauty",
         "Nike",
         207.67
        ],
        [
         "P0219",
         "Per Voice",
         "Clothing",
         "Dell",
         996.21
        ],
        [
         "P0220",
         "Term Fine",
         "Beauty",
         "Dell",
         1354.7
        ],
        [
         "P0221",
         "Player Summer",
         "Beauty",
         "Lenovo",
         1205.37
        ],
        [
         "P0222",
         "Respond Knowledge",
         "Electronics",
         "Samsung",
         977.33
        ],
        [
         "P0223",
         "Believe Activity",
         "Toys",
         "Lenovo",
         1292.39
        ],
        [
         "P0224",
         "Federal Around",
         "Clothing",
         "Apple",
         1153.17
        ],
        [
         "P0225",
         "Discussion Region",
         "Beauty",
         "Nike",
         551.26
        ],
        [
         "P0226",
         "Care North",
         "Beauty",
         "Lenovo",
         1668.89
        ],
        [
         "P0227",
         "Need Method",
         "Beauty",
         "Nike",
         449.11
        ],
        [
         "P0228",
         "Citizen Item",
         "Sports",
         "Puma",
         317.83
        ],
        [
         "P0229",
         "Material If",
         "Home",
         "Lenovo",
         1399.43
        ],
        [
         "P0230",
         "Old Increase",
         "Beauty",
         "Samsung",
         1163.64
        ],
        [
         "P0231",
         "Do Chair",
         "Home",
         "Revlon",
         781.81
        ],
        [
         "P0232",
         "Would Along",
         "Toys",
         "Adidas",
         896.07
        ],
        [
         "P0233",
         "Second Learn",
         "Toys",
         "Lenovo",
         901.28
        ],
        [
         "P0234",
         "Guess At",
         "Sports",
         "Sony",
         1231.55
        ],
        [
         "P0235",
         "Country Knowledge",
         "Sports",
         "Adidas",
         1297.8
        ],
        [
         "P0236",
         "War Involve",
         "Electronics",
         "Samsung",
         951.74
        ],
        [
         "P0237",
         "As Push",
         "Toys",
         "Samsung",
         164.53
        ],
        [
         "P0238",
         "Air Life",
         "Beauty",
         "Revlon",
         1358.99
        ],
        [
         "P0239",
         "Show Finally",
         "Toys",
         "Nike",
         1612.58
        ],
        [
         "P0240",
         "Six Senior",
         "Clothing",
         "Samsung",
         1648.93
        ],
        [
         "P0241",
         "Edge Civil",
         "Electronics",
         "Puma",
         1531.37
        ],
        [
         "P0242",
         "Radio Lot",
         "Home",
         "Samsung",
         412.59
        ],
        [
         "P0243",
         "Recent The",
         "Beauty",
         "Lenovo",
         1875.22
        ],
        [
         "P0244",
         "Run Market",
         "Beauty",
         "Revlon",
         1843.58
        ],
        [
         "P0245",
         "Occur Attention",
         "Beauty",
         "LG",
         270.43
        ],
        [
         "P0246",
         "Great Field",
         "Electronics",
         "Adidas",
         1449.57
        ],
        [
         "P0247",
         "Step Information",
         "Electronics",
         "Sony",
         825.1
        ],
        [
         "P0248",
         "Develop International",
         "Electronics",
         "Revlon",
         1200.32
        ],
        [
         "P0249",
         "There True",
         "Electronics",
         "Puma",
         1536.54
        ],
        [
         "P0250",
         "Half Ten",
         "Sports",
         "Samsung",
         710.82
        ],
        [
         "P0251",
         "Business Own",
         "Beauty",
         "Lenovo",
         28.65
        ],
        [
         "P0252",
         "Late Thus",
         "Electronics",
         "Sony",
         1957.38
        ],
        [
         "P0253",
         "Onto Owner",
         "Toys",
         "Lenovo",
         226.44
        ],
        [
         "P0254",
         "According Because",
         "Home",
         "Lenovo",
         503.61
        ],
        [
         "P0255",
         "Activity Western",
         "Sports",
         "Lenovo",
         154.4
        ],
        [
         "P0256",
         "Note Worker",
         "Electronics",
         "Lenovo",
         882.48
        ],
        [
         "P0257",
         "Executive Art",
         "Beauty",
         "Nike",
         944.89
        ],
        [
         "P0258",
         "Culture Follow",
         "Home",
         "Revlon",
         1423.91
        ],
        [
         "P0259",
         "Against Kind",
         "Sports",
         "Puma",
         1484.64
        ],
        [
         "P0260",
         "About Buy",
         "Electronics",
         "Revlon",
         1255.56
        ],
        [
         "P0261",
         "Capital Well",
         "Beauty",
         "Dell",
         203.78
        ],
        [
         "P0262",
         "Decade Left",
         "Toys",
         "Samsung",
         885.15
        ],
        [
         "P0263",
         "Machine Heart",
         "Sports",
         "Nike",
         371.19
        ],
        [
         "P0264",
         "Thought Heavy",
         "Beauty",
         "Apple",
         1030.44
        ],
        [
         "P0265",
         "Image No",
         "Toys",
         "Nike",
         1216.14
        ],
        [
         "P0266",
         "Specific You",
         "Electronics",
         "LG",
         324.37
        ],
        [
         "P0267",
         "Painting Daughter",
         "Home",
         "Adidas",
         1772.83
        ],
        [
         "P0268",
         "Man Near",
         "Sports",
         "Dell",
         631.29
        ],
        [
         "P0269",
         "Grow Fly",
         "Sports",
         "Lenovo",
         1192.68
        ],
        [
         "P0270",
         "Candidate Question",
         "Beauty",
         "Samsung",
         611.71
        ],
        [
         "P0271",
         "Notice Town",
         "Sports",
         "Puma",
         1362.74
        ],
        [
         "P0272",
         "Defense Either",
         "Beauty",
         "Dell",
         1472.29
        ],
        [
         "P0273",
         "Peace When",
         "Electronics",
         "Nike",
         146.58
        ],
        [
         "P0274",
         "Always Debate",
         "Clothing",
         "Samsung",
         1128.5
        ],
        [
         "P0275",
         "Piece Information",
         "Toys",
         "Sony",
         1478.58
        ],
        [
         "P0276",
         "Team Support",
         "Toys",
         "Puma",
         1155.12
        ],
        [
         "P0277",
         "Field White",
         "Home",
         "Dell",
         63.16
        ],
        [
         "P0278",
         "Similar Can",
         "Beauty",
         "Revlon",
         414.78
        ],
        [
         "P0279",
         "Fast Situation",
         "Beauty",
         "Lenovo",
         1619.24
        ],
        [
         "P0280",
         "Financial Enough",
         "Clothing",
         "Puma",
         566.91
        ],
        [
         "P0281",
         "Hot Customer",
         "Home",
         "Puma",
         188.55
        ],
        [
         "P0282",
         "Matter To",
         "Electronics",
         "Samsung",
         69.59
        ],
        [
         "P0283",
         "Southern Team",
         "Sports",
         "Nike",
         474.49
        ],
        [
         "P0284",
         "Population Account",
         "Beauty",
         "Puma",
         352.26
        ],
        [
         "P0285",
         "Cultural Beat",
         "Clothing",
         "Revlon",
         1123.4
        ],
        [
         "P0286",
         "Blood Chair",
         "Beauty",
         "Adidas",
         1164.64
        ],
        [
         "P0287",
         "Evening Natural",
         "Electronics",
         "Puma",
         1084.4
        ],
        [
         "P0288",
         "Source Hour",
         "Toys",
         "Lenovo",
         1486.02
        ],
        [
         "P0289",
         "Finish Everything",
         "Sports",
         "Puma",
         1780.19
        ],
        [
         "P0290",
         "Room Public",
         "Beauty",
         "LG",
         919.28
        ],
        [
         "P0291",
         "Able Media",
         "Electronics",
         "LG",
         890.9
        ],
        [
         "P0292",
         "Very Event",
         "Toys",
         "Sony",
         1339.35
        ],
        [
         "P0293",
         "Degree Agency",
         "Electronics",
         "LG",
         107.68
        ],
        [
         "P0294",
         "Dark Former",
         "Sports",
         "Lenovo",
         1054.65
        ],
        [
         "P0295",
         "Participant Kitchen",
         "Electronics",
         "Puma",
         1938.35
        ],
        [
         "P0296",
         "Garden Reach",
         "Sports",
         "Nike",
         1738.65
        ],
        [
         "P0297",
         "Turn Degree",
         "Sports",
         "Nike",
         859.64
        ],
        [
         "P0298",
         "Talk Offer",
         "Clothing",
         "Revlon",
         1571.12
        ],
        [
         "P0299",
         "Look Mention",
         "Home",
         "Apple",
         1170.51
        ],
        [
         "P0300",
         "Amount Politics",
         "Electronics",
         "Sony",
         1741.53
        ],
        [
         "P0301",
         "Side Note",
         "Clothing",
         "Adidas",
         1005.47
        ],
        [
         "P0302",
         "Three Seven",
         "Electronics",
         "Nike",
         1017.38
        ],
        [
         "P0303",
         "Child Help",
         "Clothing",
         "LG",
         1052.48
        ],
        [
         "P0304",
         "Our Arrive",
         "Beauty",
         "Adidas",
         1039.68
        ],
        [
         "P0305",
         "Score Choice",
         "Electronics",
         "Puma",
         1089.74
        ],
        [
         "P0306",
         "Six Speak",
         "Toys",
         "Samsung",
         140.5
        ],
        [
         "P0307",
         "Culture Specific",
         "Beauty",
         "Lenovo",
         1923.44
        ],
        [
         "P0308",
         "And Agent",
         "Sports",
         "Nike",
         187.35
        ],
        [
         "P0309",
         "Nor Prepare",
         "Toys",
         "Apple",
         445.2
        ],
        [
         "P0310",
         "Ok Leave",
         "Home",
         "Samsung",
         704.08
        ],
        [
         "P0311",
         "Blue Live",
         "Toys",
         "Revlon",
         454.3
        ],
        [
         "P0312",
         "Big Similar",
         "Beauty",
         "Puma",
         1500.97
        ],
        [
         "P0313",
         "Try You",
         "Sports",
         "Samsung",
         985.34
        ],
        [
         "P0314",
         "Protect Hope",
         "Sports",
         "Nike",
         599.47
        ],
        [
         "P0315",
         "Work Party",
         "Clothing",
         "Dell",
         1703.11
        ],
        [
         "P0316",
         "Sell State",
         "Clothing",
         "Puma",
         605.68
        ],
        [
         "P0317",
         "Trade Region",
         "Home",
         "Dell",
         1174.72
        ],
        [
         "P0318",
         "History Create",
         "Toys",
         "Samsung",
         824.7
        ],
        [
         "P0319",
         "Trouble Street",
         "Home",
         "Nike",
         1494.78
        ],
        [
         "P0320",
         "Whole Road",
         "Toys",
         "Adidas",
         491.43
        ],
        [
         "P0321",
         "They As",
         "Toys",
         "Lenovo",
         1631.26
        ],
        [
         "P0322",
         "Part Traditional",
         "Beauty",
         "Dell",
         1731.88
        ],
        [
         "P0323",
         "Professor What",
         "Beauty",
         "Lenovo",
         1248.81
        ],
        [
         "P0324",
         "Light Idea",
         "Toys",
         "Nike",
         1819.96
        ],
        [
         "P0325",
         "Right Program",
         "Beauty",
         "Lenovo",
         1361.28
        ],
        [
         "P0326",
         "Safe Loss",
         "Clothing",
         "Nike",
         1688.79
        ],
        [
         "P0327",
         "Garden Shake",
         "Electronics",
         "Sony",
         943.0
        ],
        [
         "P0328",
         "Space Person",
         "Clothing",
         "Lenovo",
         1928.38
        ],
        [
         "P0329",
         "Range However",
         "Toys",
         "Nike",
         1295.37
        ],
        [
         "P0330",
         "Main Student",
         "Sports",
         "LG",
         1241.75
        ],
        [
         "P0331",
         "Let Positive",
         "Sports",
         "LG",
         1528.85
        ],
        [
         "P0332",
         "Thus Make",
         "Toys",
         "Lenovo",
         1369.33
        ],
        [
         "P0333",
         "History Easy",
         "Beauty",
         "Sony",
         1892.24
        ],
        [
         "P0334",
         "Customer Loss",
         "Beauty",
         "Lenovo",
         1560.27
        ],
        [
         "P0335",
         "Type Area",
         "Sports",
         "Samsung",
         1352.39
        ],
        [
         "P0336",
         "Shake Current",
         "Electronics",
         "Dell",
         222.93
        ],
        [
         "P0337",
         "Very Include",
         "Toys",
         "Samsung",
         1968.32
        ],
        [
         "P0338",
         "Service Military",
         "Home",
         "LG",
         1844.1
        ],
        [
         "P0339",
         "Rule Site",
         "Sports",
         "LG",
         1321.67
        ],
        [
         "P0340",
         "Though Pretty",
         "Electronics",
         "Adidas",
         1635.48
        ],
        [
         "P0341",
         "Me Small",
         "Home",
         "Lenovo",
         1333.84
        ],
        [
         "P0342",
         "Trouble Over",
         "Beauty",
         "Nike",
         125.97
        ],
        [
         "P0343",
         "Yeah Former",
         "Toys",
         "Sony",
         539.06
        ],
        [
         "P0344",
         "House Enter",
         "Beauty",
         "Nike",
         1118.86
        ],
        [
         "P0345",
         "Federal Sport",
         "Sports",
         "Apple",
         1366.77
        ],
        [
         "P0346",
         "International Yes",
         "Home",
         "Dell",
         84.09
        ],
        [
         "P0347",
         "Painting Kid",
         "Beauty",
         "Sony",
         452.69
        ],
        [
         "P0348",
         "Late Smile",
         "Home",
         "LG",
         958.75
        ],
        [
         "P0349",
         "Less Can",
         "Beauty",
         "LG",
         1059.73
        ],
        [
         "P0350",
         "Garden Blue",
         "Sports",
         "Dell",
         758.98
        ],
        [
         "P0351",
         "Debate Whether",
         "Beauty",
         "Samsung",
         390.64
        ],
        [
         "P0352",
         "About Room",
         "Home",
         "Sony",
         1226.91
        ],
        [
         "P0353",
         "Local Big",
         "Electronics",
         "Adidas",
         1464.67
        ],
        [
         "P0354",
         "Stop As",
         "Electronics",
         "Samsung",
         289.67
        ],
        [
         "P0355",
         "Itself Explain",
         "Toys",
         "Apple",
         1804.42
        ],
        [
         "P0356",
         "Method Authority",
         "Electronics",
         "Samsung",
         97.91
        ],
        [
         "P0357",
         "The Seek",
         "Clothing",
         "Adidas",
         1705.13
        ],
        [
         "P0358",
         "Quickly Republican",
         "Sports",
         "Samsung",
         1175.18
        ],
        [
         "P0359",
         "Feel Describe",
         "Home",
         "Lenovo",
         660.84
        ],
        [
         "P0360",
         "Reveal Organization",
         "Clothing",
         "Lenovo",
         175.53
        ],
        [
         "P0361",
         "Energy Lay",
         "Beauty",
         "LG",
         1572.29
        ],
        [
         "P0362",
         "Reality Network",
         "Toys",
         "Revlon",
         1555.65
        ],
        [
         "P0363",
         "Score Read",
         "Home",
         "Nike",
         758.11
        ],
        [
         "P0364",
         "What Describe",
         "Sports",
         "Dell",
         930.34
        ],
        [
         "P0365",
         "Available Rich",
         "Clothing",
         "Revlon",
         1542.85
        ],
        [
         "P0366",
         "Seek Position",
         "Toys",
         "Apple",
         1008.85
        ],
        [
         "P0367",
         "Human See",
         "Clothing",
         "Nike",
         776.79
        ],
        [
         "P0368",
         "National Various",
         "Beauty",
         "Dell",
         138.37
        ],
        [
         "P0369",
         "Spend Account",
         "Sports",
         "Apple",
         1954.77
        ],
        [
         "P0370",
         "Artist Protect",
         "Sports",
         "Lenovo",
         1000.0
        ],
        [
         "P0371",
         "Possible So",
         "Electronics",
         "Dell",
         1479.94
        ],
        [
         "P0372",
         "Level Rock",
         "Electronics",
         "Dell",
         1242.11
        ],
        [
         "P0373",
         "Wrong Building",
         "Beauty",
         "Puma",
         1858.79
        ],
        [
         "P0374",
         "Whom Century",
         "Beauty",
         "LG",
         1676.32
        ],
        [
         "P0375",
         "Local Evening",
         "Electronics",
         "Sony",
         412.3
        ],
        [
         "P0376",
         "Piece Raise",
         "Beauty",
         "Adidas",
         1860.84
        ],
        [
         "P0377",
         "Think None",
         "Sports",
         "Dell",
         1298.87
        ],
        [
         "P0378",
         "Economy Court",
         "Electronics",
         "Dell",
         1677.01
        ],
        [
         "P0379",
         "Ball Base",
         "Clothing",
         "Sony",
         1028.64
        ],
        [
         "P0380",
         "Blue Finally",
         "Sports",
         "Dell",
         1721.21
        ],
        [
         "P0381",
         "Tend Inside",
         "Clothing",
         "Adidas",
         1203.96
        ],
        [
         "P0382",
         "Five Force",
         "Home",
         "Apple",
         713.46
        ],
        [
         "P0383",
         "Popular Herself",
         "Beauty",
         "Revlon",
         180.91
        ],
        [
         "P0384",
         "Issue Doctor",
         "Toys",
         "Puma",
         86.38
        ],
        [
         "P0385",
         "Old Hand",
         "Beauty",
         "Revlon",
         1924.73
        ],
        [
         "P0386",
         "Style Again",
         "Sports",
         "Revlon",
         1294.16
        ],
        [
         "P0387",
         "Affect Continue",
         "Clothing",
         "Dell",
         1648.43
        ],
        [
         "P0388",
         "Professional Physical",
         "Clothing",
         "Puma",
         922.07
        ],
        [
         "P0389",
         "Necessary Upon",
         "Beauty",
         "Sony",
         458.59
        ],
        [
         "P0390",
         "Leader Security",
         "Toys",
         "Lenovo",
         867.57
        ],
        [
         "P0391",
         "Serious Information",
         "Beauty",
         "Sony",
         1392.3
        ],
        [
         "P0392",
         "Customer Or",
         "Sports",
         "Apple",
         892.97
        ],
        [
         "P0393",
         "Goal Ground",
         "Clothing",
         "Sony",
         1619.98
        ],
        [
         "P0394",
         "Beautiful Small",
         "Beauty",
         "Samsung",
         926.57
        ],
        [
         "P0395",
         "Song Approach",
         "Clothing",
         "Samsung",
         1758.5
        ],
        [
         "P0396",
         "Pattern Age",
         "Electronics",
         "Lenovo",
         1566.87
        ],
        [
         "P0397",
         "Civil Action",
         "Sports",
         "Apple",
         1877.24
        ],
        [
         "P0398",
         "Floor Daughter",
         "Electronics",
         "Apple",
         1825.42
        ],
        [
         "P0399",
         "Parent Reflect",
         "Toys",
         "Nike",
         1135.56
        ],
        [
         "P0400",
         "Any Buy",
         "Clothing",
         "Sony",
         835.22
        ],
        [
         "P0401",
         "Design Machine",
         "Toys",
         "Dell",
         392.57
        ],
        [
         "P0402",
         "Area Your",
         "Beauty",
         "Lenovo",
         47.46
        ],
        [
         "P0403",
         "Artist Anyone",
         "Home",
         "Lenovo",
         1744.03
        ],
        [
         "P0404",
         "Card Government",
         "Electronics",
         "LG",
         967.18
        ],
        [
         "P0405",
         "Population Hold",
         "Electronics",
         "Dell",
         1225.32
        ],
        [
         "P0406",
         "Indicate Produce",
         "Beauty",
         "Adidas",
         584.74
        ],
        [
         "P0407",
         "Carry Laugh",
         "Home",
         "LG",
         584.71
        ],
        [
         "P0408",
         "Finish Sister",
         "Sports",
         "Apple",
         1167.48
        ],
        [
         "P0409",
         "Happen Old",
         "Sports",
         "LG",
         890.11
        ],
        [
         "P0410",
         "Particular Cause",
         "Toys",
         "Adidas",
         373.46
        ],
        [
         "P0411",
         "Attack Cell",
         "Electronics",
         "Puma",
         873.95
        ],
        [
         "P0412",
         "Significant Ability",
         "Electronics",
         "Dell",
         129.25
        ],
        [
         "P0413",
         "Stand Enough",
         "Clothing",
         "Lenovo",
         342.07
        ],
        [
         "P0414",
         "Pressure Role",
         "Beauty",
         "LG",
         1456.9
        ],
        [
         "P0415",
         "Great Wish",
         "Beauty",
         "Samsung",
         1821.91
        ],
        [
         "P0416",
         "Brother Would",
         "Toys",
         "Nike",
         427.5
        ],
        [
         "P0417",
         "Sing Head",
         "Beauty",
         "Revlon",
         111.34
        ],
        [
         "P0418",
         "Other Right",
         "Home",
         "Dell",
         1844.36
        ],
        [
         "P0419",
         "Claim Firm",
         "Toys",
         "Adidas",
         629.71
        ],
        [
         "P0420",
         "Social Cost",
         "Home",
         "Adidas",
         49.6
        ],
        [
         "P0421",
         "Whole Per",
         "Clothing",
         "Sony",
         1520.45
        ],
        [
         "P0422",
         "Society Action",
         "Electronics",
         "Revlon",
         184.69
        ],
        [
         "P0423",
         "Add Eight",
         "Clothing",
         "Dell",
         990.07
        ],
        [
         "P0424",
         "What Best",
         "Sports",
         "Apple",
         1141.78
        ],
        [
         "P0425",
         "Girl Important",
         "Home",
         "Adidas",
         1822.03
        ],
        [
         "P0426",
         "Several Pick",
         "Electronics",
         "Puma",
         1956.82
        ],
        [
         "P0427",
         "Despite Dream",
         "Sports",
         "Sony",
         1967.84
        ],
        [
         "P0428",
         "Why Ten",
         "Beauty",
         "Sony",
         1582.19
        ],
        [
         "P0429",
         "Never Painting",
         "Electronics",
         "Apple",
         1734.0
        ],
        [
         "P0430",
         "Language Style",
         "Sports",
         "Adidas",
         1386.32
        ],
        [
         "P0431",
         "Physical Quite",
         "Electronics",
         "Dell",
         682.1
        ],
        [
         "P0432",
         "Discuss Decide",
         "Toys",
         "Revlon",
         1287.08
        ],
        [
         "P0433",
         "Would Describe",
         "Electronics",
         "Apple",
         1123.66
        ],
        [
         "P0434",
         "Every Line",
         "Electronics",
         "Adidas",
         1689.45
        ],
        [
         "P0435",
         "Debate Center",
         "Sports",
         "Nike",
         1902.58
        ],
        [
         "P0436",
         "Begin Three",
         "Sports",
         "Puma",
         1781.45
        ],
        [
         "P0437",
         "Explain Until",
         "Clothing",
         "Sony",
         465.4
        ],
        [
         "P0438",
         "Mind Add",
         "Toys",
         "LG",
         1309.15
        ],
        [
         "P0439",
         "Very Democratic",
         "Home",
         "Apple",
         1174.39
        ],
        [
         "P0440",
         "Travel Practice",
         "Electronics",
         "Dell",
         1983.25
        ],
        [
         "P0441",
         "Lot Fish",
         "Toys",
         "Adidas",
         1300.71
        ],
        [
         "P0442",
         "Animal Court",
         "Electronics",
         "Adidas",
         1811.22
        ],
        [
         "P0443",
         "Campaign Decision",
         "Toys",
         "Dell",
         685.07
        ],
        [
         "P0444",
         "Change It",
         "Beauty",
         "Revlon",
         655.62
        ],
        [
         "P0445",
         "Mean Hospital",
         "Electronics",
         "Apple",
         792.65
        ],
        [
         "P0446",
         "Blood National",
         "Sports",
         "Puma",
         1016.83
        ],
        [
         "P0447",
         "There Whether",
         "Toys",
         "Sony",
         915.77
        ],
        [
         "P0448",
         "Method Plant",
         "Electronics",
         "LG",
         1264.88
        ],
        [
         "P0449",
         "Property Total",
         "Electronics",
         "Samsung",
         188.96
        ],
        [
         "P0450",
         "Laugh Minute",
         "Home",
         "Revlon",
         985.83
        ],
        [
         "P0451",
         "Card Another",
         "Sports",
         "Puma",
         1663.54
        ],
        [
         "P0452",
         "Other Role",
         "Electronics",
         "Dell",
         1462.41
        ],
        [
         "P0453",
         "Early Authority",
         "Home",
         "Sony",
         250.33
        ],
        [
         "P0454",
         "Window Nature",
         "Clothing",
         "Sony",
         324.49
        ],
        [
         "P0455",
         "Me True",
         "Beauty",
         "Puma",
         1884.65
        ],
        [
         "P0456",
         "Side Knowledge",
         "Clothing",
         "Apple",
         1904.87
        ],
        [
         "P0457",
         "Reach House",
         "Sports",
         "Nike",
         1731.23
        ],
        [
         "P0458",
         "Fight Claim",
         "Home",
         "Dell",
         629.24
        ],
        [
         "P0459",
         "Without Matter",
         "Toys",
         "Apple",
         1208.62
        ],
        [
         "P0460",
         "Recently Heavy",
         "Electronics",
         "Revlon",
         1327.98
        ],
        [
         "P0461",
         "Dream Thought",
         "Home",
         "Apple",
         1367.65
        ],
        [
         "P0462",
         "Modern Yet",
         "Sports",
         "Revlon",
         1909.36
        ],
        [
         "P0463",
         "Movie Cell",
         "Clothing",
         "Apple",
         293.1
        ],
        [
         "P0464",
         "Whatever Audience",
         "Electronics",
         "Sony",
         638.63
        ],
        [
         "P0465",
         "Morning Politics",
         "Sports",
         "Lenovo",
         151.23
        ],
        [
         "P0466",
         "Effort Service",
         "Beauty",
         "Lenovo",
         1305.34
        ],
        [
         "P0467",
         "Approach Only",
         "Clothing",
         "Adidas",
         15.91
        ],
        [
         "P0468",
         "Present Recent",
         "Toys",
         "LG",
         1530.08
        ],
        [
         "P0469",
         "Line Ball",
         "Clothing",
         "Dell",
         98.6
        ],
        [
         "P0470",
         "Probably High",
         "Home",
         "Dell",
         649.66
        ],
        [
         "P0471",
         "Then Exactly",
         "Beauty",
         "Sony",
         20.68
        ],
        [
         "P0472",
         "Even Economic",
         "Toys",
         "Apple",
         1409.94
        ],
        [
         "P0473",
         "Today Over",
         "Toys",
         "Adidas",
         1878.18
        ],
        [
         "P0474",
         "Expert Appear",
         "Home",
         "Nike",
         1287.26
        ],
        [
         "P0475",
         "Government And",
         "Home",
         "Samsung",
         964.94
        ],
        [
         "P0476",
         "Consumer Itself",
         "Toys",
         "Lenovo",
         259.13
        ],
        [
         "P0477",
         "Upon Sometimes",
         "Electronics",
         "Apple",
         917.67
        ],
        [
         "P0478",
         "Quality True",
         "Sports",
         "Sony",
         630.56
        ],
        [
         "P0479",
         "Voice A",
         "Clothing",
         "Sony",
         567.29
        ],
        [
         "P0480",
         "Child Threat",
         "Beauty",
         "Adidas",
         492.92
        ],
        [
         "P0481",
         "Fact Measure",
         "Beauty",
         "Nike",
         1554.11
        ],
        [
         "P0482",
         "Force Family",
         "Clothing",
         "Sony",
         1675.86
        ],
        [
         "P0483",
         "From Night",
         "Toys",
         "Nike",
         877.18
        ],
        [
         "P0484",
         "Deep Thank",
         "Beauty",
         "Apple",
         1397.57
        ],
        [
         "P0485",
         "Rise Exactly",
         "Home",
         "Apple",
         535.31
        ],
        [
         "P0486",
         "Identify Magazine",
         "Electronics",
         "Samsung",
         315.25
        ],
        [
         "P0487",
         "Now Never",
         "Electronics",
         "Dell",
         1666.94
        ],
        [
         "P0488",
         "Experience Idea",
         "Electronics",
         "Lenovo",
         1316.67
        ],
        [
         "P0489",
         "Camera At",
         "Electronics",
         "LG",
         1923.44
        ],
        [
         "P0490",
         "Door Itself",
         "Home",
         "Revlon",
         1718.72
        ],
        [
         "P0491",
         "Floor Sit",
         "Clothing",
         "LG",
         1602.21
        ],
        [
         "P0492",
         "A Forward",
         "Home",
         "Nike",
         121.07
        ],
        [
         "P0493",
         "Pass Go",
         "Toys",
         "Samsung",
         295.7
        ],
        [
         "P0494",
         "Personal Stand",
         "Toys",
         "Apple",
         1913.83
        ],
        [
         "P0495",
         "Sister Question",
         "Toys",
         "Sony",
         561.99
        ],
        [
         "P0496",
         "Beyond Some",
         "Beauty",
         "Apple",
         137.62
        ],
        [
         "P0497",
         "Reflect Chair",
         "Beauty",
         "Lenovo",
         930.59
        ],
        [
         "P0498",
         "Economic Over",
         "Beauty",
         "Adidas",
         1990.58
        ],
        [
         "P0499",
         "Writer Mouth",
         "Home",
         "Revlon",
         1774.16
        ],
        [
         "P0500",
         "Itself Despite",
         "Electronics",
         "Puma",
         322.4
        ]
       ],
       "datasetInfos": [],
       "dbfsResultPath": null,
       "isJsonSchema": true,
       "metadata": {},
       "overflow": false,
       "plotOptions": {
        "customPlotOptions": {},
        "displayType": "table",
        "pivotAggregation": null,
        "pivotColumns": null,
        "xColumns": null,
        "yColumns": null
       },
       "removedWidgets": [],
       "schema": [
        {
         "metadata": "{}",
         "name": "product_id",
         "type": "\"string\""
        },
        {
         "metadata": "{}",
         "name": "product_name",
         "type": "\"string\""
        },
        {
         "metadata": "{}",
         "name": "category",
         "type": "\"string\""
        },
        {
         "metadata": "{}",
         "name": "brand",
         "type": "\"string\""
        },
        {
         "metadata": "{}",
         "name": "price",
         "type": "\"double\""
        }
       ],
       "type": "table"
      }
     },
     "output_type": "display_data"
    }
   ],
   "source": [
    "df=spark.read.format(\"parquet\")\\\n",
    "  .load(\"abfss://bronze@databricksetlss.dfs.core.windows.net/products\")\n",
    "df=df.drop(\"_rescued_data\")\n",
    "display(df)"
   ]
  },
  {
   "cell_type": "code",
   "execution_count": 0,
   "metadata": {
    "application/vnd.databricks.v1+cell": {
     "cellMetadata": {
      "byteLimit": 2048000,
      "rowLimit": 10000
     },
     "inputWidgets": {},
     "nuid": "9f282dc1-bcd1-4dc8-9949-635d3405125c",
     "showTitle": false,
     "tableResultSettingsMap": {},
     "title": ""
    }
   },
   "outputs": [],
   "source": [
    "df.createOrReplaceTempView(\"products\")\n"
   ]
  },
  {
   "cell_type": "code",
   "execution_count": 0,
   "metadata": {
    "application/vnd.databricks.v1+cell": {
     "cellMetadata": {
      "byteLimit": 2048000,
      "implicitDf": true,
      "rowLimit": 10000
     },
     "inputWidgets": {},
     "nuid": "14786c08-20c3-4844-8d63-1a9b606a512d",
     "showTitle": false,
     "tableResultSettingsMap": {},
     "title": ""
    }
   },
   "outputs": [],
   "source": [
    "%sql\n",
    "CREATE OR REPLACE FUNCTION databricks_cat.bronze.discounted_func(price double) RETURNS double \n",
    "LANGUAGE SQL\n",
    "RETURN price * 0.95\n"
   ]
  },
  {
   "cell_type": "code",
   "execution_count": 0,
   "metadata": {
    "application/vnd.databricks.v1+cell": {
     "cellMetadata": {
      "byteLimit": 2048000,
      "implicitDf": true,
      "rowLimit": 10000
     },
     "inputWidgets": {},
     "nuid": "85427adb-48e0-4b23-adef-5d2296585d0d",
     "showTitle": false,
     "tableResultSettingsMap": {},
     "title": ""
    }
   },
   "outputs": [
    {
     "output_type": "display_data",
     "data": {
      "text/html": [
       "<style scoped>\n",
       "  .table-result-container {\n",
       "    max-height: 300px;\n",
       "    overflow: auto;\n",
       "  }\n",
       "  table, th, td {\n",
       "    border: 1px solid black;\n",
       "    border-collapse: collapse;\n",
       "  }\n",
       "  th, td {\n",
       "    padding: 5px;\n",
       "  }\n",
       "  th {\n",
       "    text-align: left;\n",
       "  }\n",
       "</style><div class='table-result-container'><table class='table-result'><thead style='background-color: white'><tr><th>product_id</th><th>price</th><th>discounted_price</th></tr></thead><tbody><tr><td>P0001</td><td>1868.54</td><td>1775.1129999999998</td></tr><tr><td>P0002</td><td>587.13</td><td>557.7735</td></tr><tr><td>P0003</td><td>1599.24</td><td>1519.278</td></tr><tr><td>P0004</td><td>651.71</td><td>619.1245</td></tr><tr><td>P0005</td><td>1861.78</td><td>1768.6909999999998</td></tr><tr><td>P0006</td><td>936.36</td><td>889.5419999999999</td></tr><tr><td>P0007</td><td>1954.02</td><td>1856.319</td></tr><tr><td>P0008</td><td>1251.26</td><td>1188.697</td></tr><tr><td>P0009</td><td>1247.15</td><td>1184.7925</td></tr><tr><td>P0010</td><td>975.53</td><td>926.7534999999999</td></tr><tr><td>P0011</td><td>1475.31</td><td>1401.5445</td></tr><tr><td>P0012</td><td>624.61</td><td>593.3795</td></tr><tr><td>P0013</td><td>384.99</td><td>365.7405</td></tr><tr><td>P0014</td><td>32.2</td><td>30.59</td></tr><tr><td>P0015</td><td>1459.2</td><td>1386.24</td></tr><tr><td>P0016</td><td>1594.08</td><td>1514.3759999999997</td></tr><tr><td>P0017</td><td>1289.06</td><td>1224.607</td></tr><tr><td>P0018</td><td>1329.53</td><td>1263.0535</td></tr><tr><td>P0019</td><td>230.56</td><td>219.03199999999998</td></tr><tr><td>P0020</td><td>1603.5</td><td>1523.3249999999998</td></tr><tr><td>P0021</td><td>361.89</td><td>343.79549999999995</td></tr><tr><td>P0022</td><td>73.82</td><td>70.12899999999999</td></tr><tr><td>P0023</td><td>1561.78</td><td>1483.6909999999998</td></tr><tr><td>P0024</td><td>1422.07</td><td>1350.9664999999998</td></tr><tr><td>P0025</td><td>488.67</td><td>464.2365</td></tr><tr><td>P0026</td><td>1316.41</td><td>1250.5895</td></tr><tr><td>P0027</td><td>939.9</td><td>892.905</td></tr><tr><td>P0028</td><td>1682.91</td><td>1598.7645</td></tr><tr><td>P0029</td><td>1065.49</td><td>1012.2154999999999</td></tr><tr><td>P0030</td><td>1162.38</td><td>1104.261</td></tr><tr><td>P0031</td><td>774.18</td><td>735.4709999999999</td></tr><tr><td>P0032</td><td>1445.21</td><td>1372.9495</td></tr><tr><td>P0033</td><td>61.91</td><td>58.814499999999995</td></tr><tr><td>P0034</td><td>1843.84</td><td>1751.648</td></tr><tr><td>P0035</td><td>579.76</td><td>550.7719999999999</td></tr><tr><td>P0036</td><td>1780.37</td><td>1691.3514999999998</td></tr><tr><td>P0037</td><td>105.28</td><td>100.01599999999999</td></tr><tr><td>P0038</td><td>1156.99</td><td>1099.1405</td></tr><tr><td>P0039</td><td>1279.12</td><td>1215.1639999999998</td></tr><tr><td>P0040</td><td>1822.39</td><td>1731.2705</td></tr><tr><td>P0041</td><td>459.55</td><td>436.5725</td></tr><tr><td>P0042</td><td>1215.78</td><td>1154.991</td></tr><tr><td>P0043</td><td>914.61</td><td>868.8795</td></tr><tr><td>P0044</td><td>580.32</td><td>551.304</td></tr><tr><td>P0045</td><td>622.31</td><td>591.1945</td></tr><tr><td>P0046</td><td>918.54</td><td>872.6129999999999</td></tr><tr><td>P0047</td><td>257.51</td><td>244.63449999999997</td></tr><tr><td>P0048</td><td>652.68</td><td>620.0459999999999</td></tr><tr><td>P0049</td><td>819.77</td><td>778.7814999999999</td></tr><tr><td>P0050</td><td>1947.16</td><td>1849.802</td></tr><tr><td>P0051</td><td>1294.33</td><td>1229.6135</td></tr><tr><td>P0052</td><td>1190.28</td><td>1130.7659999999998</td></tr><tr><td>P0053</td><td>896.22</td><td>851.409</td></tr><tr><td>P0054</td><td>1346.26</td><td>1278.947</td></tr><tr><td>P0055</td><td>925.39</td><td>879.1205</td></tr><tr><td>P0056</td><td>805.91</td><td>765.6144999999999</td></tr><tr><td>P0057</td><td>1000.36</td><td>950.342</td></tr><tr><td>P0058</td><td>1713.86</td><td>1628.167</td></tr><tr><td>P0059</td><td>808.17</td><td>767.7615</td></tr><tr><td>P0060</td><td>1230.69</td><td>1169.1555</td></tr><tr><td>P0061</td><td>1610.15</td><td>1529.6425</td></tr><tr><td>P0062</td><td>912.72</td><td>867.084</td></tr><tr><td>P0063</td><td>1876.88</td><td>1783.036</td></tr><tr><td>P0064</td><td>473.8</td><td>450.11</td></tr><tr><td>P0065</td><td>1472.24</td><td>1398.628</td></tr><tr><td>P0066</td><td>1123.53</td><td>1067.3535</td></tr><tr><td>P0067</td><td>144.72</td><td>137.48399999999998</td></tr><tr><td>P0068</td><td>1633.64</td><td>1551.958</td></tr><tr><td>P0069</td><td>1165.23</td><td>1106.9685</td></tr><tr><td>P0070</td><td>1589.36</td><td>1509.8919999999998</td></tr><tr><td>P0071</td><td>1385.04</td><td>1315.788</td></tr><tr><td>P0072</td><td>1198.32</td><td>1138.404</td></tr><tr><td>P0073</td><td>586.19</td><td>556.8805</td></tr><tr><td>P0074</td><td>426.99</td><td>405.6405</td></tr><tr><td>P0075</td><td>73.74</td><td>70.053</td></tr><tr><td>P0076</td><td>862.73</td><td>819.5935</td></tr><tr><td>P0077</td><td>333.16</td><td>316.502</td></tr><tr><td>P0078</td><td>903.63</td><td>858.4485</td></tr><tr><td>P0079</td><td>780.45</td><td>741.4275</td></tr><tr><td>P0080</td><td>1599.68</td><td>1519.696</td></tr><tr><td>P0081</td><td>1697.18</td><td>1612.321</td></tr><tr><td>P0082</td><td>1932.51</td><td>1835.8845</td></tr><tr><td>P0083</td><td>1519.05</td><td>1443.0974999999999</td></tr><tr><td>P0084</td><td>866.09</td><td>822.7855</td></tr><tr><td>P0085</td><td>1863.08</td><td>1769.926</td></tr><tr><td>P0086</td><td>915.44</td><td>869.668</td></tr><tr><td>P0087</td><td>273.89</td><td>260.1955</td></tr><tr><td>P0088</td><td>1482.19</td><td>1408.0805</td></tr><tr><td>P0089</td><td>611.31</td><td>580.7444999999999</td></tr><tr><td>P0090</td><td>129.87</td><td>123.3765</td></tr><tr><td>P0091</td><td>1683.02</td><td>1598.869</td></tr><tr><td>P0092</td><td>1631.21</td><td>1549.6495</td></tr><tr><td>P0093</td><td>749.33</td><td>711.8635</td></tr><tr><td>P0094</td><td>48.71</td><td>46.274499999999996</td></tr><tr><td>P0095</td><td>1519.1</td><td>1443.1449999999998</td></tr><tr><td>P0096</td><td>1078.42</td><td>1024.499</td></tr><tr><td>P0097</td><td>627.41</td><td>596.0395</td></tr><tr><td>P0098</td><td>551.54</td><td>523.963</td></tr><tr><td>P0099</td><td>1110.7</td><td>1055.165</td></tr><tr><td>P0100</td><td>793.81</td><td>754.1194999999999</td></tr><tr><td>P0101</td><td>1106.32</td><td>1051.004</td></tr><tr><td>P0102</td><td>1079.69</td><td>1025.7055</td></tr><tr><td>P0103</td><td>486.63</td><td>462.2985</td></tr><tr><td>P0104</td><td>860.64</td><td>817.608</td></tr><tr><td>P0105</td><td>1200.37</td><td>1140.3514999999998</td></tr><tr><td>P0106</td><td>1100.51</td><td>1045.4845</td></tr><tr><td>P0107</td><td>193.45</td><td>183.77749999999997</td></tr><tr><td>P0108</td><td>22.3</td><td>21.185</td></tr><tr><td>P0109</td><td>1891.2</td><td>1796.6399999999999</td></tr><tr><td>P0110</td><td>776.77</td><td>737.9314999999999</td></tr><tr><td>P0111</td><td>1138.45</td><td>1081.5275</td></tr><tr><td>P0112</td><td>1579.73</td><td>1500.7435</td></tr><tr><td>P0113</td><td>810.64</td><td>770.108</td></tr><tr><td>P0114</td><td>1178.36</td><td>1119.4419999999998</td></tr><tr><td>P0115</td><td>1504.01</td><td>1428.8094999999998</td></tr><tr><td>P0116</td><td>287.59</td><td>273.21049999999997</td></tr><tr><td>P0117</td><td>665.49</td><td>632.2155</td></tr><tr><td>P0118</td><td>1123.64</td><td>1067.458</td></tr><tr><td>P0119</td><td>60.42</td><td>57.399</td></tr><tr><td>P0120</td><td>368.47</td><td>350.04650000000004</td></tr><tr><td>P0121</td><td>1959.23</td><td>1861.2685</td></tr><tr><td>P0122</td><td>539.16</td><td>512.202</td></tr><tr><td>P0123</td><td>503.76</td><td>478.57199999999995</td></tr><tr><td>P0124</td><td>1857.88</td><td>1764.986</td></tr><tr><td>P0125</td><td>947.43</td><td>900.0584999999999</td></tr><tr><td>P0126</td><td>1431.12</td><td>1359.5639999999999</td></tr><tr><td>P0127</td><td>1337.38</td><td>1270.511</td></tr><tr><td>P0128</td><td>1935.2</td><td>1838.44</td></tr><tr><td>P0129</td><td>763.99</td><td>725.7905</td></tr><tr><td>P0130</td><td>1355.15</td><td>1287.3925</td></tr><tr><td>P0131</td><td>302.22</td><td>287.10900000000004</td></tr><tr><td>P0132</td><td>1194.22</td><td>1134.509</td></tr><tr><td>P0133</td><td>215.63</td><td>204.84849999999997</td></tr><tr><td>P0134</td><td>1625.17</td><td>1543.9115</td></tr><tr><td>P0135</td><td>669.95</td><td>636.4525</td></tr><tr><td>P0136</td><td>48.0</td><td>45.599999999999994</td></tr><tr><td>P0137</td><td>1569.19</td><td>1490.7305</td></tr><tr><td>P0138</td><td>452.81</td><td>430.16949999999997</td></tr><tr><td>P0139</td><td>399.03</td><td>379.07849999999996</td></tr><tr><td>P0140</td><td>116.36</td><td>110.54199999999999</td></tr><tr><td>P0141</td><td>1039.71</td><td>987.7245</td></tr><tr><td>P0142</td><td>1081.59</td><td>1027.5104999999999</td></tr><tr><td>P0143</td><td>1549.15</td><td>1471.6925</td></tr><tr><td>P0144</td><td>769.93</td><td>731.4334999999999</td></tr><tr><td>P0145</td><td>453.73</td><td>431.0435</td></tr><tr><td>P0146</td><td>1763.2</td><td>1675.04</td></tr><tr><td>P0147</td><td>86.53</td><td>82.20349999999999</td></tr><tr><td>P0148</td><td>435.86</td><td>414.067</td></tr><tr><td>P0149</td><td>793.61</td><td>753.9295</td></tr><tr><td>P0150</td><td>1207.54</td><td>1147.163</td></tr><tr><td>P0151</td><td>38.43</td><td>36.5085</td></tr><tr><td>P0152</td><td>357.33</td><td>339.46349999999995</td></tr><tr><td>P0153</td><td>809.73</td><td>769.2434999999999</td></tr><tr><td>P0154</td><td>1089.28</td><td>1034.816</td></tr><tr><td>P0155</td><td>12.35</td><td>11.7325</td></tr><tr><td>P0156</td><td>1746.06</td><td>1658.7569999999998</td></tr><tr><td>P0157</td><td>825.91</td><td>784.6144999999999</td></tr><tr><td>P0158</td><td>1286.8</td><td>1222.4599999999998</td></tr><tr><td>P0159</td><td>674.29</td><td>640.5754999999999</td></tr><tr><td>P0160</td><td>1542.46</td><td>1465.337</td></tr><tr><td>P0161</td><td>906.6</td><td>861.27</td></tr><tr><td>P0162</td><td>417.67</td><td>396.7865</td></tr><tr><td>P0163</td><td>1307.14</td><td>1241.7830000000001</td></tr><tr><td>P0164</td><td>535.06</td><td>508.3069999999999</td></tr><tr><td>P0165</td><td>1971.77</td><td>1873.1815</td></tr><tr><td>P0166</td><td>62.19</td><td>59.080499999999994</td></tr><tr><td>P0167</td><td>1666.23</td><td>1582.9185</td></tr><tr><td>P0168</td><td>1006.63</td><td>956.2985</td></tr><tr><td>P0169</td><td>1267.42</td><td>1204.049</td></tr><tr><td>P0170</td><td>329.25</td><td>312.78749999999997</td></tr><tr><td>P0171</td><td>1557.09</td><td>1479.2354999999998</td></tr><tr><td>P0172</td><td>1759.47</td><td>1671.4965</td></tr><tr><td>P0173</td><td>930.78</td><td>884.241</td></tr><tr><td>P0174</td><td>81.55</td><td>77.4725</td></tr><tr><td>P0175</td><td>364.2</td><td>345.98999999999995</td></tr><tr><td>P0176</td><td>824.82</td><td>783.5790000000001</td></tr><tr><td>P0177</td><td>1241.26</td><td>1179.197</td></tr><tr><td>P0178</td><td>743.65</td><td>706.4675</td></tr><tr><td>P0179</td><td>1950.04</td><td>1852.5379999999998</td></tr><tr><td>P0180</td><td>141.37</td><td>134.3015</td></tr><tr><td>P0181</td><td>1935.07</td><td>1838.3165</td></tr><tr><td>P0182</td><td>1661.22</td><td>1578.1589999999999</td></tr><tr><td>P0183</td><td>762.15</td><td>724.0424999999999</td></tr><tr><td>P0184</td><td>1003.71</td><td>953.5245</td></tr><tr><td>P0185</td><td>1595.17</td><td>1515.4115</td></tr><tr><td>P0186</td><td>231.03</td><td>219.4785</td></tr><tr><td>P0187</td><td>38.88</td><td>36.936</td></tr><tr><td>P0188</td><td>1582.57</td><td>1503.4415</td></tr><tr><td>P0189</td><td>641.08</td><td>609.026</td></tr><tr><td>P0190</td><td>686.04</td><td>651.7379999999999</td></tr><tr><td>P0191</td><td>112.38</td><td>106.761</td></tr><tr><td>P0192</td><td>942.81</td><td>895.6694999999999</td></tr><tr><td>P0193</td><td>1238.31</td><td>1176.3944999999999</td></tr><tr><td>P0194</td><td>1814.74</td><td>1724.003</td></tr><tr><td>P0195</td><td>937.18</td><td>890.3209999999999</td></tr><tr><td>P0196</td><td>1159.15</td><td>1101.1925</td></tr><tr><td>P0197</td><td>1564.84</td><td>1486.598</td></tr><tr><td>P0198</td><td>628.47</td><td>597.0465</td></tr><tr><td>P0199</td><td>1368.51</td><td>1300.0845</td></tr><tr><td>P0200</td><td>692.12</td><td>657.514</td></tr><tr><td>P0201</td><td>1573.37</td><td>1494.7015</td></tr><tr><td>P0202</td><td>1953.99</td><td>1856.2904999999998</td></tr><tr><td>P0203</td><td>1016.57</td><td>965.7415</td></tr><tr><td>P0204</td><td>1734.6</td><td>1647.87</td></tr><tr><td>P0205</td><td>478.82</td><td>454.87899999999996</td></tr><tr><td>P0206</td><td>375.49</td><td>356.7155</td></tr><tr><td>P0207</td><td>230.41</td><td>218.8895</td></tr><tr><td>P0208</td><td>754.39</td><td>716.6705</td></tr><tr><td>P0209</td><td>1070.99</td><td>1017.4404999999999</td></tr><tr><td>P0210</td><td>863.71</td><td>820.5245</td></tr><tr><td>P0211</td><td>1051.35</td><td>998.7824999999999</td></tr><tr><td>P0212</td><td>1766.16</td><td>1677.852</td></tr><tr><td>P0213</td><td>1528.21</td><td>1451.7995</td></tr><tr><td>P0214</td><td>1725.81</td><td>1639.5194999999999</td></tr><tr><td>P0215</td><td>1678.45</td><td>1594.5275</td></tr><tr><td>P0216</td><td>1526.03</td><td>1449.7285</td></tr><tr><td>P0217</td><td>1460.22</td><td>1387.209</td></tr><tr><td>P0218</td><td>207.67</td><td>197.2865</td></tr><tr><td>P0219</td><td>996.21</td><td>946.3995</td></tr><tr><td>P0220</td><td>1354.7</td><td>1286.965</td></tr><tr><td>P0221</td><td>1205.37</td><td>1145.1014999999998</td></tr><tr><td>P0222</td><td>977.33</td><td>928.4635</td></tr><tr><td>P0223</td><td>1292.39</td><td>1227.7705</td></tr><tr><td>P0224</td><td>1153.17</td><td>1095.5115</td></tr><tr><td>P0225</td><td>551.26</td><td>523.697</td></tr><tr><td>P0226</td><td>1668.89</td><td>1585.4455</td></tr><tr><td>P0227</td><td>449.11</td><td>426.6545</td></tr><tr><td>P0228</td><td>317.83</td><td>301.9385</td></tr><tr><td>P0229</td><td>1399.43</td><td>1329.4585</td></tr><tr><td>P0230</td><td>1163.64</td><td>1105.458</td></tr><tr><td>P0231</td><td>781.81</td><td>742.7194999999999</td></tr><tr><td>P0232</td><td>896.07</td><td>851.2665</td></tr><tr><td>P0233</td><td>901.28</td><td>856.2159999999999</td></tr><tr><td>P0234</td><td>1231.55</td><td>1169.9724999999999</td></tr><tr><td>P0235</td><td>1297.8</td><td>1232.9099999999999</td></tr><tr><td>P0236</td><td>951.74</td><td>904.153</td></tr><tr><td>P0237</td><td>164.53</td><td>156.30349999999999</td></tr><tr><td>P0238</td><td>1358.99</td><td>1291.0404999999998</td></tr><tr><td>P0239</td><td>1612.58</td><td>1531.9509999999998</td></tr><tr><td>P0240</td><td>1648.93</td><td>1566.4835</td></tr><tr><td>P0241</td><td>1531.37</td><td>1454.8014999999998</td></tr><tr><td>P0242</td><td>412.59</td><td>391.96049999999997</td></tr><tr><td>P0243</td><td>1875.22</td><td>1781.4589999999998</td></tr><tr><td>P0244</td><td>1843.58</td><td>1751.4009999999998</td></tr><tr><td>P0245</td><td>270.43</td><td>256.9085</td></tr><tr><td>P0246</td><td>1449.57</td><td>1377.0914999999998</td></tr><tr><td>P0247</td><td>825.1</td><td>783.845</td></tr><tr><td>P0248</td><td>1200.32</td><td>1140.3039999999999</td></tr><tr><td>P0249</td><td>1536.54</td><td>1459.713</td></tr><tr><td>P0250</td><td>710.82</td><td>675.279</td></tr><tr><td>P0251</td><td>28.65</td><td>27.217499999999998</td></tr><tr><td>P0252</td><td>1957.38</td><td>1859.511</td></tr><tr><td>P0253</td><td>226.44</td><td>215.118</td></tr><tr><td>P0254</td><td>503.61</td><td>478.4295</td></tr><tr><td>P0255</td><td>154.4</td><td>146.68</td></tr><tr><td>P0256</td><td>882.48</td><td>838.356</td></tr><tr><td>P0257</td><td>944.89</td><td>897.6455</td></tr><tr><td>P0258</td><td>1423.91</td><td>1352.7145</td></tr><tr><td>P0259</td><td>1484.64</td><td>1410.4080000000001</td></tr><tr><td>P0260</td><td>1255.56</td><td>1192.782</td></tr><tr><td>P0261</td><td>203.78</td><td>193.59099999999998</td></tr><tr><td>P0262</td><td>885.15</td><td>840.8924999999999</td></tr><tr><td>P0263</td><td>371.19</td><td>352.6305</td></tr><tr><td>P0264</td><td>1030.44</td><td>978.918</td></tr><tr><td>P0265</td><td>1216.14</td><td>1155.333</td></tr><tr><td>P0266</td><td>324.37</td><td>308.1515</td></tr><tr><td>P0267</td><td>1772.83</td><td>1684.1884999999997</td></tr><tr><td>P0268</td><td>631.29</td><td>599.7254999999999</td></tr><tr><td>P0269</td><td>1192.68</td><td>1133.046</td></tr><tr><td>P0270</td><td>611.71</td><td>581.1245</td></tr><tr><td>P0271</td><td>1362.74</td><td>1294.6029999999998</td></tr><tr><td>P0272</td><td>1472.29</td><td>1398.6754999999998</td></tr><tr><td>P0273</td><td>146.58</td><td>139.251</td></tr><tr><td>P0274</td><td>1128.5</td><td>1072.075</td></tr><tr><td>P0275</td><td>1478.58</td><td>1404.6509999999998</td></tr><tr><td>P0276</td><td>1155.12</td><td>1097.3639999999998</td></tr><tr><td>P0277</td><td>63.16</td><td>60.001999999999995</td></tr><tr><td>P0278</td><td>414.78</td><td>394.04099999999994</td></tr><tr><td>P0279</td><td>1619.24</td><td>1538.278</td></tr><tr><td>P0280</td><td>566.91</td><td>538.5645</td></tr><tr><td>P0281</td><td>188.55</td><td>179.1225</td></tr><tr><td>P0282</td><td>69.59</td><td>66.1105</td></tr><tr><td>P0283</td><td>474.49</td><td>450.7655</td></tr><tr><td>P0284</td><td>352.26</td><td>334.647</td></tr><tr><td>P0285</td><td>1123.4</td><td>1067.23</td></tr><tr><td>P0286</td><td>1164.64</td><td>1106.4080000000001</td></tr><tr><td>P0287</td><td>1084.4</td><td>1030.18</td></tr><tr><td>P0288</td><td>1486.02</td><td>1411.7189999999998</td></tr><tr><td>P0289</td><td>1780.19</td><td>1691.1805</td></tr><tr><td>P0290</td><td>919.28</td><td>873.3159999999999</td></tr><tr><td>P0291</td><td>890.9</td><td>846.3549999999999</td></tr><tr><td>P0292</td><td>1339.35</td><td>1272.3825</td></tr><tr><td>P0293</td><td>107.68</td><td>102.296</td></tr><tr><td>P0294</td><td>1054.65</td><td>1001.9175</td></tr><tr><td>P0295</td><td>1938.35</td><td>1841.4325</td></tr><tr><td>P0296</td><td>1738.65</td><td>1651.7175</td></tr><tr><td>P0297</td><td>859.64</td><td>816.6579999999999</td></tr><tr><td>P0298</td><td>1571.12</td><td>1492.5639999999999</td></tr><tr><td>P0299</td><td>1170.51</td><td>1111.9845</td></tr><tr><td>P0300</td><td>1741.53</td><td>1654.4534999999998</td></tr><tr><td>P0301</td><td>1005.47</td><td>955.1965</td></tr><tr><td>P0302</td><td>1017.38</td><td>966.511</td></tr><tr><td>P0303</td><td>1052.48</td><td>999.856</td></tr><tr><td>P0304</td><td>1039.68</td><td>987.696</td></tr><tr><td>P0305</td><td>1089.74</td><td>1035.253</td></tr><tr><td>P0306</td><td>140.5</td><td>133.475</td></tr><tr><td>P0307</td><td>1923.44</td><td>1827.268</td></tr><tr><td>P0308</td><td>187.35</td><td>177.9825</td></tr><tr><td>P0309</td><td>445.2</td><td>422.94</td></tr><tr><td>P0310</td><td>704.08</td><td>668.876</td></tr><tr><td>P0311</td><td>454.3</td><td>431.585</td></tr><tr><td>P0312</td><td>1500.97</td><td>1425.9215</td></tr><tr><td>P0313</td><td>985.34</td><td>936.073</td></tr><tr><td>P0314</td><td>599.47</td><td>569.4965</td></tr><tr><td>P0315</td><td>1703.11</td><td>1617.9544999999998</td></tr><tr><td>P0316</td><td>605.68</td><td>575.396</td></tr><tr><td>P0317</td><td>1174.72</td><td>1115.984</td></tr><tr><td>P0318</td><td>824.7</td><td>783.465</td></tr><tr><td>P0319</td><td>1494.78</td><td>1420.041</td></tr><tr><td>P0320</td><td>491.43</td><td>466.8585</td></tr><tr><td>P0321</td><td>1631.26</td><td>1549.697</td></tr><tr><td>P0322</td><td>1731.88</td><td>1645.286</td></tr><tr><td>P0323</td><td>1248.81</td><td>1186.3694999999998</td></tr><tr><td>P0324</td><td>1819.96</td><td>1728.962</td></tr><tr><td>P0325</td><td>1361.28</td><td>1293.216</td></tr><tr><td>P0326</td><td>1688.79</td><td>1604.3504999999998</td></tr><tr><td>P0327</td><td>943.0</td><td>895.8499999999999</td></tr><tr><td>P0328</td><td>1928.38</td><td>1831.961</td></tr><tr><td>P0329</td><td>1295.37</td><td>1230.6014999999998</td></tr><tr><td>P0330</td><td>1241.75</td><td>1179.6625</td></tr><tr><td>P0331</td><td>1528.85</td><td>1452.4074999999998</td></tr><tr><td>P0332</td><td>1369.33</td><td>1300.8635</td></tr><tr><td>P0333</td><td>1892.24</td><td>1797.628</td></tr><tr><td>P0334</td><td>1560.27</td><td>1482.2565</td></tr><tr><td>P0335</td><td>1352.39</td><td>1284.7705</td></tr><tr><td>P0336</td><td>222.93</td><td>211.7835</td></tr><tr><td>P0337</td><td>1968.32</td><td>1869.9039999999998</td></tr><tr><td>P0338</td><td>1844.1</td><td>1751.8949999999998</td></tr><tr><td>P0339</td><td>1321.67</td><td>1255.5865000000001</td></tr><tr><td>P0340</td><td>1635.48</td><td>1553.706</td></tr><tr><td>P0341</td><td>1333.84</td><td>1267.148</td></tr><tr><td>P0342</td><td>125.97</td><td>119.6715</td></tr><tr><td>P0343</td><td>539.06</td><td>512.107</td></tr><tr><td>P0344</td><td>1118.86</td><td>1062.917</td></tr><tr><td>P0345</td><td>1366.77</td><td>1298.4315</td></tr><tr><td>P0346</td><td>84.09</td><td>79.8855</td></tr><tr><td>P0347</td><td>452.69</td><td>430.0555</td></tr><tr><td>P0348</td><td>958.75</td><td>910.8125</td></tr><tr><td>P0349</td><td>1059.73</td><td>1006.7434999999999</td></tr><tr><td>P0350</td><td>758.98</td><td>721.031</td></tr><tr><td>P0351</td><td>390.64</td><td>371.10799999999995</td></tr><tr><td>P0352</td><td>1226.91</td><td>1165.5645</td></tr><tr><td>P0353</td><td>1464.67</td><td>1391.4365</td></tr><tr><td>P0354</td><td>289.67</td><td>275.1865</td></tr><tr><td>P0355</td><td>1804.42</td><td>1714.199</td></tr><tr><td>P0356</td><td>97.91</td><td>93.0145</td></tr><tr><td>P0357</td><td>1705.13</td><td>1619.8735</td></tr><tr><td>P0358</td><td>1175.18</td><td>1116.421</td></tr><tr><td>P0359</td><td>660.84</td><td>627.798</td></tr><tr><td>P0360</td><td>175.53</td><td>166.7535</td></tr><tr><td>P0361</td><td>1572.29</td><td>1493.6754999999998</td></tr><tr><td>P0362</td><td>1555.65</td><td>1477.8675</td></tr><tr><td>P0363</td><td>758.11</td><td>720.2044999999999</td></tr><tr><td>P0364</td><td>930.34</td><td>883.823</td></tr><tr><td>P0365</td><td>1542.85</td><td>1465.7074999999998</td></tr><tr><td>P0366</td><td>1008.85</td><td>958.4075</td></tr><tr><td>P0367</td><td>776.79</td><td>737.9504999999999</td></tr><tr><td>P0368</td><td>138.37</td><td>131.4515</td></tr><tr><td>P0369</td><td>1954.77</td><td>1857.0314999999998</td></tr><tr><td>P0370</td><td>1000.0</td><td>950.0</td></tr><tr><td>P0371</td><td>1479.94</td><td>1405.943</td></tr><tr><td>P0372</td><td>1242.11</td><td>1180.0044999999998</td></tr><tr><td>P0373</td><td>1858.79</td><td>1765.8504999999998</td></tr><tr><td>P0374</td><td>1676.32</td><td>1592.504</td></tr><tr><td>P0375</td><td>412.3</td><td>391.685</td></tr><tr><td>P0376</td><td>1860.84</td><td>1767.7979999999998</td></tr><tr><td>P0377</td><td>1298.87</td><td>1233.9264999999998</td></tr><tr><td>P0378</td><td>1677.01</td><td>1593.1595</td></tr><tr><td>P0379</td><td>1028.64</td><td>977.2080000000001</td></tr><tr><td>P0380</td><td>1721.21</td><td>1635.1495</td></tr><tr><td>P0381</td><td>1203.96</td><td>1143.762</td></tr><tr><td>P0382</td><td>713.46</td><td>677.787</td></tr><tr><td>P0383</td><td>180.91</td><td>171.8645</td></tr><tr><td>P0384</td><td>86.38</td><td>82.06099999999999</td></tr><tr><td>P0385</td><td>1924.73</td><td>1828.4935</td></tr><tr><td>P0386</td><td>1294.16</td><td>1229.452</td></tr><tr><td>P0387</td><td>1648.43</td><td>1566.0085</td></tr><tr><td>P0388</td><td>922.07</td><td>875.9665</td></tr><tr><td>P0389</td><td>458.59</td><td>435.66049999999996</td></tr><tr><td>P0390</td><td>867.57</td><td>824.1915</td></tr><tr><td>P0391</td><td>1392.3</td><td>1322.685</td></tr><tr><td>P0392</td><td>892.97</td><td>848.3215</td></tr><tr><td>P0393</td><td>1619.98</td><td>1538.981</td></tr><tr><td>P0394</td><td>926.57</td><td>880.2415</td></tr><tr><td>P0395</td><td>1758.5</td><td>1670.5749999999998</td></tr><tr><td>P0396</td><td>1566.87</td><td>1488.5264999999997</td></tr><tr><td>P0397</td><td>1877.24</td><td>1783.378</td></tr><tr><td>P0398</td><td>1825.42</td><td>1734.149</td></tr><tr><td>P0399</td><td>1135.56</td><td>1078.782</td></tr><tr><td>P0400</td><td>835.22</td><td>793.459</td></tr><tr><td>P0401</td><td>392.57</td><td>372.94149999999996</td></tr><tr><td>P0402</td><td>47.46</td><td>45.086999999999996</td></tr><tr><td>P0403</td><td>1744.03</td><td>1656.8284999999998</td></tr><tr><td>P0404</td><td>967.18</td><td>918.8209999999999</td></tr><tr><td>P0405</td><td>1225.32</td><td>1164.0539999999999</td></tr><tr><td>P0406</td><td>584.74</td><td>555.5029999999999</td></tr><tr><td>P0407</td><td>584.71</td><td>555.4745</td></tr><tr><td>P0408</td><td>1167.48</td><td>1109.106</td></tr><tr><td>P0409</td><td>890.11</td><td>845.6045</td></tr><tr><td>P0410</td><td>373.46</td><td>354.787</td></tr><tr><td>P0411</td><td>873.95</td><td>830.2525</td></tr><tr><td>P0412</td><td>129.25</td><td>122.7875</td></tr><tr><td>P0413</td><td>342.07</td><td>324.9665</td></tr><tr><td>P0414</td><td>1456.9</td><td>1384.055</td></tr><tr><td>P0415</td><td>1821.91</td><td>1730.8145</td></tr><tr><td>P0416</td><td>427.5</td><td>406.125</td></tr><tr><td>P0417</td><td>111.34</td><td>105.773</td></tr><tr><td>P0418</td><td>1844.36</td><td>1752.1419999999998</td></tr><tr><td>P0419</td><td>629.71</td><td>598.2245</td></tr><tr><td>P0420</td><td>49.6</td><td>47.12</td></tr><tr><td>P0421</td><td>1520.45</td><td>1444.4275</td></tr><tr><td>P0422</td><td>184.69</td><td>175.4555</td></tr><tr><td>P0423</td><td>990.07</td><td>940.5665</td></tr><tr><td>P0424</td><td>1141.78</td><td>1084.691</td></tr><tr><td>P0425</td><td>1822.03</td><td>1730.9285</td></tr><tr><td>P0426</td><td>1956.82</td><td>1858.9789999999998</td></tr><tr><td>P0427</td><td>1967.84</td><td>1869.4479999999999</td></tr><tr><td>P0428</td><td>1582.19</td><td>1503.0805</td></tr><tr><td>P0429</td><td>1734.0</td><td>1647.3</td></tr><tr><td>P0430</td><td>1386.32</td><td>1317.004</td></tr><tr><td>P0431</td><td>682.1</td><td>647.995</td></tr><tr><td>P0432</td><td>1287.08</td><td>1222.7259999999999</td></tr><tr><td>P0433</td><td>1123.66</td><td>1067.477</td></tr><tr><td>P0434</td><td>1689.45</td><td>1604.9775</td></tr><tr><td>P0435</td><td>1902.58</td><td>1807.4509999999998</td></tr><tr><td>P0436</td><td>1781.45</td><td>1692.3775</td></tr><tr><td>P0437</td><td>465.4</td><td>442.12999999999994</td></tr><tr><td>P0438</td><td>1309.15</td><td>1243.6925</td></tr><tr><td>P0439</td><td>1174.39</td><td>1115.6705</td></tr><tr><td>P0440</td><td>1983.25</td><td>1884.0874999999999</td></tr><tr><td>P0441</td><td>1300.71</td><td>1235.6745</td></tr><tr><td>P0442</td><td>1811.22</td><td>1720.6589999999999</td></tr><tr><td>P0443</td><td>685.07</td><td>650.8165</td></tr><tr><td>P0444</td><td>655.62</td><td>622.8389999999999</td></tr><tr><td>P0445</td><td>792.65</td><td>753.0174999999999</td></tr><tr><td>P0446</td><td>1016.83</td><td>965.9885</td></tr><tr><td>P0447</td><td>915.77</td><td>869.9815</td></tr><tr><td>P0448</td><td>1264.88</td><td>1201.636</td></tr><tr><td>P0449</td><td>188.96</td><td>179.512</td></tr><tr><td>P0450</td><td>985.83</td><td>936.5385</td></tr><tr><td>P0451</td><td>1663.54</td><td>1580.3629999999998</td></tr><tr><td>P0452</td><td>1462.41</td><td>1389.2895</td></tr><tr><td>P0453</td><td>250.33</td><td>237.8135</td></tr><tr><td>P0454</td><td>324.49</td><td>308.2655</td></tr><tr><td>P0455</td><td>1884.65</td><td>1790.4175</td></tr><tr><td>P0456</td><td>1904.87</td><td>1809.6264999999999</td></tr><tr><td>P0457</td><td>1731.23</td><td>1644.6685</td></tr><tr><td>P0458</td><td>629.24</td><td>597.778</td></tr><tr><td>P0459</td><td>1208.62</td><td>1148.1889999999999</td></tr><tr><td>P0460</td><td>1327.98</td><td>1261.581</td></tr><tr><td>P0461</td><td>1367.65</td><td>1299.2675</td></tr><tr><td>P0462</td><td>1909.36</td><td>1813.8919999999998</td></tr><tr><td>P0463</td><td>293.1</td><td>278.445</td></tr><tr><td>P0464</td><td>638.63</td><td>606.6985</td></tr><tr><td>P0465</td><td>151.23</td><td>143.6685</td></tr><tr><td>P0466</td><td>1305.34</td><td>1240.0729999999999</td></tr><tr><td>P0467</td><td>15.91</td><td>15.1145</td></tr><tr><td>P0468</td><td>1530.08</td><td>1453.5759999999998</td></tr><tr><td>P0469</td><td>98.6</td><td>93.66999999999999</td></tr><tr><td>P0470</td><td>649.66</td><td>617.1769999999999</td></tr><tr><td>P0471</td><td>20.68</td><td>19.645999999999997</td></tr><tr><td>P0472</td><td>1409.94</td><td>1339.443</td></tr><tr><td>P0473</td><td>1878.18</td><td>1784.271</td></tr><tr><td>P0474</td><td>1287.26</td><td>1222.897</td></tr><tr><td>P0475</td><td>964.94</td><td>916.693</td></tr><tr><td>P0476</td><td>259.13</td><td>246.1735</td></tr><tr><td>P0477</td><td>917.67</td><td>871.7864999999999</td></tr><tr><td>P0478</td><td>630.56</td><td>599.0319999999999</td></tr><tr><td>P0479</td><td>567.29</td><td>538.9254999999999</td></tr><tr><td>P0480</td><td>492.92</td><td>468.274</td></tr><tr><td>P0481</td><td>1554.11</td><td>1476.4044999999999</td></tr><tr><td>P0482</td><td>1675.86</td><td>1592.0669999999998</td></tr><tr><td>P0483</td><td>877.18</td><td>833.3209999999999</td></tr><tr><td>P0484</td><td>1397.57</td><td>1327.6915</td></tr><tr><td>P0485</td><td>535.31</td><td>508.5444999999999</td></tr><tr><td>P0486</td><td>315.25</td><td>299.4875</td></tr><tr><td>P0487</td><td>1666.94</td><td>1583.593</td></tr><tr><td>P0488</td><td>1316.67</td><td>1250.8365000000001</td></tr><tr><td>P0489</td><td>1923.44</td><td>1827.268</td></tr><tr><td>P0490</td><td>1718.72</td><td>1632.7839999999999</td></tr><tr><td>P0491</td><td>1602.21</td><td>1522.0995</td></tr><tr><td>P0492</td><td>121.07</td><td>115.0165</td></tr><tr><td>P0493</td><td>295.7</td><td>280.91499999999996</td></tr><tr><td>P0494</td><td>1913.83</td><td>1818.1384999999998</td></tr><tr><td>P0495</td><td>561.99</td><td>533.8905</td></tr><tr><td>P0496</td><td>137.62</td><td>130.739</td></tr><tr><td>P0497</td><td>930.59</td><td>884.0604999999999</td></tr><tr><td>P0498</td><td>1990.58</td><td>1891.051</td></tr><tr><td>P0499</td><td>1774.16</td><td>1685.452</td></tr><tr><td>P0500</td><td>322.4</td><td>306.28</td></tr></tbody></table></div>"
      ]
     },
     "metadata": {
      "application/vnd.databricks.v1+output": {
       "addedWidgets": {},
       "aggData": [],
       "aggError": "",
       "aggOverflow": false,
       "aggSchema": [],
       "aggSeriesLimitReached": false,
       "aggType": "",
       "arguments": {},
       "columnCustomDisplayInfos": {},
       "data": [
        [
         "P0001",
         1868.54,
         1775.1129999999998
        ],
        [
         "P0002",
         587.13,
         557.7735
        ],
        [
         "P0003",
         1599.24,
         1519.278
        ],
        [
         "P0004",
         651.71,
         619.1245
        ],
        [
         "P0005",
         1861.78,
         1768.6909999999998
        ],
        [
         "P0006",
         936.36,
         889.5419999999999
        ],
        [
         "P0007",
         1954.02,
         1856.319
        ],
        [
         "P0008",
         1251.26,
         1188.697
        ],
        [
         "P0009",
         1247.15,
         1184.7925
        ],
        [
         "P0010",
         975.53,
         926.7534999999999
        ],
        [
         "P0011",
         1475.31,
         1401.5445
        ],
        [
         "P0012",
         624.61,
         593.3795
        ],
        [
         "P0013",
         384.99,
         365.7405
        ],
        [
         "P0014",
         32.2,
         30.59
        ],
        [
         "P0015",
         1459.2,
         1386.24
        ],
        [
         "P0016",
         1594.08,
         1514.3759999999997
        ],
        [
         "P0017",
         1289.06,
         1224.607
        ],
        [
         "P0018",
         1329.53,
         1263.0535
        ],
        [
         "P0019",
         230.56,
         219.03199999999998
        ],
        [
         "P0020",
         1603.5,
         1523.3249999999998
        ],
        [
         "P0021",
         361.89,
         343.79549999999995
        ],
        [
         "P0022",
         73.82,
         70.12899999999999
        ],
        [
         "P0023",
         1561.78,
         1483.6909999999998
        ],
        [
         "P0024",
         1422.07,
         1350.9664999999998
        ],
        [
         "P0025",
         488.67,
         464.2365
        ],
        [
         "P0026",
         1316.41,
         1250.5895
        ],
        [
         "P0027",
         939.9,
         892.905
        ],
        [
         "P0028",
         1682.91,
         1598.7645
        ],
        [
         "P0029",
         1065.49,
         1012.2154999999999
        ],
        [
         "P0030",
         1162.38,
         1104.261
        ],
        [
         "P0031",
         774.18,
         735.4709999999999
        ],
        [
         "P0032",
         1445.21,
         1372.9495
        ],
        [
         "P0033",
         61.91,
         58.814499999999995
        ],
        [
         "P0034",
         1843.84,
         1751.648
        ],
        [
         "P0035",
         579.76,
         550.7719999999999
        ],
        [
         "P0036",
         1780.37,
         1691.3514999999998
        ],
        [
         "P0037",
         105.28,
         100.01599999999999
        ],
        [
         "P0038",
         1156.99,
         1099.1405
        ],
        [
         "P0039",
         1279.12,
         1215.1639999999998
        ],
        [
         "P0040",
         1822.39,
         1731.2705
        ],
        [
         "P0041",
         459.55,
         436.5725
        ],
        [
         "P0042",
         1215.78,
         1154.991
        ],
        [
         "P0043",
         914.61,
         868.8795
        ],
        [
         "P0044",
         580.32,
         551.304
        ],
        [
         "P0045",
         622.31,
         591.1945
        ],
        [
         "P0046",
         918.54,
         872.6129999999999
        ],
        [
         "P0047",
         257.51,
         244.63449999999997
        ],
        [
         "P0048",
         652.68,
         620.0459999999999
        ],
        [
         "P0049",
         819.77,
         778.7814999999999
        ],
        [
         "P0050",
         1947.16,
         1849.802
        ],
        [
         "P0051",
         1294.33,
         1229.6135
        ],
        [
         "P0052",
         1190.28,
         1130.7659999999998
        ],
        [
         "P0053",
         896.22,
         851.409
        ],
        [
         "P0054",
         1346.26,
         1278.947
        ],
        [
         "P0055",
         925.39,
         879.1205
        ],
        [
         "P0056",
         805.91,
         765.6144999999999
        ],
        [
         "P0057",
         1000.36,
         950.342
        ],
        [
         "P0058",
         1713.86,
         1628.167
        ],
        [
         "P0059",
         808.17,
         767.7615
        ],
        [
         "P0060",
         1230.69,
         1169.1555
        ],
        [
         "P0061",
         1610.15,
         1529.6425
        ],
        [
         "P0062",
         912.72,
         867.084
        ],
        [
         "P0063",
         1876.88,
         1783.036
        ],
        [
         "P0064",
         473.8,
         450.11
        ],
        [
         "P0065",
         1472.24,
         1398.628
        ],
        [
         "P0066",
         1123.53,
         1067.3535
        ],
        [
         "P0067",
         144.72,
         137.48399999999998
        ],
        [
         "P0068",
         1633.64,
         1551.958
        ],
        [
         "P0069",
         1165.23,
         1106.9685
        ],
        [
         "P0070",
         1589.36,
         1509.8919999999998
        ],
        [
         "P0071",
         1385.04,
         1315.788
        ],
        [
         "P0072",
         1198.32,
         1138.404
        ],
        [
         "P0073",
         586.19,
         556.8805
        ],
        [
         "P0074",
         426.99,
         405.6405
        ],
        [
         "P0075",
         73.74,
         70.053
        ],
        [
         "P0076",
         862.73,
         819.5935
        ],
        [
         "P0077",
         333.16,
         316.502
        ],
        [
         "P0078",
         903.63,
         858.4485
        ],
        [
         "P0079",
         780.45,
         741.4275
        ],
        [
         "P0080",
         1599.68,
         1519.696
        ],
        [
         "P0081",
         1697.18,
         1612.321
        ],
        [
         "P0082",
         1932.51,
         1835.8845
        ],
        [
         "P0083",
         1519.05,
         1443.0974999999999
        ],
        [
         "P0084",
         866.09,
         822.7855
        ],
        [
         "P0085",
         1863.08,
         1769.926
        ],
        [
         "P0086",
         915.44,
         869.668
        ],
        [
         "P0087",
         273.89,
         260.1955
        ],
        [
         "P0088",
         1482.19,
         1408.0805
        ],
        [
         "P0089",
         611.31,
         580.7444999999999
        ],
        [
         "P0090",
         129.87,
         123.3765
        ],
        [
         "P0091",
         1683.02,
         1598.869
        ],
        [
         "P0092",
         1631.21,
         1549.6495
        ],
        [
         "P0093",
         749.33,
         711.8635
        ],
        [
         "P0094",
         48.71,
         46.274499999999996
        ],
        [
         "P0095",
         1519.1,
         1443.1449999999998
        ],
        [
         "P0096",
         1078.42,
         1024.499
        ],
        [
         "P0097",
         627.41,
         596.0395
        ],
        [
         "P0098",
         551.54,
         523.963
        ],
        [
         "P0099",
         1110.7,
         1055.165
        ],
        [
         "P0100",
         793.81,
         754.1194999999999
        ],
        [
         "P0101",
         1106.32,
         1051.004
        ],
        [
         "P0102",
         1079.69,
         1025.7055
        ],
        [
         "P0103",
         486.63,
         462.2985
        ],
        [
         "P0104",
         860.64,
         817.608
        ],
        [
         "P0105",
         1200.37,
         1140.3514999999998
        ],
        [
         "P0106",
         1100.51,
         1045.4845
        ],
        [
         "P0107",
         193.45,
         183.77749999999997
        ],
        [
         "P0108",
         22.3,
         21.185
        ],
        [
         "P0109",
         1891.2,
         1796.6399999999999
        ],
        [
         "P0110",
         776.77,
         737.9314999999999
        ],
        [
         "P0111",
         1138.45,
         1081.5275
        ],
        [
         "P0112",
         1579.73,
         1500.7435
        ],
        [
         "P0113",
         810.64,
         770.108
        ],
        [
         "P0114",
         1178.36,
         1119.4419999999998
        ],
        [
         "P0115",
         1504.01,
         1428.8094999999998
        ],
        [
         "P0116",
         287.59,
         273.21049999999997
        ],
        [
         "P0117",
         665.49,
         632.2155
        ],
        [
         "P0118",
         1123.64,
         1067.458
        ],
        [
         "P0119",
         60.42,
         57.399
        ],
        [
         "P0120",
         368.47,
         350.04650000000004
        ],
        [
         "P0121",
         1959.23,
         1861.2685
        ],
        [
         "P0122",
         539.16,
         512.202
        ],
        [
         "P0123",
         503.76,
         478.57199999999995
        ],
        [
         "P0124",
         1857.88,
         1764.986
        ],
        [
         "P0125",
         947.43,
         900.0584999999999
        ],
        [
         "P0126",
         1431.12,
         1359.5639999999999
        ],
        [
         "P0127",
         1337.38,
         1270.511
        ],
        [
         "P0128",
         1935.2,
         1838.44
        ],
        [
         "P0129",
         763.99,
         725.7905
        ],
        [
         "P0130",
         1355.15,
         1287.3925
        ],
        [
         "P0131",
         302.22,
         287.10900000000004
        ],
        [
         "P0132",
         1194.22,
         1134.509
        ],
        [
         "P0133",
         215.63,
         204.84849999999997
        ],
        [
         "P0134",
         1625.17,
         1543.9115
        ],
        [
         "P0135",
         669.95,
         636.4525
        ],
        [
         "P0136",
         48.0,
         45.599999999999994
        ],
        [
         "P0137",
         1569.19,
         1490.7305
        ],
        [
         "P0138",
         452.81,
         430.16949999999997
        ],
        [
         "P0139",
         399.03,
         379.07849999999996
        ],
        [
         "P0140",
         116.36,
         110.54199999999999
        ],
        [
         "P0141",
         1039.71,
         987.7245
        ],
        [
         "P0142",
         1081.59,
         1027.5104999999999
        ],
        [
         "P0143",
         1549.15,
         1471.6925
        ],
        [
         "P0144",
         769.93,
         731.4334999999999
        ],
        [
         "P0145",
         453.73,
         431.0435
        ],
        [
         "P0146",
         1763.2,
         1675.04
        ],
        [
         "P0147",
         86.53,
         82.20349999999999
        ],
        [
         "P0148",
         435.86,
         414.067
        ],
        [
         "P0149",
         793.61,
         753.9295
        ],
        [
         "P0150",
         1207.54,
         1147.163
        ],
        [
         "P0151",
         38.43,
         36.5085
        ],
        [
         "P0152",
         357.33,
         339.46349999999995
        ],
        [
         "P0153",
         809.73,
         769.2434999999999
        ],
        [
         "P0154",
         1089.28,
         1034.816
        ],
        [
         "P0155",
         12.35,
         11.7325
        ],
        [
         "P0156",
         1746.06,
         1658.7569999999998
        ],
        [
         "P0157",
         825.91,
         784.6144999999999
        ],
        [
         "P0158",
         1286.8,
         1222.4599999999998
        ],
        [
         "P0159",
         674.29,
         640.5754999999999
        ],
        [
         "P0160",
         1542.46,
         1465.337
        ],
        [
         "P0161",
         906.6,
         861.27
        ],
        [
         "P0162",
         417.67,
         396.7865
        ],
        [
         "P0163",
         1307.14,
         1241.7830000000001
        ],
        [
         "P0164",
         535.06,
         508.3069999999999
        ],
        [
         "P0165",
         1971.77,
         1873.1815
        ],
        [
         "P0166",
         62.19,
         59.080499999999994
        ],
        [
         "P0167",
         1666.23,
         1582.9185
        ],
        [
         "P0168",
         1006.63,
         956.2985
        ],
        [
         "P0169",
         1267.42,
         1204.049
        ],
        [
         "P0170",
         329.25,
         312.78749999999997
        ],
        [
         "P0171",
         1557.09,
         1479.2354999999998
        ],
        [
         "P0172",
         1759.47,
         1671.4965
        ],
        [
         "P0173",
         930.78,
         884.241
        ],
        [
         "P0174",
         81.55,
         77.4725
        ],
        [
         "P0175",
         364.2,
         345.98999999999995
        ],
        [
         "P0176",
         824.82,
         783.5790000000001
        ],
        [
         "P0177",
         1241.26,
         1179.197
        ],
        [
         "P0178",
         743.65,
         706.4675
        ],
        [
         "P0179",
         1950.04,
         1852.5379999999998
        ],
        [
         "P0180",
         141.37,
         134.3015
        ],
        [
         "P0181",
         1935.07,
         1838.3165
        ],
        [
         "P0182",
         1661.22,
         1578.1589999999999
        ],
        [
         "P0183",
         762.15,
         724.0424999999999
        ],
        [
         "P0184",
         1003.71,
         953.5245
        ],
        [
         "P0185",
         1595.17,
         1515.4115
        ],
        [
         "P0186",
         231.03,
         219.4785
        ],
        [
         "P0187",
         38.88,
         36.936
        ],
        [
         "P0188",
         1582.57,
         1503.4415
        ],
        [
         "P0189",
         641.08,
         609.026
        ],
        [
         "P0190",
         686.04,
         651.7379999999999
        ],
        [
         "P0191",
         112.38,
         106.761
        ],
        [
         "P0192",
         942.81,
         895.6694999999999
        ],
        [
         "P0193",
         1238.31,
         1176.3944999999999
        ],
        [
         "P0194",
         1814.74,
         1724.003
        ],
        [
         "P0195",
         937.18,
         890.3209999999999
        ],
        [
         "P0196",
         1159.15,
         1101.1925
        ],
        [
         "P0197",
         1564.84,
         1486.598
        ],
        [
         "P0198",
         628.47,
         597.0465
        ],
        [
         "P0199",
         1368.51,
         1300.0845
        ],
        [
         "P0200",
         692.12,
         657.514
        ],
        [
         "P0201",
         1573.37,
         1494.7015
        ],
        [
         "P0202",
         1953.99,
         1856.2904999999998
        ],
        [
         "P0203",
         1016.57,
         965.7415
        ],
        [
         "P0204",
         1734.6,
         1647.87
        ],
        [
         "P0205",
         478.82,
         454.87899999999996
        ],
        [
         "P0206",
         375.49,
         356.7155
        ],
        [
         "P0207",
         230.41,
         218.8895
        ],
        [
         "P0208",
         754.39,
         716.6705
        ],
        [
         "P0209",
         1070.99,
         1017.4404999999999
        ],
        [
         "P0210",
         863.71,
         820.5245
        ],
        [
         "P0211",
         1051.35,
         998.7824999999999
        ],
        [
         "P0212",
         1766.16,
         1677.852
        ],
        [
         "P0213",
         1528.21,
         1451.7995
        ],
        [
         "P0214",
         1725.81,
         1639.5194999999999
        ],
        [
         "P0215",
         1678.45,
         1594.5275
        ],
        [
         "P0216",
         1526.03,
         1449.7285
        ],
        [
         "P0217",
         1460.22,
         1387.209
        ],
        [
         "P0218",
         207.67,
         197.2865
        ],
        [
         "P0219",
         996.21,
         946.3995
        ],
        [
         "P0220",
         1354.7,
         1286.965
        ],
        [
         "P0221",
         1205.37,
         1145.1014999999998
        ],
        [
         "P0222",
         977.33,
         928.4635
        ],
        [
         "P0223",
         1292.39,
         1227.7705
        ],
        [
         "P0224",
         1153.17,
         1095.5115
        ],
        [
         "P0225",
         551.26,
         523.697
        ],
        [
         "P0226",
         1668.89,
         1585.4455
        ],
        [
         "P0227",
         449.11,
         426.6545
        ],
        [
         "P0228",
         317.83,
         301.9385
        ],
        [
         "P0229",
         1399.43,
         1329.4585
        ],
        [
         "P0230",
         1163.64,
         1105.458
        ],
        [
         "P0231",
         781.81,
         742.7194999999999
        ],
        [
         "P0232",
         896.07,
         851.2665
        ],
        [
         "P0233",
         901.28,
         856.2159999999999
        ],
        [
         "P0234",
         1231.55,
         1169.9724999999999
        ],
        [
         "P0235",
         1297.8,
         1232.9099999999999
        ],
        [
         "P0236",
         951.74,
         904.153
        ],
        [
         "P0237",
         164.53,
         156.30349999999999
        ],
        [
         "P0238",
         1358.99,
         1291.0404999999998
        ],
        [
         "P0239",
         1612.58,
         1531.9509999999998
        ],
        [
         "P0240",
         1648.93,
         1566.4835
        ],
        [
         "P0241",
         1531.37,
         1454.8014999999998
        ],
        [
         "P0242",
         412.59,
         391.96049999999997
        ],
        [
         "P0243",
         1875.22,
         1781.4589999999998
        ],
        [
         "P0244",
         1843.58,
         1751.4009999999998
        ],
        [
         "P0245",
         270.43,
         256.9085
        ],
        [
         "P0246",
         1449.57,
         1377.0914999999998
        ],
        [
         "P0247",
         825.1,
         783.845
        ],
        [
         "P0248",
         1200.32,
         1140.3039999999999
        ],
        [
         "P0249",
         1536.54,
         1459.713
        ],
        [
         "P0250",
         710.82,
         675.279
        ],
        [
         "P0251",
         28.65,
         27.217499999999998
        ],
        [
         "P0252",
         1957.38,
         1859.511
        ],
        [
         "P0253",
         226.44,
         215.118
        ],
        [
         "P0254",
         503.61,
         478.4295
        ],
        [
         "P0255",
         154.4,
         146.68
        ],
        [
         "P0256",
         882.48,
         838.356
        ],
        [
         "P0257",
         944.89,
         897.6455
        ],
        [
         "P0258",
         1423.91,
         1352.7145
        ],
        [
         "P0259",
         1484.64,
         1410.4080000000001
        ],
        [
         "P0260",
         1255.56,
         1192.782
        ],
        [
         "P0261",
         203.78,
         193.59099999999998
        ],
        [
         "P0262",
         885.15,
         840.8924999999999
        ],
        [
         "P0263",
         371.19,
         352.6305
        ],
        [
         "P0264",
         1030.44,
         978.918
        ],
        [
         "P0265",
         1216.14,
         1155.333
        ],
        [
         "P0266",
         324.37,
         308.1515
        ],
        [
         "P0267",
         1772.83,
         1684.1884999999997
        ],
        [
         "P0268",
         631.29,
         599.7254999999999
        ],
        [
         "P0269",
         1192.68,
         1133.046
        ],
        [
         "P0270",
         611.71,
         581.1245
        ],
        [
         "P0271",
         1362.74,
         1294.6029999999998
        ],
        [
         "P0272",
         1472.29,
         1398.6754999999998
        ],
        [
         "P0273",
         146.58,
         139.251
        ],
        [
         "P0274",
         1128.5,
         1072.075
        ],
        [
         "P0275",
         1478.58,
         1404.6509999999998
        ],
        [
         "P0276",
         1155.12,
         1097.3639999999998
        ],
        [
         "P0277",
         63.16,
         60.001999999999995
        ],
        [
         "P0278",
         414.78,
         394.04099999999994
        ],
        [
         "P0279",
         1619.24,
         1538.278
        ],
        [
         "P0280",
         566.91,
         538.5645
        ],
        [
         "P0281",
         188.55,
         179.1225
        ],
        [
         "P0282",
         69.59,
         66.1105
        ],
        [
         "P0283",
         474.49,
         450.7655
        ],
        [
         "P0284",
         352.26,
         334.647
        ],
        [
         "P0285",
         1123.4,
         1067.23
        ],
        [
         "P0286",
         1164.64,
         1106.4080000000001
        ],
        [
         "P0287",
         1084.4,
         1030.18
        ],
        [
         "P0288",
         1486.02,
         1411.7189999999998
        ],
        [
         "P0289",
         1780.19,
         1691.1805
        ],
        [
         "P0290",
         919.28,
         873.3159999999999
        ],
        [
         "P0291",
         890.9,
         846.3549999999999
        ],
        [
         "P0292",
         1339.35,
         1272.3825
        ],
        [
         "P0293",
         107.68,
         102.296
        ],
        [
         "P0294",
         1054.65,
         1001.9175
        ],
        [
         "P0295",
         1938.35,
         1841.4325
        ],
        [
         "P0296",
         1738.65,
         1651.7175
        ],
        [
         "P0297",
         859.64,
         816.6579999999999
        ],
        [
         "P0298",
         1571.12,
         1492.5639999999999
        ],
        [
         "P0299",
         1170.51,
         1111.9845
        ],
        [
         "P0300",
         1741.53,
         1654.4534999999998
        ],
        [
         "P0301",
         1005.47,
         955.1965
        ],
        [
         "P0302",
         1017.38,
         966.511
        ],
        [
         "P0303",
         1052.48,
         999.856
        ],
        [
         "P0304",
         1039.68,
         987.696
        ],
        [
         "P0305",
         1089.74,
         1035.253
        ],
        [
         "P0306",
         140.5,
         133.475
        ],
        [
         "P0307",
         1923.44,
         1827.268
        ],
        [
         "P0308",
         187.35,
         177.9825
        ],
        [
         "P0309",
         445.2,
         422.94
        ],
        [
         "P0310",
         704.08,
         668.876
        ],
        [
         "P0311",
         454.3,
         431.585
        ],
        [
         "P0312",
         1500.97,
         1425.9215
        ],
        [
         "P0313",
         985.34,
         936.073
        ],
        [
         "P0314",
         599.47,
         569.4965
        ],
        [
         "P0315",
         1703.11,
         1617.9544999999998
        ],
        [
         "P0316",
         605.68,
         575.396
        ],
        [
         "P0317",
         1174.72,
         1115.984
        ],
        [
         "P0318",
         824.7,
         783.465
        ],
        [
         "P0319",
         1494.78,
         1420.041
        ],
        [
         "P0320",
         491.43,
         466.8585
        ],
        [
         "P0321",
         1631.26,
         1549.697
        ],
        [
         "P0322",
         1731.88,
         1645.286
        ],
        [
         "P0323",
         1248.81,
         1186.3694999999998
        ],
        [
         "P0324",
         1819.96,
         1728.962
        ],
        [
         "P0325",
         1361.28,
         1293.216
        ],
        [
         "P0326",
         1688.79,
         1604.3504999999998
        ],
        [
         "P0327",
         943.0,
         895.8499999999999
        ],
        [
         "P0328",
         1928.38,
         1831.961
        ],
        [
         "P0329",
         1295.37,
         1230.6014999999998
        ],
        [
         "P0330",
         1241.75,
         1179.6625
        ],
        [
         "P0331",
         1528.85,
         1452.4074999999998
        ],
        [
         "P0332",
         1369.33,
         1300.8635
        ],
        [
         "P0333",
         1892.24,
         1797.628
        ],
        [
         "P0334",
         1560.27,
         1482.2565
        ],
        [
         "P0335",
         1352.39,
         1284.7705
        ],
        [
         "P0336",
         222.93,
         211.7835
        ],
        [
         "P0337",
         1968.32,
         1869.9039999999998
        ],
        [
         "P0338",
         1844.1,
         1751.8949999999998
        ],
        [
         "P0339",
         1321.67,
         1255.5865000000001
        ],
        [
         "P0340",
         1635.48,
         1553.706
        ],
        [
         "P0341",
         1333.84,
         1267.148
        ],
        [
         "P0342",
         125.97,
         119.6715
        ],
        [
         "P0343",
         539.06,
         512.107
        ],
        [
         "P0344",
         1118.86,
         1062.917
        ],
        [
         "P0345",
         1366.77,
         1298.4315
        ],
        [
         "P0346",
         84.09,
         79.8855
        ],
        [
         "P0347",
         452.69,
         430.0555
        ],
        [
         "P0348",
         958.75,
         910.8125
        ],
        [
         "P0349",
         1059.73,
         1006.7434999999999
        ],
        [
         "P0350",
         758.98,
         721.031
        ],
        [
         "P0351",
         390.64,
         371.10799999999995
        ],
        [
         "P0352",
         1226.91,
         1165.5645
        ],
        [
         "P0353",
         1464.67,
         1391.4365
        ],
        [
         "P0354",
         289.67,
         275.1865
        ],
        [
         "P0355",
         1804.42,
         1714.199
        ],
        [
         "P0356",
         97.91,
         93.0145
        ],
        [
         "P0357",
         1705.13,
         1619.8735
        ],
        [
         "P0358",
         1175.18,
         1116.421
        ],
        [
         "P0359",
         660.84,
         627.798
        ],
        [
         "P0360",
         175.53,
         166.7535
        ],
        [
         "P0361",
         1572.29,
         1493.6754999999998
        ],
        [
         "P0362",
         1555.65,
         1477.8675
        ],
        [
         "P0363",
         758.11,
         720.2044999999999
        ],
        [
         "P0364",
         930.34,
         883.823
        ],
        [
         "P0365",
         1542.85,
         1465.7074999999998
        ],
        [
         "P0366",
         1008.85,
         958.4075
        ],
        [
         "P0367",
         776.79,
         737.9504999999999
        ],
        [
         "P0368",
         138.37,
         131.4515
        ],
        [
         "P0369",
         1954.77,
         1857.0314999999998
        ],
        [
         "P0370",
         1000.0,
         950.0
        ],
        [
         "P0371",
         1479.94,
         1405.943
        ],
        [
         "P0372",
         1242.11,
         1180.0044999999998
        ],
        [
         "P0373",
         1858.79,
         1765.8504999999998
        ],
        [
         "P0374",
         1676.32,
         1592.504
        ],
        [
         "P0375",
         412.3,
         391.685
        ],
        [
         "P0376",
         1860.84,
         1767.7979999999998
        ],
        [
         "P0377",
         1298.87,
         1233.9264999999998
        ],
        [
         "P0378",
         1677.01,
         1593.1595
        ],
        [
         "P0379",
         1028.64,
         977.2080000000001
        ],
        [
         "P0380",
         1721.21,
         1635.1495
        ],
        [
         "P0381",
         1203.96,
         1143.762
        ],
        [
         "P0382",
         713.46,
         677.787
        ],
        [
         "P0383",
         180.91,
         171.8645
        ],
        [
         "P0384",
         86.38,
         82.06099999999999
        ],
        [
         "P0385",
         1924.73,
         1828.4935
        ],
        [
         "P0386",
         1294.16,
         1229.452
        ],
        [
         "P0387",
         1648.43,
         1566.0085
        ],
        [
         "P0388",
         922.07,
         875.9665
        ],
        [
         "P0389",
         458.59,
         435.66049999999996
        ],
        [
         "P0390",
         867.57,
         824.1915
        ],
        [
         "P0391",
         1392.3,
         1322.685
        ],
        [
         "P0392",
         892.97,
         848.3215
        ],
        [
         "P0393",
         1619.98,
         1538.981
        ],
        [
         "P0394",
         926.57,
         880.2415
        ],
        [
         "P0395",
         1758.5,
         1670.5749999999998
        ],
        [
         "P0396",
         1566.87,
         1488.5264999999997
        ],
        [
         "P0397",
         1877.24,
         1783.378
        ],
        [
         "P0398",
         1825.42,
         1734.149
        ],
        [
         "P0399",
         1135.56,
         1078.782
        ],
        [
         "P0400",
         835.22,
         793.459
        ],
        [
         "P0401",
         392.57,
         372.94149999999996
        ],
        [
         "P0402",
         47.46,
         45.086999999999996
        ],
        [
         "P0403",
         1744.03,
         1656.8284999999998
        ],
        [
         "P0404",
         967.18,
         918.8209999999999
        ],
        [
         "P0405",
         1225.32,
         1164.0539999999999
        ],
        [
         "P0406",
         584.74,
         555.5029999999999
        ],
        [
         "P0407",
         584.71,
         555.4745
        ],
        [
         "P0408",
         1167.48,
         1109.106
        ],
        [
         "P0409",
         890.11,
         845.6045
        ],
        [
         "P0410",
         373.46,
         354.787
        ],
        [
         "P0411",
         873.95,
         830.2525
        ],
        [
         "P0412",
         129.25,
         122.7875
        ],
        [
         "P0413",
         342.07,
         324.9665
        ],
        [
         "P0414",
         1456.9,
         1384.055
        ],
        [
         "P0415",
         1821.91,
         1730.8145
        ],
        [
         "P0416",
         427.5,
         406.125
        ],
        [
         "P0417",
         111.34,
         105.773
        ],
        [
         "P0418",
         1844.36,
         1752.1419999999998
        ],
        [
         "P0419",
         629.71,
         598.2245
        ],
        [
         "P0420",
         49.6,
         47.12
        ],
        [
         "P0421",
         1520.45,
         1444.4275
        ],
        [
         "P0422",
         184.69,
         175.4555
        ],
        [
         "P0423",
         990.07,
         940.5665
        ],
        [
         "P0424",
         1141.78,
         1084.691
        ],
        [
         "P0425",
         1822.03,
         1730.9285
        ],
        [
         "P0426",
         1956.82,
         1858.9789999999998
        ],
        [
         "P0427",
         1967.84,
         1869.4479999999999
        ],
        [
         "P0428",
         1582.19,
         1503.0805
        ],
        [
         "P0429",
         1734.0,
         1647.3
        ],
        [
         "P0430",
         1386.32,
         1317.004
        ],
        [
         "P0431",
         682.1,
         647.995
        ],
        [
         "P0432",
         1287.08,
         1222.7259999999999
        ],
        [
         "P0433",
         1123.66,
         1067.477
        ],
        [
         "P0434",
         1689.45,
         1604.9775
        ],
        [
         "P0435",
         1902.58,
         1807.4509999999998
        ],
        [
         "P0436",
         1781.45,
         1692.3775
        ],
        [
         "P0437",
         465.4,
         442.12999999999994
        ],
        [
         "P0438",
         1309.15,
         1243.6925
        ],
        [
         "P0439",
         1174.39,
         1115.6705
        ],
        [
         "P0440",
         1983.25,
         1884.0874999999999
        ],
        [
         "P0441",
         1300.71,
         1235.6745
        ],
        [
         "P0442",
         1811.22,
         1720.6589999999999
        ],
        [
         "P0443",
         685.07,
         650.8165
        ],
        [
         "P0444",
         655.62,
         622.8389999999999
        ],
        [
         "P0445",
         792.65,
         753.0174999999999
        ],
        [
         "P0446",
         1016.83,
         965.9885
        ],
        [
         "P0447",
         915.77,
         869.9815
        ],
        [
         "P0448",
         1264.88,
         1201.636
        ],
        [
         "P0449",
         188.96,
         179.512
        ],
        [
         "P0450",
         985.83,
         936.5385
        ],
        [
         "P0451",
         1663.54,
         1580.3629999999998
        ],
        [
         "P0452",
         1462.41,
         1389.2895
        ],
        [
         "P0453",
         250.33,
         237.8135
        ],
        [
         "P0454",
         324.49,
         308.2655
        ],
        [
         "P0455",
         1884.65,
         1790.4175
        ],
        [
         "P0456",
         1904.87,
         1809.6264999999999
        ],
        [
         "P0457",
         1731.23,
         1644.6685
        ],
        [
         "P0458",
         629.24,
         597.778
        ],
        [
         "P0459",
         1208.62,
         1148.1889999999999
        ],
        [
         "P0460",
         1327.98,
         1261.581
        ],
        [
         "P0461",
         1367.65,
         1299.2675
        ],
        [
         "P0462",
         1909.36,
         1813.8919999999998
        ],
        [
         "P0463",
         293.1,
         278.445
        ],
        [
         "P0464",
         638.63,
         606.6985
        ],
        [
         "P0465",
         151.23,
         143.6685
        ],
        [
         "P0466",
         1305.34,
         1240.0729999999999
        ],
        [
         "P0467",
         15.91,
         15.1145
        ],
        [
         "P0468",
         1530.08,
         1453.5759999999998
        ],
        [
         "P0469",
         98.6,
         93.66999999999999
        ],
        [
         "P0470",
         649.66,
         617.1769999999999
        ],
        [
         "P0471",
         20.68,
         19.645999999999997
        ],
        [
         "P0472",
         1409.94,
         1339.443
        ],
        [
         "P0473",
         1878.18,
         1784.271
        ],
        [
         "P0474",
         1287.26,
         1222.897
        ],
        [
         "P0475",
         964.94,
         916.693
        ],
        [
         "P0476",
         259.13,
         246.1735
        ],
        [
         "P0477",
         917.67,
         871.7864999999999
        ],
        [
         "P0478",
         630.56,
         599.0319999999999
        ],
        [
         "P0479",
         567.29,
         538.9254999999999
        ],
        [
         "P0480",
         492.92,
         468.274
        ],
        [
         "P0481",
         1554.11,
         1476.4044999999999
        ],
        [
         "P0482",
         1675.86,
         1592.0669999999998
        ],
        [
         "P0483",
         877.18,
         833.3209999999999
        ],
        [
         "P0484",
         1397.57,
         1327.6915
        ],
        [
         "P0485",
         535.31,
         508.5444999999999
        ],
        [
         "P0486",
         315.25,
         299.4875
        ],
        [
         "P0487",
         1666.94,
         1583.593
        ],
        [
         "P0488",
         1316.67,
         1250.8365000000001
        ],
        [
         "P0489",
         1923.44,
         1827.268
        ],
        [
         "P0490",
         1718.72,
         1632.7839999999999
        ],
        [
         "P0491",
         1602.21,
         1522.0995
        ],
        [
         "P0492",
         121.07,
         115.0165
        ],
        [
         "P0493",
         295.7,
         280.91499999999996
        ],
        [
         "P0494",
         1913.83,
         1818.1384999999998
        ],
        [
         "P0495",
         561.99,
         533.8905
        ],
        [
         "P0496",
         137.62,
         130.739
        ],
        [
         "P0497",
         930.59,
         884.0604999999999
        ],
        [
         "P0498",
         1990.58,
         1891.051
        ],
        [
         "P0499",
         1774.16,
         1685.452
        ],
        [
         "P0500",
         322.4,
         306.28
        ]
       ],
       "datasetInfos": [
        {
         "name": "_sqldf",
         "schema": {
          "fields": [
           {
            "metadata": {},
            "name": "product_id",
            "nullable": true,
            "type": "string"
           },
           {
            "metadata": {},
            "name": "price",
            "nullable": true,
            "type": "double"
           },
           {
            "metadata": {},
            "name": "discounted_price",
            "nullable": true,
            "type": "double"
           }
          ],
          "type": "struct"
         },
         "tableIdentifier": null,
         "typeStr": "pyspark.sql.connect.dataframe.DataFrame"
        }
       ],
       "dbfsResultPath": null,
       "isJsonSchema": true,
       "metadata": {
        "createTempViewForImplicitDf": true,
        "dataframeName": "_sqldf",
        "executionCount": 118
       },
       "overflow": false,
       "plotOptions": {
        "customPlotOptions": {},
        "displayType": "table",
        "pivotAggregation": null,
        "pivotColumns": null,
        "xColumns": null,
        "yColumns": null
       },
       "removedWidgets": [],
       "schema": [
        {
         "metadata": "{}",
         "name": "product_id",
         "type": "\"string\""
        },
        {
         "metadata": "{}",
         "name": "price",
         "type": "\"double\""
        },
        {
         "metadata": "{}",
         "name": "discounted_price",
         "type": "\"double\""
        }
       ],
       "type": "table"
      }
     },
     "output_type": "display_data"
    }
   ],
   "source": [
    "%sql \n",
    "select product_id,price,databricks_cat.bronze.discounted_func(price) as discounted_price \n",
    "from products"
   ]
  },
  {
   "cell_type": "code",
   "execution_count": 0,
   "metadata": {
    "application/vnd.databricks.v1+cell": {
     "cellMetadata": {
      "byteLimit": 2048000,
      "rowLimit": 10000
     },
     "inputWidgets": {},
     "nuid": "32620467-99e2-46b3-b50d-eb8172fe5755",
     "showTitle": false,
     "tableResultSettingsMap": {},
     "title": ""
    }
   },
   "outputs": [
    {
     "output_type": "display_data",
     "data": {
      "text/plain": [
       "\u001B[0;31m---------------------------------------------------------------------------\u001B[0m\n",
       "\u001B[0;31mAnalysisException\u001B[0m                         Traceback (most recent call last)\n",
       "File \u001B[0;32m<command-7677973737982811>, line 12\u001B[0m\n",
       "\u001B[1;32m      9\u001B[0m discounted_func_udf \u001B[38;5;241m=\u001B[39m udf(discounted_func, DoubleType())\n",
       "\u001B[1;32m     11\u001B[0m \u001B[38;5;66;03m# Use the UDF in the DataFrame\u001B[39;00m\n",
       "\u001B[0;32m---> 12\u001B[0m df \u001B[38;5;241m=\u001B[39m df\u001B[38;5;241m.\u001B[39mwithColumn(\u001B[38;5;124m\"\u001B[39m\u001B[38;5;124mdiscounted_price\u001B[39m\u001B[38;5;124m\"\u001B[39m, discounted_func_udf(df[\u001B[38;5;124m\"\u001B[39m\u001B[38;5;124mprice\u001B[39m\u001B[38;5;124m\"\u001B[39m]))\n",
       "\u001B[1;32m     13\u001B[0m display(df)\n",
       "\n",
       "File \u001B[0;32m/databricks/python/lib/python3.11/site-packages/pyspark/sql/connect/dataframe.py:1860\u001B[0m, in \u001B[0;36mDataFrame.__getitem__\u001B[0;34m(self, item)\u001B[0m\n",
       "\u001B[1;32m   1856\u001B[0m     \u001B[38;5;28;01mfrom\u001B[39;00m \u001B[38;5;21;01mpyspark\u001B[39;00m\u001B[38;5;21;01m.\u001B[39;00m\u001B[38;5;21;01msql\u001B[39;00m\u001B[38;5;21;01m.\u001B[39;00m\u001B[38;5;21;01mconnect\u001B[39;00m\u001B[38;5;21;01m.\u001B[39;00m\u001B[38;5;21;01mtypes\u001B[39;00m \u001B[38;5;28;01mimport\u001B[39;00m verify_col_name\n",
       "\u001B[1;32m   1858\u001B[0m     \u001B[38;5;66;03m# Try best to verify the column name with cached schema\u001B[39;00m\n",
       "\u001B[1;32m   1859\u001B[0m     \u001B[38;5;66;03m# If fails, fall back to the server side validation\u001B[39;00m\n",
       "\u001B[0;32m-> 1860\u001B[0m     \u001B[38;5;28;01mif\u001B[39;00m \u001B[38;5;129;01mnot\u001B[39;00m verify_col_name(item, \u001B[38;5;28mself\u001B[39m\u001B[38;5;241m.\u001B[39mschema):\n",
       "\u001B[1;32m   1861\u001B[0m         \u001B[38;5;28mself\u001B[39m\u001B[38;5;241m.\u001B[39mselect(item)\u001B[38;5;241m.\u001B[39misLocal()\n",
       "\u001B[1;32m   1863\u001B[0m \u001B[38;5;28;01mreturn\u001B[39;00m \u001B[38;5;28mself\u001B[39m\u001B[38;5;241m.\u001B[39m_col(item)\n",
       "\n",
       "File \u001B[0;32m/databricks/python/lib/python3.11/site-packages/pyspark/sql/connect/dataframe.py:2000\u001B[0m, in \u001B[0;36mDataFrame.schema\u001B[0;34m(self)\u001B[0m\n",
       "\u001B[1;32m   1998\u001B[0m \u001B[38;5;28;01mif\u001B[39;00m \u001B[38;5;28mself\u001B[39m\u001B[38;5;241m.\u001B[39m_cached_schema \u001B[38;5;129;01mis\u001B[39;00m \u001B[38;5;28;01mNone\u001B[39;00m:\n",
       "\u001B[1;32m   1999\u001B[0m     query \u001B[38;5;241m=\u001B[39m \u001B[38;5;28mself\u001B[39m\u001B[38;5;241m.\u001B[39m_plan\u001B[38;5;241m.\u001B[39mto_proto(\u001B[38;5;28mself\u001B[39m\u001B[38;5;241m.\u001B[39m_session\u001B[38;5;241m.\u001B[39mclient)\n",
       "\u001B[0;32m-> 2000\u001B[0m     \u001B[38;5;28mself\u001B[39m\u001B[38;5;241m.\u001B[39m_cached_schema \u001B[38;5;241m=\u001B[39m \u001B[38;5;28mself\u001B[39m\u001B[38;5;241m.\u001B[39m_session\u001B[38;5;241m.\u001B[39mclient\u001B[38;5;241m.\u001B[39mschema(query)\n",
       "\u001B[1;32m   2001\u001B[0m \u001B[38;5;28;01mreturn\u001B[39;00m copy\u001B[38;5;241m.\u001B[39mdeepcopy(\u001B[38;5;28mself\u001B[39m\u001B[38;5;241m.\u001B[39m_cached_schema)\n",
       "\n",
       "File \u001B[0;32m/databricks/python/lib/python3.11/site-packages/pyspark/sql/connect/client/core.py:1262\u001B[0m, in \u001B[0;36mSparkConnectClient.schema\u001B[0;34m(self, plan)\u001B[0m\n",
       "\u001B[1;32m   1260\u001B[0m \u001B[38;5;28;01mif\u001B[39;00m logger\u001B[38;5;241m.\u001B[39misEnabledFor(logging\u001B[38;5;241m.\u001B[39mINFO):\n",
       "\u001B[1;32m   1261\u001B[0m     logger\u001B[38;5;241m.\u001B[39minfo(\u001B[38;5;124mf\u001B[39m\u001B[38;5;124m\"\u001B[39m\u001B[38;5;124mSchema for plan: \u001B[39m\u001B[38;5;132;01m{\u001B[39;00m\u001B[38;5;28mself\u001B[39m\u001B[38;5;241m.\u001B[39m_proto_to_string(plan,\u001B[38;5;250m \u001B[39m\u001B[38;5;28;01mTrue\u001B[39;00m)\u001B[38;5;132;01m}\u001B[39;00m\u001B[38;5;124m\"\u001B[39m)\n",
       "\u001B[0;32m-> 1262\u001B[0m schema \u001B[38;5;241m=\u001B[39m \u001B[38;5;28mself\u001B[39m\u001B[38;5;241m.\u001B[39m_analyze(method\u001B[38;5;241m=\u001B[39m\u001B[38;5;124m\"\u001B[39m\u001B[38;5;124mschema\u001B[39m\u001B[38;5;124m\"\u001B[39m, plan\u001B[38;5;241m=\u001B[39mplan)\u001B[38;5;241m.\u001B[39mschema\n",
       "\u001B[1;32m   1263\u001B[0m \u001B[38;5;28;01massert\u001B[39;00m schema \u001B[38;5;129;01mis\u001B[39;00m \u001B[38;5;129;01mnot\u001B[39;00m \u001B[38;5;28;01mNone\u001B[39;00m\n",
       "\u001B[1;32m   1264\u001B[0m \u001B[38;5;66;03m# Server side should populate the struct field which is the schema.\u001B[39;00m\n",
       "\n",
       "File \u001B[0;32m/databricks/python/lib/python3.11/site-packages/pyspark/sql/connect/client/core.py:1540\u001B[0m, in \u001B[0;36mSparkConnectClient._analyze\u001B[0;34m(self, method, **kwargs)\u001B[0m\n",
       "\u001B[1;32m   1538\u001B[0m     \u001B[38;5;28;01mraise\u001B[39;00m SparkConnectException(\u001B[38;5;124m\"\u001B[39m\u001B[38;5;124mInvalid state during retry exception handling.\u001B[39m\u001B[38;5;124m\"\u001B[39m)\n",
       "\u001B[1;32m   1539\u001B[0m \u001B[38;5;28;01mexcept\u001B[39;00m \u001B[38;5;167;01mException\u001B[39;00m \u001B[38;5;28;01mas\u001B[39;00m error:\n",
       "\u001B[0;32m-> 1540\u001B[0m     \u001B[38;5;28mself\u001B[39m\u001B[38;5;241m.\u001B[39m_handle_error(error)\n",
       "\n",
       "File \u001B[0;32m/databricks/python/lib/python3.11/site-packages/pyspark/sql/connect/client/core.py:2047\u001B[0m, in \u001B[0;36mSparkConnectClient._handle_error\u001B[0;34m(self, error)\u001B[0m\n",
       "\u001B[1;32m   2045\u001B[0m \u001B[38;5;28mself\u001B[39m\u001B[38;5;241m.\u001B[39mthread_local\u001B[38;5;241m.\u001B[39minside_error_handling \u001B[38;5;241m=\u001B[39m \u001B[38;5;28;01mTrue\u001B[39;00m\n",
       "\u001B[1;32m   2046\u001B[0m \u001B[38;5;28;01mif\u001B[39;00m \u001B[38;5;28misinstance\u001B[39m(error, grpc\u001B[38;5;241m.\u001B[39mRpcError):\n",
       "\u001B[0;32m-> 2047\u001B[0m     \u001B[38;5;28mself\u001B[39m\u001B[38;5;241m.\u001B[39m_handle_rpc_error(error)\n",
       "\u001B[1;32m   2048\u001B[0m \u001B[38;5;28;01melif\u001B[39;00m \u001B[38;5;28misinstance\u001B[39m(error, \u001B[38;5;167;01mValueError\u001B[39;00m):\n",
       "\u001B[1;32m   2049\u001B[0m     \u001B[38;5;28;01mif\u001B[39;00m \u001B[38;5;124m\"\u001B[39m\u001B[38;5;124mCannot invoke RPC\u001B[39m\u001B[38;5;124m\"\u001B[39m \u001B[38;5;129;01min\u001B[39;00m \u001B[38;5;28mstr\u001B[39m(error) \u001B[38;5;129;01mand\u001B[39;00m \u001B[38;5;124m\"\u001B[39m\u001B[38;5;124mclosed\u001B[39m\u001B[38;5;124m\"\u001B[39m \u001B[38;5;129;01min\u001B[39;00m \u001B[38;5;28mstr\u001B[39m(error):\n",
       "\n",
       "File \u001B[0;32m/databricks/python/lib/python3.11/site-packages/pyspark/sql/connect/client/core.py:2149\u001B[0m, in \u001B[0;36mSparkConnectClient._handle_rpc_error\u001B[0;34m(self, rpc_error)\u001B[0m\n",
       "\u001B[1;32m   2134\u001B[0m                 \u001B[38;5;28;01mraise\u001B[39;00m \u001B[38;5;167;01mException\u001B[39;00m(\n",
       "\u001B[1;32m   2135\u001B[0m                     \u001B[38;5;124m\"\u001B[39m\u001B[38;5;124mPython versions in the Spark Connect client and server are different. \u001B[39m\u001B[38;5;124m\"\u001B[39m\n",
       "\u001B[1;32m   2136\u001B[0m                     \u001B[38;5;124m\"\u001B[39m\u001B[38;5;124mTo execute user-defined functions, client and server should have the \u001B[39m\u001B[38;5;124m\"\u001B[39m\n",
       "\u001B[0;32m   (...)\u001B[0m\n",
       "\u001B[1;32m   2145\u001B[0m                     \u001B[38;5;124m\"\u001B[39m\u001B[38;5;124mhttps://docs.databricks.com/en/release-notes/serverless.html.\u001B[39m\u001B[38;5;124m\"\u001B[39m\n",
       "\u001B[1;32m   2146\u001B[0m                 )\n",
       "\u001B[1;32m   2147\u001B[0m             \u001B[38;5;66;03m# END-EDGE\u001B[39;00m\n",
       "\u001B[0;32m-> 2149\u001B[0m             \u001B[38;5;28;01mraise\u001B[39;00m convert_exception(\n",
       "\u001B[1;32m   2150\u001B[0m                 info,\n",
       "\u001B[1;32m   2151\u001B[0m                 status\u001B[38;5;241m.\u001B[39mmessage,\n",
       "\u001B[1;32m   2152\u001B[0m                 \u001B[38;5;28mself\u001B[39m\u001B[38;5;241m.\u001B[39m_fetch_enriched_error(info),\n",
       "\u001B[1;32m   2153\u001B[0m                 \u001B[38;5;28mself\u001B[39m\u001B[38;5;241m.\u001B[39m_display_server_stack_trace(),\n",
       "\u001B[1;32m   2154\u001B[0m             ) \u001B[38;5;28;01mfrom\u001B[39;00m \u001B[38;5;28;01mNone\u001B[39;00m\n",
       "\u001B[1;32m   2156\u001B[0m     \u001B[38;5;28;01mraise\u001B[39;00m SparkConnectGrpcException(status\u001B[38;5;241m.\u001B[39mmessage) \u001B[38;5;28;01mfrom\u001B[39;00m \u001B[38;5;28;01mNone\u001B[39;00m\n",
       "\u001B[1;32m   2157\u001B[0m \u001B[38;5;28;01melse\u001B[39;00m:\n",
       "\n",
       "\u001B[0;31mAnalysisException\u001B[0m: [UNRESOLVED_ROUTINE] Cannot resolve routine `bronze`.`discounted_func` on search path [`system`.`builtin`, `system`.`session`, `databricks_etl`.`default`].\n",
       "Verify the spelling of `bronze`.`discounted_func`, check that the routine exists, and confirm you have `USE` privilege on the catalog and schema, and EXECUTE on the routine. SQLSTATE: 42883; line 1 pos 0\n",
       "\n",
       "JVM stacktrace:\n",
       "org.apache.spark.sql.AnalysisException\n",
       "\tat org.apache.spark.sql.errors.QueryCompilationErrors$.unresolvedRoutineError(QueryCompilationErrors.scala:1191)\n",
       "\tat org.apache.spark.sql.catalyst.analysis.Analyzer$LookupFunctions$$anonfun$apply$19.applyOrElse(Analyzer.scala:2675)\n",
       "\tat org.apache.spark.sql.catalyst.analysis.Analyzer$LookupFunctions$$anonfun$apply$19.applyOrElse(Analyzer.scala:2652)\n",
       "\tat org.apache.spark.sql.catalyst.trees.TreeNode.$anonfun$transformDownWithPruning$1(TreeNode.scala:521)\n",
       "\tat org.apache.spark.sql.catalyst.trees.CurrentOrigin$.withOrigin(origin.scala:85)\n",
       "\tat org.apache.spark.sql.catalyst.trees.TreeNode.transformDownWithPruning(TreeNode.scala:521)\n",
       "\tat org.apache.spark.sql.catalyst.trees.TreeNode.$anonfun$transformDownWithPruning$3(TreeNode.scala:526)\n",
       "\tat org.apache.spark.sql.catalyst.trees.UnaryLike.mapChildren(TreeNode.scala:1330)\n",
       "\tat org.apache.spark.sql.catalyst.trees.UnaryLike.mapChildren$(TreeNode.scala:1329)\n",
       "\tat org.apache.spark.sql.catalyst.expressions.UnaryExpression.mapChildren(Expression.scala:712)\n",
       "\tat org.apache.spark.sql.catalyst.trees.TreeNode.transformDownWithPruning(TreeNode.scala:526)\n",
       "\tat org.apache.spark.sql.catalyst.trees.TreeNode.$anonfun$transformDownWithPruning$3(TreeNode.scala:526)\n",
       "\tat org.apache.spark.sql.catalyst.trees.UnaryLike.mapChildren(TreeNode.scala:1330)\n",
       "\tat org.apache.spark.sql.catalyst.trees.UnaryLike.mapChildren$(TreeNode.scala:1329)\n",
       "\tat org.apache.spark.sql.catalyst.expressions.UnaryExpression.mapChildren(Expression.scala:712)\n",
       "\tat org.apache.spark.sql.catalyst.trees.TreeNode.transformDownWithPruning(TreeNode.scala:526)\n",
       "\tat org.apache.spark.sql.catalyst.plans.QueryPlan.$anonfun$transformExpressionsDownWithPruning$1(QueryPlan.scala:188)\n",
       "\tat org.apache.spark.sql.catalyst.plans.QueryPlan.$anonfun$mapExpressions$1(QueryPlan.scala:229)\n",
       "\tat org.apache.spark.sql.catalyst.trees.CurrentOrigin$.withOrigin(origin.scala:85)\n",
       "\tat org.apache.spark.sql.catalyst.plans.QueryPlan.transformExpression$1(QueryPlan.scala:229)\n",
       "\tat org.apache.spark.sql.catalyst.plans.QueryPlan.recursiveTransform$1(QueryPlan.scala:241)\n",
       "\tat org.apache.spark.sql.catalyst.plans.QueryPlan.$anonfun$mapExpressions$4(QueryPlan.scala:247)\n",
       "\tat scala.collection.TraversableLike.$anonfun$map$1(TraversableLike.scala:286)\n",
       "\tat scala.collection.immutable.List.foreach(List.scala:431)\n",
       "\tat scala.collection.TraversableLike.map(TraversableLike.scala:286)\n",
       "\tat scala.collection.TraversableLike.map$(TraversableLike.scala:279)\n",
       "\tat scala.collection.immutable.List.map(List.scala:305)\n",
       "\tat org.apache.spark.sql.catalyst.plans.QueryPlan.recursiveTransform$1(QueryPlan.scala:247)\n",
       "\tat org.apache.spark.sql.catalyst.plans.QueryPlan.$anonfun$mapExpressions$5(QueryPlan.scala:252)\n",
       "\tat org.apache.spark.sql.catalyst.trees.TreeNode.mapProductIterator(TreeNode.scala:363)\n",
       "\tat org.apache.spark.sql.catalyst.plans.QueryPlan.mapExpressions(QueryPlan.scala:252)\n",
       "\tat org.apache.spark.sql.catalyst.plans.QueryPlan.transformExpressionsDownWithPruning(QueryPlan.scala:188)\n",
       "\tat org.apache.spark.sql.catalyst.plans.QueryPlan.transformExpressionsWithPruning(QueryPlan.scala:159)\n",
       "\tat org.apache.spark.sql.catalyst.plans.logical.AnalysisHelper$$anonfun$resolveExpressionsDownWithPruning$1.applyOrElse(AnalysisHelper.scala:308)\n",
       "\tat org.apache.spark.sql.catalyst.plans.logical.AnalysisHelper$$anonfun$resolveExpressionsDownWithPruning$1.applyOrElse(AnalysisHelper.scala:307)\n",
       "\tat org.apache.spark.sql.catalyst.plans.logical.AnalysisHelper.$anonfun$resolveOperatorsDownWithPruning$2(AnalysisHelper.scala:201)\n",
       "\tat org.apache.spark.sql.catalyst.trees.CurrentOrigin$.withOrigin(origin.scala:85)\n",
       "\tat org.apache.spark.sql.catalyst.plans.logical.AnalysisHelper.$anonfun$resolveOperatorsDownWithPruning$1(AnalysisHelper.scala:201)\n",
       "\tat org.apache.spark.sql.catalyst.plans.logical.AnalysisHelper$.allowInvokingTransformsInAnalyzer(AnalysisHelper.scala:418)\n",
       "\tat org.apache.spark.sql.catalyst.plans.logical.AnalysisHelper.resolveOperatorsDownWithPruning(AnalysisHelper.scala:199)\n",
       "\tat org.apache.spark.sql.catalyst.plans.logical.AnalysisHelper.resolveOperatorsDownWithPruning$(AnalysisHelper.scala:195)\n",
       "\tat org.apache.spark.sql.catalyst.plans.logical.LogicalPlan.resolveOperatorsDownWithPruning(LogicalPlan.scala:42)\n",
       "\tat org.apache.spark.sql.catalyst.plans.logical.AnalysisHelper.resolveOperatorsWithPruning(AnalysisHelper.scala:102)\n",
       "\tat org.apache.spark.sql.catalyst.plans.logical.AnalysisHelper.resolveOperatorsWithPruning$(AnalysisHelper.scala:99)\n",
       "\tat org.apache.spark.sql.catalyst.plans.logical.LogicalPlan.resolveOperatorsWithPruning(LogicalPlan.scala:42)\n",
       "\tat org.apache.spark.sql.catalyst.plans.logical.AnalysisHelper.resolveExpressionsDownWithPruning(AnalysisHelper.scala:307)\n",
       "\tat org.apache.spark.sql.catalyst.plans.logical.AnalysisHelper.resolveExpressionsDownWithPruning$(AnalysisHelper.scala:304)\n",
       "\tat org.apache.spark.sql.catalyst.plans.logical.LogicalPlan.resolveExpressionsDownWithPruning(LogicalPlan.scala:42)\n",
       "\tat org.apache.spark.sql.catalyst.plans.logical.AnalysisHelper.resolveExpressionsWithPruning(AnalysisHelper.scala:279)\n",
       "\tat org.apache.spark.sql.catalyst.plans.logical.AnalysisHelper.resolveExpressionsWithPruning$(AnalysisHelper.scala:277)\n",
       "\tat org.apache.spark.sql.catalyst.plans.logical.LogicalPlan.resolveExpressionsWithPruning(LogicalPlan.scala:42)\n",
       "\tat org.apache.spark.sql.catalyst.analysis.Analyzer$LookupFunctions$.apply(Analyzer.scala:2652)\n",
       "\tat org.apache.spark.sql.catalyst.analysis.Analyzer$LookupFunctions$.apply(Analyzer.scala:2646)\n",
       "\tat org.apache.spark.sql.catalyst.rules.RuleExecutor.$anonfun$execute$16(RuleExecutor.scala:480)\n",
       "\tat org.apache.spark.sql.catalyst.rules.RecoverableRuleExecutionHelper.processRule(RuleExecutor.scala:629)\n",
       "\tat org.apache.spark.sql.catalyst.rules.RecoverableRuleExecutionHelper.processRule$(RuleExecutor.scala:613)\n",
       "\tat org.apache.spark.sql.catalyst.rules.RuleExecutor.processRule(RuleExecutor.scala:131)\n",
       "\tat org.apache.spark.sql.catalyst.rules.RuleExecutor.$anonfun$execute$15(RuleExecutor.scala:480)\n",
       "\tat com.databricks.spark.util.FrameProfiler$.record(FrameProfiler.scala:94)\n",
       "\tat org.apache.spark.sql.catalyst.rules.RuleExecutor.$anonfun$execute$14(RuleExecutor.scala:479)\n",
       "\tat scala.collection.IndexedSeqOptimized.foldLeft(IndexedSeqOptimized.scala:60)\n",
       "\tat scala.collection.IndexedSeqOptimized.foldLeft$(IndexedSeqOptimized.scala:68)\n",
       "\tat scala.collection.mutable.WrappedArray.foldLeft(WrappedArray.scala:38)\n",
       "\tat org.apache.spark.sql.catalyst.rules.RuleExecutor.$anonfun$execute$13(RuleExecutor.scala:475)\n",
       "\tat scala.runtime.java8.JFunction0$mcV$sp.apply(JFunction0$mcV$sp.java:23)\n",
       "\tat com.databricks.spark.util.FrameProfiler$.record(FrameProfiler.scala:94)\n",
       "\tat org.apache.spark.sql.catalyst.rules.RuleExecutor.executeBatch$1(RuleExecutor.scala:452)\n",
       "\tat org.apache.spark.sql.catalyst.rules.RuleExecutor.$anonfun$execute$22(RuleExecutor.scala:585)\n",
       "\tat org.apache.spark.sql.catalyst.rules.RuleExecutor.$anonfun$execute$22$adapted(RuleExecutor.scala:585)\n",
       "\tat scala.collection.immutable.List.foreach(List.scala:431)\n",
       "\tat org.apache.spark.sql.catalyst.rules.RuleExecutor.$anonfun$execute$1(RuleExecutor.scala:585)\n",
       "\tat com.databricks.spark.util.FrameProfiler$.record(FrameProfiler.scala:94)\n",
       "\tat org.apache.spark.sql.catalyst.rules.RuleExecutor.execute(RuleExecutor.scala:349)\n",
       "\tat org.apache.spark.sql.catalyst.analysis.Analyzer.executeSameContext(Analyzer.scala:498)\n",
       "\tat org.apache.spark.sql.catalyst.analysis.Analyzer.$anonfun$execute$1(Analyzer.scala:491)\n",
       "\tat org.apache.spark.sql.catalyst.analysis.AnalysisContext$.withNewAnalysisContext(Analyzer.scala:397)\n",
       "\tat org.apache.spark.sql.catalyst.analysis.Analyzer.execute(Analyzer.scala:491)\n",
       "\tat org.apache.spark.sql.catalyst.analysis.Analyzer.execute(Analyzer.scala:416)\n",
       "\tat org.apache.spark.sql.catalyst.rules.RuleExecutor.$anonfun$executeAndTrack$1(RuleExecutor.scala:341)\n",
       "\tat org.apache.spark.sql.catalyst.QueryPlanningTracker$.withTracker(QueryPlanningTracker.scala:216)\n",
       "\tat org.apache.spark.sql.catalyst.rules.RuleExecutor.executeAndTrack(RuleExecutor.scala:341)\n",
       "\tat org.apache.spark.sql.catalyst.analysis.resolver.HybridAnalyzer.resolveInFixedPoint(HybridAnalyzer.scala:256)\n",
       "\tat org.apache.spark.sql.catalyst.analysis.resolver.HybridAnalyzer.$anonfun$apply$1(HybridAnalyzer.scala:100)\n",
       "\tat org.apache.spark.sql.catalyst.analysis.resolver.HybridAnalyzer.withTrackedAnalyzerBridgeState(HybridAnalyzer.scala:135)\n",
       "\tat org.apache.spark.sql.catalyst.analysis.resolver.HybridAnalyzer.apply(HybridAnalyzer.scala:91)\n",
       "\tat org.apache.spark.sql.catalyst.analysis.Analyzer.$anonfun$executeAndCheck$1(Analyzer.scala:478)\n",
       "\tat org.apache.spark.sql.catalyst.plans.logical.AnalysisHelper$.markInAnalyzer(AnalysisHelper.scala:425)\n",
       "\tat org.apache.spark.sql.catalyst.analysis.Analyzer.executeAndCheck(Analyzer.scala:478)\n",
       "\tat org.apache.spark.sql.execution.QueryExecution.$anonfun$lazyAnalyzed$3(QueryExecution.scala:284)\n",
       "\tat com.databricks.spark.util.FrameProfiler$.record(FrameProfiler.scala:94)\n",
       "\tat org.apache.spark.sql.catalyst.QueryPlanningTracker.measurePhase(QueryPlanningTracker.scala:532)\n",
       "\tat org.apache.spark.sql.execution.QueryExecution.$anonfun$executePhase$5(QueryExecution.scala:645)\n",
       "\tat org.apache.spark.sql.execution.SQLExecution$.withExecutionPhase(SQLExecution.scala:148)\n",
       "\tat org.apache.spark.sql.execution.QueryExecution.$anonfun$executePhase$4(QueryExecution.scala:645)\n",
       "\tat org.apache.spark.sql.execution.QueryExecution$.withInternalError(QueryExecution.scala:1281)\n",
       "\tat org.apache.spark.sql.execution.QueryExecution.$anonfun$executePhase$2(QueryExecution.scala:644)\n",
       "\tat com.databricks.util.LexicalThreadLocal$Handle.runWith(LexicalThreadLocal.scala:63)\n",
       "\tat org.apache.spark.sql.execution.QueryExecution.$anonfun$executePhase$1(QueryExecution.scala:640)\n",
       "\tat org.apache.spark.sql.SparkSession.withActive(SparkSession.scala:1450)\n",
       "\tat org.apache.spark.sql.execution.QueryExecution.executePhase(QueryExecution.scala:640)\n",
       "\tat org.apache.spark.sql.execution.QueryExecution.$anonfun$lazyAnalyzed$2(QueryExecution.scala:278)\n",
       "\tat com.databricks.sql.util.MemoryTrackerHelper.withMemoryTracking(MemoryTrackerHelper.scala:80)\n",
       "\tat org.apache.spark.sql.execution.QueryExecution.$anonfun$lazyAnalyzed$1(QueryExecution.scala:277)\n",
       "\tat scala.util.Try$.apply(Try.scala:213)\n",
       "\tat org.apache.spark.util.Utils$.doTryWithCallerStacktrace(Utils.scala:1755)\n",
       "\tat org.apache.spark.util.Utils$.getTryWithCallerStacktrace(Utils.scala:1816)\n",
       "\tat org.apache.spark.util.LazyTry.get(LazyTry.scala:58)\n",
       "\tat org.apache.spark.sql.execution.QueryExecution.analyzed(QueryExecution.scala:311)\n",
       "\tat org.apache.spark.sql.execution.QueryExecution.assertAnalyzed(QueryExecution.scala:257)\n",
       "\tat org.apache.spark.sql.Dataset$.$anonfun$ofRows$1(Dataset.scala:108)\n",
       "\tat org.apache.spark.sql.SparkSession.withActive(SparkSession.scala:1450)\n",
       "\tat org.apache.spark.sql.SparkSession.$anonfun$withActiveAndFrameProfiler$1(SparkSession.scala:1457)\n",
       "\tat com.databricks.spark.util.FrameProfiler$.record(FrameProfiler.scala:94)\n",
       "\tat org.apache.spark.sql.SparkSession.withActiveAndFrameProfiler(SparkSession.scala:1457)\n",
       "\tat org.apache.spark.sql.Dataset$.ofRows(Dataset.scala:106)\n",
       "\tat org.apache.spark.sql.Dataset.$anonfun$org$apache$spark$sql$Dataset$$withPlan$1(Dataset.scala:5049)\n",
       "\tat com.databricks.spark.util.FrameProfiler$.record(FrameProfiler.scala:94)\n",
       "\tat org.apache.spark.sql.Dataset.org$apache$spark$sql$Dataset$$withPlan(Dataset.scala:5049)\n",
       "\tat org.apache.spark.sql.Dataset.select(Dataset.scala:1850)\n",
       "\tat org.apache.spark.sql.Dataset.$anonfun$withColumns$1(Dataset.scala:3216)\n",
       "\tat com.databricks.spark.util.FrameProfiler$.record(FrameProfiler.scala:94)\n",
       "\tat org.apache.spark.sql.Dataset.withColumns(Dataset.scala:3190)\n",
       "\tat org.apache.spark.sql.Dataset.withColumns(Dataset.scala:3232)\n",
       "\tat org.apache.spark.sql.connect.planner.SparkConnectPlanner.transformWithColumns(SparkConnectPlanner.scala:1516)\n",
       "\tat org.apache.spark.sql.connect.planner.SparkConnectPlanner.$anonfun$transformRelation$1(SparkConnectPlanner.scala:233)\n",
       "\tat org.apache.spark.sql.connect.service.SessionHolder.$anonfun$usePlanCache$7(SessionHolder.scala:614)\n",
       "\tat org.apache.spark.sql.connect.service.SessionHolder.measureSubtreeRelationNodes(SessionHolder.scala:630)\n",
       "\tat org.apache.spark.sql.connect.service.SessionHolder.$anonfun$usePlanCache$5(SessionHolder.scala:613)\n",
       "\tat scala.Option.getOrElse(Option.scala:189)\n",
       "\tat org.apache.spark.sql.connect.service.SessionHolder.usePlanCache(SessionHolder.scala:611)\n",
       "\tat org.apache.spark.sql.connect.planner.SparkConnectPlanner.transformRelation(SparkConnectPlanner.scala:185)\n",
       "\tat org.apache.spark.sql.connect.planner.SparkConnectPlanner.transformRelation(SparkConnectPlanner.scala:172)\n",
       "\tat org.apache.spark.sql.connect.planner.SparkConnectPlanner.transformWithColumns(SparkConnectPlanner.scala:1515)\n",
       "\tat org.apache.spark.sql.connect.planner.SparkConnectPlanner.$anonfun$transformRelation$1(SparkConnectPlanner.scala:233)\n",
       "\tat org.apache.spark.sql.connect.service.SessionHolder.$anonfun$usePlanCache$7(SessionHolder.scala:614)\n",
       "\tat org.apache.spark.sql.connect.service.SessionHolder.measureSubtreeRelationNodes(SessionHolder.scala:630)\n",
       "\tat org.apache.spark.sql.connect.service.SessionHolder.$anonfun$usePlanCache$5(SessionHolder.scala:613)\n",
       "\tat scala.Option.getOrElse(Option.scala:189)\n",
       "\tat org.apache.spark.sql.connect.service.SessionHolder.usePlanCache(SessionHolder.scala:611)\n",
       "\tat org.apache.spark.sql.connect.planner.SparkConnectPlanner.transformRelation(SparkConnectPlanner.scala:185)\n",
       "\tat org.apache.spark.sql.connect.planner.SparkConnectPlanner.transformRelation(SparkConnectPlanner.scala:172)\n",
       "\tat org.apache.spark.sql.connect.planner.SparkConnectPlanner.transformWithColumns(SparkConnectPlanner.scala:1515)\n",
       "\tat org.apache.spark.sql.connect.planner.SparkConnectPlanner.$anonfun$transformRelation$1(SparkConnectPlanner.scala:233)\n",
       "\tat org.apache.spark.sql.connect.service.SessionHolder.$anonfun$usePlanCache$7(SessionHolder.scala:614)\n",
       "\tat org.apache.spark.sql.connect.service.SessionHolder.measureSubtreeRelationNodes(SessionHolder.scala:630)\n",
       "\tat org.apache.spark.sql.connect.service.SessionHolder.$anonfun$usePlanCache$5(SessionHolder.scala:613)\n",
       "\tat scala.Option.getOrElse(Option.scala:189)\n",
       "\tat org.apache.spark.sql.connect.service.SessionHolder.usePlanCache(SessionHolder.scala:611)\n",
       "\tat org.apache.spark.sql.connect.planner.SparkConnectPlanner.transformRelation(SparkConnectPlanner.scala:185)\n",
       "\tat org.apache.spark.sql.connect.planner.SparkConnectPlanner.transformRelation(SparkConnectPlanner.scala:172)\n",
       "\tat org.apache.spark.sql.connect.planner.SparkConnectPlanner.transformWithColumns(SparkConnectPlanner.scala:1515)\n",
       "\tat org.apache.spark.sql.connect.planner.SparkConnectPlanner.$anonfun$transformRelation$1(SparkConnectPlanner.scala:233)\n",
       "\tat org.apache.spark.sql.connect.service.SessionHolder.$anonfun$usePlanCache$7(SessionHolder.scala:614)\n",
       "\tat org.apache.spark.sql.connect.service.SessionHolder.measureSubtreeRelationNodes(SessionHolder.scala:630)\n",
       "\tat org.apache.spark.sql.connect.service.SessionHolder.$anonfun$usePlanCache$5(SessionHolder.scala:613)\n",
       "\tat scala.Option.getOrElse(Option.scala:189)\n",
       "\tat org.apache.spark.sql.connect.service.SessionHolder.usePlanCache(SessionHolder.scala:611)\n",
       "\tat org.apache.spark.sql.connect.planner.SparkConnectPlanner.transformRelation(SparkConnectPlanner.scala:185)\n",
       "\tat org.apache.spark.sql.connect.planner.SparkConnectPlanner.transformRelation(SparkConnectPlanner.scala:172)\n",
       "\tat org.apache.spark.sql.connect.planner.SparkConnectPlanner.transformWithColumns(SparkConnectPlanner.scala:1515)\n",
       "\tat org.apache.spark.sql.connect.planner.SparkConnectPlanner.$anonfun$transformRelation$1(SparkConnectPlanner.scala:233)\n",
       "\tat org.apache.spark.sql.connect.service.SessionHolder.$anonfun$usePlanCache$7(SessionHolder.scala:614)\n",
       "\tat org.apache.spark.sql.connect.service.SessionHolder.measureSubtreeRelationNodes(SessionHolder.scala:630)\n",
       "\tat org.apache.spark.sql.connect.service.SessionHolder.$anonfun$usePlanCache$5(SessionHolder.scala:613)\n",
       "\tat scala.Option.getOrElse(Option.scala:189)\n",
       "\tat org.apache.spark.sql.connect.service.SessionHolder.usePlanCache(SessionHolder.scala:611)\n",
       "\tat org.apache.spark.sql.connect.planner.SparkConnectPlanner.transformRelation(SparkConnectPlanner.scala:185)\n",
       "\tat org.apache.spark.sql.connect.planner.SparkConnectPlanner.transformRelation(SparkConnectPlanner.scala:172)\n",
       "\tat org.apache.spark.sql.connect.planner.SparkConnectPlanner.transformWithColumns(SparkConnectPlanner.scala:1515)\n",
       "\tat org.apache.spark.sql.connect.planner.SparkConnectPlanner.$anonfun$transformRelation$1(SparkConnectPlanner.scala:233)\n",
       "\tat org.apache.spark.sql.connect.service.SessionHolder.$anonfun$usePlanCache$7(SessionHolder.scala:614)\n",
       "\tat org.apache.spark.sql.connect.service.SessionHolder.measureSubtreeRelationNodes(SessionHolder.scala:630)\n",
       "\tat org.apache.spark.sql.connect.service.SessionHolder.$anonfun$usePlanCache$5(SessionHolder.scala:613)\n",
       "\tat scala.Option.getOrElse(Option.scala:189)\n",
       "\tat org.apache.spark.sql.connect.service.SessionHolder.usePlanCache(SessionHolder.scala:611)\n",
       "\tat org.apache.spark.sql.connect.planner.SparkConnectPlanner.transformRelation(SparkConnectPlanner.scala:185)\n",
       "\tat org.apache.spark.sql.connect.planner.SparkConnectPlanner.transformRelation(SparkConnectPlanner.scala:172)\n",
       "\tat org.apache.spark.sql.connect.planner.SparkConnectPlanner.transformWithColumns(SparkConnectPlanner.scala:1515)\n",
       "\tat org.apache.spark.sql.connect.planner.SparkConnectPlanner.$anonfun$transformRelation$1(SparkConnectPlanner.scala:233)\n",
       "\tat org.apache.spark.sql.connect.service.SessionHolder.$anonfun$usePlanCache$7(SessionHolder.scala:614)\n",
       "\tat org.apache.spark.sql.connect.service.SessionHolder.measureSubtreeRelationNodes(SessionHolder.scala:630)\n",
       "\tat org.apache.spark.sql.connect.service.SessionHolder.$anonfun$usePlanCache$5(SessionHolder.scala:613)\n",
       "\tat scala.Option.getOrElse(Option.scala:189)\n",
       "\tat org.apache.spark.sql.connect.service.SessionHolder.usePlanCache(SessionHolder.scala:611)\n",
       "\tat org.apache.spark.sql.connect.planner.SparkConnectPlanner.transformRelation(SparkConnectPlanner.scala:185)\n",
       "\tat org.apache.spark.sql.connect.planner.SparkConnectPlanner.transformRelation(SparkConnectPlanner.scala:172)\n",
       "\tat org.apache.spark.sql.connect.planner.SparkConnectPlanner.transformWithColumns(SparkConnectPlanner.scala:1515)\n",
       "\tat org.apache.spark.sql.connect.planner.SparkConnectPlanner.$anonfun$transformRelation$1(SparkConnectPlanner.scala:233)\n",
       "\tat org.apache.spark.sql.connect.service.SessionHolder.$anonfun$usePlanCache$7(SessionHolder.scala:614)\n",
       "\tat org.apache.spark.sql.connect.service.SessionHolder.measureSubtreeRelationNodes(SessionHolder.scala:630)\n",
       "\tat org.apache.spark.sql.connect.service.SessionHolder.$anonfun$usePlanCache$5(SessionHolder.scala:613)\n",
       "\tat scala.Option.getOrElse(Option.scala:189)\n",
       "\tat org.apache.spark.sql.connect.service.SessionHolder.usePlanCache(SessionHolder.scala:611)\n",
       "\tat org.apache.spark.sql.connect.planner.SparkConnectPlanner.transformRelation(SparkConnectPlanner.scala:185)\n",
       "\tat org.apache.spark.sql.connect.planner.SparkConnectPlanner.transformRelation(SparkConnectPlanner.scala:172)\n",
       "\tat org.apache.spark.sql.connect.planner.SparkConnectPlanner.transformWithColumns(SparkConnectPlanner.scala:1515)\n",
       "\tat org.apache.spark.sql.connect.planner.SparkConnectPlanner.$anonfun$transformRelation$1(SparkConnectPlanner.scala:233)\n",
       "\tat org.apache.spark.sql.connect.service.SessionHolder.$anonfun$usePlanCache$7(SessionHolder.scala:614)\n",
       "\tat org.apache.spark.sql.connect.service.SessionHolder.measureSubtreeRelationNodes(SessionHolder.scala:630)\n",
       "\tat org.apache.spark.sql.connect.service.SessionHolder.$anonfun$usePlanCache$5(SessionHolder.scala:613)\n",
       "\tat scala.Option.getOrElse(Option.scala:189)\n",
       "\tat org.apache.spark.sql.connect.service.SessionHolder.usePlanCache(SessionHolder.scala:611)\n",
       "\tat org.apache.spark.sql.connect.planner.SparkConnectPlanner.transformRelation(SparkConnectPlanner.scala:185)\n",
       "\tat org.apache.spark.sql.connect.planner.SparkConnectPlanner.transformRelation(SparkConnectPlanner.scala:172)\n",
       "\tat org.apache.spark.sql.connect.planner.SparkConnectPlanner.transformWithColumns(SparkConnectPlanner.scala:1515)\n",
       "\tat org.apache.spark.sql.connect.planner.SparkConnectPlanner.$anonfun$transformRelation$1(SparkConnectPlanner.scala:233)\n",
       "\tat org.apache.spark.sql.connect.service.SessionHolder.$anonfun$usePlanCache$7(SessionHolder.scala:614)\n",
       "\tat org.apache.spark.sql.connect.service.SessionHolder.measureSubtreeRelationNodes(SessionHolder.scala:630)\n",
       "\tat org.apache.spark.sql.connect.service.SessionHolder.$anonfun$usePlanCache$5(SessionHolder.scala:613)\n",
       "\tat scala.Option.getOrElse(Option.scala:189)\n",
       "\tat org.apache.spark.sql.connect.service.SessionHolder.usePlanCache(SessionHolder.scala:611)\n",
       "\tat org.apache.spark.sql.connect.planner.SparkConnectPlanner.transformRelation(SparkConnectPlanner.scala:185)\n",
       "\tat org.apache.spark.sql.connect.planner.SparkConnectPlanner.transformRelation(SparkConnectPlanner.scala:172)\n",
       "\tat org.apache.spark.sql.connect.planner.SparkConnectPlanner.transformWithColumns(SparkConnectPlanner.scala:1515)\n",
       "\tat org.apache.spark.sql.connect.planner.SparkConnectPlanner.$anonfun$transformRelation$1(SparkConnectPlanner.scala:233)\n",
       "\tat org.apache.spark.sql.connect.service.SessionHolder.$anonfun$usePlanCache$7(SessionHolder.scala:614)\n",
       "\tat org.apache.spark.sql.connect.service.SessionHolder.measureSubtreeRelationNodes(SessionHolder.scala:630)\n",
       "\tat org.apache.spark.sql.connect.service.SessionHolder.$anonfun$usePlanCache$5(SessionHolder.scala:613)\n",
       "\tat scala.Option.getOrElse(Option.scala:189)\n",
       "\tat org.apache.spark.sql.connect.service.SessionHolder.usePlanCache(SessionHolder.scala:611)\n",
       "\tat org.apache.spark.sql.connect.planner.SparkConnectPlanner.transformRelation(SparkConnectPlanner.scala:185)\n",
       "\tat org.apache.spark.sql.connect.planner.SparkConnectPlanner.transformRelation(SparkConnectPlanner.scala:172)\n",
       "\tat org.apache.spark.sql.connect.planner.SparkConnectPlanner.transformWithColumns(SparkConnectPlanner.scala:1515)\n",
       "\tat org.apache.spark.sql.connect.planner.SparkConnectPlanner.$anonfun$transformRelation$1(SparkConnectPlanner.scala:233)\n",
       "\tat org.apache.spark.sql.connect.service.SessionHolder.$anonfun$usePlanCache$7(SessionHolder.scala:614)\n",
       "\tat org.apache.spark.sql.connect.service.SessionHolder.measureSubtreeRelationNodes(SessionHolder.scala:630)\n",
       "\tat org.apache.spark.sql.connect.service.SessionHolder.$anonfun$usePlanCache$5(SessionHolder.scala:613)\n",
       "\tat scala.Option.getOrElse(Option.scala:189)\n",
       "\tat org.apache.spark.sql.connect.service.SessionHolder.usePlanCache(SessionHolder.scala:611)\n",
       "\tat org.apache.spark.sql.connect.planner.SparkConnectPlanner.transformRelation(SparkConnectPlanner.scala:185)\n",
       "\tat org.apache.spark.sql.connect.planner.SparkConnectPlanner.transformRelation(SparkConnectPlanner.scala:172)\n",
       "\tat org.apache.spark.sql.connect.planner.SparkConnectPlanner.transformWithColumns(SparkConnectPlanner.scala:1515)\n",
       "\tat org.apache.spark.sql.connect.planner.SparkConnectPlanner.$anonfun$transformRelation$1(SparkConnectPlanner.scala:233)\n",
       "\tat org.apache.spark.sql.connect.service.SessionHolder.$anonfun$usePlanCache$7(SessionHolder.scala:614)\n",
       "\tat org.apache.spark.sql.connect.service.SessionHolder.measureSubtreeRelationNodes(SessionHolder.scala:630)\n",
       "\tat org.apache.spark.sql.connect.service.SessionHolder.$anonfun$usePlanCache$5(SessionHolder.scala:613)\n",
       "\tat scala.Option.getOrElse(Option.scala:189)\n",
       "\tat org.apache.spark.sql.connect.service.SessionHolder.usePlanCache(SessionHolder.scala:611)\n",
       "\tat org.apache.spark.sql.connect.planner.SparkConnectPlanner.transformRelation(SparkConnectPlanner.scala:185)\n",
       "\tat org.apache.spark.sql.connect.service.SparkConnectAnalyzeHandler.transformRelation$1(SparkConnectAnalyzeHandler.scala:119)\n",
       "\tat org.apache.spark.sql.connect.service.SparkConnectAnalyzeHandler.process(SparkConnectAnalyzeHandler.scala:130)\n",
       "\tat org.apache.spark.sql.connect.service.SparkConnectAnalyzeHandler.$anonfun$handle$3(SparkConnectAnalyzeHandler.scala:104)\n",
       "\tat org.apache.spark.sql.connect.service.SparkConnectAnalyzeHandler.$anonfun$handle$3$adapted(SparkConnectAnalyzeHandler.scala:66)\n",
       "\tat org.apache.spark.sql.connect.service.SessionHolder.$anonfun$withSession$2(SessionHolder.scala:464)\n",
       "\tat org.apache.spark.sql.SparkSession.withActive(SparkSession.scala:1450)\n",
       "\tat org.apache.spark.sql.connect.service.SessionHolder.$anonfun$withSession$1(SessionHolder.scala:464)\n",
       "\tat org.apache.spark.JobArtifactSet$.withActiveJobArtifactState(JobArtifactSet.scala:97)\n",
       "\tat org.apache.spark.sql.artifact.ArtifactManager.$anonfun$withResources$1(ArtifactManager.scala:90)\n",
       "\tat org.apache.spark.util.Utils$.withContextClassLoader(Utils.scala:240)\n",
       "\tat org.apache.spark.sql.artifact.ArtifactManager.withResources(ArtifactManager.scala:89)\n",
       "\tat org.apache.spark.sql.connect.service.SessionHolder.withSession(SessionHolder.scala:463)\n",
       "\tat org.apache.spark.sql.connect.service.SparkConnectAnalyzeHandler.$anonfun$handle$1(SparkConnectAnalyzeHandler.scala:66)\n",
       "\tat org.apache.spark.sql.connect.service.SparkConnectAnalyzeHandler.$anonfun$handle$1$adapted(SparkConnectAnalyzeHandler.scala:51)\n",
       "\tat com.databricks.spark.connect.logging.rpc.SparkConnectRpcMetricsCollectorUtils$.collectMetrics(SparkConnectRpcMetricsCollector.scala:258)\n",
       "\tat org.apache.spark.sql.connect.service.SparkConnectAnalyzeHandler.handle(SparkConnectAnalyzeHandler.scala:50)\n",
       "\tat org.apache.spark.sql.connect.service.SparkConnectService.analyzePlan(SparkConnectService.scala:109)\n",
       "\tat org.apache.spark.connect.proto.SparkConnectServiceGrpc$MethodHandlers.invoke(SparkConnectServiceGrpc.java:801)\n",
       "\tat grpc_shaded.io.grpc.stub.ServerCalls$UnaryServerCallHandler$UnaryServerCallListener.onHalfClose(ServerCalls.java:182)\n",
       "\tat grpc_shaded.io.grpc.PartialForwardingServerCallListener.onHalfClose(PartialForwardingServerCallListener.java:35)\n",
       "\tat grpc_shaded.io.grpc.ForwardingServerCallListener.onHalfClose(ForwardingServerCallListener.java:23)\n",
       "\tat grpc_shaded.io.grpc.ForwardingServerCallListener$SimpleForwardingServerCallListener.onHalfClose(ForwardingServerCallListener.java:40)\n",
       "\tat com.databricks.spark.connect.service.AuthenticationInterceptor$AuthenticatedServerCallListener.$anonfun$onHalfClose$1(AuthenticationInterceptor.scala:381)\n",
       "\tat scala.runtime.java8.JFunction0$mcV$sp.apply(JFunction0$mcV$sp.java:23)\n",
       "\tat com.databricks.unity.UCSEphemeralState$Handle.runWith(UCSEphemeralState.scala:51)\n",
       "\tat com.databricks.unity.HandleImpl.runWith(UCSHandle.scala:104)\n",
       "\tat com.databricks.spark.connect.service.RequestContext.$anonfun$runWith$3(RequestContext.scala:337)\n",
       "\tat com.databricks.spark.connect.service.RequestContext$.com$databricks$spark$connect$service$RequestContext$$withLocalProperties(RequestContext.scala:537)\n",
       "\tat com.databricks.spark.connect.service.RequestContext.$anonfun$runWith$2(RequestContext.scala:337)\n",
       "\tat com.databricks.logging.AttributionContextTracing.$anonfun$withAttributionContext$1(AttributionContextTracing.scala:49)\n",
       "\tat com.databricks.logging.AttributionContext$.$anonfun$withValue$1(AttributionContext.scala:293)\n",
       "\tat scala.util.DynamicVariable.withValue(DynamicVariable.scala:62)\n",
       "\tat com.databricks.logging.AttributionContext$.withValue(AttributionContext.scala:289)\n",
       "\tat com.databricks.logging.AttributionContextTracing.withAttributionContext(AttributionContextTracing.scala:47)\n",
       "\tat com.databricks.logging.AttributionContextTracing.withAttributionContext$(AttributionContextTracing.scala:44)\n",
       "\tat com.databricks.spark.util.PublicDBLogging.withAttributionContext(DatabricksSparkUsageLogger.scala:30)\n",
       "\tat com.databricks.spark.util.UniverseAttributionContextWrapper.withValue(AttributionContextUtils.scala:242)\n",
       "\tat com.databricks.spark.connect.service.RequestContext.$anonfun$runWith$1(RequestContext.scala:336)\n",
       "\tat com.databricks.spark.connect.service.RequestContext.withContext(RequestContext.scala:349)\n",
       "\tat com.databricks.spark.connect.service.RequestContext.runWith(RequestContext.scala:329)\n",
       "\tat com.databricks.spark.connect.service.AuthenticationInterceptor$AuthenticatedServerCallListener.onHalfClose(AuthenticationInterceptor.scala:381)\n",
       "\tat grpc_shaded.io.grpc.PartialForwardingServerCallListener.onHalfClose(PartialForwardingServerCallListener.java:35)\n",
       "\tat grpc_shaded.io.grpc.ForwardingServerCallListener.onHalfClose(ForwardingServerCallListener.java:23)\n",
       "\tat grpc_shaded.io.grpc.ForwardingServerCallListener$SimpleForwardingServerCallListener.onHalfClose(ForwardingServerCallListener.java:40)\n",
       "\tat grpc_shaded.io.grpc.internal.ServerCallImpl$ServerStreamListenerImpl.halfClosed(ServerCallImpl.java:351)\n",
       "\tat grpc_shaded.io.grpc.internal.ServerImpl$JumpToApplicationThreadServerStreamListener$1HalfClosed.runInContext(ServerImpl.java:861)\n",
       "\tat grpc_shaded.io.grpc.internal.ContextRunnable.run(ContextRunnable.java:37)\n",
       "\tat grpc_shaded.io.grpc.internal.SerializingExecutor.run(SerializingExecutor.java:133)\n",
       "\tat org.apache.spark.util.threads.SparkThreadLocalCapturingRunnable.$anonfun$run$1(SparkThreadLocalForwardingThreadPoolExecutor.scala:161)\n",
       "\tat scala.runtime.java8.JFunction0$mcV$sp.apply(JFunction0$mcV$sp.java:23)\n",
       "\tat com.databricks.sql.transaction.tahoe.mst.MSTThreadHelper$.runWithMstTxnId(MSTThreadHelper.scala:55)\n",
       "\tat org.apache.spark.util.threads.SparkThreadLocalCapturingHelper.$anonfun$runWithCaptured$5(SparkThreadLocalForwardingThreadPoolExecutor.scala:116)\n",
       "\tat com.databricks.spark.util.IdentityClaim$.withClaim(IdentityClaim.scala:48)\n",
       "\tat org.apache.spark.util.threads.SparkThreadLocalCapturingHelper.$anonfun$runWithCaptured$4(SparkThreadLocalForwardingThreadPoolExecutor.scala:115)\n",
       "\tat com.databricks.unity.UCSEphemeralState$Handle.runWith(UCSEphemeralState.scala:51)\n",
       "\tat org.apache.spark.util.threads.SparkThreadLocalCapturingHelper.runWithCaptured(SparkThreadLocalForwardingThreadPoolExecutor.scala:114)\n",
       "\tat org.apache.spark.util.threads.SparkThreadLocalCapturingHelper.runWithCaptured$(SparkThreadLocalForwardingThreadPoolExecutor.scala:91)\n",
       "\tat org.apache.spark.util.threads.SparkThreadLocalCapturingRunnable.runWithCaptured(SparkThreadLocalForwardingThreadPoolExecutor.scala:158)\n",
       "\tat org.apache.spark.util.threads.SparkThreadLocalCapturingRunnable.run(SparkThreadLocalForwardingThreadPoolExecutor.scala:161)\n",
       "\tat java.util.concurrent.ThreadPoolExecutor.runWorker(ThreadPoolExecutor.java:1136)\n",
       "\tat java.util.concurrent.ThreadPoolExecutor$Worker.run(ThreadPoolExecutor.java:635)\n",
       "\tat java.lang.Thread.run(Thread.java:840)"
      ]
     },
     "metadata": {
      "application/vnd.databricks.v1+output": {
       "addedWidgets": {},
       "arguments": {},
       "datasetInfos": [],
       "jupyterProps": {
        "ename": "AnalysisException",
        "evalue": "[UNRESOLVED_ROUTINE] Cannot resolve routine `bronze`.`discounted_func` on search path [`system`.`builtin`, `system`.`session`, `databricks_etl`.`default`].\nVerify the spelling of `bronze`.`discounted_func`, check that the routine exists, and confirm you have `USE` privilege on the catalog and schema, and EXECUTE on the routine. SQLSTATE: 42883; line 1 pos 0\n\nJVM stacktrace:\norg.apache.spark.sql.AnalysisException\n\tat org.apache.spark.sql.errors.QueryCompilationErrors$.unresolvedRoutineError(QueryCompilationErrors.scala:1191)\n\tat org.apache.spark.sql.catalyst.analysis.Analyzer$LookupFunctions$$anonfun$apply$19.applyOrElse(Analyzer.scala:2675)\n\tat org.apache.spark.sql.catalyst.analysis.Analyzer$LookupFunctions$$anonfun$apply$19.applyOrElse(Analyzer.scala:2652)\n\tat org.apache.spark.sql.catalyst.trees.TreeNode.$anonfun$transformDownWithPruning$1(TreeNode.scala:521)\n\tat org.apache.spark.sql.catalyst.trees.CurrentOrigin$.withOrigin(origin.scala:85)\n\tat org.apache.spark.sql.catalyst.trees.TreeNode.transformDownWithPruning(TreeNode.scala:521)\n\tat org.apache.spark.sql.catalyst.trees.TreeNode.$anonfun$transformDownWithPruning$3(TreeNode.scala:526)\n\tat org.apache.spark.sql.catalyst.trees.UnaryLike.mapChildren(TreeNode.scala:1330)\n\tat org.apache.spark.sql.catalyst.trees.UnaryLike.mapChildren$(TreeNode.scala:1329)\n\tat org.apache.spark.sql.catalyst.expressions.UnaryExpression.mapChildren(Expression.scala:712)\n\tat org.apache.spark.sql.catalyst.trees.TreeNode.transformDownWithPruning(TreeNode.scala:526)\n\tat org.apache.spark.sql.catalyst.trees.TreeNode.$anonfun$transformDownWithPruning$3(TreeNode.scala:526)\n\tat org.apache.spark.sql.catalyst.trees.UnaryLike.mapChildren(TreeNode.scala:1330)\n\tat org.apache.spark.sql.catalyst.trees.UnaryLike.mapChildren$(TreeNode.scala:1329)\n\tat org.apache.spark.sql.catalyst.expressions.UnaryExpression.mapChildren(Expression.scala:712)\n\tat org.apache.spark.sql.catalyst.trees.TreeNode.transformDownWithPruning(TreeNode.scala:526)\n\tat org.apache.spark.sql.catalyst.plans.QueryPlan.$anonfun$transformExpressionsDownWithPruning$1(QueryPlan.scala:188)\n\tat org.apache.spark.sql.catalyst.plans.QueryPlan.$anonfun$mapExpressions$1(QueryPlan.scala:229)\n\tat org.apache.spark.sql.catalyst.trees.CurrentOrigin$.withOrigin(origin.scala:85)\n\tat org.apache.spark.sql.catalyst.plans.QueryPlan.transformExpression$1(QueryPlan.scala:229)\n\tat org.apache.spark.sql.catalyst.plans.QueryPlan.recursiveTransform$1(QueryPlan.scala:241)\n\tat org.apache.spark.sql.catalyst.plans.QueryPlan.$anonfun$mapExpressions$4(QueryPlan.scala:247)\n\tat scala.collection.TraversableLike.$anonfun$map$1(TraversableLike.scala:286)\n\tat scala.collection.immutable.List.foreach(List.scala:431)\n\tat scala.collection.TraversableLike.map(TraversableLike.scala:286)\n\tat scala.collection.TraversableLike.map$(TraversableLike.scala:279)\n\tat scala.collection.immutable.List.map(List.scala:305)\n\tat org.apache.spark.sql.catalyst.plans.QueryPlan.recursiveTransform$1(QueryPlan.scala:247)\n\tat org.apache.spark.sql.catalyst.plans.QueryPlan.$anonfun$mapExpressions$5(QueryPlan.scala:252)\n\tat org.apache.spark.sql.catalyst.trees.TreeNode.mapProductIterator(TreeNode.scala:363)\n\tat org.apache.spark.sql.catalyst.plans.QueryPlan.mapExpressions(QueryPlan.scala:252)\n\tat org.apache.spark.sql.catalyst.plans.QueryPlan.transformExpressionsDownWithPruning(QueryPlan.scala:188)\n\tat org.apache.spark.sql.catalyst.plans.QueryPlan.transformExpressionsWithPruning(QueryPlan.scala:159)\n\tat org.apache.spark.sql.catalyst.plans.logical.AnalysisHelper$$anonfun$resolveExpressionsDownWithPruning$1.applyOrElse(AnalysisHelper.scala:308)\n\tat org.apache.spark.sql.catalyst.plans.logical.AnalysisHelper$$anonfun$resolveExpressionsDownWithPruning$1.applyOrElse(AnalysisHelper.scala:307)\n\tat org.apache.spark.sql.catalyst.plans.logical.AnalysisHelper.$anonfun$resolveOperatorsDownWithPruning$2(AnalysisHelper.scala:201)\n\tat org.apache.spark.sql.catalyst.trees.CurrentOrigin$.withOrigin(origin.scala:85)\n\tat org.apache.spark.sql.catalyst.plans.logical.AnalysisHelper.$anonfun$resolveOperatorsDownWithPruning$1(AnalysisHelper.scala:201)\n\tat org.apache.spark.sql.catalyst.plans.logical.AnalysisHelper$.allowInvokingTransformsInAnalyzer(AnalysisHelper.scala:418)\n\tat org.apache.spark.sql.catalyst.plans.logical.AnalysisHelper.resolveOperatorsDownWithPruning(AnalysisHelper.scala:199)\n\tat org.apache.spark.sql.catalyst.plans.logical.AnalysisHelper.resolveOperatorsDownWithPruning$(AnalysisHelper.scala:195)\n\tat org.apache.spark.sql.catalyst.plans.logical.LogicalPlan.resolveOperatorsDownWithPruning(LogicalPlan.scala:42)\n\tat org.apache.spark.sql.catalyst.plans.logical.AnalysisHelper.resolveOperatorsWithPruning(AnalysisHelper.scala:102)\n\tat org.apache.spark.sql.catalyst.plans.logical.AnalysisHelper.resolveOperatorsWithPruning$(AnalysisHelper.scala:99)\n\tat org.apache.spark.sql.catalyst.plans.logical.LogicalPlan.resolveOperatorsWithPruning(LogicalPlan.scala:42)\n\tat org.apache.spark.sql.catalyst.plans.logical.AnalysisHelper.resolveExpressionsDownWithPruning(AnalysisHelper.scala:307)\n\tat org.apache.spark.sql.catalyst.plans.logical.AnalysisHelper.resolveExpressionsDownWithPruning$(AnalysisHelper.scala:304)\n\tat org.apache.spark.sql.catalyst.plans.logical.LogicalPlan.resolveExpressionsDownWithPruning(LogicalPlan.scala:42)\n\tat org.apache.spark.sql.catalyst.plans.logical.AnalysisHelper.resolveExpressionsWithPruning(AnalysisHelper.scala:279)\n\tat org.apache.spark.sql.catalyst.plans.logical.AnalysisHelper.resolveExpressionsWithPruning$(AnalysisHelper.scala:277)\n\tat org.apache.spark.sql.catalyst.plans.logical.LogicalPlan.resolveExpressionsWithPruning(LogicalPlan.scala:42)\n\tat org.apache.spark.sql.catalyst.analysis.Analyzer$LookupFunctions$.apply(Analyzer.scala:2652)\n\tat org.apache.spark.sql.catalyst.analysis.Analyzer$LookupFunctions$.apply(Analyzer.scala:2646)\n\tat org.apache.spark.sql.catalyst.rules.RuleExecutor.$anonfun$execute$16(RuleExecutor.scala:480)\n\tat org.apache.spark.sql.catalyst.rules.RecoverableRuleExecutionHelper.processRule(RuleExecutor.scala:629)\n\tat org.apache.spark.sql.catalyst.rules.RecoverableRuleExecutionHelper.processRule$(RuleExecutor.scala:613)\n\tat org.apache.spark.sql.catalyst.rules.RuleExecutor.processRule(RuleExecutor.scala:131)\n\tat org.apache.spark.sql.catalyst.rules.RuleExecutor.$anonfun$execute$15(RuleExecutor.scala:480)\n\tat com.databricks.spark.util.FrameProfiler$.record(FrameProfiler.scala:94)\n\tat org.apache.spark.sql.catalyst.rules.RuleExecutor.$anonfun$execute$14(RuleExecutor.scala:479)\n\tat scala.collection.IndexedSeqOptimized.foldLeft(IndexedSeqOptimized.scala:60)\n\tat scala.collection.IndexedSeqOptimized.foldLeft$(IndexedSeqOptimized.scala:68)\n\tat scala.collection.mutable.WrappedArray.foldLeft(WrappedArray.scala:38)\n\tat org.apache.spark.sql.catalyst.rules.RuleExecutor.$anonfun$execute$13(RuleExecutor.scala:475)\n\tat scala.runtime.java8.JFunction0$mcV$sp.apply(JFunction0$mcV$sp.java:23)\n\tat com.databricks.spark.util.FrameProfiler$.record(FrameProfiler.scala:94)\n\tat org.apache.spark.sql.catalyst.rules.RuleExecutor.executeBatch$1(RuleExecutor.scala:452)\n\tat org.apache.spark.sql.catalyst.rules.RuleExecutor.$anonfun$execute$22(RuleExecutor.scala:585)\n\tat org.apache.spark.sql.catalyst.rules.RuleExecutor.$anonfun$execute$22$adapted(RuleExecutor.scala:585)\n\tat scala.collection.immutable.List.foreach(List.scala:431)\n\tat org.apache.spark.sql.catalyst.rules.RuleExecutor.$anonfun$execute$1(RuleExecutor.scala:585)\n\tat com.databricks.spark.util.FrameProfiler$.record(FrameProfiler.scala:94)\n\tat org.apache.spark.sql.catalyst.rules.RuleExecutor.execute(RuleExecutor.scala:349)\n\tat org.apache.spark.sql.catalyst.analysis.Analyzer.executeSameContext(Analyzer.scala:498)\n\tat org.apache.spark.sql.catalyst.analysis.Analyzer.$anonfun$execute$1(Analyzer.scala:491)\n\tat org.apache.spark.sql.catalyst.analysis.AnalysisContext$.withNewAnalysisContext(Analyzer.scala:397)\n\tat org.apache.spark.sql.catalyst.analysis.Analyzer.execute(Analyzer.scala:491)\n\tat org.apache.spark.sql.catalyst.analysis.Analyzer.execute(Analyzer.scala:416)\n\tat org.apache.spark.sql.catalyst.rules.RuleExecutor.$anonfun$executeAndTrack$1(RuleExecutor.scala:341)\n\tat org.apache.spark.sql.catalyst.QueryPlanningTracker$.withTracker(QueryPlanningTracker.scala:216)\n\tat org.apache.spark.sql.catalyst.rules.RuleExecutor.executeAndTrack(RuleExecutor.scala:341)\n\tat org.apache.spark.sql.catalyst.analysis.resolver.HybridAnalyzer.resolveInFixedPoint(HybridAnalyzer.scala:256)\n\tat org.apache.spark.sql.catalyst.analysis.resolver.HybridAnalyzer.$anonfun$apply$1(HybridAnalyzer.scala:100)\n\tat org.apache.spark.sql.catalyst.analysis.resolver.HybridAnalyzer.withTrackedAnalyzerBridgeState(HybridAnalyzer.scala:135)\n\tat org.apache.spark.sql.catalyst.analysis.resolver.HybridAnalyzer.apply(HybridAnalyzer.scala:91)\n\tat org.apache.spark.sql.catalyst.analysis.Analyzer.$anonfun$executeAndCheck$1(Analyzer.scala:478)\n\tat org.apache.spark.sql.catalyst.plans.logical.AnalysisHelper$.markInAnalyzer(AnalysisHelper.scala:425)\n\tat org.apache.spark.sql.catalyst.analysis.Analyzer.executeAndCheck(Analyzer.scala:478)\n\tat org.apache.spark.sql.execution.QueryExecution.$anonfun$lazyAnalyzed$3(QueryExecution.scala:284)\n\tat com.databricks.spark.util.FrameProfiler$.record(FrameProfiler.scala:94)\n\tat org.apache.spark.sql.catalyst.QueryPlanningTracker.measurePhase(QueryPlanningTracker.scala:532)\n\tat org.apache.spark.sql.execution.QueryExecution.$anonfun$executePhase$5(QueryExecution.scala:645)\n\tat org.apache.spark.sql.execution.SQLExecution$.withExecutionPhase(SQLExecution.scala:148)\n\tat org.apache.spark.sql.execution.QueryExecution.$anonfun$executePhase$4(QueryExecution.scala:645)\n\tat org.apache.spark.sql.execution.QueryExecution$.withInternalError(QueryExecution.scala:1281)\n\tat org.apache.spark.sql.execution.QueryExecution.$anonfun$executePhase$2(QueryExecution.scala:644)\n\tat com.databricks.util.LexicalThreadLocal$Handle.runWith(LexicalThreadLocal.scala:63)\n\tat org.apache.spark.sql.execution.QueryExecution.$anonfun$executePhase$1(QueryExecution.scala:640)\n\tat org.apache.spark.sql.SparkSession.withActive(SparkSession.scala:1450)\n\tat org.apache.spark.sql.execution.QueryExecution.executePhase(QueryExecution.scala:640)\n\tat org.apache.spark.sql.execution.QueryExecution.$anonfun$lazyAnalyzed$2(QueryExecution.scala:278)\n\tat com.databricks.sql.util.MemoryTrackerHelper.withMemoryTracking(MemoryTrackerHelper.scala:80)\n\tat org.apache.spark.sql.execution.QueryExecution.$anonfun$lazyAnalyzed$1(QueryExecution.scala:277)\n\tat scala.util.Try$.apply(Try.scala:213)\n\tat org.apache.spark.util.Utils$.doTryWithCallerStacktrace(Utils.scala:1755)\n\tat org.apache.spark.util.Utils$.getTryWithCallerStacktrace(Utils.scala:1816)\n\tat org.apache.spark.util.LazyTry.get(LazyTry.scala:58)\n\tat org.apache.spark.sql.execution.QueryExecution.analyzed(QueryExecution.scala:311)\n\tat org.apache.spark.sql.execution.QueryExecution.assertAnalyzed(QueryExecution.scala:257)\n\tat org.apache.spark.sql.Dataset$.$anonfun$ofRows$1(Dataset.scala:108)\n\tat org.apache.spark.sql.SparkSession.withActive(SparkSession.scala:1450)\n\tat org.apache.spark.sql.SparkSession.$anonfun$withActiveAndFrameProfiler$1(SparkSession.scala:1457)\n\tat com.databricks.spark.util.FrameProfiler$.record(FrameProfiler.scala:94)\n\tat org.apache.spark.sql.SparkSession.withActiveAndFrameProfiler(SparkSession.scala:1457)\n\tat org.apache.spark.sql.Dataset$.ofRows(Dataset.scala:106)\n\tat org.apache.spark.sql.Dataset.$anonfun$org$apache$spark$sql$Dataset$$withPlan$1(Dataset.scala:5049)\n\tat com.databricks.spark.util.FrameProfiler$.record(FrameProfiler.scala:94)\n\tat org.apache.spark.sql.Dataset.org$apache$spark$sql$Dataset$$withPlan(Dataset.scala:5049)\n\tat org.apache.spark.sql.Dataset.select(Dataset.scala:1850)\n\tat org.apache.spark.sql.Dataset.$anonfun$withColumns$1(Dataset.scala:3216)\n\tat com.databricks.spark.util.FrameProfiler$.record(FrameProfiler.scala:94)\n\tat org.apache.spark.sql.Dataset.withColumns(Dataset.scala:3190)\n\tat org.apache.spark.sql.Dataset.withColumns(Dataset.scala:3232)\n\tat org.apache.spark.sql.connect.planner.SparkConnectPlanner.transformWithColumns(SparkConnectPlanner.scala:1516)\n\tat org.apache.spark.sql.connect.planner.SparkConnectPlanner.$anonfun$transformRelation$1(SparkConnectPlanner.scala:233)\n\tat org.apache.spark.sql.connect.service.SessionHolder.$anonfun$usePlanCache$7(SessionHolder.scala:614)\n\tat org.apache.spark.sql.connect.service.SessionHolder.measureSubtreeRelationNodes(SessionHolder.scala:630)\n\tat org.apache.spark.sql.connect.service.SessionHolder.$anonfun$usePlanCache$5(SessionHolder.scala:613)\n\tat scala.Option.getOrElse(Option.scala:189)\n\tat org.apache.spark.sql.connect.service.SessionHolder.usePlanCache(SessionHolder.scala:611)\n\tat org.apache.spark.sql.connect.planner.SparkConnectPlanner.transformRelation(SparkConnectPlanner.scala:185)\n\tat org.apache.spark.sql.connect.planner.SparkConnectPlanner.transformRelation(SparkConnectPlanner.scala:172)\n\tat org.apache.spark.sql.connect.planner.SparkConnectPlanner.transformWithColumns(SparkConnectPlanner.scala:1515)\n\tat org.apache.spark.sql.connect.planner.SparkConnectPlanner.$anonfun$transformRelation$1(SparkConnectPlanner.scala:233)\n\tat org.apache.spark.sql.connect.service.SessionHolder.$anonfun$usePlanCache$7(SessionHolder.scala:614)\n\tat org.apache.spark.sql.connect.service.SessionHolder.measureSubtreeRelationNodes(SessionHolder.scala:630)\n\tat org.apache.spark.sql.connect.service.SessionHolder.$anonfun$usePlanCache$5(SessionHolder.scala:613)\n\tat scala.Option.getOrElse(Option.scala:189)\n\tat org.apache.spark.sql.connect.service.SessionHolder.usePlanCache(SessionHolder.scala:611)\n\tat org.apache.spark.sql.connect.planner.SparkConnectPlanner.transformRelation(SparkConnectPlanner.scala:185)\n\tat org.apache.spark.sql.connect.planner.SparkConnectPlanner.transformRelation(SparkConnectPlanner.scala:172)\n\tat org.apache.spark.sql.connect.planner.SparkConnectPlanner.transformWithColumns(SparkConnectPlanner.scala:1515)\n\tat org.apache.spark.sql.connect.planner.SparkConnectPlanner.$anonfun$transformRelation$1(SparkConnectPlanner.scala:233)\n\tat org.apache.spark.sql.connect.service.SessionHolder.$anonfun$usePlanCache$7(SessionHolder.scala:614)\n\tat org.apache.spark.sql.connect.service.SessionHolder.measureSubtreeRelationNodes(SessionHolder.scala:630)\n\tat org.apache.spark.sql.connect.service.SessionHolder.$anonfun$usePlanCache$5(SessionHolder.scala:613)\n\tat scala.Option.getOrElse(Option.scala:189)\n\tat org.apache.spark.sql.connect.service.SessionHolder.usePlanCache(SessionHolder.scala:611)\n\tat org.apache.spark.sql.connect.planner.SparkConnectPlanner.transformRelation(SparkConnectPlanner.scala:185)\n\tat org.apache.spark.sql.connect.planner.SparkConnectPlanner.transformRelation(SparkConnectPlanner.scala:172)\n\tat org.apache.spark.sql.connect.planner.SparkConnectPlanner.transformWithColumns(SparkConnectPlanner.scala:1515)\n\tat org.apache.spark.sql.connect.planner.SparkConnectPlanner.$anonfun$transformRelation$1(SparkConnectPlanner.scala:233)\n\tat org.apache.spark.sql.connect.service.SessionHolder.$anonfun$usePlanCache$7(SessionHolder.scala:614)\n\tat org.apache.spark.sql.connect.service.SessionHolder.measureSubtreeRelationNodes(SessionHolder.scala:630)\n\tat org.apache.spark.sql.connect.service.SessionHolder.$anonfun$usePlanCache$5(SessionHolder.scala:613)\n\tat scala.Option.getOrElse(Option.scala:189)\n\tat org.apache.spark.sql.connect.service.SessionHolder.usePlanCache(SessionHolder.scala:611)\n\tat org.apache.spark.sql.connect.planner.SparkConnectPlanner.transformRelation(SparkConnectPlanner.scala:185)\n\tat org.apache.spark.sql.connect.planner.SparkConnectPlanner.transformRelation(SparkConnectPlanner.scala:172)\n\tat org.apache.spark.sql.connect.planner.SparkConnectPlanner.transformWithColumns(SparkConnectPlanner.scala:1515)\n\tat org.apache.spark.sql.connect.planner.SparkConnectPlanner.$anonfun$transformRelation$1(SparkConnectPlanner.scala:233)\n\tat org.apache.spark.sql.connect.service.SessionHolder.$anonfun$usePlanCache$7(SessionHolder.scala:614)\n\tat org.apache.spark.sql.connect.service.SessionHolder.measureSubtreeRelationNodes(SessionHolder.scala:630)\n\tat org.apache.spark.sql.connect.service.SessionHolder.$anonfun$usePlanCache$5(SessionHolder.scala:613)\n\tat scala.Option.getOrElse(Option.scala:189)\n\tat org.apache.spark.sql.connect.service.SessionHolder.usePlanCache(SessionHolder.scala:611)\n\tat org.apache.spark.sql.connect.planner.SparkConnectPlanner.transformRelation(SparkConnectPlanner.scala:185)\n\tat org.apache.spark.sql.connect.planner.SparkConnectPlanner.transformRelation(SparkConnectPlanner.scala:172)\n\tat org.apache.spark.sql.connect.planner.SparkConnectPlanner.transformWithColumns(SparkConnectPlanner.scala:1515)\n\tat org.apache.spark.sql.connect.planner.SparkConnectPlanner.$anonfun$transformRelation$1(SparkConnectPlanner.scala:233)\n\tat org.apache.spark.sql.connect.service.SessionHolder.$anonfun$usePlanCache$7(SessionHolder.scala:614)\n\tat org.apache.spark.sql.connect.service.SessionHolder.measureSubtreeRelationNodes(SessionHolder.scala:630)\n\tat org.apache.spark.sql.connect.service.SessionHolder.$anonfun$usePlanCache$5(SessionHolder.scala:613)\n\tat scala.Option.getOrElse(Option.scala:189)\n\tat org.apache.spark.sql.connect.service.SessionHolder.usePlanCache(SessionHolder.scala:611)\n\tat org.apache.spark.sql.connect.planner.SparkConnectPlanner.transformRelation(SparkConnectPlanner.scala:185)\n\tat org.apache.spark.sql.connect.planner.SparkConnectPlanner.transformRelation(SparkConnectPlanner.scala:172)\n\tat org.apache.spark.sql.connect.planner.SparkConnectPlanner.transformWithColumns(SparkConnectPlanner.scala:1515)\n\tat org.apache.spark.sql.connect.planner.SparkConnectPlanner.$anonfun$transformRelation$1(SparkConnectPlanner.scala:233)\n\tat org.apache.spark.sql.connect.service.SessionHolder.$anonfun$usePlanCache$7(SessionHolder.scala:614)\n\tat org.apache.spark.sql.connect.service.SessionHolder.measureSubtreeRelationNodes(SessionHolder.scala:630)\n\tat org.apache.spark.sql.connect.service.SessionHolder.$anonfun$usePlanCache$5(SessionHolder.scala:613)\n\tat scala.Option.getOrElse(Option.scala:189)\n\tat org.apache.spark.sql.connect.service.SessionHolder.usePlanCache(SessionHolder.scala:611)\n\tat org.apache.spark.sql.connect.planner.SparkConnectPlanner.transformRelation(SparkConnectPlanner.scala:185)\n\tat org.apache.spark.sql.connect.planner.SparkConnectPlanner.transformRelation(SparkConnectPlanner.scala:172)\n\tat org.apache.spark.sql.connect.planner.SparkConnectPlanner.transformWithColumns(SparkConnectPlanner.scala:1515)\n\tat org.apache.spark.sql.connect.planner.SparkConnectPlanner.$anonfun$transformRelation$1(SparkConnectPlanner.scala:233)\n\tat org.apache.spark.sql.connect.service.SessionHolder.$anonfun$usePlanCache$7(SessionHolder.scala:614)\n\tat org.apache.spark.sql.connect.service.SessionHolder.measureSubtreeRelationNodes(SessionHolder.scala:630)\n\tat org.apache.spark.sql.connect.service.SessionHolder.$anonfun$usePlanCache$5(SessionHolder.scala:613)\n\tat scala.Option.getOrElse(Option.scala:189)\n\tat org.apache.spark.sql.connect.service.SessionHolder.usePlanCache(SessionHolder.scala:611)\n\tat org.apache.spark.sql.connect.planner.SparkConnectPlanner.transformRelation(SparkConnectPlanner.scala:185)\n\tat org.apache.spark.sql.connect.planner.SparkConnectPlanner.transformRelation(SparkConnectPlanner.scala:172)\n\tat org.apache.spark.sql.connect.planner.SparkConnectPlanner.transformWithColumns(SparkConnectPlanner.scala:1515)\n\tat org.apache.spark.sql.connect.planner.SparkConnectPlanner.$anonfun$transformRelation$1(SparkConnectPlanner.scala:233)\n\tat org.apache.spark.sql.connect.service.SessionHolder.$anonfun$usePlanCache$7(SessionHolder.scala:614)\n\tat org.apache.spark.sql.connect.service.SessionHolder.measureSubtreeRelationNodes(SessionHolder.scala:630)\n\tat org.apache.spark.sql.connect.service.SessionHolder.$anonfun$usePlanCache$5(SessionHolder.scala:613)\n\tat scala.Option.getOrElse(Option.scala:189)\n\tat org.apache.spark.sql.connect.service.SessionHolder.usePlanCache(SessionHolder.scala:611)\n\tat org.apache.spark.sql.connect.planner.SparkConnectPlanner.transformRelation(SparkConnectPlanner.scala:185)\n\tat org.apache.spark.sql.connect.planner.SparkConnectPlanner.transformRelation(SparkConnectPlanner.scala:172)\n\tat org.apache.spark.sql.connect.planner.SparkConnectPlanner.transformWithColumns(SparkConnectPlanner.scala:1515)\n\tat org.apache.spark.sql.connect.planner.SparkConnectPlanner.$anonfun$transformRelation$1(SparkConnectPlanner.scala:233)\n\tat org.apache.spark.sql.connect.service.SessionHolder.$anonfun$usePlanCache$7(SessionHolder.scala:614)\n\tat org.apache.spark.sql.connect.service.SessionHolder.measureSubtreeRelationNodes(SessionHolder.scala:630)\n\tat org.apache.spark.sql.connect.service.SessionHolder.$anonfun$usePlanCache$5(SessionHolder.scala:613)\n\tat scala.Option.getOrElse(Option.scala:189)\n\tat org.apache.spark.sql.connect.service.SessionHolder.usePlanCache(SessionHolder.scala:611)\n\tat org.apache.spark.sql.connect.planner.SparkConnectPlanner.transformRelation(SparkConnectPlanner.scala:185)\n\tat org.apache.spark.sql.connect.planner.SparkConnectPlanner.transformRelation(SparkConnectPlanner.scala:172)\n\tat org.apache.spark.sql.connect.planner.SparkConnectPlanner.transformWithColumns(SparkConnectPlanner.scala:1515)\n\tat org.apache.spark.sql.connect.planner.SparkConnectPlanner.$anonfun$transformRelation$1(SparkConnectPlanner.scala:233)\n\tat org.apache.spark.sql.connect.service.SessionHolder.$anonfun$usePlanCache$7(SessionHolder.scala:614)\n\tat org.apache.spark.sql.connect.service.SessionHolder.measureSubtreeRelationNodes(SessionHolder.scala:630)\n\tat org.apache.spark.sql.connect.service.SessionHolder.$anonfun$usePlanCache$5(SessionHolder.scala:613)\n\tat scala.Option.getOrElse(Option.scala:189)\n\tat org.apache.spark.sql.connect.service.SessionHolder.usePlanCache(SessionHolder.scala:611)\n\tat org.apache.spark.sql.connect.planner.SparkConnectPlanner.transformRelation(SparkConnectPlanner.scala:185)\n\tat org.apache.spark.sql.connect.planner.SparkConnectPlanner.transformRelation(SparkConnectPlanner.scala:172)\n\tat org.apache.spark.sql.connect.planner.SparkConnectPlanner.transformWithColumns(SparkConnectPlanner.scala:1515)\n\tat org.apache.spark.sql.connect.planner.SparkConnectPlanner.$anonfun$transformRelation$1(SparkConnectPlanner.scala:233)\n\tat org.apache.spark.sql.connect.service.SessionHolder.$anonfun$usePlanCache$7(SessionHolder.scala:614)\n\tat org.apache.spark.sql.connect.service.SessionHolder.measureSubtreeRelationNodes(SessionHolder.scala:630)\n\tat org.apache.spark.sql.connect.service.SessionHolder.$anonfun$usePlanCache$5(SessionHolder.scala:613)\n\tat scala.Option.getOrElse(Option.scala:189)\n\tat org.apache.spark.sql.connect.service.SessionHolder.usePlanCache(SessionHolder.scala:611)\n\tat org.apache.spark.sql.connect.planner.SparkConnectPlanner.transformRelation(SparkConnectPlanner.scala:185)\n\tat org.apache.spark.sql.connect.planner.SparkConnectPlanner.transformRelation(SparkConnectPlanner.scala:172)\n\tat org.apache.spark.sql.connect.planner.SparkConnectPlanner.transformWithColumns(SparkConnectPlanner.scala:1515)\n\tat org.apache.spark.sql.connect.planner.SparkConnectPlanner.$anonfun$transformRelation$1(SparkConnectPlanner.scala:233)\n\tat org.apache.spark.sql.connect.service.SessionHolder.$anonfun$usePlanCache$7(SessionHolder.scala:614)\n\tat org.apache.spark.sql.connect.service.SessionHolder.measureSubtreeRelationNodes(SessionHolder.scala:630)\n\tat org.apache.spark.sql.connect.service.SessionHolder.$anonfun$usePlanCache$5(SessionHolder.scala:613)\n\tat scala.Option.getOrElse(Option.scala:189)\n\tat org.apache.spark.sql.connect.service.SessionHolder.usePlanCache(SessionHolder.scala:611)\n\tat org.apache.spark.sql.connect.planner.SparkConnectPlanner.transformRelation(SparkConnectPlanner.scala:185)\n\tat org.apache.spark.sql.connect.service.SparkConnectAnalyzeHandler.transformRelation$1(SparkConnectAnalyzeHandler.scala:119)\n\tat org.apache.spark.sql.connect.service.SparkConnectAnalyzeHandler.process(SparkConnectAnalyzeHandler.scala:130)\n\tat org.apache.spark.sql.connect.service.SparkConnectAnalyzeHandler.$anonfun$handle$3(SparkConnectAnalyzeHandler.scala:104)\n\tat org.apache.spark.sql.connect.service.SparkConnectAnalyzeHandler.$anonfun$handle$3$adapted(SparkConnectAnalyzeHandler.scala:66)\n\tat org.apache.spark.sql.connect.service.SessionHolder.$anonfun$withSession$2(SessionHolder.scala:464)\n\tat org.apache.spark.sql.SparkSession.withActive(SparkSession.scala:1450)\n\tat org.apache.spark.sql.connect.service.SessionHolder.$anonfun$withSession$1(SessionHolder.scala:464)\n\tat org.apache.spark.JobArtifactSet$.withActiveJobArtifactState(JobArtifactSet.scala:97)\n\tat org.apache.spark.sql.artifact.ArtifactManager.$anonfun$withResources$1(ArtifactManager.scala:90)\n\tat org.apache.spark.util.Utils$.withContextClassLoader(Utils.scala:240)\n\tat org.apache.spark.sql.artifact.ArtifactManager.withResources(ArtifactManager.scala:89)\n\tat org.apache.spark.sql.connect.service.SessionHolder.withSession(SessionHolder.scala:463)\n\tat org.apache.spark.sql.connect.service.SparkConnectAnalyzeHandler.$anonfun$handle$1(SparkConnectAnalyzeHandler.scala:66)\n\tat org.apache.spark.sql.connect.service.SparkConnectAnalyzeHandler.$anonfun$handle$1$adapted(SparkConnectAnalyzeHandler.scala:51)\n\tat com.databricks.spark.connect.logging.rpc.SparkConnectRpcMetricsCollectorUtils$.collectMetrics(SparkConnectRpcMetricsCollector.scala:258)\n\tat org.apache.spark.sql.connect.service.SparkConnectAnalyzeHandler.handle(SparkConnectAnalyzeHandler.scala:50)\n\tat org.apache.spark.sql.connect.service.SparkConnectService.analyzePlan(SparkConnectService.scala:109)\n\tat org.apache.spark.connect.proto.SparkConnectServiceGrpc$MethodHandlers.invoke(SparkConnectServiceGrpc.java:801)\n\tat grpc_shaded.io.grpc.stub.ServerCalls$UnaryServerCallHandler$UnaryServerCallListener.onHalfClose(ServerCalls.java:182)\n\tat grpc_shaded.io.grpc.PartialForwardingServerCallListener.onHalfClose(PartialForwardingServerCallListener.java:35)\n\tat grpc_shaded.io.grpc.ForwardingServerCallListener.onHalfClose(ForwardingServerCallListener.java:23)\n\tat grpc_shaded.io.grpc.ForwardingServerCallListener$SimpleForwardingServerCallListener.onHalfClose(ForwardingServerCallListener.java:40)\n\tat com.databricks.spark.connect.service.AuthenticationInterceptor$AuthenticatedServerCallListener.$anonfun$onHalfClose$1(AuthenticationInterceptor.scala:381)\n\tat scala.runtime.java8.JFunction0$mcV$sp.apply(JFunction0$mcV$sp.java:23)\n\tat com.databricks.unity.UCSEphemeralState$Handle.runWith(UCSEphemeralState.scala:51)\n\tat com.databricks.unity.HandleImpl.runWith(UCSHandle.scala:104)\n\tat com.databricks.spark.connect.service.RequestContext.$anonfun$runWith$3(RequestContext.scala:337)\n\tat com.databricks.spark.connect.service.RequestContext$.com$databricks$spark$connect$service$RequestContext$$withLocalProperties(RequestContext.scala:537)\n\tat com.databricks.spark.connect.service.RequestContext.$anonfun$runWith$2(RequestContext.scala:337)\n\tat com.databricks.logging.AttributionContextTracing.$anonfun$withAttributionContext$1(AttributionContextTracing.scala:49)\n\tat com.databricks.logging.AttributionContext$.$anonfun$withValue$1(AttributionContext.scala:293)\n\tat scala.util.DynamicVariable.withValue(DynamicVariable.scala:62)\n\tat com.databricks.logging.AttributionContext$.withValue(AttributionContext.scala:289)\n\tat com.databricks.logging.AttributionContextTracing.withAttributionContext(AttributionContextTracing.scala:47)\n\tat com.databricks.logging.AttributionContextTracing.withAttributionContext$(AttributionContextTracing.scala:44)\n\tat com.databricks.spark.util.PublicDBLogging.withAttributionContext(DatabricksSparkUsageLogger.scala:30)\n\tat com.databricks.spark.util.UniverseAttributionContextWrapper.withValue(AttributionContextUtils.scala:242)\n\tat com.databricks.spark.connect.service.RequestContext.$anonfun$runWith$1(RequestContext.scala:336)\n\tat com.databricks.spark.connect.service.RequestContext.withContext(RequestContext.scala:349)\n\tat com.databricks.spark.connect.service.RequestContext.runWith(RequestContext.scala:329)\n\tat com.databricks.spark.connect.service.AuthenticationInterceptor$AuthenticatedServerCallListener.onHalfClose(AuthenticationInterceptor.scala:381)\n\tat grpc_shaded.io.grpc.PartialForwardingServerCallListener.onHalfClose(PartialForwardingServerCallListener.java:35)\n\tat grpc_shaded.io.grpc.ForwardingServerCallListener.onHalfClose(ForwardingServerCallListener.java:23)\n\tat grpc_shaded.io.grpc.ForwardingServerCallListener$SimpleForwardingServerCallListener.onHalfClose(ForwardingServerCallListener.java:40)\n\tat grpc_shaded.io.grpc.internal.ServerCallImpl$ServerStreamListenerImpl.halfClosed(ServerCallImpl.java:351)\n\tat grpc_shaded.io.grpc.internal.ServerImpl$JumpToApplicationThreadServerStreamListener$1HalfClosed.runInContext(ServerImpl.java:861)\n\tat grpc_shaded.io.grpc.internal.ContextRunnable.run(ContextRunnable.java:37)\n\tat grpc_shaded.io.grpc.internal.SerializingExecutor.run(SerializingExecutor.java:133)\n\tat org.apache.spark.util.threads.SparkThreadLocalCapturingRunnable.$anonfun$run$1(SparkThreadLocalForwardingThreadPoolExecutor.scala:161)\n\tat scala.runtime.java8.JFunction0$mcV$sp.apply(JFunction0$mcV$sp.java:23)\n\tat com.databricks.sql.transaction.tahoe.mst.MSTThreadHelper$.runWithMstTxnId(MSTThreadHelper.scala:55)\n\tat org.apache.spark.util.threads.SparkThreadLocalCapturingHelper.$anonfun$runWithCaptured$5(SparkThreadLocalForwardingThreadPoolExecutor.scala:116)\n\tat com.databricks.spark.util.IdentityClaim$.withClaim(IdentityClaim.scala:48)\n\tat org.apache.spark.util.threads.SparkThreadLocalCapturingHelper.$anonfun$runWithCaptured$4(SparkThreadLocalForwardingThreadPoolExecutor.scala:115)\n\tat com.databricks.unity.UCSEphemeralState$Handle.runWith(UCSEphemeralState.scala:51)\n\tat org.apache.spark.util.threads.SparkThreadLocalCapturingHelper.runWithCaptured(SparkThreadLocalForwardingThreadPoolExecutor.scala:114)\n\tat org.apache.spark.util.threads.SparkThreadLocalCapturingHelper.runWithCaptured$(SparkThreadLocalForwardingThreadPoolExecutor.scala:91)\n\tat org.apache.spark.util.threads.SparkThreadLocalCapturingRunnable.runWithCaptured(SparkThreadLocalForwardingThreadPoolExecutor.scala:158)\n\tat org.apache.spark.util.threads.SparkThreadLocalCapturingRunnable.run(SparkThreadLocalForwardingThreadPoolExecutor.scala:161)\n\tat java.util.concurrent.ThreadPoolExecutor.runWorker(ThreadPoolExecutor.java:1136)\n\tat java.util.concurrent.ThreadPoolExecutor$Worker.run(ThreadPoolExecutor.java:635)\n\tat java.lang.Thread.run(Thread.java:840)"
       },
       "metadata": {
        "errorSummary": "[UNRESOLVED_ROUTINE] Cannot resolve routine `bronze`.`discounted_func` on search path [`system`.`builtin`, `system`.`session`, `databricks_etl`.`default`].\nVerify the spelling of `bronze`.`discounted_func`, check that the routine exists, and confirm you have `USE` privilege on the catalog and schema, and EXECUTE on the routine. SQLSTATE: 42883"
       },
       "removedWidgets": [],
       "sqlProps": {
        "errorClass": "UNRESOLVED_ROUTINE",
        "pysparkCallSite": "",
        "pysparkFragment": "",
        "pysparkSummary": null,
        "sqlState": "42883",
        "stackTrace": "org.apache.spark.sql.AnalysisException\n\tat org.apache.spark.sql.errors.QueryCompilationErrors$.unresolvedRoutineError(QueryCompilationErrors.scala:1191)\n\tat org.apache.spark.sql.catalyst.analysis.Analyzer$LookupFunctions$$anonfun$apply$19.applyOrElse(Analyzer.scala:2675)\n\tat org.apache.spark.sql.catalyst.analysis.Analyzer$LookupFunctions$$anonfun$apply$19.applyOrElse(Analyzer.scala:2652)\n\tat org.apache.spark.sql.catalyst.trees.TreeNode.$anonfun$transformDownWithPruning$1(TreeNode.scala:521)\n\tat org.apache.spark.sql.catalyst.trees.CurrentOrigin$.withOrigin(origin.scala:85)\n\tat org.apache.spark.sql.catalyst.trees.TreeNode.transformDownWithPruning(TreeNode.scala:521)\n\tat org.apache.spark.sql.catalyst.trees.TreeNode.$anonfun$transformDownWithPruning$3(TreeNode.scala:526)\n\tat org.apache.spark.sql.catalyst.trees.UnaryLike.mapChildren(TreeNode.scala:1330)\n\tat org.apache.spark.sql.catalyst.trees.UnaryLike.mapChildren$(TreeNode.scala:1329)\n\tat org.apache.spark.sql.catalyst.expressions.UnaryExpression.mapChildren(Expression.scala:712)\n\tat org.apache.spark.sql.catalyst.trees.TreeNode.transformDownWithPruning(TreeNode.scala:526)\n\tat org.apache.spark.sql.catalyst.trees.TreeNode.$anonfun$transformDownWithPruning$3(TreeNode.scala:526)\n\tat org.apache.spark.sql.catalyst.trees.UnaryLike.mapChildren(TreeNode.scala:1330)\n\tat org.apache.spark.sql.catalyst.trees.UnaryLike.mapChildren$(TreeNode.scala:1329)\n\tat org.apache.spark.sql.catalyst.expressions.UnaryExpression.mapChildren(Expression.scala:712)\n\tat org.apache.spark.sql.catalyst.trees.TreeNode.transformDownWithPruning(TreeNode.scala:526)\n\tat org.apache.spark.sql.catalyst.plans.QueryPlan.$anonfun$transformExpressionsDownWithPruning$1(QueryPlan.scala:188)\n\tat org.apache.spark.sql.catalyst.plans.QueryPlan.$anonfun$mapExpressions$1(QueryPlan.scala:229)\n\tat org.apache.spark.sql.catalyst.trees.CurrentOrigin$.withOrigin(origin.scala:85)\n\tat org.apache.spark.sql.catalyst.plans.QueryPlan.transformExpression$1(QueryPlan.scala:229)\n\tat org.apache.spark.sql.catalyst.plans.QueryPlan.recursiveTransform$1(QueryPlan.scala:241)\n\tat org.apache.spark.sql.catalyst.plans.QueryPlan.$anonfun$mapExpressions$4(QueryPlan.scala:247)\n\tat scala.collection.TraversableLike.$anonfun$map$1(TraversableLike.scala:286)\n\tat scala.collection.immutable.List.foreach(List.scala:431)\n\tat scala.collection.TraversableLike.map(TraversableLike.scala:286)\n\tat scala.collection.TraversableLike.map$(TraversableLike.scala:279)\n\tat scala.collection.immutable.List.map(List.scala:305)\n\tat org.apache.spark.sql.catalyst.plans.QueryPlan.recursiveTransform$1(QueryPlan.scala:247)\n\tat org.apache.spark.sql.catalyst.plans.QueryPlan.$anonfun$mapExpressions$5(QueryPlan.scala:252)\n\tat org.apache.spark.sql.catalyst.trees.TreeNode.mapProductIterator(TreeNode.scala:363)\n\tat org.apache.spark.sql.catalyst.plans.QueryPlan.mapExpressions(QueryPlan.scala:252)\n\tat org.apache.spark.sql.catalyst.plans.QueryPlan.transformExpressionsDownWithPruning(QueryPlan.scala:188)\n\tat org.apache.spark.sql.catalyst.plans.QueryPlan.transformExpressionsWithPruning(QueryPlan.scala:159)\n\tat org.apache.spark.sql.catalyst.plans.logical.AnalysisHelper$$anonfun$resolveExpressionsDownWithPruning$1.applyOrElse(AnalysisHelper.scala:308)\n\tat org.apache.spark.sql.catalyst.plans.logical.AnalysisHelper$$anonfun$resolveExpressionsDownWithPruning$1.applyOrElse(AnalysisHelper.scala:307)\n\tat org.apache.spark.sql.catalyst.plans.logical.AnalysisHelper.$anonfun$resolveOperatorsDownWithPruning$2(AnalysisHelper.scala:201)\n\tat org.apache.spark.sql.catalyst.trees.CurrentOrigin$.withOrigin(origin.scala:85)\n\tat org.apache.spark.sql.catalyst.plans.logical.AnalysisHelper.$anonfun$resolveOperatorsDownWithPruning$1(AnalysisHelper.scala:201)\n\tat org.apache.spark.sql.catalyst.plans.logical.AnalysisHelper$.allowInvokingTransformsInAnalyzer(AnalysisHelper.scala:418)\n\tat org.apache.spark.sql.catalyst.plans.logical.AnalysisHelper.resolveOperatorsDownWithPruning(AnalysisHelper.scala:199)\n\tat org.apache.spark.sql.catalyst.plans.logical.AnalysisHelper.resolveOperatorsDownWithPruning$(AnalysisHelper.scala:195)\n\tat org.apache.spark.sql.catalyst.plans.logical.LogicalPlan.resolveOperatorsDownWithPruning(LogicalPlan.scala:42)\n\tat org.apache.spark.sql.catalyst.plans.logical.AnalysisHelper.resolveOperatorsWithPruning(AnalysisHelper.scala:102)\n\tat org.apache.spark.sql.catalyst.plans.logical.AnalysisHelper.resolveOperatorsWithPruning$(AnalysisHelper.scala:99)\n\tat org.apache.spark.sql.catalyst.plans.logical.LogicalPlan.resolveOperatorsWithPruning(LogicalPlan.scala:42)\n\tat org.apache.spark.sql.catalyst.plans.logical.AnalysisHelper.resolveExpressionsDownWithPruning(AnalysisHelper.scala:307)\n\tat org.apache.spark.sql.catalyst.plans.logical.AnalysisHelper.resolveExpressionsDownWithPruning$(AnalysisHelper.scala:304)\n\tat org.apache.spark.sql.catalyst.plans.logical.LogicalPlan.resolveExpressionsDownWithPruning(LogicalPlan.scala:42)\n\tat org.apache.spark.sql.catalyst.plans.logical.AnalysisHelper.resolveExpressionsWithPruning(AnalysisHelper.scala:279)\n\tat org.apache.spark.sql.catalyst.plans.logical.AnalysisHelper.resolveExpressionsWithPruning$(AnalysisHelper.scala:277)\n\tat org.apache.spark.sql.catalyst.plans.logical.LogicalPlan.resolveExpressionsWithPruning(LogicalPlan.scala:42)\n\tat org.apache.spark.sql.catalyst.analysis.Analyzer$LookupFunctions$.apply(Analyzer.scala:2652)\n\tat org.apache.spark.sql.catalyst.analysis.Analyzer$LookupFunctions$.apply(Analyzer.scala:2646)\n\tat org.apache.spark.sql.catalyst.rules.RuleExecutor.$anonfun$execute$16(RuleExecutor.scala:480)\n\tat org.apache.spark.sql.catalyst.rules.RecoverableRuleExecutionHelper.processRule(RuleExecutor.scala:629)\n\tat org.apache.spark.sql.catalyst.rules.RecoverableRuleExecutionHelper.processRule$(RuleExecutor.scala:613)\n\tat org.apache.spark.sql.catalyst.rules.RuleExecutor.processRule(RuleExecutor.scala:131)\n\tat org.apache.spark.sql.catalyst.rules.RuleExecutor.$anonfun$execute$15(RuleExecutor.scala:480)\n\tat com.databricks.spark.util.FrameProfiler$.record(FrameProfiler.scala:94)\n\tat org.apache.spark.sql.catalyst.rules.RuleExecutor.$anonfun$execute$14(RuleExecutor.scala:479)\n\tat scala.collection.IndexedSeqOptimized.foldLeft(IndexedSeqOptimized.scala:60)\n\tat scala.collection.IndexedSeqOptimized.foldLeft$(IndexedSeqOptimized.scala:68)\n\tat scala.collection.mutable.WrappedArray.foldLeft(WrappedArray.scala:38)\n\tat org.apache.spark.sql.catalyst.rules.RuleExecutor.$anonfun$execute$13(RuleExecutor.scala:475)\n\tat scala.runtime.java8.JFunction0$mcV$sp.apply(JFunction0$mcV$sp.java:23)\n\tat com.databricks.spark.util.FrameProfiler$.record(FrameProfiler.scala:94)\n\tat org.apache.spark.sql.catalyst.rules.RuleExecutor.executeBatch$1(RuleExecutor.scala:452)\n\tat org.apache.spark.sql.catalyst.rules.RuleExecutor.$anonfun$execute$22(RuleExecutor.scala:585)\n\tat org.apache.spark.sql.catalyst.rules.RuleExecutor.$anonfun$execute$22$adapted(RuleExecutor.scala:585)\n\tat scala.collection.immutable.List.foreach(List.scala:431)\n\tat org.apache.spark.sql.catalyst.rules.RuleExecutor.$anonfun$execute$1(RuleExecutor.scala:585)\n\tat com.databricks.spark.util.FrameProfiler$.record(FrameProfiler.scala:94)\n\tat org.apache.spark.sql.catalyst.rules.RuleExecutor.execute(RuleExecutor.scala:349)\n\tat org.apache.spark.sql.catalyst.analysis.Analyzer.executeSameContext(Analyzer.scala:498)\n\tat org.apache.spark.sql.catalyst.analysis.Analyzer.$anonfun$execute$1(Analyzer.scala:491)\n\tat org.apache.spark.sql.catalyst.analysis.AnalysisContext$.withNewAnalysisContext(Analyzer.scala:397)\n\tat org.apache.spark.sql.catalyst.analysis.Analyzer.execute(Analyzer.scala:491)\n\tat org.apache.spark.sql.catalyst.analysis.Analyzer.execute(Analyzer.scala:416)\n\tat org.apache.spark.sql.catalyst.rules.RuleExecutor.$anonfun$executeAndTrack$1(RuleExecutor.scala:341)\n\tat org.apache.spark.sql.catalyst.QueryPlanningTracker$.withTracker(QueryPlanningTracker.scala:216)\n\tat org.apache.spark.sql.catalyst.rules.RuleExecutor.executeAndTrack(RuleExecutor.scala:341)\n\tat org.apache.spark.sql.catalyst.analysis.resolver.HybridAnalyzer.resolveInFixedPoint(HybridAnalyzer.scala:256)\n\tat org.apache.spark.sql.catalyst.analysis.resolver.HybridAnalyzer.$anonfun$apply$1(HybridAnalyzer.scala:100)\n\tat org.apache.spark.sql.catalyst.analysis.resolver.HybridAnalyzer.withTrackedAnalyzerBridgeState(HybridAnalyzer.scala:135)\n\tat org.apache.spark.sql.catalyst.analysis.resolver.HybridAnalyzer.apply(HybridAnalyzer.scala:91)\n\tat org.apache.spark.sql.catalyst.analysis.Analyzer.$anonfun$executeAndCheck$1(Analyzer.scala:478)\n\tat org.apache.spark.sql.catalyst.plans.logical.AnalysisHelper$.markInAnalyzer(AnalysisHelper.scala:425)\n\tat org.apache.spark.sql.catalyst.analysis.Analyzer.executeAndCheck(Analyzer.scala:478)\n\tat org.apache.spark.sql.execution.QueryExecution.$anonfun$lazyAnalyzed$3(QueryExecution.scala:284)\n\tat com.databricks.spark.util.FrameProfiler$.record(FrameProfiler.scala:94)\n\tat org.apache.spark.sql.catalyst.QueryPlanningTracker.measurePhase(QueryPlanningTracker.scala:532)\n\tat org.apache.spark.sql.execution.QueryExecution.$anonfun$executePhase$5(QueryExecution.scala:645)\n\tat org.apache.spark.sql.execution.SQLExecution$.withExecutionPhase(SQLExecution.scala:148)\n\tat org.apache.spark.sql.execution.QueryExecution.$anonfun$executePhase$4(QueryExecution.scala:645)\n\tat org.apache.spark.sql.execution.QueryExecution$.withInternalError(QueryExecution.scala:1281)\n\tat org.apache.spark.sql.execution.QueryExecution.$anonfun$executePhase$2(QueryExecution.scala:644)\n\tat com.databricks.util.LexicalThreadLocal$Handle.runWith(LexicalThreadLocal.scala:63)\n\tat org.apache.spark.sql.execution.QueryExecution.$anonfun$executePhase$1(QueryExecution.scala:640)\n\tat org.apache.spark.sql.SparkSession.withActive(SparkSession.scala:1450)\n\tat org.apache.spark.sql.execution.QueryExecution.executePhase(QueryExecution.scala:640)\n\tat org.apache.spark.sql.execution.QueryExecution.$anonfun$lazyAnalyzed$2(QueryExecution.scala:278)\n\tat com.databricks.sql.util.MemoryTrackerHelper.withMemoryTracking(MemoryTrackerHelper.scala:80)\n\tat org.apache.spark.sql.execution.QueryExecution.$anonfun$lazyAnalyzed$1(QueryExecution.scala:277)\n\tat scala.util.Try$.apply(Try.scala:213)\n\tat org.apache.spark.util.Utils$.doTryWithCallerStacktrace(Utils.scala:1755)\n\tat org.apache.spark.util.Utils$.getTryWithCallerStacktrace(Utils.scala:1816)\n\tat org.apache.spark.util.LazyTry.get(LazyTry.scala:58)\n\tat org.apache.spark.sql.execution.QueryExecution.analyzed(QueryExecution.scala:311)\n\tat org.apache.spark.sql.execution.QueryExecution.assertAnalyzed(QueryExecution.scala:257)\n\tat org.apache.spark.sql.Dataset$.$anonfun$ofRows$1(Dataset.scala:108)\n\tat org.apache.spark.sql.SparkSession.withActive(SparkSession.scala:1450)\n\tat org.apache.spark.sql.SparkSession.$anonfun$withActiveAndFrameProfiler$1(SparkSession.scala:1457)\n\tat com.databricks.spark.util.FrameProfiler$.record(FrameProfiler.scala:94)\n\tat org.apache.spark.sql.SparkSession.withActiveAndFrameProfiler(SparkSession.scala:1457)\n\tat org.apache.spark.sql.Dataset$.ofRows(Dataset.scala:106)\n\tat org.apache.spark.sql.Dataset.$anonfun$org$apache$spark$sql$Dataset$$withPlan$1(Dataset.scala:5049)\n\tat com.databricks.spark.util.FrameProfiler$.record(FrameProfiler.scala:94)\n\tat org.apache.spark.sql.Dataset.org$apache$spark$sql$Dataset$$withPlan(Dataset.scala:5049)\n\tat org.apache.spark.sql.Dataset.select(Dataset.scala:1850)\n\tat org.apache.spark.sql.Dataset.$anonfun$withColumns$1(Dataset.scala:3216)\n\tat com.databricks.spark.util.FrameProfiler$.record(FrameProfiler.scala:94)\n\tat org.apache.spark.sql.Dataset.withColumns(Dataset.scala:3190)\n\tat org.apache.spark.sql.Dataset.withColumns(Dataset.scala:3232)\n\tat org.apache.spark.sql.connect.planner.SparkConnectPlanner.transformWithColumns(SparkConnectPlanner.scala:1516)\n\tat org.apache.spark.sql.connect.planner.SparkConnectPlanner.$anonfun$transformRelation$1(SparkConnectPlanner.scala:233)\n\tat org.apache.spark.sql.connect.service.SessionHolder.$anonfun$usePlanCache$7(SessionHolder.scala:614)\n\tat org.apache.spark.sql.connect.service.SessionHolder.measureSubtreeRelationNodes(SessionHolder.scala:630)\n\tat org.apache.spark.sql.connect.service.SessionHolder.$anonfun$usePlanCache$5(SessionHolder.scala:613)\n\tat scala.Option.getOrElse(Option.scala:189)\n\tat org.apache.spark.sql.connect.service.SessionHolder.usePlanCache(SessionHolder.scala:611)\n\tat org.apache.spark.sql.connect.planner.SparkConnectPlanner.transformRelation(SparkConnectPlanner.scala:185)\n\tat org.apache.spark.sql.connect.planner.SparkConnectPlanner.transformRelation(SparkConnectPlanner.scala:172)\n\tat org.apache.spark.sql.connect.planner.SparkConnectPlanner.transformWithColumns(SparkConnectPlanner.scala:1515)\n\tat org.apache.spark.sql.connect.planner.SparkConnectPlanner.$anonfun$transformRelation$1(SparkConnectPlanner.scala:233)\n\tat org.apache.spark.sql.connect.service.SessionHolder.$anonfun$usePlanCache$7(SessionHolder.scala:614)\n\tat org.apache.spark.sql.connect.service.SessionHolder.measureSubtreeRelationNodes(SessionHolder.scala:630)\n\tat org.apache.spark.sql.connect.service.SessionHolder.$anonfun$usePlanCache$5(SessionHolder.scala:613)\n\tat scala.Option.getOrElse(Option.scala:189)\n\tat org.apache.spark.sql.connect.service.SessionHolder.usePlanCache(SessionHolder.scala:611)\n\tat org.apache.spark.sql.connect.planner.SparkConnectPlanner.transformRelation(SparkConnectPlanner.scala:185)\n\tat org.apache.spark.sql.connect.planner.SparkConnectPlanner.transformRelation(SparkConnectPlanner.scala:172)\n\tat org.apache.spark.sql.connect.planner.SparkConnectPlanner.transformWithColumns(SparkConnectPlanner.scala:1515)\n\tat org.apache.spark.sql.connect.planner.SparkConnectPlanner.$anonfun$transformRelation$1(SparkConnectPlanner.scala:233)\n\tat org.apache.spark.sql.connect.service.SessionHolder.$anonfun$usePlanCache$7(SessionHolder.scala:614)\n\tat org.apache.spark.sql.connect.service.SessionHolder.measureSubtreeRelationNodes(SessionHolder.scala:630)\n\tat org.apache.spark.sql.connect.service.SessionHolder.$anonfun$usePlanCache$5(SessionHolder.scala:613)\n\tat scala.Option.getOrElse(Option.scala:189)\n\tat org.apache.spark.sql.connect.service.SessionHolder.usePlanCache(SessionHolder.scala:611)\n\tat org.apache.spark.sql.connect.planner.SparkConnectPlanner.transformRelation(SparkConnectPlanner.scala:185)\n\tat org.apache.spark.sql.connect.planner.SparkConnectPlanner.transformRelation(SparkConnectPlanner.scala:172)\n\tat org.apache.spark.sql.connect.planner.SparkConnectPlanner.transformWithColumns(SparkConnectPlanner.scala:1515)\n\tat org.apache.spark.sql.connect.planner.SparkConnectPlanner.$anonfun$transformRelation$1(SparkConnectPlanner.scala:233)\n\tat org.apache.spark.sql.connect.service.SessionHolder.$anonfun$usePlanCache$7(SessionHolder.scala:614)\n\tat org.apache.spark.sql.connect.service.SessionHolder.measureSubtreeRelationNodes(SessionHolder.scala:630)\n\tat org.apache.spark.sql.connect.service.SessionHolder.$anonfun$usePlanCache$5(SessionHolder.scala:613)\n\tat scala.Option.getOrElse(Option.scala:189)\n\tat org.apache.spark.sql.connect.service.SessionHolder.usePlanCache(SessionHolder.scala:611)\n\tat org.apache.spark.sql.connect.planner.SparkConnectPlanner.transformRelation(SparkConnectPlanner.scala:185)\n\tat org.apache.spark.sql.connect.planner.SparkConnectPlanner.transformRelation(SparkConnectPlanner.scala:172)\n\tat org.apache.spark.sql.connect.planner.SparkConnectPlanner.transformWithColumns(SparkConnectPlanner.scala:1515)\n\tat org.apache.spark.sql.connect.planner.SparkConnectPlanner.$anonfun$transformRelation$1(SparkConnectPlanner.scala:233)\n\tat org.apache.spark.sql.connect.service.SessionHolder.$anonfun$usePlanCache$7(SessionHolder.scala:614)\n\tat org.apache.spark.sql.connect.service.SessionHolder.measureSubtreeRelationNodes(SessionHolder.scala:630)\n\tat org.apache.spark.sql.connect.service.SessionHolder.$anonfun$usePlanCache$5(SessionHolder.scala:613)\n\tat scala.Option.getOrElse(Option.scala:189)\n\tat org.apache.spark.sql.connect.service.SessionHolder.usePlanCache(SessionHolder.scala:611)\n\tat org.apache.spark.sql.connect.planner.SparkConnectPlanner.transformRelation(SparkConnectPlanner.scala:185)\n\tat org.apache.spark.sql.connect.planner.SparkConnectPlanner.transformRelation(SparkConnectPlanner.scala:172)\n\tat org.apache.spark.sql.connect.planner.SparkConnectPlanner.transformWithColumns(SparkConnectPlanner.scala:1515)\n\tat org.apache.spark.sql.connect.planner.SparkConnectPlanner.$anonfun$transformRelation$1(SparkConnectPlanner.scala:233)\n\tat org.apache.spark.sql.connect.service.SessionHolder.$anonfun$usePlanCache$7(SessionHolder.scala:614)\n\tat org.apache.spark.sql.connect.service.SessionHolder.measureSubtreeRelationNodes(SessionHolder.scala:630)\n\tat org.apache.spark.sql.connect.service.SessionHolder.$anonfun$usePlanCache$5(SessionHolder.scala:613)\n\tat scala.Option.getOrElse(Option.scala:189)\n\tat org.apache.spark.sql.connect.service.SessionHolder.usePlanCache(SessionHolder.scala:611)\n\tat org.apache.spark.sql.connect.planner.SparkConnectPlanner.transformRelation(SparkConnectPlanner.scala:185)\n\tat org.apache.spark.sql.connect.planner.SparkConnectPlanner.transformRelation(SparkConnectPlanner.scala:172)\n\tat org.apache.spark.sql.connect.planner.SparkConnectPlanner.transformWithColumns(SparkConnectPlanner.scala:1515)\n\tat org.apache.spark.sql.connect.planner.SparkConnectPlanner.$anonfun$transformRelation$1(SparkConnectPlanner.scala:233)\n\tat org.apache.spark.sql.connect.service.SessionHolder.$anonfun$usePlanCache$7(SessionHolder.scala:614)\n\tat org.apache.spark.sql.connect.service.SessionHolder.measureSubtreeRelationNodes(SessionHolder.scala:630)\n\tat org.apache.spark.sql.connect.service.SessionHolder.$anonfun$usePlanCache$5(SessionHolder.scala:613)\n\tat scala.Option.getOrElse(Option.scala:189)\n\tat org.apache.spark.sql.connect.service.SessionHolder.usePlanCache(SessionHolder.scala:611)\n\tat org.apache.spark.sql.connect.planner.SparkConnectPlanner.transformRelation(SparkConnectPlanner.scala:185)\n\tat org.apache.spark.sql.connect.planner.SparkConnectPlanner.transformRelation(SparkConnectPlanner.scala:172)\n\tat org.apache.spark.sql.connect.planner.SparkConnectPlanner.transformWithColumns(SparkConnectPlanner.scala:1515)\n\tat org.apache.spark.sql.connect.planner.SparkConnectPlanner.$anonfun$transformRelation$1(SparkConnectPlanner.scala:233)\n\tat org.apache.spark.sql.connect.service.SessionHolder.$anonfun$usePlanCache$7(SessionHolder.scala:614)\n\tat org.apache.spark.sql.connect.service.SessionHolder.measureSubtreeRelationNodes(SessionHolder.scala:630)\n\tat org.apache.spark.sql.connect.service.SessionHolder.$anonfun$usePlanCache$5(SessionHolder.scala:613)\n\tat scala.Option.getOrElse(Option.scala:189)\n\tat org.apache.spark.sql.connect.service.SessionHolder.usePlanCache(SessionHolder.scala:611)\n\tat org.apache.spark.sql.connect.planner.SparkConnectPlanner.transformRelation(SparkConnectPlanner.scala:185)\n\tat org.apache.spark.sql.connect.planner.SparkConnectPlanner.transformRelation(SparkConnectPlanner.scala:172)\n\tat org.apache.spark.sql.connect.planner.SparkConnectPlanner.transformWithColumns(SparkConnectPlanner.scala:1515)\n\tat org.apache.spark.sql.connect.planner.SparkConnectPlanner.$anonfun$transformRelation$1(SparkConnectPlanner.scala:233)\n\tat org.apache.spark.sql.connect.service.SessionHolder.$anonfun$usePlanCache$7(SessionHolder.scala:614)\n\tat org.apache.spark.sql.connect.service.SessionHolder.measureSubtreeRelationNodes(SessionHolder.scala:630)\n\tat org.apache.spark.sql.connect.service.SessionHolder.$anonfun$usePlanCache$5(SessionHolder.scala:613)\n\tat scala.Option.getOrElse(Option.scala:189)\n\tat org.apache.spark.sql.connect.service.SessionHolder.usePlanCache(SessionHolder.scala:611)\n\tat org.apache.spark.sql.connect.planner.SparkConnectPlanner.transformRelation(SparkConnectPlanner.scala:185)\n\tat org.apache.spark.sql.connect.planner.SparkConnectPlanner.transformRelation(SparkConnectPlanner.scala:172)\n\tat org.apache.spark.sql.connect.planner.SparkConnectPlanner.transformWithColumns(SparkConnectPlanner.scala:1515)\n\tat org.apache.spark.sql.connect.planner.SparkConnectPlanner.$anonfun$transformRelation$1(SparkConnectPlanner.scala:233)\n\tat org.apache.spark.sql.connect.service.SessionHolder.$anonfun$usePlanCache$7(SessionHolder.scala:614)\n\tat org.apache.spark.sql.connect.service.SessionHolder.measureSubtreeRelationNodes(SessionHolder.scala:630)\n\tat org.apache.spark.sql.connect.service.SessionHolder.$anonfun$usePlanCache$5(SessionHolder.scala:613)\n\tat scala.Option.getOrElse(Option.scala:189)\n\tat org.apache.spark.sql.connect.service.SessionHolder.usePlanCache(SessionHolder.scala:611)\n\tat org.apache.spark.sql.connect.planner.SparkConnectPlanner.transformRelation(SparkConnectPlanner.scala:185)\n\tat org.apache.spark.sql.connect.planner.SparkConnectPlanner.transformRelation(SparkConnectPlanner.scala:172)\n\tat org.apache.spark.sql.connect.planner.SparkConnectPlanner.transformWithColumns(SparkConnectPlanner.scala:1515)\n\tat org.apache.spark.sql.connect.planner.SparkConnectPlanner.$anonfun$transformRelation$1(SparkConnectPlanner.scala:233)\n\tat org.apache.spark.sql.connect.service.SessionHolder.$anonfun$usePlanCache$7(SessionHolder.scala:614)\n\tat org.apache.spark.sql.connect.service.SessionHolder.measureSubtreeRelationNodes(SessionHolder.scala:630)\n\tat org.apache.spark.sql.connect.service.SessionHolder.$anonfun$usePlanCache$5(SessionHolder.scala:613)\n\tat scala.Option.getOrElse(Option.scala:189)\n\tat org.apache.spark.sql.connect.service.SessionHolder.usePlanCache(SessionHolder.scala:611)\n\tat org.apache.spark.sql.connect.planner.SparkConnectPlanner.transformRelation(SparkConnectPlanner.scala:185)\n\tat org.apache.spark.sql.connect.planner.SparkConnectPlanner.transformRelation(SparkConnectPlanner.scala:172)\n\tat org.apache.spark.sql.connect.planner.SparkConnectPlanner.transformWithColumns(SparkConnectPlanner.scala:1515)\n\tat org.apache.spark.sql.connect.planner.SparkConnectPlanner.$anonfun$transformRelation$1(SparkConnectPlanner.scala:233)\n\tat org.apache.spark.sql.connect.service.SessionHolder.$anonfun$usePlanCache$7(SessionHolder.scala:614)\n\tat org.apache.spark.sql.connect.service.SessionHolder.measureSubtreeRelationNodes(SessionHolder.scala:630)\n\tat org.apache.spark.sql.connect.service.SessionHolder.$anonfun$usePlanCache$5(SessionHolder.scala:613)\n\tat scala.Option.getOrElse(Option.scala:189)\n\tat org.apache.spark.sql.connect.service.SessionHolder.usePlanCache(SessionHolder.scala:611)\n\tat org.apache.spark.sql.connect.planner.SparkConnectPlanner.transformRelation(SparkConnectPlanner.scala:185)\n\tat org.apache.spark.sql.connect.planner.SparkConnectPlanner.transformRelation(SparkConnectPlanner.scala:172)\n\tat org.apache.spark.sql.connect.planner.SparkConnectPlanner.transformWithColumns(SparkConnectPlanner.scala:1515)\n\tat org.apache.spark.sql.connect.planner.SparkConnectPlanner.$anonfun$transformRelation$1(SparkConnectPlanner.scala:233)\n\tat org.apache.spark.sql.connect.service.SessionHolder.$anonfun$usePlanCache$7(SessionHolder.scala:614)\n\tat org.apache.spark.sql.connect.service.SessionHolder.measureSubtreeRelationNodes(SessionHolder.scala:630)\n\tat org.apache.spark.sql.connect.service.SessionHolder.$anonfun$usePlanCache$5(SessionHolder.scala:613)\n\tat scala.Option.getOrElse(Option.scala:189)\n\tat org.apache.spark.sql.connect.service.SessionHolder.usePlanCache(SessionHolder.scala:611)\n\tat org.apache.spark.sql.connect.planner.SparkConnectPlanner.transformRelation(SparkConnectPlanner.scala:185)\n\tat org.apache.spark.sql.connect.service.SparkConnectAnalyzeHandler.transformRelation$1(SparkConnectAnalyzeHandler.scala:119)\n\tat org.apache.spark.sql.connect.service.SparkConnectAnalyzeHandler.process(SparkConnectAnalyzeHandler.scala:130)\n\tat org.apache.spark.sql.connect.service.SparkConnectAnalyzeHandler.$anonfun$handle$3(SparkConnectAnalyzeHandler.scala:104)\n\tat org.apache.spark.sql.connect.service.SparkConnectAnalyzeHandler.$anonfun$handle$3$adapted(SparkConnectAnalyzeHandler.scala:66)\n\tat org.apache.spark.sql.connect.service.SessionHolder.$anonfun$withSession$2(SessionHolder.scala:464)\n\tat org.apache.spark.sql.SparkSession.withActive(SparkSession.scala:1450)\n\tat org.apache.spark.sql.connect.service.SessionHolder.$anonfun$withSession$1(SessionHolder.scala:464)\n\tat org.apache.spark.JobArtifactSet$.withActiveJobArtifactState(JobArtifactSet.scala:97)\n\tat org.apache.spark.sql.artifact.ArtifactManager.$anonfun$withResources$1(ArtifactManager.scala:90)\n\tat org.apache.spark.util.Utils$.withContextClassLoader(Utils.scala:240)\n\tat org.apache.spark.sql.artifact.ArtifactManager.withResources(ArtifactManager.scala:89)\n\tat org.apache.spark.sql.connect.service.SessionHolder.withSession(SessionHolder.scala:463)\n\tat org.apache.spark.sql.connect.service.SparkConnectAnalyzeHandler.$anonfun$handle$1(SparkConnectAnalyzeHandler.scala:66)\n\tat org.apache.spark.sql.connect.service.SparkConnectAnalyzeHandler.$anonfun$handle$1$adapted(SparkConnectAnalyzeHandler.scala:51)\n\tat com.databricks.spark.connect.logging.rpc.SparkConnectRpcMetricsCollectorUtils$.collectMetrics(SparkConnectRpcMetricsCollector.scala:258)\n\tat org.apache.spark.sql.connect.service.SparkConnectAnalyzeHandler.handle(SparkConnectAnalyzeHandler.scala:50)\n\tat org.apache.spark.sql.connect.service.SparkConnectService.analyzePlan(SparkConnectService.scala:109)\n\tat org.apache.spark.connect.proto.SparkConnectServiceGrpc$MethodHandlers.invoke(SparkConnectServiceGrpc.java:801)\n\tat grpc_shaded.io.grpc.stub.ServerCalls$UnaryServerCallHandler$UnaryServerCallListener.onHalfClose(ServerCalls.java:182)\n\tat grpc_shaded.io.grpc.PartialForwardingServerCallListener.onHalfClose(PartialForwardingServerCallListener.java:35)\n\tat grpc_shaded.io.grpc.ForwardingServerCallListener.onHalfClose(ForwardingServerCallListener.java:23)\n\tat grpc_shaded.io.grpc.ForwardingServerCallListener$SimpleForwardingServerCallListener.onHalfClose(ForwardingServerCallListener.java:40)\n\tat com.databricks.spark.connect.service.AuthenticationInterceptor$AuthenticatedServerCallListener.$anonfun$onHalfClose$1(AuthenticationInterceptor.scala:381)\n\tat scala.runtime.java8.JFunction0$mcV$sp.apply(JFunction0$mcV$sp.java:23)\n\tat com.databricks.unity.UCSEphemeralState$Handle.runWith(UCSEphemeralState.scala:51)\n\tat com.databricks.unity.HandleImpl.runWith(UCSHandle.scala:104)\n\tat com.databricks.spark.connect.service.RequestContext.$anonfun$runWith$3(RequestContext.scala:337)\n\tat com.databricks.spark.connect.service.RequestContext$.com$databricks$spark$connect$service$RequestContext$$withLocalProperties(RequestContext.scala:537)\n\tat com.databricks.spark.connect.service.RequestContext.$anonfun$runWith$2(RequestContext.scala:337)\n\tat com.databricks.logging.AttributionContextTracing.$anonfun$withAttributionContext$1(AttributionContextTracing.scala:49)\n\tat com.databricks.logging.AttributionContext$.$anonfun$withValue$1(AttributionContext.scala:293)\n\tat scala.util.DynamicVariable.withValue(DynamicVariable.scala:62)\n\tat com.databricks.logging.AttributionContext$.withValue(AttributionContext.scala:289)\n\tat com.databricks.logging.AttributionContextTracing.withAttributionContext(AttributionContextTracing.scala:47)\n\tat com.databricks.logging.AttributionContextTracing.withAttributionContext$(AttributionContextTracing.scala:44)\n\tat com.databricks.spark.util.PublicDBLogging.withAttributionContext(DatabricksSparkUsageLogger.scala:30)\n\tat com.databricks.spark.util.UniverseAttributionContextWrapper.withValue(AttributionContextUtils.scala:242)\n\tat com.databricks.spark.connect.service.RequestContext.$anonfun$runWith$1(RequestContext.scala:336)\n\tat com.databricks.spark.connect.service.RequestContext.withContext(RequestContext.scala:349)\n\tat com.databricks.spark.connect.service.RequestContext.runWith(RequestContext.scala:329)\n\tat com.databricks.spark.connect.service.AuthenticationInterceptor$AuthenticatedServerCallListener.onHalfClose(AuthenticationInterceptor.scala:381)\n\tat grpc_shaded.io.grpc.PartialForwardingServerCallListener.onHalfClose(PartialForwardingServerCallListener.java:35)\n\tat grpc_shaded.io.grpc.ForwardingServerCallListener.onHalfClose(ForwardingServerCallListener.java:23)\n\tat grpc_shaded.io.grpc.ForwardingServerCallListener$SimpleForwardingServerCallListener.onHalfClose(ForwardingServerCallListener.java:40)\n\tat grpc_shaded.io.grpc.internal.ServerCallImpl$ServerStreamListenerImpl.halfClosed(ServerCallImpl.java:351)\n\tat grpc_shaded.io.grpc.internal.ServerImpl$JumpToApplicationThreadServerStreamListener$1HalfClosed.runInContext(ServerImpl.java:861)\n\tat grpc_shaded.io.grpc.internal.ContextRunnable.run(ContextRunnable.java:37)\n\tat grpc_shaded.io.grpc.internal.SerializingExecutor.run(SerializingExecutor.java:133)\n\tat org.apache.spark.util.threads.SparkThreadLocalCapturingRunnable.$anonfun$run$1(SparkThreadLocalForwardingThreadPoolExecutor.scala:161)\n\tat scala.runtime.java8.JFunction0$mcV$sp.apply(JFunction0$mcV$sp.java:23)\n\tat com.databricks.sql.transaction.tahoe.mst.MSTThreadHelper$.runWithMstTxnId(MSTThreadHelper.scala:55)\n\tat org.apache.spark.util.threads.SparkThreadLocalCapturingHelper.$anonfun$runWithCaptured$5(SparkThreadLocalForwardingThreadPoolExecutor.scala:116)\n\tat com.databricks.spark.util.IdentityClaim$.withClaim(IdentityClaim.scala:48)\n\tat org.apache.spark.util.threads.SparkThreadLocalCapturingHelper.$anonfun$runWithCaptured$4(SparkThreadLocalForwardingThreadPoolExecutor.scala:115)\n\tat com.databricks.unity.UCSEphemeralState$Handle.runWith(UCSEphemeralState.scala:51)\n\tat org.apache.spark.util.threads.SparkThreadLocalCapturingHelper.runWithCaptured(SparkThreadLocalForwardingThreadPoolExecutor.scala:114)\n\tat org.apache.spark.util.threads.SparkThreadLocalCapturingHelper.runWithCaptured$(SparkThreadLocalForwardingThreadPoolExecutor.scala:91)\n\tat org.apache.spark.util.threads.SparkThreadLocalCapturingRunnable.runWithCaptured(SparkThreadLocalForwardingThreadPoolExecutor.scala:158)\n\tat org.apache.spark.util.threads.SparkThreadLocalCapturingRunnable.run(SparkThreadLocalForwardingThreadPoolExecutor.scala:161)\n\tat java.util.concurrent.ThreadPoolExecutor.runWorker(ThreadPoolExecutor.java:1136)\n\tat java.util.concurrent.ThreadPoolExecutor$Worker.run(ThreadPoolExecutor.java:635)\n\tat java.lang.Thread.run(Thread.java:840)",
        "startIndex": 1,
        "stopIndex": 29
       },
       "stackFrames": [
        "\u001B[0;31m---------------------------------------------------------------------------\u001B[0m",
        "\u001B[0;31mAnalysisException\u001B[0m                         Traceback (most recent call last)",
        "File \u001B[0;32m<command-7677973737982811>, line 12\u001B[0m\n\u001B[1;32m      9\u001B[0m discounted_func_udf \u001B[38;5;241m=\u001B[39m udf(discounted_func, DoubleType())\n\u001B[1;32m     11\u001B[0m \u001B[38;5;66;03m# Use the UDF in the DataFrame\u001B[39;00m\n\u001B[0;32m---> 12\u001B[0m df \u001B[38;5;241m=\u001B[39m df\u001B[38;5;241m.\u001B[39mwithColumn(\u001B[38;5;124m\"\u001B[39m\u001B[38;5;124mdiscounted_price\u001B[39m\u001B[38;5;124m\"\u001B[39m, discounted_func_udf(df[\u001B[38;5;124m\"\u001B[39m\u001B[38;5;124mprice\u001B[39m\u001B[38;5;124m\"\u001B[39m]))\n\u001B[1;32m     13\u001B[0m display(df)\n",
        "File \u001B[0;32m/databricks/python/lib/python3.11/site-packages/pyspark/sql/connect/dataframe.py:1860\u001B[0m, in \u001B[0;36mDataFrame.__getitem__\u001B[0;34m(self, item)\u001B[0m\n\u001B[1;32m   1856\u001B[0m     \u001B[38;5;28;01mfrom\u001B[39;00m \u001B[38;5;21;01mpyspark\u001B[39;00m\u001B[38;5;21;01m.\u001B[39;00m\u001B[38;5;21;01msql\u001B[39;00m\u001B[38;5;21;01m.\u001B[39;00m\u001B[38;5;21;01mconnect\u001B[39;00m\u001B[38;5;21;01m.\u001B[39;00m\u001B[38;5;21;01mtypes\u001B[39;00m \u001B[38;5;28;01mimport\u001B[39;00m verify_col_name\n\u001B[1;32m   1858\u001B[0m     \u001B[38;5;66;03m# Try best to verify the column name with cached schema\u001B[39;00m\n\u001B[1;32m   1859\u001B[0m     \u001B[38;5;66;03m# If fails, fall back to the server side validation\u001B[39;00m\n\u001B[0;32m-> 1860\u001B[0m     \u001B[38;5;28;01mif\u001B[39;00m \u001B[38;5;129;01mnot\u001B[39;00m verify_col_name(item, \u001B[38;5;28mself\u001B[39m\u001B[38;5;241m.\u001B[39mschema):\n\u001B[1;32m   1861\u001B[0m         \u001B[38;5;28mself\u001B[39m\u001B[38;5;241m.\u001B[39mselect(item)\u001B[38;5;241m.\u001B[39misLocal()\n\u001B[1;32m   1863\u001B[0m \u001B[38;5;28;01mreturn\u001B[39;00m \u001B[38;5;28mself\u001B[39m\u001B[38;5;241m.\u001B[39m_col(item)\n",
        "File \u001B[0;32m/databricks/python/lib/python3.11/site-packages/pyspark/sql/connect/dataframe.py:2000\u001B[0m, in \u001B[0;36mDataFrame.schema\u001B[0;34m(self)\u001B[0m\n\u001B[1;32m   1998\u001B[0m \u001B[38;5;28;01mif\u001B[39;00m \u001B[38;5;28mself\u001B[39m\u001B[38;5;241m.\u001B[39m_cached_schema \u001B[38;5;129;01mis\u001B[39;00m \u001B[38;5;28;01mNone\u001B[39;00m:\n\u001B[1;32m   1999\u001B[0m     query \u001B[38;5;241m=\u001B[39m \u001B[38;5;28mself\u001B[39m\u001B[38;5;241m.\u001B[39m_plan\u001B[38;5;241m.\u001B[39mto_proto(\u001B[38;5;28mself\u001B[39m\u001B[38;5;241m.\u001B[39m_session\u001B[38;5;241m.\u001B[39mclient)\n\u001B[0;32m-> 2000\u001B[0m     \u001B[38;5;28mself\u001B[39m\u001B[38;5;241m.\u001B[39m_cached_schema \u001B[38;5;241m=\u001B[39m \u001B[38;5;28mself\u001B[39m\u001B[38;5;241m.\u001B[39m_session\u001B[38;5;241m.\u001B[39mclient\u001B[38;5;241m.\u001B[39mschema(query)\n\u001B[1;32m   2001\u001B[0m \u001B[38;5;28;01mreturn\u001B[39;00m copy\u001B[38;5;241m.\u001B[39mdeepcopy(\u001B[38;5;28mself\u001B[39m\u001B[38;5;241m.\u001B[39m_cached_schema)\n",
        "File \u001B[0;32m/databricks/python/lib/python3.11/site-packages/pyspark/sql/connect/client/core.py:1262\u001B[0m, in \u001B[0;36mSparkConnectClient.schema\u001B[0;34m(self, plan)\u001B[0m\n\u001B[1;32m   1260\u001B[0m \u001B[38;5;28;01mif\u001B[39;00m logger\u001B[38;5;241m.\u001B[39misEnabledFor(logging\u001B[38;5;241m.\u001B[39mINFO):\n\u001B[1;32m   1261\u001B[0m     logger\u001B[38;5;241m.\u001B[39minfo(\u001B[38;5;124mf\u001B[39m\u001B[38;5;124m\"\u001B[39m\u001B[38;5;124mSchema for plan: \u001B[39m\u001B[38;5;132;01m{\u001B[39;00m\u001B[38;5;28mself\u001B[39m\u001B[38;5;241m.\u001B[39m_proto_to_string(plan,\u001B[38;5;250m \u001B[39m\u001B[38;5;28;01mTrue\u001B[39;00m)\u001B[38;5;132;01m}\u001B[39;00m\u001B[38;5;124m\"\u001B[39m)\n\u001B[0;32m-> 1262\u001B[0m schema \u001B[38;5;241m=\u001B[39m \u001B[38;5;28mself\u001B[39m\u001B[38;5;241m.\u001B[39m_analyze(method\u001B[38;5;241m=\u001B[39m\u001B[38;5;124m\"\u001B[39m\u001B[38;5;124mschema\u001B[39m\u001B[38;5;124m\"\u001B[39m, plan\u001B[38;5;241m=\u001B[39mplan)\u001B[38;5;241m.\u001B[39mschema\n\u001B[1;32m   1263\u001B[0m \u001B[38;5;28;01massert\u001B[39;00m schema \u001B[38;5;129;01mis\u001B[39;00m \u001B[38;5;129;01mnot\u001B[39;00m \u001B[38;5;28;01mNone\u001B[39;00m\n\u001B[1;32m   1264\u001B[0m \u001B[38;5;66;03m# Server side should populate the struct field which is the schema.\u001B[39;00m\n",
        "File \u001B[0;32m/databricks/python/lib/python3.11/site-packages/pyspark/sql/connect/client/core.py:1540\u001B[0m, in \u001B[0;36mSparkConnectClient._analyze\u001B[0;34m(self, method, **kwargs)\u001B[0m\n\u001B[1;32m   1538\u001B[0m     \u001B[38;5;28;01mraise\u001B[39;00m SparkConnectException(\u001B[38;5;124m\"\u001B[39m\u001B[38;5;124mInvalid state during retry exception handling.\u001B[39m\u001B[38;5;124m\"\u001B[39m)\n\u001B[1;32m   1539\u001B[0m \u001B[38;5;28;01mexcept\u001B[39;00m \u001B[38;5;167;01mException\u001B[39;00m \u001B[38;5;28;01mas\u001B[39;00m error:\n\u001B[0;32m-> 1540\u001B[0m     \u001B[38;5;28mself\u001B[39m\u001B[38;5;241m.\u001B[39m_handle_error(error)\n",
        "File \u001B[0;32m/databricks/python/lib/python3.11/site-packages/pyspark/sql/connect/client/core.py:2047\u001B[0m, in \u001B[0;36mSparkConnectClient._handle_error\u001B[0;34m(self, error)\u001B[0m\n\u001B[1;32m   2045\u001B[0m \u001B[38;5;28mself\u001B[39m\u001B[38;5;241m.\u001B[39mthread_local\u001B[38;5;241m.\u001B[39minside_error_handling \u001B[38;5;241m=\u001B[39m \u001B[38;5;28;01mTrue\u001B[39;00m\n\u001B[1;32m   2046\u001B[0m \u001B[38;5;28;01mif\u001B[39;00m \u001B[38;5;28misinstance\u001B[39m(error, grpc\u001B[38;5;241m.\u001B[39mRpcError):\n\u001B[0;32m-> 2047\u001B[0m     \u001B[38;5;28mself\u001B[39m\u001B[38;5;241m.\u001B[39m_handle_rpc_error(error)\n\u001B[1;32m   2048\u001B[0m \u001B[38;5;28;01melif\u001B[39;00m \u001B[38;5;28misinstance\u001B[39m(error, \u001B[38;5;167;01mValueError\u001B[39;00m):\n\u001B[1;32m   2049\u001B[0m     \u001B[38;5;28;01mif\u001B[39;00m \u001B[38;5;124m\"\u001B[39m\u001B[38;5;124mCannot invoke RPC\u001B[39m\u001B[38;5;124m\"\u001B[39m \u001B[38;5;129;01min\u001B[39;00m \u001B[38;5;28mstr\u001B[39m(error) \u001B[38;5;129;01mand\u001B[39;00m \u001B[38;5;124m\"\u001B[39m\u001B[38;5;124mclosed\u001B[39m\u001B[38;5;124m\"\u001B[39m \u001B[38;5;129;01min\u001B[39;00m \u001B[38;5;28mstr\u001B[39m(error):\n",
        "File \u001B[0;32m/databricks/python/lib/python3.11/site-packages/pyspark/sql/connect/client/core.py:2149\u001B[0m, in \u001B[0;36mSparkConnectClient._handle_rpc_error\u001B[0;34m(self, rpc_error)\u001B[0m\n\u001B[1;32m   2134\u001B[0m                 \u001B[38;5;28;01mraise\u001B[39;00m \u001B[38;5;167;01mException\u001B[39;00m(\n\u001B[1;32m   2135\u001B[0m                     \u001B[38;5;124m\"\u001B[39m\u001B[38;5;124mPython versions in the Spark Connect client and server are different. \u001B[39m\u001B[38;5;124m\"\u001B[39m\n\u001B[1;32m   2136\u001B[0m                     \u001B[38;5;124m\"\u001B[39m\u001B[38;5;124mTo execute user-defined functions, client and server should have the \u001B[39m\u001B[38;5;124m\"\u001B[39m\n\u001B[0;32m   (...)\u001B[0m\n\u001B[1;32m   2145\u001B[0m                     \u001B[38;5;124m\"\u001B[39m\u001B[38;5;124mhttps://docs.databricks.com/en/release-notes/serverless.html.\u001B[39m\u001B[38;5;124m\"\u001B[39m\n\u001B[1;32m   2146\u001B[0m                 )\n\u001B[1;32m   2147\u001B[0m             \u001B[38;5;66;03m# END-EDGE\u001B[39;00m\n\u001B[0;32m-> 2149\u001B[0m             \u001B[38;5;28;01mraise\u001B[39;00m convert_exception(\n\u001B[1;32m   2150\u001B[0m                 info,\n\u001B[1;32m   2151\u001B[0m                 status\u001B[38;5;241m.\u001B[39mmessage,\n\u001B[1;32m   2152\u001B[0m                 \u001B[38;5;28mself\u001B[39m\u001B[38;5;241m.\u001B[39m_fetch_enriched_error(info),\n\u001B[1;32m   2153\u001B[0m                 \u001B[38;5;28mself\u001B[39m\u001B[38;5;241m.\u001B[39m_display_server_stack_trace(),\n\u001B[1;32m   2154\u001B[0m             ) \u001B[38;5;28;01mfrom\u001B[39;00m \u001B[38;5;28;01mNone\u001B[39;00m\n\u001B[1;32m   2156\u001B[0m     \u001B[38;5;28;01mraise\u001B[39;00m SparkConnectGrpcException(status\u001B[38;5;241m.\u001B[39mmessage) \u001B[38;5;28;01mfrom\u001B[39;00m \u001B[38;5;28;01mNone\u001B[39;00m\n\u001B[1;32m   2157\u001B[0m \u001B[38;5;28;01melse\u001B[39;00m:\n",
        "\u001B[0;31mAnalysisException\u001B[0m: [UNRESOLVED_ROUTINE] Cannot resolve routine `bronze`.`discounted_func` on search path [`system`.`builtin`, `system`.`session`, `databricks_etl`.`default`].\nVerify the spelling of `bronze`.`discounted_func`, check that the routine exists, and confirm you have `USE` privilege on the catalog and schema, and EXECUTE on the routine. SQLSTATE: 42883; line 1 pos 0\n\nJVM stacktrace:\norg.apache.spark.sql.AnalysisException\n\tat org.apache.spark.sql.errors.QueryCompilationErrors$.unresolvedRoutineError(QueryCompilationErrors.scala:1191)\n\tat org.apache.spark.sql.catalyst.analysis.Analyzer$LookupFunctions$$anonfun$apply$19.applyOrElse(Analyzer.scala:2675)\n\tat org.apache.spark.sql.catalyst.analysis.Analyzer$LookupFunctions$$anonfun$apply$19.applyOrElse(Analyzer.scala:2652)\n\tat org.apache.spark.sql.catalyst.trees.TreeNode.$anonfun$transformDownWithPruning$1(TreeNode.scala:521)\n\tat org.apache.spark.sql.catalyst.trees.CurrentOrigin$.withOrigin(origin.scala:85)\n\tat org.apache.spark.sql.catalyst.trees.TreeNode.transformDownWithPruning(TreeNode.scala:521)\n\tat org.apache.spark.sql.catalyst.trees.TreeNode.$anonfun$transformDownWithPruning$3(TreeNode.scala:526)\n\tat org.apache.spark.sql.catalyst.trees.UnaryLike.mapChildren(TreeNode.scala:1330)\n\tat org.apache.spark.sql.catalyst.trees.UnaryLike.mapChildren$(TreeNode.scala:1329)\n\tat org.apache.spark.sql.catalyst.expressions.UnaryExpression.mapChildren(Expression.scala:712)\n\tat org.apache.spark.sql.catalyst.trees.TreeNode.transformDownWithPruning(TreeNode.scala:526)\n\tat org.apache.spark.sql.catalyst.trees.TreeNode.$anonfun$transformDownWithPruning$3(TreeNode.scala:526)\n\tat org.apache.spark.sql.catalyst.trees.UnaryLike.mapChildren(TreeNode.scala:1330)\n\tat org.apache.spark.sql.catalyst.trees.UnaryLike.mapChildren$(TreeNode.scala:1329)\n\tat org.apache.spark.sql.catalyst.expressions.UnaryExpression.mapChildren(Expression.scala:712)\n\tat org.apache.spark.sql.catalyst.trees.TreeNode.transformDownWithPruning(TreeNode.scala:526)\n\tat org.apache.spark.sql.catalyst.plans.QueryPlan.$anonfun$transformExpressionsDownWithPruning$1(QueryPlan.scala:188)\n\tat org.apache.spark.sql.catalyst.plans.QueryPlan.$anonfun$mapExpressions$1(QueryPlan.scala:229)\n\tat org.apache.spark.sql.catalyst.trees.CurrentOrigin$.withOrigin(origin.scala:85)\n\tat org.apache.spark.sql.catalyst.plans.QueryPlan.transformExpression$1(QueryPlan.scala:229)\n\tat org.apache.spark.sql.catalyst.plans.QueryPlan.recursiveTransform$1(QueryPlan.scala:241)\n\tat org.apache.spark.sql.catalyst.plans.QueryPlan.$anonfun$mapExpressions$4(QueryPlan.scala:247)\n\tat scala.collection.TraversableLike.$anonfun$map$1(TraversableLike.scala:286)\n\tat scala.collection.immutable.List.foreach(List.scala:431)\n\tat scala.collection.TraversableLike.map(TraversableLike.scala:286)\n\tat scala.collection.TraversableLike.map$(TraversableLike.scala:279)\n\tat scala.collection.immutable.List.map(List.scala:305)\n\tat org.apache.spark.sql.catalyst.plans.QueryPlan.recursiveTransform$1(QueryPlan.scala:247)\n\tat org.apache.spark.sql.catalyst.plans.QueryPlan.$anonfun$mapExpressions$5(QueryPlan.scala:252)\n\tat org.apache.spark.sql.catalyst.trees.TreeNode.mapProductIterator(TreeNode.scala:363)\n\tat org.apache.spark.sql.catalyst.plans.QueryPlan.mapExpressions(QueryPlan.scala:252)\n\tat org.apache.spark.sql.catalyst.plans.QueryPlan.transformExpressionsDownWithPruning(QueryPlan.scala:188)\n\tat org.apache.spark.sql.catalyst.plans.QueryPlan.transformExpressionsWithPruning(QueryPlan.scala:159)\n\tat org.apache.spark.sql.catalyst.plans.logical.AnalysisHelper$$anonfun$resolveExpressionsDownWithPruning$1.applyOrElse(AnalysisHelper.scala:308)\n\tat org.apache.spark.sql.catalyst.plans.logical.AnalysisHelper$$anonfun$resolveExpressionsDownWithPruning$1.applyOrElse(AnalysisHelper.scala:307)\n\tat org.apache.spark.sql.catalyst.plans.logical.AnalysisHelper.$anonfun$resolveOperatorsDownWithPruning$2(AnalysisHelper.scala:201)\n\tat org.apache.spark.sql.catalyst.trees.CurrentOrigin$.withOrigin(origin.scala:85)\n\tat org.apache.spark.sql.catalyst.plans.logical.AnalysisHelper.$anonfun$resolveOperatorsDownWithPruning$1(AnalysisHelper.scala:201)\n\tat org.apache.spark.sql.catalyst.plans.logical.AnalysisHelper$.allowInvokingTransformsInAnalyzer(AnalysisHelper.scala:418)\n\tat org.apache.spark.sql.catalyst.plans.logical.AnalysisHelper.resolveOperatorsDownWithPruning(AnalysisHelper.scala:199)\n\tat org.apache.spark.sql.catalyst.plans.logical.AnalysisHelper.resolveOperatorsDownWithPruning$(AnalysisHelper.scala:195)\n\tat org.apache.spark.sql.catalyst.plans.logical.LogicalPlan.resolveOperatorsDownWithPruning(LogicalPlan.scala:42)\n\tat org.apache.spark.sql.catalyst.plans.logical.AnalysisHelper.resolveOperatorsWithPruning(AnalysisHelper.scala:102)\n\tat org.apache.spark.sql.catalyst.plans.logical.AnalysisHelper.resolveOperatorsWithPruning$(AnalysisHelper.scala:99)\n\tat org.apache.spark.sql.catalyst.plans.logical.LogicalPlan.resolveOperatorsWithPruning(LogicalPlan.scala:42)\n\tat org.apache.spark.sql.catalyst.plans.logical.AnalysisHelper.resolveExpressionsDownWithPruning(AnalysisHelper.scala:307)\n\tat org.apache.spark.sql.catalyst.plans.logical.AnalysisHelper.resolveExpressionsDownWithPruning$(AnalysisHelper.scala:304)\n\tat org.apache.spark.sql.catalyst.plans.logical.LogicalPlan.resolveExpressionsDownWithPruning(LogicalPlan.scala:42)\n\tat org.apache.spark.sql.catalyst.plans.logical.AnalysisHelper.resolveExpressionsWithPruning(AnalysisHelper.scala:279)\n\tat org.apache.spark.sql.catalyst.plans.logical.AnalysisHelper.resolveExpressionsWithPruning$(AnalysisHelper.scala:277)\n\tat org.apache.spark.sql.catalyst.plans.logical.LogicalPlan.resolveExpressionsWithPruning(LogicalPlan.scala:42)\n\tat org.apache.spark.sql.catalyst.analysis.Analyzer$LookupFunctions$.apply(Analyzer.scala:2652)\n\tat org.apache.spark.sql.catalyst.analysis.Analyzer$LookupFunctions$.apply(Analyzer.scala:2646)\n\tat org.apache.spark.sql.catalyst.rules.RuleExecutor.$anonfun$execute$16(RuleExecutor.scala:480)\n\tat org.apache.spark.sql.catalyst.rules.RecoverableRuleExecutionHelper.processRule(RuleExecutor.scala:629)\n\tat org.apache.spark.sql.catalyst.rules.RecoverableRuleExecutionHelper.processRule$(RuleExecutor.scala:613)\n\tat org.apache.spark.sql.catalyst.rules.RuleExecutor.processRule(RuleExecutor.scala:131)\n\tat org.apache.spark.sql.catalyst.rules.RuleExecutor.$anonfun$execute$15(RuleExecutor.scala:480)\n\tat com.databricks.spark.util.FrameProfiler$.record(FrameProfiler.scala:94)\n\tat org.apache.spark.sql.catalyst.rules.RuleExecutor.$anonfun$execute$14(RuleExecutor.scala:479)\n\tat scala.collection.IndexedSeqOptimized.foldLeft(IndexedSeqOptimized.scala:60)\n\tat scala.collection.IndexedSeqOptimized.foldLeft$(IndexedSeqOptimized.scala:68)\n\tat scala.collection.mutable.WrappedArray.foldLeft(WrappedArray.scala:38)\n\tat org.apache.spark.sql.catalyst.rules.RuleExecutor.$anonfun$execute$13(RuleExecutor.scala:475)\n\tat scala.runtime.java8.JFunction0$mcV$sp.apply(JFunction0$mcV$sp.java:23)\n\tat com.databricks.spark.util.FrameProfiler$.record(FrameProfiler.scala:94)\n\tat org.apache.spark.sql.catalyst.rules.RuleExecutor.executeBatch$1(RuleExecutor.scala:452)\n\tat org.apache.spark.sql.catalyst.rules.RuleExecutor.$anonfun$execute$22(RuleExecutor.scala:585)\n\tat org.apache.spark.sql.catalyst.rules.RuleExecutor.$anonfun$execute$22$adapted(RuleExecutor.scala:585)\n\tat scala.collection.immutable.List.foreach(List.scala:431)\n\tat org.apache.spark.sql.catalyst.rules.RuleExecutor.$anonfun$execute$1(RuleExecutor.scala:585)\n\tat com.databricks.spark.util.FrameProfiler$.record(FrameProfiler.scala:94)\n\tat org.apache.spark.sql.catalyst.rules.RuleExecutor.execute(RuleExecutor.scala:349)\n\tat org.apache.spark.sql.catalyst.analysis.Analyzer.executeSameContext(Analyzer.scala:498)\n\tat org.apache.spark.sql.catalyst.analysis.Analyzer.$anonfun$execute$1(Analyzer.scala:491)\n\tat org.apache.spark.sql.catalyst.analysis.AnalysisContext$.withNewAnalysisContext(Analyzer.scala:397)\n\tat org.apache.spark.sql.catalyst.analysis.Analyzer.execute(Analyzer.scala:491)\n\tat org.apache.spark.sql.catalyst.analysis.Analyzer.execute(Analyzer.scala:416)\n\tat org.apache.spark.sql.catalyst.rules.RuleExecutor.$anonfun$executeAndTrack$1(RuleExecutor.scala:341)\n\tat org.apache.spark.sql.catalyst.QueryPlanningTracker$.withTracker(QueryPlanningTracker.scala:216)\n\tat org.apache.spark.sql.catalyst.rules.RuleExecutor.executeAndTrack(RuleExecutor.scala:341)\n\tat org.apache.spark.sql.catalyst.analysis.resolver.HybridAnalyzer.resolveInFixedPoint(HybridAnalyzer.scala:256)\n\tat org.apache.spark.sql.catalyst.analysis.resolver.HybridAnalyzer.$anonfun$apply$1(HybridAnalyzer.scala:100)\n\tat org.apache.spark.sql.catalyst.analysis.resolver.HybridAnalyzer.withTrackedAnalyzerBridgeState(HybridAnalyzer.scala:135)\n\tat org.apache.spark.sql.catalyst.analysis.resolver.HybridAnalyzer.apply(HybridAnalyzer.scala:91)\n\tat org.apache.spark.sql.catalyst.analysis.Analyzer.$anonfun$executeAndCheck$1(Analyzer.scala:478)\n\tat org.apache.spark.sql.catalyst.plans.logical.AnalysisHelper$.markInAnalyzer(AnalysisHelper.scala:425)\n\tat org.apache.spark.sql.catalyst.analysis.Analyzer.executeAndCheck(Analyzer.scala:478)\n\tat org.apache.spark.sql.execution.QueryExecution.$anonfun$lazyAnalyzed$3(QueryExecution.scala:284)\n\tat com.databricks.spark.util.FrameProfiler$.record(FrameProfiler.scala:94)\n\tat org.apache.spark.sql.catalyst.QueryPlanningTracker.measurePhase(QueryPlanningTracker.scala:532)\n\tat org.apache.spark.sql.execution.QueryExecution.$anonfun$executePhase$5(QueryExecution.scala:645)\n\tat org.apache.spark.sql.execution.SQLExecution$.withExecutionPhase(SQLExecution.scala:148)\n\tat org.apache.spark.sql.execution.QueryExecution.$anonfun$executePhase$4(QueryExecution.scala:645)\n\tat org.apache.spark.sql.execution.QueryExecution$.withInternalError(QueryExecution.scala:1281)\n\tat org.apache.spark.sql.execution.QueryExecution.$anonfun$executePhase$2(QueryExecution.scala:644)\n\tat com.databricks.util.LexicalThreadLocal$Handle.runWith(LexicalThreadLocal.scala:63)\n\tat org.apache.spark.sql.execution.QueryExecution.$anonfun$executePhase$1(QueryExecution.scala:640)\n\tat org.apache.spark.sql.SparkSession.withActive(SparkSession.scala:1450)\n\tat org.apache.spark.sql.execution.QueryExecution.executePhase(QueryExecution.scala:640)\n\tat org.apache.spark.sql.execution.QueryExecution.$anonfun$lazyAnalyzed$2(QueryExecution.scala:278)\n\tat com.databricks.sql.util.MemoryTrackerHelper.withMemoryTracking(MemoryTrackerHelper.scala:80)\n\tat org.apache.spark.sql.execution.QueryExecution.$anonfun$lazyAnalyzed$1(QueryExecution.scala:277)\n\tat scala.util.Try$.apply(Try.scala:213)\n\tat org.apache.spark.util.Utils$.doTryWithCallerStacktrace(Utils.scala:1755)\n\tat org.apache.spark.util.Utils$.getTryWithCallerStacktrace(Utils.scala:1816)\n\tat org.apache.spark.util.LazyTry.get(LazyTry.scala:58)\n\tat org.apache.spark.sql.execution.QueryExecution.analyzed(QueryExecution.scala:311)\n\tat org.apache.spark.sql.execution.QueryExecution.assertAnalyzed(QueryExecution.scala:257)\n\tat org.apache.spark.sql.Dataset$.$anonfun$ofRows$1(Dataset.scala:108)\n\tat org.apache.spark.sql.SparkSession.withActive(SparkSession.scala:1450)\n\tat org.apache.spark.sql.SparkSession.$anonfun$withActiveAndFrameProfiler$1(SparkSession.scala:1457)\n\tat com.databricks.spark.util.FrameProfiler$.record(FrameProfiler.scala:94)\n\tat org.apache.spark.sql.SparkSession.withActiveAndFrameProfiler(SparkSession.scala:1457)\n\tat org.apache.spark.sql.Dataset$.ofRows(Dataset.scala:106)\n\tat org.apache.spark.sql.Dataset.$anonfun$org$apache$spark$sql$Dataset$$withPlan$1(Dataset.scala:5049)\n\tat com.databricks.spark.util.FrameProfiler$.record(FrameProfiler.scala:94)\n\tat org.apache.spark.sql.Dataset.org$apache$spark$sql$Dataset$$withPlan(Dataset.scala:5049)\n\tat org.apache.spark.sql.Dataset.select(Dataset.scala:1850)\n\tat org.apache.spark.sql.Dataset.$anonfun$withColumns$1(Dataset.scala:3216)\n\tat com.databricks.spark.util.FrameProfiler$.record(FrameProfiler.scala:94)\n\tat org.apache.spark.sql.Dataset.withColumns(Dataset.scala:3190)\n\tat org.apache.spark.sql.Dataset.withColumns(Dataset.scala:3232)\n\tat org.apache.spark.sql.connect.planner.SparkConnectPlanner.transformWithColumns(SparkConnectPlanner.scala:1516)\n\tat org.apache.spark.sql.connect.planner.SparkConnectPlanner.$anonfun$transformRelation$1(SparkConnectPlanner.scala:233)\n\tat org.apache.spark.sql.connect.service.SessionHolder.$anonfun$usePlanCache$7(SessionHolder.scala:614)\n\tat org.apache.spark.sql.connect.service.SessionHolder.measureSubtreeRelationNodes(SessionHolder.scala:630)\n\tat org.apache.spark.sql.connect.service.SessionHolder.$anonfun$usePlanCache$5(SessionHolder.scala:613)\n\tat scala.Option.getOrElse(Option.scala:189)\n\tat org.apache.spark.sql.connect.service.SessionHolder.usePlanCache(SessionHolder.scala:611)\n\tat org.apache.spark.sql.connect.planner.SparkConnectPlanner.transformRelation(SparkConnectPlanner.scala:185)\n\tat org.apache.spark.sql.connect.planner.SparkConnectPlanner.transformRelation(SparkConnectPlanner.scala:172)\n\tat org.apache.spark.sql.connect.planner.SparkConnectPlanner.transformWithColumns(SparkConnectPlanner.scala:1515)\n\tat org.apache.spark.sql.connect.planner.SparkConnectPlanner.$anonfun$transformRelation$1(SparkConnectPlanner.scala:233)\n\tat org.apache.spark.sql.connect.service.SessionHolder.$anonfun$usePlanCache$7(SessionHolder.scala:614)\n\tat org.apache.spark.sql.connect.service.SessionHolder.measureSubtreeRelationNodes(SessionHolder.scala:630)\n\tat org.apache.spark.sql.connect.service.SessionHolder.$anonfun$usePlanCache$5(SessionHolder.scala:613)\n\tat scala.Option.getOrElse(Option.scala:189)\n\tat org.apache.spark.sql.connect.service.SessionHolder.usePlanCache(SessionHolder.scala:611)\n\tat org.apache.spark.sql.connect.planner.SparkConnectPlanner.transformRelation(SparkConnectPlanner.scala:185)\n\tat org.apache.spark.sql.connect.planner.SparkConnectPlanner.transformRelation(SparkConnectPlanner.scala:172)\n\tat org.apache.spark.sql.connect.planner.SparkConnectPlanner.transformWithColumns(SparkConnectPlanner.scala:1515)\n\tat org.apache.spark.sql.connect.planner.SparkConnectPlanner.$anonfun$transformRelation$1(SparkConnectPlanner.scala:233)\n\tat org.apache.spark.sql.connect.service.SessionHolder.$anonfun$usePlanCache$7(SessionHolder.scala:614)\n\tat org.apache.spark.sql.connect.service.SessionHolder.measureSubtreeRelationNodes(SessionHolder.scala:630)\n\tat org.apache.spark.sql.connect.service.SessionHolder.$anonfun$usePlanCache$5(SessionHolder.scala:613)\n\tat scala.Option.getOrElse(Option.scala:189)\n\tat org.apache.spark.sql.connect.service.SessionHolder.usePlanCache(SessionHolder.scala:611)\n\tat org.apache.spark.sql.connect.planner.SparkConnectPlanner.transformRelation(SparkConnectPlanner.scala:185)\n\tat org.apache.spark.sql.connect.planner.SparkConnectPlanner.transformRelation(SparkConnectPlanner.scala:172)\n\tat org.apache.spark.sql.connect.planner.SparkConnectPlanner.transformWithColumns(SparkConnectPlanner.scala:1515)\n\tat org.apache.spark.sql.connect.planner.SparkConnectPlanner.$anonfun$transformRelation$1(SparkConnectPlanner.scala:233)\n\tat org.apache.spark.sql.connect.service.SessionHolder.$anonfun$usePlanCache$7(SessionHolder.scala:614)\n\tat org.apache.spark.sql.connect.service.SessionHolder.measureSubtreeRelationNodes(SessionHolder.scala:630)\n\tat org.apache.spark.sql.connect.service.SessionHolder.$anonfun$usePlanCache$5(SessionHolder.scala:613)\n\tat scala.Option.getOrElse(Option.scala:189)\n\tat org.apache.spark.sql.connect.service.SessionHolder.usePlanCache(SessionHolder.scala:611)\n\tat org.apache.spark.sql.connect.planner.SparkConnectPlanner.transformRelation(SparkConnectPlanner.scala:185)\n\tat org.apache.spark.sql.connect.planner.SparkConnectPlanner.transformRelation(SparkConnectPlanner.scala:172)\n\tat org.apache.spark.sql.connect.planner.SparkConnectPlanner.transformWithColumns(SparkConnectPlanner.scala:1515)\n\tat org.apache.spark.sql.connect.planner.SparkConnectPlanner.$anonfun$transformRelation$1(SparkConnectPlanner.scala:233)\n\tat org.apache.spark.sql.connect.service.SessionHolder.$anonfun$usePlanCache$7(SessionHolder.scala:614)\n\tat org.apache.spark.sql.connect.service.SessionHolder.measureSubtreeRelationNodes(SessionHolder.scala:630)\n\tat org.apache.spark.sql.connect.service.SessionHolder.$anonfun$usePlanCache$5(SessionHolder.scala:613)\n\tat scala.Option.getOrElse(Option.scala:189)\n\tat org.apache.spark.sql.connect.service.SessionHolder.usePlanCache(SessionHolder.scala:611)\n\tat org.apache.spark.sql.connect.planner.SparkConnectPlanner.transformRelation(SparkConnectPlanner.scala:185)\n\tat org.apache.spark.sql.connect.planner.SparkConnectPlanner.transformRelation(SparkConnectPlanner.scala:172)\n\tat org.apache.spark.sql.connect.planner.SparkConnectPlanner.transformWithColumns(SparkConnectPlanner.scala:1515)\n\tat org.apache.spark.sql.connect.planner.SparkConnectPlanner.$anonfun$transformRelation$1(SparkConnectPlanner.scala:233)\n\tat org.apache.spark.sql.connect.service.SessionHolder.$anonfun$usePlanCache$7(SessionHolder.scala:614)\n\tat org.apache.spark.sql.connect.service.SessionHolder.measureSubtreeRelationNodes(SessionHolder.scala:630)\n\tat org.apache.spark.sql.connect.service.SessionHolder.$anonfun$usePlanCache$5(SessionHolder.scala:613)\n\tat scala.Option.getOrElse(Option.scala:189)\n\tat org.apache.spark.sql.connect.service.SessionHolder.usePlanCache(SessionHolder.scala:611)\n\tat org.apache.spark.sql.connect.planner.SparkConnectPlanner.transformRelation(SparkConnectPlanner.scala:185)\n\tat org.apache.spark.sql.connect.planner.SparkConnectPlanner.transformRelation(SparkConnectPlanner.scala:172)\n\tat org.apache.spark.sql.connect.planner.SparkConnectPlanner.transformWithColumns(SparkConnectPlanner.scala:1515)\n\tat org.apache.spark.sql.connect.planner.SparkConnectPlanner.$anonfun$transformRelation$1(SparkConnectPlanner.scala:233)\n\tat org.apache.spark.sql.connect.service.SessionHolder.$anonfun$usePlanCache$7(SessionHolder.scala:614)\n\tat org.apache.spark.sql.connect.service.SessionHolder.measureSubtreeRelationNodes(SessionHolder.scala:630)\n\tat org.apache.spark.sql.connect.service.SessionHolder.$anonfun$usePlanCache$5(SessionHolder.scala:613)\n\tat scala.Option.getOrElse(Option.scala:189)\n\tat org.apache.spark.sql.connect.service.SessionHolder.usePlanCache(SessionHolder.scala:611)\n\tat org.apache.spark.sql.connect.planner.SparkConnectPlanner.transformRelation(SparkConnectPlanner.scala:185)\n\tat org.apache.spark.sql.connect.planner.SparkConnectPlanner.transformRelation(SparkConnectPlanner.scala:172)\n\tat org.apache.spark.sql.connect.planner.SparkConnectPlanner.transformWithColumns(SparkConnectPlanner.scala:1515)\n\tat org.apache.spark.sql.connect.planner.SparkConnectPlanner.$anonfun$transformRelation$1(SparkConnectPlanner.scala:233)\n\tat org.apache.spark.sql.connect.service.SessionHolder.$anonfun$usePlanCache$7(SessionHolder.scala:614)\n\tat org.apache.spark.sql.connect.service.SessionHolder.measureSubtreeRelationNodes(SessionHolder.scala:630)\n\tat org.apache.spark.sql.connect.service.SessionHolder.$anonfun$usePlanCache$5(SessionHolder.scala:613)\n\tat scala.Option.getOrElse(Option.scala:189)\n\tat org.apache.spark.sql.connect.service.SessionHolder.usePlanCache(SessionHolder.scala:611)\n\tat org.apache.spark.sql.connect.planner.SparkConnectPlanner.transformRelation(SparkConnectPlanner.scala:185)\n\tat org.apache.spark.sql.connect.planner.SparkConnectPlanner.transformRelation(SparkConnectPlanner.scala:172)\n\tat org.apache.spark.sql.connect.planner.SparkConnectPlanner.transformWithColumns(SparkConnectPlanner.scala:1515)\n\tat org.apache.spark.sql.connect.planner.SparkConnectPlanner.$anonfun$transformRelation$1(SparkConnectPlanner.scala:233)\n\tat org.apache.spark.sql.connect.service.SessionHolder.$anonfun$usePlanCache$7(SessionHolder.scala:614)\n\tat org.apache.spark.sql.connect.service.SessionHolder.measureSubtreeRelationNodes(SessionHolder.scala:630)\n\tat org.apache.spark.sql.connect.service.SessionHolder.$anonfun$usePlanCache$5(SessionHolder.scala:613)\n\tat scala.Option.getOrElse(Option.scala:189)\n\tat org.apache.spark.sql.connect.service.SessionHolder.usePlanCache(SessionHolder.scala:611)\n\tat org.apache.spark.sql.connect.planner.SparkConnectPlanner.transformRelation(SparkConnectPlanner.scala:185)\n\tat org.apache.spark.sql.connect.planner.SparkConnectPlanner.transformRelation(SparkConnectPlanner.scala:172)\n\tat org.apache.spark.sql.connect.planner.SparkConnectPlanner.transformWithColumns(SparkConnectPlanner.scala:1515)\n\tat org.apache.spark.sql.connect.planner.SparkConnectPlanner.$anonfun$transformRelation$1(SparkConnectPlanner.scala:233)\n\tat org.apache.spark.sql.connect.service.SessionHolder.$anonfun$usePlanCache$7(SessionHolder.scala:614)\n\tat org.apache.spark.sql.connect.service.SessionHolder.measureSubtreeRelationNodes(SessionHolder.scala:630)\n\tat org.apache.spark.sql.connect.service.SessionHolder.$anonfun$usePlanCache$5(SessionHolder.scala:613)\n\tat scala.Option.getOrElse(Option.scala:189)\n\tat org.apache.spark.sql.connect.service.SessionHolder.usePlanCache(SessionHolder.scala:611)\n\tat org.apache.spark.sql.connect.planner.SparkConnectPlanner.transformRelation(SparkConnectPlanner.scala:185)\n\tat org.apache.spark.sql.connect.planner.SparkConnectPlanner.transformRelation(SparkConnectPlanner.scala:172)\n\tat org.apache.spark.sql.connect.planner.SparkConnectPlanner.transformWithColumns(SparkConnectPlanner.scala:1515)\n\tat org.apache.spark.sql.connect.planner.SparkConnectPlanner.$anonfun$transformRelation$1(SparkConnectPlanner.scala:233)\n\tat org.apache.spark.sql.connect.service.SessionHolder.$anonfun$usePlanCache$7(SessionHolder.scala:614)\n\tat org.apache.spark.sql.connect.service.SessionHolder.measureSubtreeRelationNodes(SessionHolder.scala:630)\n\tat org.apache.spark.sql.connect.service.SessionHolder.$anonfun$usePlanCache$5(SessionHolder.scala:613)\n\tat scala.Option.getOrElse(Option.scala:189)\n\tat org.apache.spark.sql.connect.service.SessionHolder.usePlanCache(SessionHolder.scala:611)\n\tat org.apache.spark.sql.connect.planner.SparkConnectPlanner.transformRelation(SparkConnectPlanner.scala:185)\n\tat org.apache.spark.sql.connect.planner.SparkConnectPlanner.transformRelation(SparkConnectPlanner.scala:172)\n\tat org.apache.spark.sql.connect.planner.SparkConnectPlanner.transformWithColumns(SparkConnectPlanner.scala:1515)\n\tat org.apache.spark.sql.connect.planner.SparkConnectPlanner.$anonfun$transformRelation$1(SparkConnectPlanner.scala:233)\n\tat org.apache.spark.sql.connect.service.SessionHolder.$anonfun$usePlanCache$7(SessionHolder.scala:614)\n\tat org.apache.spark.sql.connect.service.SessionHolder.measureSubtreeRelationNodes(SessionHolder.scala:630)\n\tat org.apache.spark.sql.connect.service.SessionHolder.$anonfun$usePlanCache$5(SessionHolder.scala:613)\n\tat scala.Option.getOrElse(Option.scala:189)\n\tat org.apache.spark.sql.connect.service.SessionHolder.usePlanCache(SessionHolder.scala:611)\n\tat org.apache.spark.sql.connect.planner.SparkConnectPlanner.transformRelation(SparkConnectPlanner.scala:185)\n\tat org.apache.spark.sql.connect.planner.SparkConnectPlanner.transformRelation(SparkConnectPlanner.scala:172)\n\tat org.apache.spark.sql.connect.planner.SparkConnectPlanner.transformWithColumns(SparkConnectPlanner.scala:1515)\n\tat org.apache.spark.sql.connect.planner.SparkConnectPlanner.$anonfun$transformRelation$1(SparkConnectPlanner.scala:233)\n\tat org.apache.spark.sql.connect.service.SessionHolder.$anonfun$usePlanCache$7(SessionHolder.scala:614)\n\tat org.apache.spark.sql.connect.service.SessionHolder.measureSubtreeRelationNodes(SessionHolder.scala:630)\n\tat org.apache.spark.sql.connect.service.SessionHolder.$anonfun$usePlanCache$5(SessionHolder.scala:613)\n\tat scala.Option.getOrElse(Option.scala:189)\n\tat org.apache.spark.sql.connect.service.SessionHolder.usePlanCache(SessionHolder.scala:611)\n\tat org.apache.spark.sql.connect.planner.SparkConnectPlanner.transformRelation(SparkConnectPlanner.scala:185)\n\tat org.apache.spark.sql.connect.service.SparkConnectAnalyzeHandler.transformRelation$1(SparkConnectAnalyzeHandler.scala:119)\n\tat org.apache.spark.sql.connect.service.SparkConnectAnalyzeHandler.process(SparkConnectAnalyzeHandler.scala:130)\n\tat org.apache.spark.sql.connect.service.SparkConnectAnalyzeHandler.$anonfun$handle$3(SparkConnectAnalyzeHandler.scala:104)\n\tat org.apache.spark.sql.connect.service.SparkConnectAnalyzeHandler.$anonfun$handle$3$adapted(SparkConnectAnalyzeHandler.scala:66)\n\tat org.apache.spark.sql.connect.service.SessionHolder.$anonfun$withSession$2(SessionHolder.scala:464)\n\tat org.apache.spark.sql.SparkSession.withActive(SparkSession.scala:1450)\n\tat org.apache.spark.sql.connect.service.SessionHolder.$anonfun$withSession$1(SessionHolder.scala:464)\n\tat org.apache.spark.JobArtifactSet$.withActiveJobArtifactState(JobArtifactSet.scala:97)\n\tat org.apache.spark.sql.artifact.ArtifactManager.$anonfun$withResources$1(ArtifactManager.scala:90)\n\tat org.apache.spark.util.Utils$.withContextClassLoader(Utils.scala:240)\n\tat org.apache.spark.sql.artifact.ArtifactManager.withResources(ArtifactManager.scala:89)\n\tat org.apache.spark.sql.connect.service.SessionHolder.withSession(SessionHolder.scala:463)\n\tat org.apache.spark.sql.connect.service.SparkConnectAnalyzeHandler.$anonfun$handle$1(SparkConnectAnalyzeHandler.scala:66)\n\tat org.apache.spark.sql.connect.service.SparkConnectAnalyzeHandler.$anonfun$handle$1$adapted(SparkConnectAnalyzeHandler.scala:51)\n\tat com.databricks.spark.connect.logging.rpc.SparkConnectRpcMetricsCollectorUtils$.collectMetrics(SparkConnectRpcMetricsCollector.scala:258)\n\tat org.apache.spark.sql.connect.service.SparkConnectAnalyzeHandler.handle(SparkConnectAnalyzeHandler.scala:50)\n\tat org.apache.spark.sql.connect.service.SparkConnectService.analyzePlan(SparkConnectService.scala:109)\n\tat org.apache.spark.connect.proto.SparkConnectServiceGrpc$MethodHandlers.invoke(SparkConnectServiceGrpc.java:801)\n\tat grpc_shaded.io.grpc.stub.ServerCalls$UnaryServerCallHandler$UnaryServerCallListener.onHalfClose(ServerCalls.java:182)\n\tat grpc_shaded.io.grpc.PartialForwardingServerCallListener.onHalfClose(PartialForwardingServerCallListener.java:35)\n\tat grpc_shaded.io.grpc.ForwardingServerCallListener.onHalfClose(ForwardingServerCallListener.java:23)\n\tat grpc_shaded.io.grpc.ForwardingServerCallListener$SimpleForwardingServerCallListener.onHalfClose(ForwardingServerCallListener.java:40)\n\tat com.databricks.spark.connect.service.AuthenticationInterceptor$AuthenticatedServerCallListener.$anonfun$onHalfClose$1(AuthenticationInterceptor.scala:381)\n\tat scala.runtime.java8.JFunction0$mcV$sp.apply(JFunction0$mcV$sp.java:23)\n\tat com.databricks.unity.UCSEphemeralState$Handle.runWith(UCSEphemeralState.scala:51)\n\tat com.databricks.unity.HandleImpl.runWith(UCSHandle.scala:104)\n\tat com.databricks.spark.connect.service.RequestContext.$anonfun$runWith$3(RequestContext.scala:337)\n\tat com.databricks.spark.connect.service.RequestContext$.com$databricks$spark$connect$service$RequestContext$$withLocalProperties(RequestContext.scala:537)\n\tat com.databricks.spark.connect.service.RequestContext.$anonfun$runWith$2(RequestContext.scala:337)\n\tat com.databricks.logging.AttributionContextTracing.$anonfun$withAttributionContext$1(AttributionContextTracing.scala:49)\n\tat com.databricks.logging.AttributionContext$.$anonfun$withValue$1(AttributionContext.scala:293)\n\tat scala.util.DynamicVariable.withValue(DynamicVariable.scala:62)\n\tat com.databricks.logging.AttributionContext$.withValue(AttributionContext.scala:289)\n\tat com.databricks.logging.AttributionContextTracing.withAttributionContext(AttributionContextTracing.scala:47)\n\tat com.databricks.logging.AttributionContextTracing.withAttributionContext$(AttributionContextTracing.scala:44)\n\tat com.databricks.spark.util.PublicDBLogging.withAttributionContext(DatabricksSparkUsageLogger.scala:30)\n\tat com.databricks.spark.util.UniverseAttributionContextWrapper.withValue(AttributionContextUtils.scala:242)\n\tat com.databricks.spark.connect.service.RequestContext.$anonfun$runWith$1(RequestContext.scala:336)\n\tat com.databricks.spark.connect.service.RequestContext.withContext(RequestContext.scala:349)\n\tat com.databricks.spark.connect.service.RequestContext.runWith(RequestContext.scala:329)\n\tat com.databricks.spark.connect.service.AuthenticationInterceptor$AuthenticatedServerCallListener.onHalfClose(AuthenticationInterceptor.scala:381)\n\tat grpc_shaded.io.grpc.PartialForwardingServerCallListener.onHalfClose(PartialForwardingServerCallListener.java:35)\n\tat grpc_shaded.io.grpc.ForwardingServerCallListener.onHalfClose(ForwardingServerCallListener.java:23)\n\tat grpc_shaded.io.grpc.ForwardingServerCallListener$SimpleForwardingServerCallListener.onHalfClose(ForwardingServerCallListener.java:40)\n\tat grpc_shaded.io.grpc.internal.ServerCallImpl$ServerStreamListenerImpl.halfClosed(ServerCallImpl.java:351)\n\tat grpc_shaded.io.grpc.internal.ServerImpl$JumpToApplicationThreadServerStreamListener$1HalfClosed.runInContext(ServerImpl.java:861)\n\tat grpc_shaded.io.grpc.internal.ContextRunnable.run(ContextRunnable.java:37)\n\tat grpc_shaded.io.grpc.internal.SerializingExecutor.run(SerializingExecutor.java:133)\n\tat org.apache.spark.util.threads.SparkThreadLocalCapturingRunnable.$anonfun$run$1(SparkThreadLocalForwardingThreadPoolExecutor.scala:161)\n\tat scala.runtime.java8.JFunction0$mcV$sp.apply(JFunction0$mcV$sp.java:23)\n\tat com.databricks.sql.transaction.tahoe.mst.MSTThreadHelper$.runWithMstTxnId(MSTThreadHelper.scala:55)\n\tat org.apache.spark.util.threads.SparkThreadLocalCapturingHelper.$anonfun$runWithCaptured$5(SparkThreadLocalForwardingThreadPoolExecutor.scala:116)\n\tat com.databricks.spark.util.IdentityClaim$.withClaim(IdentityClaim.scala:48)\n\tat org.apache.spark.util.threads.SparkThreadLocalCapturingHelper.$anonfun$runWithCaptured$4(SparkThreadLocalForwardingThreadPoolExecutor.scala:115)\n\tat com.databricks.unity.UCSEphemeralState$Handle.runWith(UCSEphemeralState.scala:51)\n\tat org.apache.spark.util.threads.SparkThreadLocalCapturingHelper.runWithCaptured(SparkThreadLocalForwardingThreadPoolExecutor.scala:114)\n\tat org.apache.spark.util.threads.SparkThreadLocalCapturingHelper.runWithCaptured$(SparkThreadLocalForwardingThreadPoolExecutor.scala:91)\n\tat org.apache.spark.util.threads.SparkThreadLocalCapturingRunnable.runWithCaptured(SparkThreadLocalForwardingThreadPoolExecutor.scala:158)\n\tat org.apache.spark.util.threads.SparkThreadLocalCapturingRunnable.run(SparkThreadLocalForwardingThreadPoolExecutor.scala:161)\n\tat java.util.concurrent.ThreadPoolExecutor.runWorker(ThreadPoolExecutor.java:1136)\n\tat java.util.concurrent.ThreadPoolExecutor$Worker.run(ThreadPoolExecutor.java:635)\n\tat java.lang.Thread.run(Thread.java:840)"
       ],
       "type": "baseError"
      }
     },
     "output_type": "display_data"
    }
   ],
   "source": [
    "%python\n",
    "from pyspark.sql.functions import udf\n",
    "from pyspark.sql.types import DoubleType\n",
    "\n",
    "# Define the Python function\n",
    "def discounted_func(price):\n",
    "    return price * 0.9  # Example discount calculation\n",
    "\n",
    "# Register the function as a UDF\n",
    "discounted_func_udf = udf(discounted_func, DoubleType())\n",
    "\n",
    "# Use the UDF in the DataFrame\n",
    "df = df.withColumn(\"discounted_price\", discounted_func_udf(df[\"price\"]))\n",
    "display(df)"
   ]
  },
  {
   "cell_type": "code",
   "execution_count": 0,
   "metadata": {
    "application/vnd.databricks.v1+cell": {
     "cellMetadata": {
      "byteLimit": 2048000,
      "implicitDf": true,
      "rowLimit": 10000
     },
     "inputWidgets": {},
     "nuid": "2d1de27b-2fb0-494f-9e8f-ec63ea1f24a3",
     "showTitle": false,
     "tableResultSettingsMap": {},
     "title": ""
    }
   },
   "outputs": [],
   "source": [
    "%sql \n",
    "CREATE OR REPLACE FUNCTION databricks_cat.bronze.upper_func(p_brand STRING)\n",
    "RETURNS STRING \n",
    "LANGUAGE PYTHON\n",
    "AS $$ return p_brand.upper() $$"
   ]
  },
  {
   "cell_type": "code",
   "execution_count": 0,
   "metadata": {
    "application/vnd.databricks.v1+cell": {
     "cellMetadata": {
      "byteLimit": 2048000,
      "implicitDf": true,
      "rowLimit": 10000
     },
     "inputWidgets": {},
     "nuid": "c91cac28-0693-417f-a94f-44c3fe4abd21",
     "showTitle": false,
     "tableResultSettingsMap": {},
     "title": ""
    }
   },
   "outputs": [
    {
     "output_type": "display_data",
     "data": {
      "text/html": [
       "<style scoped>\n",
       "  .table-result-container {\n",
       "    max-height: 300px;\n",
       "    overflow: auto;\n",
       "  }\n",
       "  table, th, td {\n",
       "    border: 1px solid black;\n",
       "    border-collapse: collapse;\n",
       "  }\n",
       "  th, td {\n",
       "    padding: 5px;\n",
       "  }\n",
       "  th {\n",
       "    text-align: left;\n",
       "  }\n",
       "</style><div class='table-result-container'><table class='table-result'><thead style='background-color: white'><tr><th>product_id</th><th>brand</th><th>brand_upper</th></tr></thead><tbody><tr><td>P0001</td><td>Nike</td><td>NIKE</td></tr><tr><td>P0002</td><td>Apple</td><td>APPLE</td></tr><tr><td>P0003</td><td>Revlon</td><td>REVLON</td></tr><tr><td>P0004</td><td>LG</td><td>LG</td></tr><tr><td>P0005</td><td>Samsung</td><td>SAMSUNG</td></tr><tr><td>P0006</td><td>Adidas</td><td>ADIDAS</td></tr><tr><td>P0007</td><td>Adidas</td><td>ADIDAS</td></tr><tr><td>P0008</td><td>Puma</td><td>PUMA</td></tr><tr><td>P0009</td><td>Samsung</td><td>SAMSUNG</td></tr><tr><td>P0010</td><td>Sony</td><td>SONY</td></tr><tr><td>P0011</td><td>Adidas</td><td>ADIDAS</td></tr><tr><td>P0012</td><td>Apple</td><td>APPLE</td></tr><tr><td>P0013</td><td>Puma</td><td>PUMA</td></tr><tr><td>P0014</td><td>Dell</td><td>DELL</td></tr><tr><td>P0015</td><td>LG</td><td>LG</td></tr><tr><td>P0016</td><td>Samsung</td><td>SAMSUNG</td></tr><tr><td>P0017</td><td>Revlon</td><td>REVLON</td></tr><tr><td>P0018</td><td>Puma</td><td>PUMA</td></tr><tr><td>P0019</td><td>Samsung</td><td>SAMSUNG</td></tr><tr><td>P0020</td><td>Nike</td><td>NIKE</td></tr><tr><td>P0021</td><td>Nike</td><td>NIKE</td></tr><tr><td>P0022</td><td>Puma</td><td>PUMA</td></tr><tr><td>P0023</td><td>Adidas</td><td>ADIDAS</td></tr><tr><td>P0024</td><td>Samsung</td><td>SAMSUNG</td></tr><tr><td>P0025</td><td>Nike</td><td>NIKE</td></tr><tr><td>P0026</td><td>Puma</td><td>PUMA</td></tr><tr><td>P0027</td><td>Adidas</td><td>ADIDAS</td></tr><tr><td>P0028</td><td>Puma</td><td>PUMA</td></tr><tr><td>P0029</td><td>Nike</td><td>NIKE</td></tr><tr><td>P0030</td><td>Lenovo</td><td>LENOVO</td></tr><tr><td>P0031</td><td>LG</td><td>LG</td></tr><tr><td>P0032</td><td>Dell</td><td>DELL</td></tr><tr><td>P0033</td><td>Lenovo</td><td>LENOVO</td></tr><tr><td>P0034</td><td>Samsung</td><td>SAMSUNG</td></tr><tr><td>P0035</td><td>Revlon</td><td>REVLON</td></tr><tr><td>P0036</td><td>Dell</td><td>DELL</td></tr><tr><td>P0037</td><td>Puma</td><td>PUMA</td></tr><tr><td>P0038</td><td>Revlon</td><td>REVLON</td></tr><tr><td>P0039</td><td>Revlon</td><td>REVLON</td></tr><tr><td>P0040</td><td>Dell</td><td>DELL</td></tr><tr><td>P0041</td><td>Dell</td><td>DELL</td></tr><tr><td>P0042</td><td>Adidas</td><td>ADIDAS</td></tr><tr><td>P0043</td><td>Revlon</td><td>REVLON</td></tr><tr><td>P0044</td><td>Dell</td><td>DELL</td></tr><tr><td>P0045</td><td>Sony</td><td>SONY</td></tr><tr><td>P0046</td><td>Samsung</td><td>SAMSUNG</td></tr><tr><td>P0047</td><td>Revlon</td><td>REVLON</td></tr><tr><td>P0048</td><td>Revlon</td><td>REVLON</td></tr><tr><td>P0049</td><td>Lenovo</td><td>LENOVO</td></tr><tr><td>P0050</td><td>Samsung</td><td>SAMSUNG</td></tr><tr><td>P0051</td><td>Apple</td><td>APPLE</td></tr><tr><td>P0052</td><td>Lenovo</td><td>LENOVO</td></tr><tr><td>P0053</td><td>Samsung</td><td>SAMSUNG</td></tr><tr><td>P0054</td><td>Adidas</td><td>ADIDAS</td></tr><tr><td>P0055</td><td>Sony</td><td>SONY</td></tr><tr><td>P0056</td><td>Nike</td><td>NIKE</td></tr><tr><td>P0057</td><td>Samsung</td><td>SAMSUNG</td></tr><tr><td>P0058</td><td>LG</td><td>LG</td></tr><tr><td>P0059</td><td>Lenovo</td><td>LENOVO</td></tr><tr><td>P0060</td><td>Nike</td><td>NIKE</td></tr><tr><td>P0061</td><td>Sony</td><td>SONY</td></tr><tr><td>P0062</td><td>Samsung</td><td>SAMSUNG</td></tr><tr><td>P0063</td><td>Nike</td><td>NIKE</td></tr><tr><td>P0064</td><td>LG</td><td>LG</td></tr><tr><td>P0065</td><td>Lenovo</td><td>LENOVO</td></tr><tr><td>P0066</td><td>Sony</td><td>SONY</td></tr><tr><td>P0067</td><td>Samsung</td><td>SAMSUNG</td></tr><tr><td>P0068</td><td>LG</td><td>LG</td></tr><tr><td>P0069</td><td>Lenovo</td><td>LENOVO</td></tr><tr><td>P0070</td><td>Lenovo</td><td>LENOVO</td></tr><tr><td>P0071</td><td>Apple</td><td>APPLE</td></tr><tr><td>P0072</td><td>Revlon</td><td>REVLON</td></tr><tr><td>P0073</td><td>Adidas</td><td>ADIDAS</td></tr><tr><td>P0074</td><td>Lenovo</td><td>LENOVO</td></tr><tr><td>P0075</td><td>Samsung</td><td>SAMSUNG</td></tr><tr><td>P0076</td><td>Puma</td><td>PUMA</td></tr><tr><td>P0077</td><td>LG</td><td>LG</td></tr><tr><td>P0078</td><td>LG</td><td>LG</td></tr><tr><td>P0079</td><td>LG</td><td>LG</td></tr><tr><td>P0080</td><td>Lenovo</td><td>LENOVO</td></tr><tr><td>P0081</td><td>Nike</td><td>NIKE</td></tr><tr><td>P0082</td><td>Apple</td><td>APPLE</td></tr><tr><td>P0083</td><td>Dell</td><td>DELL</td></tr><tr><td>P0084</td><td>Samsung</td><td>SAMSUNG</td></tr><tr><td>P0085</td><td>Apple</td><td>APPLE</td></tr><tr><td>P0086</td><td>Nike</td><td>NIKE</td></tr><tr><td>P0087</td><td>Sony</td><td>SONY</td></tr><tr><td>P0088</td><td>Adidas</td><td>ADIDAS</td></tr><tr><td>P0089</td><td>LG</td><td>LG</td></tr><tr><td>P0090</td><td>Puma</td><td>PUMA</td></tr><tr><td>P0091</td><td>Samsung</td><td>SAMSUNG</td></tr><tr><td>P0092</td><td>Revlon</td><td>REVLON</td></tr><tr><td>P0093</td><td>Puma</td><td>PUMA</td></tr><tr><td>P0094</td><td>LG</td><td>LG</td></tr><tr><td>P0095</td><td>Apple</td><td>APPLE</td></tr><tr><td>P0096</td><td>Nike</td><td>NIKE</td></tr><tr><td>P0097</td><td>Apple</td><td>APPLE</td></tr><tr><td>P0098</td><td>Puma</td><td>PUMA</td></tr><tr><td>P0099</td><td>Adidas</td><td>ADIDAS</td></tr><tr><td>P0100</td><td>Dell</td><td>DELL</td></tr><tr><td>P0101</td><td>Puma</td><td>PUMA</td></tr><tr><td>P0102</td><td>LG</td><td>LG</td></tr><tr><td>P0103</td><td>Samsung</td><td>SAMSUNG</td></tr><tr><td>P0104</td><td>Dell</td><td>DELL</td></tr><tr><td>P0105</td><td>LG</td><td>LG</td></tr><tr><td>P0106</td><td>Sony</td><td>SONY</td></tr><tr><td>P0107</td><td>Adidas</td><td>ADIDAS</td></tr><tr><td>P0108</td><td>Puma</td><td>PUMA</td></tr><tr><td>P0109</td><td>Lenovo</td><td>LENOVO</td></tr><tr><td>P0110</td><td>Samsung</td><td>SAMSUNG</td></tr><tr><td>P0111</td><td>Adidas</td><td>ADIDAS</td></tr><tr><td>P0112</td><td>Puma</td><td>PUMA</td></tr><tr><td>P0113</td><td>Puma</td><td>PUMA</td></tr><tr><td>P0114</td><td>Nike</td><td>NIKE</td></tr><tr><td>P0115</td><td>Puma</td><td>PUMA</td></tr><tr><td>P0116</td><td>Sony</td><td>SONY</td></tr><tr><td>P0117</td><td>Puma</td><td>PUMA</td></tr><tr><td>P0118</td><td>Lenovo</td><td>LENOVO</td></tr><tr><td>P0119</td><td>Sony</td><td>SONY</td></tr><tr><td>P0120</td><td>Sony</td><td>SONY</td></tr><tr><td>P0121</td><td>Nike</td><td>NIKE</td></tr><tr><td>P0122</td><td>LG</td><td>LG</td></tr><tr><td>P0123</td><td>Nike</td><td>NIKE</td></tr><tr><td>P0124</td><td>Puma</td><td>PUMA</td></tr><tr><td>P0125</td><td>Sony</td><td>SONY</td></tr><tr><td>P0126</td><td>Sony</td><td>SONY</td></tr><tr><td>P0127</td><td>Sony</td><td>SONY</td></tr><tr><td>P0128</td><td>Apple</td><td>APPLE</td></tr><tr><td>P0129</td><td>Adidas</td><td>ADIDAS</td></tr><tr><td>P0130</td><td>Adidas</td><td>ADIDAS</td></tr><tr><td>P0131</td><td>Revlon</td><td>REVLON</td></tr><tr><td>P0132</td><td>Samsung</td><td>SAMSUNG</td></tr><tr><td>P0133</td><td>LG</td><td>LG</td></tr><tr><td>P0134</td><td>Puma</td><td>PUMA</td></tr><tr><td>P0135</td><td>Puma</td><td>PUMA</td></tr><tr><td>P0136</td><td>Samsung</td><td>SAMSUNG</td></tr><tr><td>P0137</td><td>Lenovo</td><td>LENOVO</td></tr><tr><td>P0138</td><td>Samsung</td><td>SAMSUNG</td></tr><tr><td>P0139</td><td>Revlon</td><td>REVLON</td></tr><tr><td>P0140</td><td>Adidas</td><td>ADIDAS</td></tr><tr><td>P0141</td><td>Adidas</td><td>ADIDAS</td></tr><tr><td>P0142</td><td>Adidas</td><td>ADIDAS</td></tr><tr><td>P0143</td><td>Apple</td><td>APPLE</td></tr><tr><td>P0144</td><td>Apple</td><td>APPLE</td></tr><tr><td>P0145</td><td>Puma</td><td>PUMA</td></tr><tr><td>P0146</td><td>Sony</td><td>SONY</td></tr><tr><td>P0147</td><td>Lenovo</td><td>LENOVO</td></tr><tr><td>P0148</td><td>Dell</td><td>DELL</td></tr><tr><td>P0149</td><td>Samsung</td><td>SAMSUNG</td></tr><tr><td>P0150</td><td>Samsung</td><td>SAMSUNG</td></tr><tr><td>P0151</td><td>Apple</td><td>APPLE</td></tr><tr><td>P0152</td><td>LG</td><td>LG</td></tr><tr><td>P0153</td><td>Apple</td><td>APPLE</td></tr><tr><td>P0154</td><td>Samsung</td><td>SAMSUNG</td></tr><tr><td>P0155</td><td>Dell</td><td>DELL</td></tr><tr><td>P0156</td><td>Sony</td><td>SONY</td></tr><tr><td>P0157</td><td>Adidas</td><td>ADIDAS</td></tr><tr><td>P0158</td><td>Adidas</td><td>ADIDAS</td></tr><tr><td>P0159</td><td>Lenovo</td><td>LENOVO</td></tr><tr><td>P0160</td><td>Nike</td><td>NIKE</td></tr><tr><td>P0161</td><td>LG</td><td>LG</td></tr><tr><td>P0162</td><td>Adidas</td><td>ADIDAS</td></tr><tr><td>P0163</td><td>Dell</td><td>DELL</td></tr><tr><td>P0164</td><td>Lenovo</td><td>LENOVO</td></tr><tr><td>P0165</td><td>Adidas</td><td>ADIDAS</td></tr><tr><td>P0166</td><td>Samsung</td><td>SAMSUNG</td></tr><tr><td>P0167</td><td>Adidas</td><td>ADIDAS</td></tr><tr><td>P0168</td><td>Sony</td><td>SONY</td></tr><tr><td>P0169</td><td>Sony</td><td>SONY</td></tr><tr><td>P0170</td><td>Lenovo</td><td>LENOVO</td></tr><tr><td>P0171</td><td>Lenovo</td><td>LENOVO</td></tr><tr><td>P0172</td><td>Sony</td><td>SONY</td></tr><tr><td>P0173</td><td>Samsung</td><td>SAMSUNG</td></tr><tr><td>P0174</td><td>Lenovo</td><td>LENOVO</td></tr><tr><td>P0175</td><td>Apple</td><td>APPLE</td></tr><tr><td>P0176</td><td>Adidas</td><td>ADIDAS</td></tr><tr><td>P0177</td><td>Nike</td><td>NIKE</td></tr><tr><td>P0178</td><td>Adidas</td><td>ADIDAS</td></tr><tr><td>P0179</td><td>Samsung</td><td>SAMSUNG</td></tr><tr><td>P0180</td><td>Sony</td><td>SONY</td></tr><tr><td>P0181</td><td>LG</td><td>LG</td></tr><tr><td>P0182</td><td>Apple</td><td>APPLE</td></tr><tr><td>P0183</td><td>Samsung</td><td>SAMSUNG</td></tr><tr><td>P0184</td><td>Adidas</td><td>ADIDAS</td></tr><tr><td>P0185</td><td>Apple</td><td>APPLE</td></tr><tr><td>P0186</td><td>Revlon</td><td>REVLON</td></tr><tr><td>P0187</td><td>Nike</td><td>NIKE</td></tr><tr><td>P0188</td><td>Adidas</td><td>ADIDAS</td></tr><tr><td>P0189</td><td>Puma</td><td>PUMA</td></tr><tr><td>P0190</td><td>Samsung</td><td>SAMSUNG</td></tr><tr><td>P0191</td><td>Revlon</td><td>REVLON</td></tr><tr><td>P0192</td><td>Apple</td><td>APPLE</td></tr><tr><td>P0193</td><td>Nike</td><td>NIKE</td></tr><tr><td>P0194</td><td>Revlon</td><td>REVLON</td></tr><tr><td>P0195</td><td>Adidas</td><td>ADIDAS</td></tr><tr><td>P0196</td><td>Adidas</td><td>ADIDAS</td></tr><tr><td>P0197</td><td>Revlon</td><td>REVLON</td></tr><tr><td>P0198</td><td>Samsung</td><td>SAMSUNG</td></tr><tr><td>P0199</td><td>Sony</td><td>SONY</td></tr><tr><td>P0200</td><td>Apple</td><td>APPLE</td></tr><tr><td>P0201</td><td>Samsung</td><td>SAMSUNG</td></tr><tr><td>P0202</td><td>Adidas</td><td>ADIDAS</td></tr><tr><td>P0203</td><td>Samsung</td><td>SAMSUNG</td></tr><tr><td>P0204</td><td>Adidas</td><td>ADIDAS</td></tr><tr><td>P0205</td><td>LG</td><td>LG</td></tr><tr><td>P0206</td><td>Apple</td><td>APPLE</td></tr><tr><td>P0207</td><td>Adidas</td><td>ADIDAS</td></tr><tr><td>P0208</td><td>Adidas</td><td>ADIDAS</td></tr><tr><td>P0209</td><td>Revlon</td><td>REVLON</td></tr><tr><td>P0210</td><td>Apple</td><td>APPLE</td></tr><tr><td>P0211</td><td>Nike</td><td>NIKE</td></tr><tr><td>P0212</td><td>Adidas</td><td>ADIDAS</td></tr><tr><td>P0213</td><td>Samsung</td><td>SAMSUNG</td></tr><tr><td>P0214</td><td>Revlon</td><td>REVLON</td></tr><tr><td>P0215</td><td>Adidas</td><td>ADIDAS</td></tr><tr><td>P0216</td><td>Adidas</td><td>ADIDAS</td></tr><tr><td>P0217</td><td>Puma</td><td>PUMA</td></tr><tr><td>P0218</td><td>Nike</td><td>NIKE</td></tr><tr><td>P0219</td><td>Dell</td><td>DELL</td></tr><tr><td>P0220</td><td>Dell</td><td>DELL</td></tr><tr><td>P0221</td><td>Lenovo</td><td>LENOVO</td></tr><tr><td>P0222</td><td>Samsung</td><td>SAMSUNG</td></tr><tr><td>P0223</td><td>Lenovo</td><td>LENOVO</td></tr><tr><td>P0224</td><td>Apple</td><td>APPLE</td></tr><tr><td>P0225</td><td>Nike</td><td>NIKE</td></tr><tr><td>P0226</td><td>Lenovo</td><td>LENOVO</td></tr><tr><td>P0227</td><td>Nike</td><td>NIKE</td></tr><tr><td>P0228</td><td>Puma</td><td>PUMA</td></tr><tr><td>P0229</td><td>Lenovo</td><td>LENOVO</td></tr><tr><td>P0230</td><td>Samsung</td><td>SAMSUNG</td></tr><tr><td>P0231</td><td>Revlon</td><td>REVLON</td></tr><tr><td>P0232</td><td>Adidas</td><td>ADIDAS</td></tr><tr><td>P0233</td><td>Lenovo</td><td>LENOVO</td></tr><tr><td>P0234</td><td>Sony</td><td>SONY</td></tr><tr><td>P0235</td><td>Adidas</td><td>ADIDAS</td></tr><tr><td>P0236</td><td>Samsung</td><td>SAMSUNG</td></tr><tr><td>P0237</td><td>Samsung</td><td>SAMSUNG</td></tr><tr><td>P0238</td><td>Revlon</td><td>REVLON</td></tr><tr><td>P0239</td><td>Nike</td><td>NIKE</td></tr><tr><td>P0240</td><td>Samsung</td><td>SAMSUNG</td></tr><tr><td>P0241</td><td>Puma</td><td>PUMA</td></tr><tr><td>P0242</td><td>Samsung</td><td>SAMSUNG</td></tr><tr><td>P0243</td><td>Lenovo</td><td>LENOVO</td></tr><tr><td>P0244</td><td>Revlon</td><td>REVLON</td></tr><tr><td>P0245</td><td>LG</td><td>LG</td></tr><tr><td>P0246</td><td>Adidas</td><td>ADIDAS</td></tr><tr><td>P0247</td><td>Sony</td><td>SONY</td></tr><tr><td>P0248</td><td>Revlon</td><td>REVLON</td></tr><tr><td>P0249</td><td>Puma</td><td>PUMA</td></tr><tr><td>P0250</td><td>Samsung</td><td>SAMSUNG</td></tr><tr><td>P0251</td><td>Lenovo</td><td>LENOVO</td></tr><tr><td>P0252</td><td>Sony</td><td>SONY</td></tr><tr><td>P0253</td><td>Lenovo</td><td>LENOVO</td></tr><tr><td>P0254</td><td>Lenovo</td><td>LENOVO</td></tr><tr><td>P0255</td><td>Lenovo</td><td>LENOVO</td></tr><tr><td>P0256</td><td>Lenovo</td><td>LENOVO</td></tr><tr><td>P0257</td><td>Nike</td><td>NIKE</td></tr><tr><td>P0258</td><td>Revlon</td><td>REVLON</td></tr><tr><td>P0259</td><td>Puma</td><td>PUMA</td></tr><tr><td>P0260</td><td>Revlon</td><td>REVLON</td></tr><tr><td>P0261</td><td>Dell</td><td>DELL</td></tr><tr><td>P0262</td><td>Samsung</td><td>SAMSUNG</td></tr><tr><td>P0263</td><td>Nike</td><td>NIKE</td></tr><tr><td>P0264</td><td>Apple</td><td>APPLE</td></tr><tr><td>P0265</td><td>Nike</td><td>NIKE</td></tr><tr><td>P0266</td><td>LG</td><td>LG</td></tr><tr><td>P0267</td><td>Adidas</td><td>ADIDAS</td></tr><tr><td>P0268</td><td>Dell</td><td>DELL</td></tr><tr><td>P0269</td><td>Lenovo</td><td>LENOVO</td></tr><tr><td>P0270</td><td>Samsung</td><td>SAMSUNG</td></tr><tr><td>P0271</td><td>Puma</td><td>PUMA</td></tr><tr><td>P0272</td><td>Dell</td><td>DELL</td></tr><tr><td>P0273</td><td>Nike</td><td>NIKE</td></tr><tr><td>P0274</td><td>Samsung</td><td>SAMSUNG</td></tr><tr><td>P0275</td><td>Sony</td><td>SONY</td></tr><tr><td>P0276</td><td>Puma</td><td>PUMA</td></tr><tr><td>P0277</td><td>Dell</td><td>DELL</td></tr><tr><td>P0278</td><td>Revlon</td><td>REVLON</td></tr><tr><td>P0279</td><td>Lenovo</td><td>LENOVO</td></tr><tr><td>P0280</td><td>Puma</td><td>PUMA</td></tr><tr><td>P0281</td><td>Puma</td><td>PUMA</td></tr><tr><td>P0282</td><td>Samsung</td><td>SAMSUNG</td></tr><tr><td>P0283</td><td>Nike</td><td>NIKE</td></tr><tr><td>P0284</td><td>Puma</td><td>PUMA</td></tr><tr><td>P0285</td><td>Revlon</td><td>REVLON</td></tr><tr><td>P0286</td><td>Adidas</td><td>ADIDAS</td></tr><tr><td>P0287</td><td>Puma</td><td>PUMA</td></tr><tr><td>P0288</td><td>Lenovo</td><td>LENOVO</td></tr><tr><td>P0289</td><td>Puma</td><td>PUMA</td></tr><tr><td>P0290</td><td>LG</td><td>LG</td></tr><tr><td>P0291</td><td>LG</td><td>LG</td></tr><tr><td>P0292</td><td>Sony</td><td>SONY</td></tr><tr><td>P0293</td><td>LG</td><td>LG</td></tr><tr><td>P0294</td><td>Lenovo</td><td>LENOVO</td></tr><tr><td>P0295</td><td>Puma</td><td>PUMA</td></tr><tr><td>P0296</td><td>Nike</td><td>NIKE</td></tr><tr><td>P0297</td><td>Nike</td><td>NIKE</td></tr><tr><td>P0298</td><td>Revlon</td><td>REVLON</td></tr><tr><td>P0299</td><td>Apple</td><td>APPLE</td></tr><tr><td>P0300</td><td>Sony</td><td>SONY</td></tr><tr><td>P0301</td><td>Adidas</td><td>ADIDAS</td></tr><tr><td>P0302</td><td>Nike</td><td>NIKE</td></tr><tr><td>P0303</td><td>LG</td><td>LG</td></tr><tr><td>P0304</td><td>Adidas</td><td>ADIDAS</td></tr><tr><td>P0305</td><td>Puma</td><td>PUMA</td></tr><tr><td>P0306</td><td>Samsung</td><td>SAMSUNG</td></tr><tr><td>P0307</td><td>Lenovo</td><td>LENOVO</td></tr><tr><td>P0308</td><td>Nike</td><td>NIKE</td></tr><tr><td>P0309</td><td>Apple</td><td>APPLE</td></tr><tr><td>P0310</td><td>Samsung</td><td>SAMSUNG</td></tr><tr><td>P0311</td><td>Revlon</td><td>REVLON</td></tr><tr><td>P0312</td><td>Puma</td><td>PUMA</td></tr><tr><td>P0313</td><td>Samsung</td><td>SAMSUNG</td></tr><tr><td>P0314</td><td>Nike</td><td>NIKE</td></tr><tr><td>P0315</td><td>Dell</td><td>DELL</td></tr><tr><td>P0316</td><td>Puma</td><td>PUMA</td></tr><tr><td>P0317</td><td>Dell</td><td>DELL</td></tr><tr><td>P0318</td><td>Samsung</td><td>SAMSUNG</td></tr><tr><td>P0319</td><td>Nike</td><td>NIKE</td></tr><tr><td>P0320</td><td>Adidas</td><td>ADIDAS</td></tr><tr><td>P0321</td><td>Lenovo</td><td>LENOVO</td></tr><tr><td>P0322</td><td>Dell</td><td>DELL</td></tr><tr><td>P0323</td><td>Lenovo</td><td>LENOVO</td></tr><tr><td>P0324</td><td>Nike</td><td>NIKE</td></tr><tr><td>P0325</td><td>Lenovo</td><td>LENOVO</td></tr><tr><td>P0326</td><td>Nike</td><td>NIKE</td></tr><tr><td>P0327</td><td>Sony</td><td>SONY</td></tr><tr><td>P0328</td><td>Lenovo</td><td>LENOVO</td></tr><tr><td>P0329</td><td>Nike</td><td>NIKE</td></tr><tr><td>P0330</td><td>LG</td><td>LG</td></tr><tr><td>P0331</td><td>LG</td><td>LG</td></tr><tr><td>P0332</td><td>Lenovo</td><td>LENOVO</td></tr><tr><td>P0333</td><td>Sony</td><td>SONY</td></tr><tr><td>P0334</td><td>Lenovo</td><td>LENOVO</td></tr><tr><td>P0335</td><td>Samsung</td><td>SAMSUNG</td></tr><tr><td>P0336</td><td>Dell</td><td>DELL</td></tr><tr><td>P0337</td><td>Samsung</td><td>SAMSUNG</td></tr><tr><td>P0338</td><td>LG</td><td>LG</td></tr><tr><td>P0339</td><td>LG</td><td>LG</td></tr><tr><td>P0340</td><td>Adidas</td><td>ADIDAS</td></tr><tr><td>P0341</td><td>Lenovo</td><td>LENOVO</td></tr><tr><td>P0342</td><td>Nike</td><td>NIKE</td></tr><tr><td>P0343</td><td>Sony</td><td>SONY</td></tr><tr><td>P0344</td><td>Nike</td><td>NIKE</td></tr><tr><td>P0345</td><td>Apple</td><td>APPLE</td></tr><tr><td>P0346</td><td>Dell</td><td>DELL</td></tr><tr><td>P0347</td><td>Sony</td><td>SONY</td></tr><tr><td>P0348</td><td>LG</td><td>LG</td></tr><tr><td>P0349</td><td>LG</td><td>LG</td></tr><tr><td>P0350</td><td>Dell</td><td>DELL</td></tr><tr><td>P0351</td><td>Samsung</td><td>SAMSUNG</td></tr><tr><td>P0352</td><td>Sony</td><td>SONY</td></tr><tr><td>P0353</td><td>Adidas</td><td>ADIDAS</td></tr><tr><td>P0354</td><td>Samsung</td><td>SAMSUNG</td></tr><tr><td>P0355</td><td>Apple</td><td>APPLE</td></tr><tr><td>P0356</td><td>Samsung</td><td>SAMSUNG</td></tr><tr><td>P0357</td><td>Adidas</td><td>ADIDAS</td></tr><tr><td>P0358</td><td>Samsung</td><td>SAMSUNG</td></tr><tr><td>P0359</td><td>Lenovo</td><td>LENOVO</td></tr><tr><td>P0360</td><td>Lenovo</td><td>LENOVO</td></tr><tr><td>P0361</td><td>LG</td><td>LG</td></tr><tr><td>P0362</td><td>Revlon</td><td>REVLON</td></tr><tr><td>P0363</td><td>Nike</td><td>NIKE</td></tr><tr><td>P0364</td><td>Dell</td><td>DELL</td></tr><tr><td>P0365</td><td>Revlon</td><td>REVLON</td></tr><tr><td>P0366</td><td>Apple</td><td>APPLE</td></tr><tr><td>P0367</td><td>Nike</td><td>NIKE</td></tr><tr><td>P0368</td><td>Dell</td><td>DELL</td></tr><tr><td>P0369</td><td>Apple</td><td>APPLE</td></tr><tr><td>P0370</td><td>Lenovo</td><td>LENOVO</td></tr><tr><td>P0371</td><td>Dell</td><td>DELL</td></tr><tr><td>P0372</td><td>Dell</td><td>DELL</td></tr><tr><td>P0373</td><td>Puma</td><td>PUMA</td></tr><tr><td>P0374</td><td>LG</td><td>LG</td></tr><tr><td>P0375</td><td>Sony</td><td>SONY</td></tr><tr><td>P0376</td><td>Adidas</td><td>ADIDAS</td></tr><tr><td>P0377</td><td>Dell</td><td>DELL</td></tr><tr><td>P0378</td><td>Dell</td><td>DELL</td></tr><tr><td>P0379</td><td>Sony</td><td>SONY</td></tr><tr><td>P0380</td><td>Dell</td><td>DELL</td></tr><tr><td>P0381</td><td>Adidas</td><td>ADIDAS</td></tr><tr><td>P0382</td><td>Apple</td><td>APPLE</td></tr><tr><td>P0383</td><td>Revlon</td><td>REVLON</td></tr><tr><td>P0384</td><td>Puma</td><td>PUMA</td></tr><tr><td>P0385</td><td>Revlon</td><td>REVLON</td></tr><tr><td>P0386</td><td>Revlon</td><td>REVLON</td></tr><tr><td>P0387</td><td>Dell</td><td>DELL</td></tr><tr><td>P0388</td><td>Puma</td><td>PUMA</td></tr><tr><td>P0389</td><td>Sony</td><td>SONY</td></tr><tr><td>P0390</td><td>Lenovo</td><td>LENOVO</td></tr><tr><td>P0391</td><td>Sony</td><td>SONY</td></tr><tr><td>P0392</td><td>Apple</td><td>APPLE</td></tr><tr><td>P0393</td><td>Sony</td><td>SONY</td></tr><tr><td>P0394</td><td>Samsung</td><td>SAMSUNG</td></tr><tr><td>P0395</td><td>Samsung</td><td>SAMSUNG</td></tr><tr><td>P0396</td><td>Lenovo</td><td>LENOVO</td></tr><tr><td>P0397</td><td>Apple</td><td>APPLE</td></tr><tr><td>P0398</td><td>Apple</td><td>APPLE</td></tr><tr><td>P0399</td><td>Nike</td><td>NIKE</td></tr><tr><td>P0400</td><td>Sony</td><td>SONY</td></tr><tr><td>P0401</td><td>Dell</td><td>DELL</td></tr><tr><td>P0402</td><td>Lenovo</td><td>LENOVO</td></tr><tr><td>P0403</td><td>Lenovo</td><td>LENOVO</td></tr><tr><td>P0404</td><td>LG</td><td>LG</td></tr><tr><td>P0405</td><td>Dell</td><td>DELL</td></tr><tr><td>P0406</td><td>Adidas</td><td>ADIDAS</td></tr><tr><td>P0407</td><td>LG</td><td>LG</td></tr><tr><td>P0408</td><td>Apple</td><td>APPLE</td></tr><tr><td>P0409</td><td>LG</td><td>LG</td></tr><tr><td>P0410</td><td>Adidas</td><td>ADIDAS</td></tr><tr><td>P0411</td><td>Puma</td><td>PUMA</td></tr><tr><td>P0412</td><td>Dell</td><td>DELL</td></tr><tr><td>P0413</td><td>Lenovo</td><td>LENOVO</td></tr><tr><td>P0414</td><td>LG</td><td>LG</td></tr><tr><td>P0415</td><td>Samsung</td><td>SAMSUNG</td></tr><tr><td>P0416</td><td>Nike</td><td>NIKE</td></tr><tr><td>P0417</td><td>Revlon</td><td>REVLON</td></tr><tr><td>P0418</td><td>Dell</td><td>DELL</td></tr><tr><td>P0419</td><td>Adidas</td><td>ADIDAS</td></tr><tr><td>P0420</td><td>Adidas</td><td>ADIDAS</td></tr><tr><td>P0421</td><td>Sony</td><td>SONY</td></tr><tr><td>P0422</td><td>Revlon</td><td>REVLON</td></tr><tr><td>P0423</td><td>Dell</td><td>DELL</td></tr><tr><td>P0424</td><td>Apple</td><td>APPLE</td></tr><tr><td>P0425</td><td>Adidas</td><td>ADIDAS</td></tr><tr><td>P0426</td><td>Puma</td><td>PUMA</td></tr><tr><td>P0427</td><td>Sony</td><td>SONY</td></tr><tr><td>P0428</td><td>Sony</td><td>SONY</td></tr><tr><td>P0429</td><td>Apple</td><td>APPLE</td></tr><tr><td>P0430</td><td>Adidas</td><td>ADIDAS</td></tr><tr><td>P0431</td><td>Dell</td><td>DELL</td></tr><tr><td>P0432</td><td>Revlon</td><td>REVLON</td></tr><tr><td>P0433</td><td>Apple</td><td>APPLE</td></tr><tr><td>P0434</td><td>Adidas</td><td>ADIDAS</td></tr><tr><td>P0435</td><td>Nike</td><td>NIKE</td></tr><tr><td>P0436</td><td>Puma</td><td>PUMA</td></tr><tr><td>P0437</td><td>Sony</td><td>SONY</td></tr><tr><td>P0438</td><td>LG</td><td>LG</td></tr><tr><td>P0439</td><td>Apple</td><td>APPLE</td></tr><tr><td>P0440</td><td>Dell</td><td>DELL</td></tr><tr><td>P0441</td><td>Adidas</td><td>ADIDAS</td></tr><tr><td>P0442</td><td>Adidas</td><td>ADIDAS</td></tr><tr><td>P0443</td><td>Dell</td><td>DELL</td></tr><tr><td>P0444</td><td>Revlon</td><td>REVLON</td></tr><tr><td>P0445</td><td>Apple</td><td>APPLE</td></tr><tr><td>P0446</td><td>Puma</td><td>PUMA</td></tr><tr><td>P0447</td><td>Sony</td><td>SONY</td></tr><tr><td>P0448</td><td>LG</td><td>LG</td></tr><tr><td>P0449</td><td>Samsung</td><td>SAMSUNG</td></tr><tr><td>P0450</td><td>Revlon</td><td>REVLON</td></tr><tr><td>P0451</td><td>Puma</td><td>PUMA</td></tr><tr><td>P0452</td><td>Dell</td><td>DELL</td></tr><tr><td>P0453</td><td>Sony</td><td>SONY</td></tr><tr><td>P0454</td><td>Sony</td><td>SONY</td></tr><tr><td>P0455</td><td>Puma</td><td>PUMA</td></tr><tr><td>P0456</td><td>Apple</td><td>APPLE</td></tr><tr><td>P0457</td><td>Nike</td><td>NIKE</td></tr><tr><td>P0458</td><td>Dell</td><td>DELL</td></tr><tr><td>P0459</td><td>Apple</td><td>APPLE</td></tr><tr><td>P0460</td><td>Revlon</td><td>REVLON</td></tr><tr><td>P0461</td><td>Apple</td><td>APPLE</td></tr><tr><td>P0462</td><td>Revlon</td><td>REVLON</td></tr><tr><td>P0463</td><td>Apple</td><td>APPLE</td></tr><tr><td>P0464</td><td>Sony</td><td>SONY</td></tr><tr><td>P0465</td><td>Lenovo</td><td>LENOVO</td></tr><tr><td>P0466</td><td>Lenovo</td><td>LENOVO</td></tr><tr><td>P0467</td><td>Adidas</td><td>ADIDAS</td></tr><tr><td>P0468</td><td>LG</td><td>LG</td></tr><tr><td>P0469</td><td>Dell</td><td>DELL</td></tr><tr><td>P0470</td><td>Dell</td><td>DELL</td></tr><tr><td>P0471</td><td>Sony</td><td>SONY</td></tr><tr><td>P0472</td><td>Apple</td><td>APPLE</td></tr><tr><td>P0473</td><td>Adidas</td><td>ADIDAS</td></tr><tr><td>P0474</td><td>Nike</td><td>NIKE</td></tr><tr><td>P0475</td><td>Samsung</td><td>SAMSUNG</td></tr><tr><td>P0476</td><td>Lenovo</td><td>LENOVO</td></tr><tr><td>P0477</td><td>Apple</td><td>APPLE</td></tr><tr><td>P0478</td><td>Sony</td><td>SONY</td></tr><tr><td>P0479</td><td>Sony</td><td>SONY</td></tr><tr><td>P0480</td><td>Adidas</td><td>ADIDAS</td></tr><tr><td>P0481</td><td>Nike</td><td>NIKE</td></tr><tr><td>P0482</td><td>Sony</td><td>SONY</td></tr><tr><td>P0483</td><td>Nike</td><td>NIKE</td></tr><tr><td>P0484</td><td>Apple</td><td>APPLE</td></tr><tr><td>P0485</td><td>Apple</td><td>APPLE</td></tr><tr><td>P0486</td><td>Samsung</td><td>SAMSUNG</td></tr><tr><td>P0487</td><td>Dell</td><td>DELL</td></tr><tr><td>P0488</td><td>Lenovo</td><td>LENOVO</td></tr><tr><td>P0489</td><td>LG</td><td>LG</td></tr><tr><td>P0490</td><td>Revlon</td><td>REVLON</td></tr><tr><td>P0491</td><td>LG</td><td>LG</td></tr><tr><td>P0492</td><td>Nike</td><td>NIKE</td></tr><tr><td>P0493</td><td>Samsung</td><td>SAMSUNG</td></tr><tr><td>P0494</td><td>Apple</td><td>APPLE</td></tr><tr><td>P0495</td><td>Sony</td><td>SONY</td></tr><tr><td>P0496</td><td>Apple</td><td>APPLE</td></tr><tr><td>P0497</td><td>Lenovo</td><td>LENOVO</td></tr><tr><td>P0498</td><td>Adidas</td><td>ADIDAS</td></tr><tr><td>P0499</td><td>Revlon</td><td>REVLON</td></tr><tr><td>P0500</td><td>Puma</td><td>PUMA</td></tr></tbody></table></div>"
      ]
     },
     "metadata": {
      "application/vnd.databricks.v1+output": {
       "addedWidgets": {},
       "aggData": [],
       "aggError": "",
       "aggOverflow": false,
       "aggSchema": [],
       "aggSeriesLimitReached": false,
       "aggType": "",
       "arguments": {},
       "columnCustomDisplayInfos": {},
       "data": [
        [
         "P0001",
         "Nike",
         "NIKE"
        ],
        [
         "P0002",
         "Apple",
         "APPLE"
        ],
        [
         "P0003",
         "Revlon",
         "REVLON"
        ],
        [
         "P0004",
         "LG",
         "LG"
        ],
        [
         "P0005",
         "Samsung",
         "SAMSUNG"
        ],
        [
         "P0006",
         "Adidas",
         "ADIDAS"
        ],
        [
         "P0007",
         "Adidas",
         "ADIDAS"
        ],
        [
         "P0008",
         "Puma",
         "PUMA"
        ],
        [
         "P0009",
         "Samsung",
         "SAMSUNG"
        ],
        [
         "P0010",
         "Sony",
         "SONY"
        ],
        [
         "P0011",
         "Adidas",
         "ADIDAS"
        ],
        [
         "P0012",
         "Apple",
         "APPLE"
        ],
        [
         "P0013",
         "Puma",
         "PUMA"
        ],
        [
         "P0014",
         "Dell",
         "DELL"
        ],
        [
         "P0015",
         "LG",
         "LG"
        ],
        [
         "P0016",
         "Samsung",
         "SAMSUNG"
        ],
        [
         "P0017",
         "Revlon",
         "REVLON"
        ],
        [
         "P0018",
         "Puma",
         "PUMA"
        ],
        [
         "P0019",
         "Samsung",
         "SAMSUNG"
        ],
        [
         "P0020",
         "Nike",
         "NIKE"
        ],
        [
         "P0021",
         "Nike",
         "NIKE"
        ],
        [
         "P0022",
         "Puma",
         "PUMA"
        ],
        [
         "P0023",
         "Adidas",
         "ADIDAS"
        ],
        [
         "P0024",
         "Samsung",
         "SAMSUNG"
        ],
        [
         "P0025",
         "Nike",
         "NIKE"
        ],
        [
         "P0026",
         "Puma",
         "PUMA"
        ],
        [
         "P0027",
         "Adidas",
         "ADIDAS"
        ],
        [
         "P0028",
         "Puma",
         "PUMA"
        ],
        [
         "P0029",
         "Nike",
         "NIKE"
        ],
        [
         "P0030",
         "Lenovo",
         "LENOVO"
        ],
        [
         "P0031",
         "LG",
         "LG"
        ],
        [
         "P0032",
         "Dell",
         "DELL"
        ],
        [
         "P0033",
         "Lenovo",
         "LENOVO"
        ],
        [
         "P0034",
         "Samsung",
         "SAMSUNG"
        ],
        [
         "P0035",
         "Revlon",
         "REVLON"
        ],
        [
         "P0036",
         "Dell",
         "DELL"
        ],
        [
         "P0037",
         "Puma",
         "PUMA"
        ],
        [
         "P0038",
         "Revlon",
         "REVLON"
        ],
        [
         "P0039",
         "Revlon",
         "REVLON"
        ],
        [
         "P0040",
         "Dell",
         "DELL"
        ],
        [
         "P0041",
         "Dell",
         "DELL"
        ],
        [
         "P0042",
         "Adidas",
         "ADIDAS"
        ],
        [
         "P0043",
         "Revlon",
         "REVLON"
        ],
        [
         "P0044",
         "Dell",
         "DELL"
        ],
        [
         "P0045",
         "Sony",
         "SONY"
        ],
        [
         "P0046",
         "Samsung",
         "SAMSUNG"
        ],
        [
         "P0047",
         "Revlon",
         "REVLON"
        ],
        [
         "P0048",
         "Revlon",
         "REVLON"
        ],
        [
         "P0049",
         "Lenovo",
         "LENOVO"
        ],
        [
         "P0050",
         "Samsung",
         "SAMSUNG"
        ],
        [
         "P0051",
         "Apple",
         "APPLE"
        ],
        [
         "P0052",
         "Lenovo",
         "LENOVO"
        ],
        [
         "P0053",
         "Samsung",
         "SAMSUNG"
        ],
        [
         "P0054",
         "Adidas",
         "ADIDAS"
        ],
        [
         "P0055",
         "Sony",
         "SONY"
        ],
        [
         "P0056",
         "Nike",
         "NIKE"
        ],
        [
         "P0057",
         "Samsung",
         "SAMSUNG"
        ],
        [
         "P0058",
         "LG",
         "LG"
        ],
        [
         "P0059",
         "Lenovo",
         "LENOVO"
        ],
        [
         "P0060",
         "Nike",
         "NIKE"
        ],
        [
         "P0061",
         "Sony",
         "SONY"
        ],
        [
         "P0062",
         "Samsung",
         "SAMSUNG"
        ],
        [
         "P0063",
         "Nike",
         "NIKE"
        ],
        [
         "P0064",
         "LG",
         "LG"
        ],
        [
         "P0065",
         "Lenovo",
         "LENOVO"
        ],
        [
         "P0066",
         "Sony",
         "SONY"
        ],
        [
         "P0067",
         "Samsung",
         "SAMSUNG"
        ],
        [
         "P0068",
         "LG",
         "LG"
        ],
        [
         "P0069",
         "Lenovo",
         "LENOVO"
        ],
        [
         "P0070",
         "Lenovo",
         "LENOVO"
        ],
        [
         "P0071",
         "Apple",
         "APPLE"
        ],
        [
         "P0072",
         "Revlon",
         "REVLON"
        ],
        [
         "P0073",
         "Adidas",
         "ADIDAS"
        ],
        [
         "P0074",
         "Lenovo",
         "LENOVO"
        ],
        [
         "P0075",
         "Samsung",
         "SAMSUNG"
        ],
        [
         "P0076",
         "Puma",
         "PUMA"
        ],
        [
         "P0077",
         "LG",
         "LG"
        ],
        [
         "P0078",
         "LG",
         "LG"
        ],
        [
         "P0079",
         "LG",
         "LG"
        ],
        [
         "P0080",
         "Lenovo",
         "LENOVO"
        ],
        [
         "P0081",
         "Nike",
         "NIKE"
        ],
        [
         "P0082",
         "Apple",
         "APPLE"
        ],
        [
         "P0083",
         "Dell",
         "DELL"
        ],
        [
         "P0084",
         "Samsung",
         "SAMSUNG"
        ],
        [
         "P0085",
         "Apple",
         "APPLE"
        ],
        [
         "P0086",
         "Nike",
         "NIKE"
        ],
        [
         "P0087",
         "Sony",
         "SONY"
        ],
        [
         "P0088",
         "Adidas",
         "ADIDAS"
        ],
        [
         "P0089",
         "LG",
         "LG"
        ],
        [
         "P0090",
         "Puma",
         "PUMA"
        ],
        [
         "P0091",
         "Samsung",
         "SAMSUNG"
        ],
        [
         "P0092",
         "Revlon",
         "REVLON"
        ],
        [
         "P0093",
         "Puma",
         "PUMA"
        ],
        [
         "P0094",
         "LG",
         "LG"
        ],
        [
         "P0095",
         "Apple",
         "APPLE"
        ],
        [
         "P0096",
         "Nike",
         "NIKE"
        ],
        [
         "P0097",
         "Apple",
         "APPLE"
        ],
        [
         "P0098",
         "Puma",
         "PUMA"
        ],
        [
         "P0099",
         "Adidas",
         "ADIDAS"
        ],
        [
         "P0100",
         "Dell",
         "DELL"
        ],
        [
         "P0101",
         "Puma",
         "PUMA"
        ],
        [
         "P0102",
         "LG",
         "LG"
        ],
        [
         "P0103",
         "Samsung",
         "SAMSUNG"
        ],
        [
         "P0104",
         "Dell",
         "DELL"
        ],
        [
         "P0105",
         "LG",
         "LG"
        ],
        [
         "P0106",
         "Sony",
         "SONY"
        ],
        [
         "P0107",
         "Adidas",
         "ADIDAS"
        ],
        [
         "P0108",
         "Puma",
         "PUMA"
        ],
        [
         "P0109",
         "Lenovo",
         "LENOVO"
        ],
        [
         "P0110",
         "Samsung",
         "SAMSUNG"
        ],
        [
         "P0111",
         "Adidas",
         "ADIDAS"
        ],
        [
         "P0112",
         "Puma",
         "PUMA"
        ],
        [
         "P0113",
         "Puma",
         "PUMA"
        ],
        [
         "P0114",
         "Nike",
         "NIKE"
        ],
        [
         "P0115",
         "Puma",
         "PUMA"
        ],
        [
         "P0116",
         "Sony",
         "SONY"
        ],
        [
         "P0117",
         "Puma",
         "PUMA"
        ],
        [
         "P0118",
         "Lenovo",
         "LENOVO"
        ],
        [
         "P0119",
         "Sony",
         "SONY"
        ],
        [
         "P0120",
         "Sony",
         "SONY"
        ],
        [
         "P0121",
         "Nike",
         "NIKE"
        ],
        [
         "P0122",
         "LG",
         "LG"
        ],
        [
         "P0123",
         "Nike",
         "NIKE"
        ],
        [
         "P0124",
         "Puma",
         "PUMA"
        ],
        [
         "P0125",
         "Sony",
         "SONY"
        ],
        [
         "P0126",
         "Sony",
         "SONY"
        ],
        [
         "P0127",
         "Sony",
         "SONY"
        ],
        [
         "P0128",
         "Apple",
         "APPLE"
        ],
        [
         "P0129",
         "Adidas",
         "ADIDAS"
        ],
        [
         "P0130",
         "Adidas",
         "ADIDAS"
        ],
        [
         "P0131",
         "Revlon",
         "REVLON"
        ],
        [
         "P0132",
         "Samsung",
         "SAMSUNG"
        ],
        [
         "P0133",
         "LG",
         "LG"
        ],
        [
         "P0134",
         "Puma",
         "PUMA"
        ],
        [
         "P0135",
         "Puma",
         "PUMA"
        ],
        [
         "P0136",
         "Samsung",
         "SAMSUNG"
        ],
        [
         "P0137",
         "Lenovo",
         "LENOVO"
        ],
        [
         "P0138",
         "Samsung",
         "SAMSUNG"
        ],
        [
         "P0139",
         "Revlon",
         "REVLON"
        ],
        [
         "P0140",
         "Adidas",
         "ADIDAS"
        ],
        [
         "P0141",
         "Adidas",
         "ADIDAS"
        ],
        [
         "P0142",
         "Adidas",
         "ADIDAS"
        ],
        [
         "P0143",
         "Apple",
         "APPLE"
        ],
        [
         "P0144",
         "Apple",
         "APPLE"
        ],
        [
         "P0145",
         "Puma",
         "PUMA"
        ],
        [
         "P0146",
         "Sony",
         "SONY"
        ],
        [
         "P0147",
         "Lenovo",
         "LENOVO"
        ],
        [
         "P0148",
         "Dell",
         "DELL"
        ],
        [
         "P0149",
         "Samsung",
         "SAMSUNG"
        ],
        [
         "P0150",
         "Samsung",
         "SAMSUNG"
        ],
        [
         "P0151",
         "Apple",
         "APPLE"
        ],
        [
         "P0152",
         "LG",
         "LG"
        ],
        [
         "P0153",
         "Apple",
         "APPLE"
        ],
        [
         "P0154",
         "Samsung",
         "SAMSUNG"
        ],
        [
         "P0155",
         "Dell",
         "DELL"
        ],
        [
         "P0156",
         "Sony",
         "SONY"
        ],
        [
         "P0157",
         "Adidas",
         "ADIDAS"
        ],
        [
         "P0158",
         "Adidas",
         "ADIDAS"
        ],
        [
         "P0159",
         "Lenovo",
         "LENOVO"
        ],
        [
         "P0160",
         "Nike",
         "NIKE"
        ],
        [
         "P0161",
         "LG",
         "LG"
        ],
        [
         "P0162",
         "Adidas",
         "ADIDAS"
        ],
        [
         "P0163",
         "Dell",
         "DELL"
        ],
        [
         "P0164",
         "Lenovo",
         "LENOVO"
        ],
        [
         "P0165",
         "Adidas",
         "ADIDAS"
        ],
        [
         "P0166",
         "Samsung",
         "SAMSUNG"
        ],
        [
         "P0167",
         "Adidas",
         "ADIDAS"
        ],
        [
         "P0168",
         "Sony",
         "SONY"
        ],
        [
         "P0169",
         "Sony",
         "SONY"
        ],
        [
         "P0170",
         "Lenovo",
         "LENOVO"
        ],
        [
         "P0171",
         "Lenovo",
         "LENOVO"
        ],
        [
         "P0172",
         "Sony",
         "SONY"
        ],
        [
         "P0173",
         "Samsung",
         "SAMSUNG"
        ],
        [
         "P0174",
         "Lenovo",
         "LENOVO"
        ],
        [
         "P0175",
         "Apple",
         "APPLE"
        ],
        [
         "P0176",
         "Adidas",
         "ADIDAS"
        ],
        [
         "P0177",
         "Nike",
         "NIKE"
        ],
        [
         "P0178",
         "Adidas",
         "ADIDAS"
        ],
        [
         "P0179",
         "Samsung",
         "SAMSUNG"
        ],
        [
         "P0180",
         "Sony",
         "SONY"
        ],
        [
         "P0181",
         "LG",
         "LG"
        ],
        [
         "P0182",
         "Apple",
         "APPLE"
        ],
        [
         "P0183",
         "Samsung",
         "SAMSUNG"
        ],
        [
         "P0184",
         "Adidas",
         "ADIDAS"
        ],
        [
         "P0185",
         "Apple",
         "APPLE"
        ],
        [
         "P0186",
         "Revlon",
         "REVLON"
        ],
        [
         "P0187",
         "Nike",
         "NIKE"
        ],
        [
         "P0188",
         "Adidas",
         "ADIDAS"
        ],
        [
         "P0189",
         "Puma",
         "PUMA"
        ],
        [
         "P0190",
         "Samsung",
         "SAMSUNG"
        ],
        [
         "P0191",
         "Revlon",
         "REVLON"
        ],
        [
         "P0192",
         "Apple",
         "APPLE"
        ],
        [
         "P0193",
         "Nike",
         "NIKE"
        ],
        [
         "P0194",
         "Revlon",
         "REVLON"
        ],
        [
         "P0195",
         "Adidas",
         "ADIDAS"
        ],
        [
         "P0196",
         "Adidas",
         "ADIDAS"
        ],
        [
         "P0197",
         "Revlon",
         "REVLON"
        ],
        [
         "P0198",
         "Samsung",
         "SAMSUNG"
        ],
        [
         "P0199",
         "Sony",
         "SONY"
        ],
        [
         "P0200",
         "Apple",
         "APPLE"
        ],
        [
         "P0201",
         "Samsung",
         "SAMSUNG"
        ],
        [
         "P0202",
         "Adidas",
         "ADIDAS"
        ],
        [
         "P0203",
         "Samsung",
         "SAMSUNG"
        ],
        [
         "P0204",
         "Adidas",
         "ADIDAS"
        ],
        [
         "P0205",
         "LG",
         "LG"
        ],
        [
         "P0206",
         "Apple",
         "APPLE"
        ],
        [
         "P0207",
         "Adidas",
         "ADIDAS"
        ],
        [
         "P0208",
         "Adidas",
         "ADIDAS"
        ],
        [
         "P0209",
         "Revlon",
         "REVLON"
        ],
        [
         "P0210",
         "Apple",
         "APPLE"
        ],
        [
         "P0211",
         "Nike",
         "NIKE"
        ],
        [
         "P0212",
         "Adidas",
         "ADIDAS"
        ],
        [
         "P0213",
         "Samsung",
         "SAMSUNG"
        ],
        [
         "P0214",
         "Revlon",
         "REVLON"
        ],
        [
         "P0215",
         "Adidas",
         "ADIDAS"
        ],
        [
         "P0216",
         "Adidas",
         "ADIDAS"
        ],
        [
         "P0217",
         "Puma",
         "PUMA"
        ],
        [
         "P0218",
         "Nike",
         "NIKE"
        ],
        [
         "P0219",
         "Dell",
         "DELL"
        ],
        [
         "P0220",
         "Dell",
         "DELL"
        ],
        [
         "P0221",
         "Lenovo",
         "LENOVO"
        ],
        [
         "P0222",
         "Samsung",
         "SAMSUNG"
        ],
        [
         "P0223",
         "Lenovo",
         "LENOVO"
        ],
        [
         "P0224",
         "Apple",
         "APPLE"
        ],
        [
         "P0225",
         "Nike",
         "NIKE"
        ],
        [
         "P0226",
         "Lenovo",
         "LENOVO"
        ],
        [
         "P0227",
         "Nike",
         "NIKE"
        ],
        [
         "P0228",
         "Puma",
         "PUMA"
        ],
        [
         "P0229",
         "Lenovo",
         "LENOVO"
        ],
        [
         "P0230",
         "Samsung",
         "SAMSUNG"
        ],
        [
         "P0231",
         "Revlon",
         "REVLON"
        ],
        [
         "P0232",
         "Adidas",
         "ADIDAS"
        ],
        [
         "P0233",
         "Lenovo",
         "LENOVO"
        ],
        [
         "P0234",
         "Sony",
         "SONY"
        ],
        [
         "P0235",
         "Adidas",
         "ADIDAS"
        ],
        [
         "P0236",
         "Samsung",
         "SAMSUNG"
        ],
        [
         "P0237",
         "Samsung",
         "SAMSUNG"
        ],
        [
         "P0238",
         "Revlon",
         "REVLON"
        ],
        [
         "P0239",
         "Nike",
         "NIKE"
        ],
        [
         "P0240",
         "Samsung",
         "SAMSUNG"
        ],
        [
         "P0241",
         "Puma",
         "PUMA"
        ],
        [
         "P0242",
         "Samsung",
         "SAMSUNG"
        ],
        [
         "P0243",
         "Lenovo",
         "LENOVO"
        ],
        [
         "P0244",
         "Revlon",
         "REVLON"
        ],
        [
         "P0245",
         "LG",
         "LG"
        ],
        [
         "P0246",
         "Adidas",
         "ADIDAS"
        ],
        [
         "P0247",
         "Sony",
         "SONY"
        ],
        [
         "P0248",
         "Revlon",
         "REVLON"
        ],
        [
         "P0249",
         "Puma",
         "PUMA"
        ],
        [
         "P0250",
         "Samsung",
         "SAMSUNG"
        ],
        [
         "P0251",
         "Lenovo",
         "LENOVO"
        ],
        [
         "P0252",
         "Sony",
         "SONY"
        ],
        [
         "P0253",
         "Lenovo",
         "LENOVO"
        ],
        [
         "P0254",
         "Lenovo",
         "LENOVO"
        ],
        [
         "P0255",
         "Lenovo",
         "LENOVO"
        ],
        [
         "P0256",
         "Lenovo",
         "LENOVO"
        ],
        [
         "P0257",
         "Nike",
         "NIKE"
        ],
        [
         "P0258",
         "Revlon",
         "REVLON"
        ],
        [
         "P0259",
         "Puma",
         "PUMA"
        ],
        [
         "P0260",
         "Revlon",
         "REVLON"
        ],
        [
         "P0261",
         "Dell",
         "DELL"
        ],
        [
         "P0262",
         "Samsung",
         "SAMSUNG"
        ],
        [
         "P0263",
         "Nike",
         "NIKE"
        ],
        [
         "P0264",
         "Apple",
         "APPLE"
        ],
        [
         "P0265",
         "Nike",
         "NIKE"
        ],
        [
         "P0266",
         "LG",
         "LG"
        ],
        [
         "P0267",
         "Adidas",
         "ADIDAS"
        ],
        [
         "P0268",
         "Dell",
         "DELL"
        ],
        [
         "P0269",
         "Lenovo",
         "LENOVO"
        ],
        [
         "P0270",
         "Samsung",
         "SAMSUNG"
        ],
        [
         "P0271",
         "Puma",
         "PUMA"
        ],
        [
         "P0272",
         "Dell",
         "DELL"
        ],
        [
         "P0273",
         "Nike",
         "NIKE"
        ],
        [
         "P0274",
         "Samsung",
         "SAMSUNG"
        ],
        [
         "P0275",
         "Sony",
         "SONY"
        ],
        [
         "P0276",
         "Puma",
         "PUMA"
        ],
        [
         "P0277",
         "Dell",
         "DELL"
        ],
        [
         "P0278",
         "Revlon",
         "REVLON"
        ],
        [
         "P0279",
         "Lenovo",
         "LENOVO"
        ],
        [
         "P0280",
         "Puma",
         "PUMA"
        ],
        [
         "P0281",
         "Puma",
         "PUMA"
        ],
        [
         "P0282",
         "Samsung",
         "SAMSUNG"
        ],
        [
         "P0283",
         "Nike",
         "NIKE"
        ],
        [
         "P0284",
         "Puma",
         "PUMA"
        ],
        [
         "P0285",
         "Revlon",
         "REVLON"
        ],
        [
         "P0286",
         "Adidas",
         "ADIDAS"
        ],
        [
         "P0287",
         "Puma",
         "PUMA"
        ],
        [
         "P0288",
         "Lenovo",
         "LENOVO"
        ],
        [
         "P0289",
         "Puma",
         "PUMA"
        ],
        [
         "P0290",
         "LG",
         "LG"
        ],
        [
         "P0291",
         "LG",
         "LG"
        ],
        [
         "P0292",
         "Sony",
         "SONY"
        ],
        [
         "P0293",
         "LG",
         "LG"
        ],
        [
         "P0294",
         "Lenovo",
         "LENOVO"
        ],
        [
         "P0295",
         "Puma",
         "PUMA"
        ],
        [
         "P0296",
         "Nike",
         "NIKE"
        ],
        [
         "P0297",
         "Nike",
         "NIKE"
        ],
        [
         "P0298",
         "Revlon",
         "REVLON"
        ],
        [
         "P0299",
         "Apple",
         "APPLE"
        ],
        [
         "P0300",
         "Sony",
         "SONY"
        ],
        [
         "P0301",
         "Adidas",
         "ADIDAS"
        ],
        [
         "P0302",
         "Nike",
         "NIKE"
        ],
        [
         "P0303",
         "LG",
         "LG"
        ],
        [
         "P0304",
         "Adidas",
         "ADIDAS"
        ],
        [
         "P0305",
         "Puma",
         "PUMA"
        ],
        [
         "P0306",
         "Samsung",
         "SAMSUNG"
        ],
        [
         "P0307",
         "Lenovo",
         "LENOVO"
        ],
        [
         "P0308",
         "Nike",
         "NIKE"
        ],
        [
         "P0309",
         "Apple",
         "APPLE"
        ],
        [
         "P0310",
         "Samsung",
         "SAMSUNG"
        ],
        [
         "P0311",
         "Revlon",
         "REVLON"
        ],
        [
         "P0312",
         "Puma",
         "PUMA"
        ],
        [
         "P0313",
         "Samsung",
         "SAMSUNG"
        ],
        [
         "P0314",
         "Nike",
         "NIKE"
        ],
        [
         "P0315",
         "Dell",
         "DELL"
        ],
        [
         "P0316",
         "Puma",
         "PUMA"
        ],
        [
         "P0317",
         "Dell",
         "DELL"
        ],
        [
         "P0318",
         "Samsung",
         "SAMSUNG"
        ],
        [
         "P0319",
         "Nike",
         "NIKE"
        ],
        [
         "P0320",
         "Adidas",
         "ADIDAS"
        ],
        [
         "P0321",
         "Lenovo",
         "LENOVO"
        ],
        [
         "P0322",
         "Dell",
         "DELL"
        ],
        [
         "P0323",
         "Lenovo",
         "LENOVO"
        ],
        [
         "P0324",
         "Nike",
         "NIKE"
        ],
        [
         "P0325",
         "Lenovo",
         "LENOVO"
        ],
        [
         "P0326",
         "Nike",
         "NIKE"
        ],
        [
         "P0327",
         "Sony",
         "SONY"
        ],
        [
         "P0328",
         "Lenovo",
         "LENOVO"
        ],
        [
         "P0329",
         "Nike",
         "NIKE"
        ],
        [
         "P0330",
         "LG",
         "LG"
        ],
        [
         "P0331",
         "LG",
         "LG"
        ],
        [
         "P0332",
         "Lenovo",
         "LENOVO"
        ],
        [
         "P0333",
         "Sony",
         "SONY"
        ],
        [
         "P0334",
         "Lenovo",
         "LENOVO"
        ],
        [
         "P0335",
         "Samsung",
         "SAMSUNG"
        ],
        [
         "P0336",
         "Dell",
         "DELL"
        ],
        [
         "P0337",
         "Samsung",
         "SAMSUNG"
        ],
        [
         "P0338",
         "LG",
         "LG"
        ],
        [
         "P0339",
         "LG",
         "LG"
        ],
        [
         "P0340",
         "Adidas",
         "ADIDAS"
        ],
        [
         "P0341",
         "Lenovo",
         "LENOVO"
        ],
        [
         "P0342",
         "Nike",
         "NIKE"
        ],
        [
         "P0343",
         "Sony",
         "SONY"
        ],
        [
         "P0344",
         "Nike",
         "NIKE"
        ],
        [
         "P0345",
         "Apple",
         "APPLE"
        ],
        [
         "P0346",
         "Dell",
         "DELL"
        ],
        [
         "P0347",
         "Sony",
         "SONY"
        ],
        [
         "P0348",
         "LG",
         "LG"
        ],
        [
         "P0349",
         "LG",
         "LG"
        ],
        [
         "P0350",
         "Dell",
         "DELL"
        ],
        [
         "P0351",
         "Samsung",
         "SAMSUNG"
        ],
        [
         "P0352",
         "Sony",
         "SONY"
        ],
        [
         "P0353",
         "Adidas",
         "ADIDAS"
        ],
        [
         "P0354",
         "Samsung",
         "SAMSUNG"
        ],
        [
         "P0355",
         "Apple",
         "APPLE"
        ],
        [
         "P0356",
         "Samsung",
         "SAMSUNG"
        ],
        [
         "P0357",
         "Adidas",
         "ADIDAS"
        ],
        [
         "P0358",
         "Samsung",
         "SAMSUNG"
        ],
        [
         "P0359",
         "Lenovo",
         "LENOVO"
        ],
        [
         "P0360",
         "Lenovo",
         "LENOVO"
        ],
        [
         "P0361",
         "LG",
         "LG"
        ],
        [
         "P0362",
         "Revlon",
         "REVLON"
        ],
        [
         "P0363",
         "Nike",
         "NIKE"
        ],
        [
         "P0364",
         "Dell",
         "DELL"
        ],
        [
         "P0365",
         "Revlon",
         "REVLON"
        ],
        [
         "P0366",
         "Apple",
         "APPLE"
        ],
        [
         "P0367",
         "Nike",
         "NIKE"
        ],
        [
         "P0368",
         "Dell",
         "DELL"
        ],
        [
         "P0369",
         "Apple",
         "APPLE"
        ],
        [
         "P0370",
         "Lenovo",
         "LENOVO"
        ],
        [
         "P0371",
         "Dell",
         "DELL"
        ],
        [
         "P0372",
         "Dell",
         "DELL"
        ],
        [
         "P0373",
         "Puma",
         "PUMA"
        ],
        [
         "P0374",
         "LG",
         "LG"
        ],
        [
         "P0375",
         "Sony",
         "SONY"
        ],
        [
         "P0376",
         "Adidas",
         "ADIDAS"
        ],
        [
         "P0377",
         "Dell",
         "DELL"
        ],
        [
         "P0378",
         "Dell",
         "DELL"
        ],
        [
         "P0379",
         "Sony",
         "SONY"
        ],
        [
         "P0380",
         "Dell",
         "DELL"
        ],
        [
         "P0381",
         "Adidas",
         "ADIDAS"
        ],
        [
         "P0382",
         "Apple",
         "APPLE"
        ],
        [
         "P0383",
         "Revlon",
         "REVLON"
        ],
        [
         "P0384",
         "Puma",
         "PUMA"
        ],
        [
         "P0385",
         "Revlon",
         "REVLON"
        ],
        [
         "P0386",
         "Revlon",
         "REVLON"
        ],
        [
         "P0387",
         "Dell",
         "DELL"
        ],
        [
         "P0388",
         "Puma",
         "PUMA"
        ],
        [
         "P0389",
         "Sony",
         "SONY"
        ],
        [
         "P0390",
         "Lenovo",
         "LENOVO"
        ],
        [
         "P0391",
         "Sony",
         "SONY"
        ],
        [
         "P0392",
         "Apple",
         "APPLE"
        ],
        [
         "P0393",
         "Sony",
         "SONY"
        ],
        [
         "P0394",
         "Samsung",
         "SAMSUNG"
        ],
        [
         "P0395",
         "Samsung",
         "SAMSUNG"
        ],
        [
         "P0396",
         "Lenovo",
         "LENOVO"
        ],
        [
         "P0397",
         "Apple",
         "APPLE"
        ],
        [
         "P0398",
         "Apple",
         "APPLE"
        ],
        [
         "P0399",
         "Nike",
         "NIKE"
        ],
        [
         "P0400",
         "Sony",
         "SONY"
        ],
        [
         "P0401",
         "Dell",
         "DELL"
        ],
        [
         "P0402",
         "Lenovo",
         "LENOVO"
        ],
        [
         "P0403",
         "Lenovo",
         "LENOVO"
        ],
        [
         "P0404",
         "LG",
         "LG"
        ],
        [
         "P0405",
         "Dell",
         "DELL"
        ],
        [
         "P0406",
         "Adidas",
         "ADIDAS"
        ],
        [
         "P0407",
         "LG",
         "LG"
        ],
        [
         "P0408",
         "Apple",
         "APPLE"
        ],
        [
         "P0409",
         "LG",
         "LG"
        ],
        [
         "P0410",
         "Adidas",
         "ADIDAS"
        ],
        [
         "P0411",
         "Puma",
         "PUMA"
        ],
        [
         "P0412",
         "Dell",
         "DELL"
        ],
        [
         "P0413",
         "Lenovo",
         "LENOVO"
        ],
        [
         "P0414",
         "LG",
         "LG"
        ],
        [
         "P0415",
         "Samsung",
         "SAMSUNG"
        ],
        [
         "P0416",
         "Nike",
         "NIKE"
        ],
        [
         "P0417",
         "Revlon",
         "REVLON"
        ],
        [
         "P0418",
         "Dell",
         "DELL"
        ],
        [
         "P0419",
         "Adidas",
         "ADIDAS"
        ],
        [
         "P0420",
         "Adidas",
         "ADIDAS"
        ],
        [
         "P0421",
         "Sony",
         "SONY"
        ],
        [
         "P0422",
         "Revlon",
         "REVLON"
        ],
        [
         "P0423",
         "Dell",
         "DELL"
        ],
        [
         "P0424",
         "Apple",
         "APPLE"
        ],
        [
         "P0425",
         "Adidas",
         "ADIDAS"
        ],
        [
         "P0426",
         "Puma",
         "PUMA"
        ],
        [
         "P0427",
         "Sony",
         "SONY"
        ],
        [
         "P0428",
         "Sony",
         "SONY"
        ],
        [
         "P0429",
         "Apple",
         "APPLE"
        ],
        [
         "P0430",
         "Adidas",
         "ADIDAS"
        ],
        [
         "P0431",
         "Dell",
         "DELL"
        ],
        [
         "P0432",
         "Revlon",
         "REVLON"
        ],
        [
         "P0433",
         "Apple",
         "APPLE"
        ],
        [
         "P0434",
         "Adidas",
         "ADIDAS"
        ],
        [
         "P0435",
         "Nike",
         "NIKE"
        ],
        [
         "P0436",
         "Puma",
         "PUMA"
        ],
        [
         "P0437",
         "Sony",
         "SONY"
        ],
        [
         "P0438",
         "LG",
         "LG"
        ],
        [
         "P0439",
         "Apple",
         "APPLE"
        ],
        [
         "P0440",
         "Dell",
         "DELL"
        ],
        [
         "P0441",
         "Adidas",
         "ADIDAS"
        ],
        [
         "P0442",
         "Adidas",
         "ADIDAS"
        ],
        [
         "P0443",
         "Dell",
         "DELL"
        ],
        [
         "P0444",
         "Revlon",
         "REVLON"
        ],
        [
         "P0445",
         "Apple",
         "APPLE"
        ],
        [
         "P0446",
         "Puma",
         "PUMA"
        ],
        [
         "P0447",
         "Sony",
         "SONY"
        ],
        [
         "P0448",
         "LG",
         "LG"
        ],
        [
         "P0449",
         "Samsung",
         "SAMSUNG"
        ],
        [
         "P0450",
         "Revlon",
         "REVLON"
        ],
        [
         "P0451",
         "Puma",
         "PUMA"
        ],
        [
         "P0452",
         "Dell",
         "DELL"
        ],
        [
         "P0453",
         "Sony",
         "SONY"
        ],
        [
         "P0454",
         "Sony",
         "SONY"
        ],
        [
         "P0455",
         "Puma",
         "PUMA"
        ],
        [
         "P0456",
         "Apple",
         "APPLE"
        ],
        [
         "P0457",
         "Nike",
         "NIKE"
        ],
        [
         "P0458",
         "Dell",
         "DELL"
        ],
        [
         "P0459",
         "Apple",
         "APPLE"
        ],
        [
         "P0460",
         "Revlon",
         "REVLON"
        ],
        [
         "P0461",
         "Apple",
         "APPLE"
        ],
        [
         "P0462",
         "Revlon",
         "REVLON"
        ],
        [
         "P0463",
         "Apple",
         "APPLE"
        ],
        [
         "P0464",
         "Sony",
         "SONY"
        ],
        [
         "P0465",
         "Lenovo",
         "LENOVO"
        ],
        [
         "P0466",
         "Lenovo",
         "LENOVO"
        ],
        [
         "P0467",
         "Adidas",
         "ADIDAS"
        ],
        [
         "P0468",
         "LG",
         "LG"
        ],
        [
         "P0469",
         "Dell",
         "DELL"
        ],
        [
         "P0470",
         "Dell",
         "DELL"
        ],
        [
         "P0471",
         "Sony",
         "SONY"
        ],
        [
         "P0472",
         "Apple",
         "APPLE"
        ],
        [
         "P0473",
         "Adidas",
         "ADIDAS"
        ],
        [
         "P0474",
         "Nike",
         "NIKE"
        ],
        [
         "P0475",
         "Samsung",
         "SAMSUNG"
        ],
        [
         "P0476",
         "Lenovo",
         "LENOVO"
        ],
        [
         "P0477",
         "Apple",
         "APPLE"
        ],
        [
         "P0478",
         "Sony",
         "SONY"
        ],
        [
         "P0479",
         "Sony",
         "SONY"
        ],
        [
         "P0480",
         "Adidas",
         "ADIDAS"
        ],
        [
         "P0481",
         "Nike",
         "NIKE"
        ],
        [
         "P0482",
         "Sony",
         "SONY"
        ],
        [
         "P0483",
         "Nike",
         "NIKE"
        ],
        [
         "P0484",
         "Apple",
         "APPLE"
        ],
        [
         "P0485",
         "Apple",
         "APPLE"
        ],
        [
         "P0486",
         "Samsung",
         "SAMSUNG"
        ],
        [
         "P0487",
         "Dell",
         "DELL"
        ],
        [
         "P0488",
         "Lenovo",
         "LENOVO"
        ],
        [
         "P0489",
         "LG",
         "LG"
        ],
        [
         "P0490",
         "Revlon",
         "REVLON"
        ],
        [
         "P0491",
         "LG",
         "LG"
        ],
        [
         "P0492",
         "Nike",
         "NIKE"
        ],
        [
         "P0493",
         "Samsung",
         "SAMSUNG"
        ],
        [
         "P0494",
         "Apple",
         "APPLE"
        ],
        [
         "P0495",
         "Sony",
         "SONY"
        ],
        [
         "P0496",
         "Apple",
         "APPLE"
        ],
        [
         "P0497",
         "Lenovo",
         "LENOVO"
        ],
        [
         "P0498",
         "Adidas",
         "ADIDAS"
        ],
        [
         "P0499",
         "Revlon",
         "REVLON"
        ],
        [
         "P0500",
         "Puma",
         "PUMA"
        ]
       ],
       "datasetInfos": [
        {
         "name": "_sqldf",
         "schema": {
          "fields": [
           {
            "metadata": {},
            "name": "product_id",
            "nullable": true,
            "type": "string"
           },
           {
            "metadata": {},
            "name": "brand",
            "nullable": true,
            "type": "string"
           },
           {
            "metadata": {},
            "name": "brand_upper",
            "nullable": true,
            "type": "string"
           }
          ],
          "type": "struct"
         },
         "tableIdentifier": null,
         "typeStr": "pyspark.sql.connect.dataframe.DataFrame"
        }
       ],
       "dbfsResultPath": null,
       "isJsonSchema": true,
       "metadata": {
        "createTempViewForImplicitDf": true,
        "dataframeName": "_sqldf",
        "executionCount": 111
       },
       "overflow": false,
       "plotOptions": {
        "customPlotOptions": {},
        "displayType": "table",
        "pivotAggregation": null,
        "pivotColumns": null,
        "xColumns": null,
        "yColumns": null
       },
       "removedWidgets": [],
       "schema": [
        {
         "metadata": "{}",
         "name": "product_id",
         "type": "\"string\""
        },
        {
         "metadata": "{}",
         "name": "brand",
         "type": "\"string\""
        },
        {
         "metadata": "{}",
         "name": "brand_upper",
         "type": "\"string\""
        }
       ],
       "type": "table"
      }
     },
     "output_type": "display_data"
    }
   ],
   "source": [
    "%sql\n",
    "select product_id,brand,databricks_cat.bronze.upper_func(brand) as brand_upper from products"
   ]
  },
  {
   "cell_type": "code",
   "execution_count": 0,
   "metadata": {
    "application/vnd.databricks.v1+cell": {
     "cellMetadata": {
      "byteLimit": 2048000,
      "implicitDf": true,
      "rowLimit": 10000
     },
     "inputWidgets": {},
     "nuid": "097634ad-8291-4f20-a3aa-8613474b1732",
     "showTitle": false,
     "tableResultSettingsMap": {},
     "title": ""
    }
   },
   "outputs": [],
   "source": [
    "%sql\n",
    "USE CATALOG databricks_cat;"
   ]
  },
  {
   "cell_type": "code",
   "execution_count": 0,
   "metadata": {
    "application/vnd.databricks.v1+cell": {
     "cellMetadata": {
      "byteLimit": 2048000,
      "rowLimit": 10000
     },
     "inputWidgets": {},
     "nuid": "51c1fcd7-7992-4f8f-8461-10767af1c909",
     "showTitle": false,
     "tableResultSettingsMap": {},
     "title": ""
    }
   },
   "outputs": [
    {
     "output_type": "display_data",
     "data": {
      "text/plain": [
       "\u001B[0;31m---------------------------------------------------------------------------\u001B[0m\n",
       "\u001B[0;31mNameError\u001B[0m                                 Traceback (most recent call last)\n",
       "File \u001B[0;32m<command-7677973737982858>, line 1\u001B[0m\n",
       "\u001B[0;32m----> 1\u001B[0m df\u001B[38;5;241m.\u001B[39mwrite\u001B[38;5;241m.\u001B[39mformat(\u001B[38;5;124m\"\u001B[39m\u001B[38;5;124mdelta\u001B[39m\u001B[38;5;124m\"\u001B[39m)\u001B[38;5;241m.\u001B[39mmode(\u001B[38;5;124m\"\u001B[39m\u001B[38;5;124moverwrite\u001B[39m\u001B[38;5;124m\"\u001B[39m)\u001B[38;5;241m.\u001B[39moption(\u001B[38;5;124m\"\u001B[39m\u001B[38;5;124mpath\u001B[39m\u001B[38;5;124m\"\u001B[39m, \u001B[38;5;124m\"\u001B[39m\u001B[38;5;124mabfss://silver@databricksetlss.dfs.core.windows.net/products\u001B[39m\u001B[38;5;124m\"\u001B[39m)\u001B[38;5;241m.\u001B[39msave()\n",
       "\n",
       "\u001B[0;31mNameError\u001B[0m: name 'df' is not defined"
      ]
     },
     "metadata": {
      "application/vnd.databricks.v1+output": {
       "addedWidgets": {},
       "arguments": {},
       "datasetInfos": [],
       "jupyterProps": {
        "ename": "NameError",
        "evalue": "name 'df' is not defined"
       },
       "metadata": {
        "errorSummary": "<span class='ansi-red-fg'>NameError</span>: name 'df' is not defined"
       },
       "removedWidgets": [],
       "sqlProps": null,
       "stackFrames": [
        "\u001B[0;31m---------------------------------------------------------------------------\u001B[0m",
        "\u001B[0;31mNameError\u001B[0m                                 Traceback (most recent call last)",
        "File \u001B[0;32m<command-7677973737982858>, line 1\u001B[0m\n\u001B[0;32m----> 1\u001B[0m df\u001B[38;5;241m.\u001B[39mwrite\u001B[38;5;241m.\u001B[39mformat(\u001B[38;5;124m\"\u001B[39m\u001B[38;5;124mdelta\u001B[39m\u001B[38;5;124m\"\u001B[39m)\u001B[38;5;241m.\u001B[39mmode(\u001B[38;5;124m\"\u001B[39m\u001B[38;5;124moverwrite\u001B[39m\u001B[38;5;124m\"\u001B[39m)\u001B[38;5;241m.\u001B[39moption(\u001B[38;5;124m\"\u001B[39m\u001B[38;5;124mpath\u001B[39m\u001B[38;5;124m\"\u001B[39m, \u001B[38;5;124m\"\u001B[39m\u001B[38;5;124mabfss://silver@databricksetlss.dfs.core.windows.net/products\u001B[39m\u001B[38;5;124m\"\u001B[39m)\u001B[38;5;241m.\u001B[39msave()\n",
        "\u001B[0;31mNameError\u001B[0m: name 'df' is not defined"
       ],
       "type": "baseError"
      }
     },
     "output_type": "display_data"
    }
   ],
   "source": [
    "df.write.format(\"delta\").mode(\"overwrite\").option(\"path\", \"abfss://silver@databricksetlss.dfs.core.windows.net/products\").save()"
   ]
  },
  {
   "cell_type": "code",
   "execution_count": 0,
   "metadata": {
    "application/vnd.databricks.v1+cell": {
     "cellMetadata": {
      "byteLimit": 2048000,
      "implicitDf": true,
      "rowLimit": 10000
     },
     "inputWidgets": {},
     "nuid": "761a936b-c637-4a1f-a1c3-f4dda6f82ca1",
     "showTitle": false,
     "tableResultSettingsMap": {},
     "title": ""
    }
   },
   "outputs": [],
   "source": [
    "%sql\n",
    "create table if not exists databricks_cat.silver.products_silver using delta location \"abfss://silver@databricksetlss.dfs.core.windows.net/products\""
   ]
  }
 ],
 "metadata": {
  "application/vnd.databricks.v1+notebook": {
   "computePreferences": null,
   "dashboards": [],
   "environmentMetadata": {
    "base_environment": "",
    "environment_version": "2"
   },
   "inputWidgetPreferences": null,
   "language": "python",
   "notebookMetadata": {
    "mostRecentlyExecutedCommandWithImplicitDF": {
     "commandId": 7265271857524983,
     "dataframes": [
      "_sqldf"
     ]
    },
    "pythonIndentUnit": 4
   },
   "notebookName": "Silver_Products",
   "widgets": {}
  },
  "language_info": {
   "name": "python"
  }
 },
 "nbformat": 4,
 "nbformat_minor": 0
}